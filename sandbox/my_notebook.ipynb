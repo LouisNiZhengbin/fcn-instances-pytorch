{
 "cells": [
  {
   "cell_type": "code",
   "execution_count": 1,
   "outputs": [],
   "source": [
    "import os\n",
    "while os.path.basename(os.path.dirname(os.path.abspath('.'))) != 'code':\n",
    "    os.chdir('../')\n"
   ],
   "metadata": {
    "collapsed": false,
    "pycharm": {
     "name": "#%%\n",
     "is_executing": false
    }
   }
  },
  {
   "cell_type": "code",
   "execution_count": 2,
   "outputs": [],
   "source": [
    "import argparse\n",
    "import glob\n",
    "\n",
    "import matplotlib.pyplot as plt\n",
    "import numpy as np\n",
    "import os\n",
    "import torch\n",
    "import tqdm\n",
    "import yaml\n",
    "from PIL import Image\n",
    "\n",
    "from instanceseg.ext.panopticapi.utils import rgb2id\n",
    "from instanceseg.losses import loss\n",
    "\n",
    "from instanceseg.utils import display as display_pyutils\n",
    "from instanceseg.utils import instance_utils\n",
    "from scripts import evaluate\n",
    "from scripts.convert_test_results_to_coco import get_outdirs_cache_root\n",
    "from scripts.visualizations import visualize_pq_stats, export_prediction_vs_gt_vis_sorted\n",
    "\n"
   ],
   "metadata": {
    "collapsed": false,
    "pycharm": {
     "name": "#%%\n",
     "is_executing": false
    }
   }
  },
  {
   "cell_type": "code",
   "execution_count": 4,
   "outputs": [],
   "source": [
    "\n",
    "def load_gt_img_in_panoptic_form(gt_img_file):\n",
    "    with Image.open(gt_img_file) as img:\n",
    "        pan_gt = np.array(img, dtype=np.uint32)\n",
    "    pan_gt = rgb2id(pan_gt)\n",
    "    return pan_gt\n",
    "\n",
    "\n",
    "\n",
    "\n",
    "\n",
    "\n",
    "\n",
    "\n",
    "\n",
    "\n",
    "\n"
   ],
   "metadata": {
    "collapsed": false,
    "pycharm": {
     "name": "#%%\n",
     "is_executing": false
    }
   }
  },
  {
   "cell_type": "code",
   "execution_count": 16,
   "outputs": [
    {
     "name": "stdout",
     "text": [
      "[0, 1, 2, 3, 4, 5, 6, 7, 8, 9]\n[0, 2, 4, 6, 8, 10, 12, 14, 16, 18]\n"
     ],
     "output_type": "stream"
    },
    {
     "data": {
      "text/plain": "<Figure size 432x288 with 1 Axes>",
      "image/png": "[encoded data removed]"
     },
     "metadata": {
      "needs_background": "light"
     },
     "output_type": "display_data"
    }
   ],
   "source": [
    "x = list(range(10))\n",
    "y = [2 * i for i in x]\n",
    "plt.plot(x=x, y=y, color='b')\n",
    "print(x)\n",
    "print(y)\n",
    "\n",
    "plt.show(block=True)\n"
   ],
   "metadata": {
    "collapsed": false,
    "pycharm": {
     "name": "#%%\n",
     "is_executing": false
    }
   }
  }
 ],
 "metadata": {
  "language_info": {
   "codemirror_mode": {
    "name": "ipython",
    "version": 2
   },
   "file_extension": ".py",
   "mimetype": "text/x-python",
   "name": "python",
   "nbconvert_exporter": "python",
   "pygments_lexer": "ipython2",
   "version": "2.7.6"
  },
  "kernelspec": {
   "name": "python3",
   "language": "python",
   "display_name": "Python 3"
  },
  "pycharm": {
   "stem_cell": {
    "cell_type": "raw",
    "source": [],
    "metadata": {
     "collapsed": false
    }
   }
  }
 },
 "nbformat": 4,
 "nbformat_minor": 0
}