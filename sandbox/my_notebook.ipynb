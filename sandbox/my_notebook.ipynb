{
 "cells": [
  {
   "cell_type": "code",
   "execution_count": 17,
   "metadata": {
    "pycharm": {
     "is_executing": false,
     "name": "#%%\n"
    }
   },
   "outputs": [],
   "source": [
    "import os\n",
    "while os.path.basename(os.path.dirname(os.path.abspath('.'))) != 'code':\n",
    "    os.chdir('../')\n",
    "import matplotlib.pyplot as plt\n",
    "import numpy as np\n",
    "from PIL import Image\n",
    "\n",
    "from instanceseg.ext.panopticapi.utils import rgb2id\n",
    "\n"
   ]
  },
  {
   "cell_type": "code",
   "execution_count": 18,
   "metadata": {
    "pycharm": {
     "is_executing": false,
     "name": "#%%\n"
    }
   },
   "outputs": [],
   "source": [
    "\n",
    "def load_gt_img_in_panoptic_form(gt_img_file):\n",
    "    with Image.open(gt_img_file) as img:\n",
    "        pan_gt = np.array(img, dtype=np.uint32)\n",
    "    pan_gt = rgb2id(pan_gt)\n",
    "    return pan_gt\n",
    "\n"
   ]
  },
  {
   "cell_type": "code",
   "execution_count": 45,
   "metadata": {
    "pycharm": {
     "is_executing": false,
     "name": "#%%\n"
    }
   },
   "outputs": [
    {
     "name": "stdout",
     "output_type": "stream",
     "text": [
      "frankfurt_000000_000294_leftImg8bit.png\n",
      "500\n",
      "\n",
      "\n",
      "/home/adelgior/code/upsnet/data/cityscapes/panoptic/aachen_000000_000019_leftImg8bit.png\n",
      "3475\n"
     ]
    },
    {
     "name": "stderr",
     "output_type": "stream",
     "text": [
      "UsageError: Line magic function `%%` not found.\n"
     ]
    }
   ],
   "source": [
    "gt_folder = '/home/adelgior/code/upsnet/data/cityscapes/panoptic'\n",
    "\n",
    "import json, os, glob\n",
    "gt_json = json.load(open('/usr0/home/adelgior/code/upsnet/output/upsnet/cityscapes/upsnet_resnet50_cityscapes_4gpu/val/results/pans_unified/gt.json', 'rb'))\n",
    "# gt_img_file = gt_folder\n",
    "# my_img = Image.open(gt_img_file)\n",
    "# plt.show(block=True)\n",
    "\n",
    "gt_json.keys()\n",
    "gt_files = [gt_json['images'][i]['file_name'] for i in range(len(gt_json['images']))]\n",
    "print(sorted(gt_files)[0])\n",
    "print(len(gt_files))\n",
    "print('\\n')\n",
    "gt_dir_files = sorted(glob.glob(gt_folder + os.sep + '*'))\n",
    "print(gt_dir_files[0])\n",
    "print(len(gt_dir_files))\n",
    "\n",
    "basename = gt_files[0]\n",
    "gt_im = Image.open(os.path.join(gt_folder, gt_files[0]))\n"
   ]
  },
  {
   "cell_type": "code",
   "execution_count": 60,
   "metadata": {
    "pycharm": {
     "is_executing": false,
     "name": "#%% \n"
    }
   },
   "outputs": [
    {
     "name": "stdout",
     "output_type": "stream",
     "text": [
      "8405120\n",
      "15213556\n",
      "4605510\n",
      "10066366\n",
      "10066329\n",
      "56540\n",
      "2330219\n",
      "11829830\n",
      "3937500\n",
      "4132036\n",
      "3539150\n",
      "4128976\n",
      "9306112\n",
      "10551299\n",
      "10160128\n"
     ]
    },
    {
     "name": "stderr",
     "output_type": "stream",
     "text": [
      "UsageError: Line magic function `%%` not found.\n"
     ]
    }
   ],
   "source": [
    "\n",
    "json_annotation = gt_json['annotations']\n",
    "len(json_annotation)\n",
    "basename, json_annotation[0]['file_name']\n",
    "segment_ids = [s['id'] for s in json_annotation[0]['segments_info']]\n",
    "print('\\n'.join(str(s) for s in segment_ids))\n"
   ]
  },
  {
   "cell_type": "code",
   "execution_count": 61,
   "metadata": {
    "pycharm": {
     "is_executing": false,
     "name": "#%%\n"
    }
   },
   "outputs": [
    {
     "data": {
      "text/plain": [
       "[(129, 66, 65),\n",
       " (233, 246, 1),\n",
       " (70, 210, 210),\n",
       " (154, 205, 241),\n",
       " (154, 205, 204),\n",
       " (0, 221, 185),\n",
       " (35, 213, 29),\n",
       " (181, 236, 125),\n",
       " (60, 141, 45),\n",
       " (63, 139, 16),\n",
       " (54, 109, 5),\n",
       " (63, 127, 16),\n",
       " (143, 29, 142),\n",
       " (162, 67, 164),\n",
       " (156, 63, 163)]"
      ]
     },
     "execution_count": 61,
     "metadata": {},
     "output_type": "execute_result"
    }
   ],
   "source": [
    "rgbs = []\n",
    "for id in segment_ids:\n",
    "    r = int(id / (255 * 255))\n",
    "    g = int(id % (255 * 255) / 255)\n",
    "    b = int(id % 255)\n",
    "    assert r * 255 * 255 + g * 255 + b == id, '{}, {}'.format(r * 255 * 255 + g * 255 + b, id)\n",
    "    rgbs.append((r,g,b))\n",
    "\n",
    "rgbs\n"
   ]
  },
  {
   "cell_type": "code",
   "execution_count": 72,
   "metadata": {
    "pycharm": {
     "is_executing": false,
     "name": "#%%\n"
    }
   },
   "outputs": [
    {
     "name": "stdout",
     "output_type": "stream",
     "text": [
      "16 15\n"
     ]
    }
   ],
   "source": [
    "gt_im_np = np.array(gt_im)\n",
    "\n",
    "unique_colors = np.unique(gt_im_np.reshape(-1, 3), axis=0)\n"
   ]
  },
  {
   "cell_type": "code",
   "execution_count": 85,
   "metadata": {
    "pycharm": {
     "is_executing": false,
     "name": "#%%\n"
    }
   },
   "outputs": [
    {
     "name": "stdout",
     "output_type": "stream",
     "text": [
      "True\n"
     ]
    }
   ],
   "source": [
    "unique_ids = [rgb2id(c) for c in unique_colors]\n",
    "print(np.allclose(sorted(unique_ids)[1:], sorted(segment_ids)))\n"
   ]
  }
 ],
 "metadata": {
  "kernelspec": {
   "display_name": "Python 3",
   "language": "python",
   "name": "python3"
  },
  "language_info": {
   "codemirror_mode": {
    "name": "ipython",
    "version": 3
   },
   "file_extension": ".py",
   "mimetype": "text/x-python",
   "name": "python",
   "nbconvert_exporter": "python",
   "pygments_lexer": "ipython3",
   "version": "3.7.3"
  },
  "pycharm": {
   "stem_cell": {
    "cell_type": "raw",
    "metadata": {
     "collapsed": false
    },
    "source": []
   }
  }
 },
 "nbformat": 4,
 "nbformat_minor": 1
}
