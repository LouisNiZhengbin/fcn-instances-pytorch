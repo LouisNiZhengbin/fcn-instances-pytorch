{
 "cells": [
  {
   "cell_type": "code",
   "execution_count": 4,
   "metadata": {},
   "outputs": [],
   "source": [
    "import os\n",
    "\n",
    "while os.path.basename(os.path.dirname(os.path.abspath('.'))) != 'code':\n",
    "    os.chdir('../')\n",
    "    from debugging.coco_panoptic_converter import upsnet_panoptic_converter\n",
    "from instanceseg.datasets import labels_table_cityscapes\n",
    "from instanceseg.panoeval.utils import check_annotation\n",
    "from instanceseg.utils import instance_utils\n",
    "import pathlib\n",
    "import glob\n",
    "import matplotlib.pyplot as plt\n",
    "import numpy as np\n",
    "from PIL import Image\n",
    "import json\n",
    "\n",
    "from instanceseg.ext.panopticapi.utils import rgb2id\n",
    "from scripts import evaluate"
   ]
  },
  {
   "cell_type": "code",
   "execution_count": 2,
   "metadata": {},
   "outputs": [],
   "source": [
    "def converter_main_upsnet(predictions_dir, groundtruth_dir, problem_config, out_dirs_root, overwrite=False):\n",
    "    out_dirs = {}\n",
    "    out_jsons = {}\n",
    "    if not os.path.exists(out_dirs_root):\n",
    "        os.makedirs(out_dirs_root)\n",
    "    else:\n",
    "        print(Warning('{} already exists'.format(out_dirs_root)))\n",
    "    indirs = {'gt': groundtruth_dir, 'pred': predictions_dir}\n",
    "    for label_type, in_dir in indirs.items():\n",
    "        dir_basename = 'panoptic_conversion_{}'.format(label_type)\n",
    "        out_dir = os.path.join(out_dirs_root, dir_basename)\n",
    "        file_list = sorted(glob.glob(os.path.join(in_dir, '*.png')))\n",
    "        out_file = os.path.abspath(os.path.expanduser(os.path.join(out_dir, '..', dir_basename + '.json')))\n",
    "        upsnet_panoptic_converter(out_dir, out_file, labels_file_list=file_list,\n",
    "                                  labels_table=problem_config.labels_table, overwrite=overwrite)\n",
    "        out_dirs[label_type] = out_dir\n",
    "        out_jsons[label_type] = out_file\n",
    "\n",
    "    # Sanity check\n",
    "    with open(out_jsons['gt'], 'r') as f:\n",
    "        import json\n",
    "        gt_json = json.load(f)\n",
    "        gt_annotations = gt_json['annotations']\n",
    "    with open(out_jsons['pred'], 'r') as f:\n",
    "        pred_json = json.load(f)\n",
    "        pred_annotations = pred_json['annotations']\n",
    "    categories = {el['id']: el for el in gt_json['categories']}\n",
    "    check_annotation(out_dirs, gt_annotations[0], pred_annotations[0], categories)\n",
    "    print('Conversion successful.  Predictions and groundtruth written to {}'.format([v for k, v in out_dirs.items()]))\n",
    "    return out_jsons, out_dirs"
   ]
  },
  {
   "cell_type": "code",
   "execution_count": 5,
   "metadata": {
    "pycharm": {
     "name": "#%%\n"
    }
   },
   "outputs": [],
   "source": [
    "split = 'val'\n",
    "upsnet_results_directory = '/home/adelgior/code/upsnet/output/upsnet/cityscapes/upsnet_resnet50_cityscapes_4gpu/' \\\n",
    "                           + split + '/results/'\n",
    "upsnet_pano_path = pathlib.Path(upsnet_results_directory, 'pans_unified')\n",
    "\n",
    "labels_table = labels_table_cityscapes.get_cityscapes_trainids_label_table_cocoform()\n",
    "problem_config = instance_utils.InstanceProblemConfig(n_instances_by_semantic_id=[None for _ in labels_table],\n",
    "                                                      labels_table=labels_table)\n",
    "gt_folder = '/home/adelgior/code/upsnet/data/cityscapes/panoptic'\n",
    "gt_json_file = os.path.join(upsnet_pano_path, 'gt.json')\n",
    "old_pred_json_file = upsnet_pano_path / 'pred.json'\n",
    "pred_folder = upsnet_pano_path / 'pan_2ch'\n",
    "new_pred_json_file = upsnet_pano_path / 'pred_with_image_ids.json'\n",
    "\n",
    "# Fix json format\n",
    "gt_json_format = json.load(open(gt_json_file, 'rb'))\n",
    "image_ids = [l['id'] for l in gt_json_format['images']]\n",
    "file_names = [l['file_name'] for l in gt_json_format['images']]\n",
    "pred_json_format = json.load(open(old_pred_json_file, 'rb'))\n",
    "assert len(image_ids) == len(pred_json_format['annotations']), \\\n",
    "    '{} image ids; {} annotations'.format(len(image_ids), len(pred_json_format['annotations']))\n",
    "assert os.path.join(pred_folder)\n",
    "for i in range(len(pred_json_format['annotations'])):\n",
    "    pred_json_format['annotations'][i]['image_id'] = image_ids[i]\n",
    "    pred_json_format['annotations'][i]['file_name'] = file_names[i]\n",
    "json.dump(pred_json_format, new_pred_json_file.open('w'))\n",
    "\n",
    "pred_folder = upsnet_pano_path / 'pan_2ch'\n"
   ]
  },
  {
   "cell_type": "code",
   "execution_count": 6,
   "metadata": {},
   "outputs": [
    {
     "name": "stdout",
     "output_type": "stream",
     "text": [
      "Evaluating from /home/adelgior/code/upsnet/output/upsnet/cityscapes/upsnet_resnet50_cityscapes_4gpu/val/results/pans_unified/gt.json, /home/adelgior/code/upsnet/output/upsnet/cityscapes/upsnet_resnet50_cityscapes_4gpu/val/results/pans_unified/pred_with_image_ids.json\n",
      "Evaluating from /home/adelgior/code/upsnet/data/cityscapes/panoptic, /home/adelgior/code/upsnet/output/upsnet/cityscapes/upsnet_resnet50_cityscapes_4gpu/val/results/pans_unified/pan_2ch\n",
      "Evaluation panoptic segmentation metrics:\n",
      "Ground truth:\n",
      "\tSegmentation folder: /home/adelgior/code/upsnet/data/cityscapes/panoptic\n",
      "\tJSON file: /home/adelgior/code/upsnet/output/upsnet/cityscapes/upsnet_resnet50_cityscapes_4gpu/val/results/pans_unified/gt.json\n",
      "Prediction:\n",
      "\tSegmentation folder: /home/adelgior/code/upsnet/output/upsnet/cityscapes/upsnet_resnet50_cityscapes_4gpu/val/results/pans_unified/pan_2ch\n",
      "\tJSON file: /home/adelgior/code/upsnet/output/upsnet/cityscapes/upsnet_resnet50_cityscapes_4gpu/val/results/pans_unified/pred_with_image_ids.json\n",
      "> \u001b[0;32m/usr0/home/adelgior/code/experimental-instanceseg/instanceseg/panoeval/compute.py\u001b[0m(76)\u001b[0;36mpq_compute_per_image\u001b[0;34m()\u001b[0m\n",
      "\u001b[0;32m     75 \u001b[0;31m    \u001b[0;32mimport\u001b[0m \u001b[0mipdb\u001b[0m\u001b[0;34m;\u001b[0m \u001b[0mipdb\u001b[0m\u001b[0;34m.\u001b[0m\u001b[0mset_trace\u001b[0m\u001b[0;34m(\u001b[0m\u001b[0;34m)\u001b[0m\u001b[0;34m\u001b[0m\u001b[0;34m\u001b[0m\u001b[0m\n",
      "\u001b[0m\u001b[0;32m---> 76 \u001b[0;31m    pq_stats_per_image = pq_compute_multi_core_per_image(matched_annotations_list, gt_folder, pred_folder, categories,\n",
      "\u001b[0m\u001b[0;32m     77 \u001b[0;31m                                                         iou_threshold)\n",
      "\u001b[0m\n",
      "ipdb> c\n",
      "Number of cores: 31, images per core: 1\n",
      "Core: 0, 0 from 1 images processed\n",
      "Core: 1, 0 from 1 images processed\n",
      "Core: 2, 0 from 1 images processed\n",
      "Core: 3, 0 from 1 images processed\n",
      "Core: 5, 0 from 1 images processed\n",
      "Core: 4, 0 from 1 images processed\n",
      "Core: 6, 0 from 1 images processed\n",
      "Core: 7, 0 from 1 images processed\n",
      "Core: 14, 0 from 1 images processed\n",
      "Core: 8, 0 from 1 images processed\n",
      "Core: 9, 0 from 1 images processed\n",
      "Core: 10, 0 from 1 images processed\n",
      "Core: 11, 0 from 1 images processed\n",
      "Core: 12, 0 from 1 images processed\n",
      "Core: 13, 0 from 1 images processed\n",
      "Core: 15, 0 from 1 images processed\n",
      "Core: 16, 0 from 1 images processed\n",
      "Core: 17, 0 from 1 images processed\n",
      "Core: 18, 0 from 1 images processed\n",
      "Core: 26, 0 from 1 images processed\n",
      "Core: 19, 0 from 1 images processed\n",
      "Core: 20, 0 from 1 images processed\n",
      "Core: 21, 0 from 1 images processed\n",
      "Core: 23, 0 from 1 images processed\n",
      "Core: 30, 0 from 1 images processed\n",
      "Core: 22, 0 from 1 images processed\n",
      "Core: 25, 0 from 1 images processed\n",
      "Core: 27, 0 from 1 images processed\n",
      "Core: 24, 0 from 1 images processed\n",
      "Core: 28, 0 from 1 images processed\n",
      "Core: 29, 0 from 1 images processed\n",
      "Caught exception in worker thread:\n"
     ]
    },
    {
     "name": "stderr",
     "output_type": "stream",
     "text": [
      "Traceback (most recent call last):\n",
      "  File \"/home/adelgior/code/fcn-instances-pytorch/instanceseg/ext/panopticapi/utils.py\", line 16, in wrapper\n",
      "    return f(*args, **kwargs)\n",
      "  File \"/usr0/home/adelgior/code/experimental-instanceseg/instanceseg/ext/panopticapi/evaluation.py\", line 98, in pq_compute_single_core\n",
      "    with Image.open(os.path.join(pred_folder, pred_ann['file_name'])) as img:\n",
      "  File \"/home/adelgior/virtualenvs/pytorch4_python3/lib/python3.7/site-packages/PIL/Image.py\", line 2652, in open\n",
      "    fp = builtins.open(filename, \"rb\")\n",
      "FileNotFoundError: [Errno 2] No such file or directory: '/home/adelgior/code/upsnet/output/upsnet/cityscapes/upsnet_resnet50_cityscapes_4gpu/val/results/pans_unified/pan_2ch/frankfurt_000000_000576_leftImg8bit.png'\n"
     ]
    },
    {
     "name": "stdout",
     "output_type": "stream",
     "text": [
      "Core: 31, 0 from 1 images processed\n",
      "Caught exception in worker thread:\n",
      "Caught exception in worker thread:\n",
      "Caught exception in worker thread:\n"
     ]
    },
    {
     "name": "stderr",
     "output_type": "stream",
     "text": [
      "Traceback (most recent call last):\n"
     ]
    },
    {
     "name": "stdout",
     "output_type": "stream",
     "text": [
      "Caught exception in worker thread:\n",
      "Caught exception in worker thread:\n"
     ]
    },
    {
     "name": "stderr",
     "output_type": "stream",
     "text": [
      "Traceback (most recent call last):\n"
     ]
    },
    {
     "name": "stdout",
     "output_type": "stream",
     "text": [
      "Caught exception in worker thread:\n",
      "Caught exception in worker thread:\n"
     ]
    },
    {
     "name": "stderr",
     "output_type": "stream",
     "text": [
      "Traceback (most recent call last):\n",
      "  File \"/home/adelgior/code/fcn-instances-pytorch/instanceseg/ext/panopticapi/utils.py\", line 16, in wrapper\n",
      "    return f(*args, **kwargs)\n",
      "  File \"/home/adelgior/code/fcn-instances-pytorch/instanceseg/ext/panopticapi/utils.py\", line 16, in wrapper\n",
      "    return f(*args, **kwargs)\n"
     ]
    },
    {
     "name": "stdout",
     "output_type": "stream",
     "text": [
      "Caught exception in worker thread:\n"
     ]
    },
    {
     "name": "stderr",
     "output_type": "stream",
     "text": [
      "Traceback (most recent call last):\n",
      "Traceback (most recent call last):\n"
     ]
    },
    {
     "name": "stdout",
     "output_type": "stream",
     "text": [
      "Caught exception in worker thread:\n",
      "Caught exception in worker thread:\n",
      "Caught exception in worker thread:\n",
      "Caught exception in worker thread:\n",
      "Caught exception in worker thread:\n"
     ]
    },
    {
     "name": "stderr",
     "output_type": "stream",
     "text": [
      "Traceback (most recent call last):\n",
      "  File \"/home/adelgior/code/fcn-instances-pytorch/instanceseg/ext/panopticapi/utils.py\", line 16, in wrapper\n",
      "    return f(*args, **kwargs)\n",
      "  File \"/home/adelgior/code/fcn-instances-pytorch/instanceseg/ext/panopticapi/utils.py\", line 16, in wrapper\n",
      "    return f(*args, **kwargs)\n"
     ]
    },
    {
     "name": "stdout",
     "output_type": "stream",
     "text": [
      "Caught exception in worker thread:\n",
      "Caught exception in worker thread:\n"
     ]
    },
    {
     "name": "stderr",
     "output_type": "stream",
     "text": [
      "  File \"/usr0/home/adelgior/code/experimental-instanceseg/instanceseg/ext/panopticapi/evaluation.py\", line 98, in pq_compute_single_core\n",
      "    with Image.open(os.path.join(pred_folder, pred_ann['file_name'])) as img:\n",
      "  File \"/usr0/home/adelgior/code/experimental-instanceseg/instanceseg/ext/panopticapi/evaluation.py\", line 98, in pq_compute_single_core\n",
      "    with Image.open(os.path.join(pred_folder, pred_ann['file_name'])) as img:\n",
      "  File \"/home/adelgior/code/fcn-instances-pytorch/instanceseg/ext/panopticapi/utils.py\", line 16, in wrapper\n",
      "    return f(*args, **kwargs)\n"
     ]
    },
    {
     "name": "stdout",
     "output_type": "stream",
     "text": [
      "Caught exception in worker thread:\n"
     ]
    },
    {
     "name": "stderr",
     "output_type": "stream",
     "text": [
      "Traceback (most recent call last):\n",
      "Traceback (most recent call last):\n"
     ]
    },
    {
     "name": "stdout",
     "output_type": "stream",
     "text": [
      "Caught exception in worker thread:\n"
     ]
    },
    {
     "name": "stderr",
     "output_type": "stream",
     "text": [
      "  File \"/home/adelgior/code/fcn-instances-pytorch/instanceseg/ext/panopticapi/utils.py\", line 16, in wrapper\n",
      "    return f(*args, **kwargs)\n"
     ]
    },
    {
     "name": "stdout",
     "output_type": "stream",
     "text": [
      "Caught exception in worker thread:\n",
      "Caught exception in worker thread:\n"
     ]
    },
    {
     "name": "stderr",
     "output_type": "stream",
     "text": [
      "Traceback (most recent call last):\n",
      "Traceback (most recent call last):\n",
      "Traceback (most recent call last):\n",
      "  File \"/home/adelgior/virtualenvs/pytorch4_python3/lib/python3.7/site-packages/PIL/Image.py\", line 2652, in open\n",
      "    fp = builtins.open(filename, \"rb\")\n"
     ]
    },
    {
     "name": "stdout",
     "output_type": "stream",
     "text": [
      "Caught exception in worker thread:\n",
      "Caught exception in worker thread:\n",
      "Caught exception in worker thread:\n"
     ]
    },
    {
     "name": "stderr",
     "output_type": "stream",
     "text": [
      "  File \"/home/adelgior/code/fcn-instances-pytorch/instanceseg/ext/panopticapi/utils.py\", line 16, in wrapper\n",
      "    return f(*args, **kwargs)\n"
     ]
    },
    {
     "name": "stdout",
     "output_type": "stream",
     "text": [
      "Caught exception in worker thread:\n"
     ]
    },
    {
     "name": "stderr",
     "output_type": "stream",
     "text": [
      "  File \"/home/adelgior/virtualenvs/pytorch4_python3/lib/python3.7/site-packages/PIL/Image.py\", line 2652, in open\n",
      "    fp = builtins.open(filename, \"rb\")\n",
      "Traceback (most recent call last):\n",
      "  File \"/home/adelgior/code/fcn-instances-pytorch/instanceseg/ext/panopticapi/utils.py\", line 16, in wrapper\n",
      "    return f(*args, **kwargs)\n"
     ]
    },
    {
     "name": "stdout",
     "output_type": "stream",
     "text": [
      "Caught exception in worker thread:\n"
     ]
    },
    {
     "name": "stderr",
     "output_type": "stream",
     "text": [
      "  File \"/usr0/home/adelgior/code/experimental-instanceseg/instanceseg/ext/panopticapi/evaluation.py\", line 98, in pq_compute_single_core\n",
      "    with Image.open(os.path.join(pred_folder, pred_ann['file_name'])) as img:\n",
      "  File \"/usr0/home/adelgior/code/experimental-instanceseg/instanceseg/ext/panopticapi/evaluation.py\", line 98, in pq_compute_single_core\n",
      "    with Image.open(os.path.join(pred_folder, pred_ann['file_name'])) as img:\n",
      "Traceback (most recent call last):\n",
      "  File \"/usr0/home/adelgior/code/experimental-instanceseg/instanceseg/ext/panopticapi/evaluation.py\", line 98, in pq_compute_single_core\n",
      "    with Image.open(os.path.join(pred_folder, pred_ann['file_name'])) as img:\n"
     ]
    },
    {
     "name": "stdout",
     "output_type": "stream",
     "text": [
      "Caught exception in worker thread:\n"
     ]
    },
    {
     "name": "stderr",
     "output_type": "stream",
     "text": [
      "Traceback (most recent call last):\n",
      "  File \"/home/adelgior/code/fcn-instances-pytorch/instanceseg/ext/panopticapi/utils.py\", line 16, in wrapper\n",
      "    return f(*args, **kwargs)\n",
      "Traceback (most recent call last):\n"
     ]
    },
    {
     "name": "stdout",
     "output_type": "stream",
     "text": [
      "Caught exception in worker thread:\n"
     ]
    },
    {
     "name": "stderr",
     "output_type": "stream",
     "text": [
      "Traceback (most recent call last):\n",
      "FileNotFoundError: [Errno 2] No such file or directory: '/home/adelgior/code/upsnet/output/upsnet/cityscapes/upsnet_resnet50_cityscapes_4gpu/val/results/pans_unified/pan_2ch/frankfurt_000000_001016_leftImg8bit.png'\n"
     ]
    },
    {
     "name": "stdout",
     "output_type": "stream",
     "text": [
      "Caught exception in worker thread:\n"
     ]
    },
    {
     "name": "stderr",
     "output_type": "stream",
     "text": [
      "Traceback (most recent call last):\n",
      "FileNotFoundError: [Errno 2] No such file or directory: '/home/adelgior/code/upsnet/output/upsnet/cityscapes/upsnet_resnet50_cityscapes_4gpu/val/results/pans_unified/pan_2ch/frankfurt_000000_009969_leftImg8bit.png'\n",
      "  File \"/home/adelgior/code/fcn-instances-pytorch/instanceseg/ext/panopticapi/utils.py\", line 16, in wrapper\n",
      "    return f(*args, **kwargs)\n",
      "  File \"/home/adelgior/code/fcn-instances-pytorch/instanceseg/ext/panopticapi/utils.py\", line 16, in wrapper\n",
      "    return f(*args, **kwargs)\n",
      "Traceback (most recent call last):\n",
      "Traceback (most recent call last):\n",
      "  File \"/home/adelgior/virtualenvs/pytorch4_python3/lib/python3.7/site-packages/PIL/Image.py\", line 2652, in open\n",
      "    fp = builtins.open(filename, \"rb\")\n",
      "Traceback (most recent call last):\n",
      "  File \"/home/adelgior/code/fcn-instances-pytorch/instanceseg/ext/panopticapi/utils.py\", line 16, in wrapper\n",
      "    return f(*args, **kwargs)\n",
      "  File \"/home/adelgior/virtualenvs/pytorch4_python3/lib/python3.7/site-packages/PIL/Image.py\", line 2652, in open\n",
      "    fp = builtins.open(filename, \"rb\")\n",
      "Traceback (most recent call last):\n",
      "  File \"/home/adelgior/code/fcn-instances-pytorch/instanceseg/ext/panopticapi/utils.py\", line 16, in wrapper\n",
      "    return f(*args, **kwargs)\n"
     ]
    },
    {
     "name": "stdout",
     "output_type": "stream",
     "text": [
      "Caught exception in worker thread:\n"
     ]
    },
    {
     "name": "stderr",
     "output_type": "stream",
     "text": [
      "  File \"/home/adelgior/code/fcn-instances-pytorch/instanceseg/ext/panopticapi/utils.py\", line 16, in wrapper\n",
      "    return f(*args, **kwargs)\n",
      "Traceback (most recent call last):\n",
      "  File \"/home/adelgior/virtualenvs/pytorch4_python3/lib/python3.7/site-packages/PIL/Image.py\", line 2652, in open\n",
      "    fp = builtins.open(filename, \"rb\")\n",
      "Traceback (most recent call last):\n",
      "  File \"/usr0/home/adelgior/code/experimental-instanceseg/instanceseg/ext/panopticapi/evaluation.py\", line 98, in pq_compute_single_core\n",
      "    with Image.open(os.path.join(pred_folder, pred_ann['file_name'])) as img:\n",
      "  File \"/home/adelgior/code/fcn-instances-pytorch/instanceseg/ext/panopticapi/utils.py\", line 16, in wrapper\n",
      "    return f(*args, **kwargs)\n",
      "  File \"/usr0/home/adelgior/code/experimental-instanceseg/instanceseg/ext/panopticapi/evaluation.py\", line 98, in pq_compute_single_core\n",
      "    with Image.open(os.path.join(pred_folder, pred_ann['file_name'])) as img:\n",
      "  File \"/usr0/home/adelgior/code/experimental-instanceseg/instanceseg/ext/panopticapi/evaluation.py\", line 98, in pq_compute_single_core\n",
      "    with Image.open(os.path.join(pred_folder, pred_ann['file_name'])) as img:\n",
      "  File \"/home/adelgior/code/fcn-instances-pytorch/instanceseg/ext/panopticapi/utils.py\", line 16, in wrapper\n",
      "    return f(*args, **kwargs)\n",
      "  File \"/home/adelgior/code/fcn-instances-pytorch/instanceseg/ext/panopticapi/utils.py\", line 16, in wrapper\n",
      "    return f(*args, **kwargs)\n",
      "  File \"/home/adelgior/code/fcn-instances-pytorch/instanceseg/ext/panopticapi/utils.py\", line 16, in wrapper\n",
      "    return f(*args, **kwargs)\n",
      "  File \"/usr0/home/adelgior/code/experimental-instanceseg/instanceseg/ext/panopticapi/evaluation.py\", line 98, in pq_compute_single_core\n",
      "    with Image.open(os.path.join(pred_folder, pred_ann['file_name'])) as img:\n",
      "Traceback (most recent call last):\n",
      "Traceback (most recent call last):\n",
      "  File \"/usr0/home/adelgior/code/experimental-instanceseg/instanceseg/ext/panopticapi/evaluation.py\", line 98, in pq_compute_single_core\n",
      "    with Image.open(os.path.join(pred_folder, pred_ann['file_name'])) as img:\n",
      "Traceback (most recent call last):\n",
      "  File \"/home/adelgior/code/fcn-instances-pytorch/instanceseg/ext/panopticapi/utils.py\", line 16, in wrapper\n",
      "    return f(*args, **kwargs)\n",
      "  File \"/home/adelgior/code/fcn-instances-pytorch/instanceseg/ext/panopticapi/utils.py\", line 16, in wrapper\n",
      "    return f(*args, **kwargs)\n",
      "Traceback (most recent call last):\n",
      "  File \"/home/adelgior/code/fcn-instances-pytorch/instanceseg/ext/panopticapi/utils.py\", line 16, in wrapper\n",
      "    return f(*args, **kwargs)\n",
      "FileNotFoundError: [Errno 2] No such file or directory: '/home/adelgior/code/upsnet/output/upsnet/cityscapes/upsnet_resnet50_cityscapes_4gpu/val/results/pans_unified/pan_2ch/frankfurt_000000_000294_leftImg8bit.png'\n",
      "  File \"/usr0/home/adelgior/code/experimental-instanceseg/instanceseg/ext/panopticapi/evaluation.py\", line 98, in pq_compute_single_core\n",
      "    with Image.open(os.path.join(pred_folder, pred_ann['file_name'])) as img:\n",
      "FileNotFoundError: [Errno 2] No such file or directory: '/home/adelgior/code/upsnet/output/upsnet/cityscapes/upsnet_resnet50_cityscapes_4gpu/val/results/pans_unified/pan_2ch/frankfurt_000000_011810_leftImg8bit.png'\n",
      "  File \"/usr0/home/adelgior/code/experimental-instanceseg/instanceseg/ext/panopticapi/evaluation.py\", line 98, in pq_compute_single_core\n",
      "    with Image.open(os.path.join(pred_folder, pred_ann['file_name'])) as img:\n",
      "  File \"/usr0/home/adelgior/code/experimental-instanceseg/instanceseg/ext/panopticapi/evaluation.py\", line 98, in pq_compute_single_core\n",
      "    with Image.open(os.path.join(pred_folder, pred_ann['file_name'])) as img:\n",
      "  File \"/home/adelgior/virtualenvs/pytorch4_python3/lib/python3.7/site-packages/PIL/Image.py\", line 2652, in open\n",
      "    fp = builtins.open(filename, \"rb\")\n"
     ]
    },
    {
     "name": "stdout",
     "output_type": "stream",
     "text": [
      "Core: 32, 0 from 1 images processed\n"
     ]
    },
    {
     "name": "stderr",
     "output_type": "stream",
     "text": [
      "Traceback (most recent call last):\n",
      "  File \"/usr0/home/adelgior/code/experimental-instanceseg/instanceseg/ext/panopticapi/evaluation.py\", line 98, in pq_compute_single_core\n",
      "    with Image.open(os.path.join(pred_folder, pred_ann['file_name'])) as img:\n",
      "  File \"/home/adelgior/code/fcn-instances-pytorch/instanceseg/ext/panopticapi/utils.py\", line 16, in wrapper\n",
      "    return f(*args, **kwargs)\n"
     ]
    },
    {
     "name": "stdout",
     "output_type": "stream",
     "text": [
      "Core: 58, 0 from 1 images processed\n",
      "Core: 59, 0 from 1 images processed\n",
      "Core: 57, 0 from 1 images processed\n",
      "Core: 55, 0 from 1 images processed\n",
      "Core: 53, 0 from 1 images processed\n",
      "Core: 54, 0 from 1 images processed\n"
     ]
    },
    {
     "name": "stderr",
     "output_type": "stream",
     "text": [
      "  File \"/home/adelgior/virtualenvs/pytorch4_python3/lib/python3.7/site-packages/PIL/Image.py\", line 2652, in open\n",
      "    fp = builtins.open(filename, \"rb\")\n"
     ]
    },
    {
     "name": "stdout",
     "output_type": "stream",
     "text": [
      "Core: 51, 0 from 1 images processed\n",
      "Core: 52, 0 from 1 images processed\n"
     ]
    },
    {
     "name": "stderr",
     "output_type": "stream",
     "text": [
      "FileNotFoundError: [Errno 2] No such file or directory: '/home/adelgior/code/upsnet/output/upsnet/cityscapes/upsnet_resnet50_cityscapes_4gpu/val/results/pans_unified/pan_2ch/frankfurt_000000_011461_leftImg8bit.png'\n"
     ]
    },
    {
     "name": "stdout",
     "output_type": "stream",
     "text": [
      "Core: 56, 0 from 1 images processed\n"
     ]
    },
    {
     "name": "stderr",
     "output_type": "stream",
     "text": [
      "FileNotFoundError: [Errno 2] No such file or directory: '/home/adelgior/code/upsnet/output/upsnet/cityscapes/upsnet_resnet50_cityscapes_4gpu/val/results/pans_unified/pan_2ch/frankfurt_000000_009561_leftImg8bit.png'\n"
     ]
    },
    {
     "name": "stdout",
     "output_type": "stream",
     "text": [
      "Core: 50, 0 from 1 images processed\n",
      "Core: 49, 0 from 1 images processed\n"
     ]
    },
    {
     "name": "stderr",
     "output_type": "stream",
     "text": [
      "FileNotFoundError: [Errno 2] No such file or directory: '/home/adelgior/code/upsnet/output/upsnet/cityscapes/upsnet_resnet50_cityscapes_4gpu/val/results/pans_unified/pan_2ch/frankfurt_000000_011074_leftImg8bit.png'\n",
      "FileNotFoundError: [Errno 2] No such file or directory: '/home/adelgior/code/upsnet/output/upsnet/cityscapes/upsnet_resnet50_cityscapes_4gpu/val/results/pans_unified/pan_2ch/frankfurt_000000_003920_leftImg8bit.png'\n"
     ]
    },
    {
     "name": "stdout",
     "output_type": "stream",
     "text": [
      "Core: 48, 0 from 1 images processed\n"
     ]
    },
    {
     "name": "stderr",
     "output_type": "stream",
     "text": [
      "  File \"/usr0/home/adelgior/code/experimental-instanceseg/instanceseg/ext/panopticapi/evaluation.py\", line 98, in pq_compute_single_core\n",
      "    with Image.open(os.path.join(pred_folder, pred_ann['file_name'])) as img:\n"
     ]
    },
    {
     "name": "stdout",
     "output_type": "stream",
     "text": [
      "Core: 47, 0 from 1 images processed\n"
     ]
    },
    {
     "name": "stderr",
     "output_type": "stream",
     "text": [
      "FileNotFoundError: [Errno 2] No such file or directory: '/home/adelgior/code/upsnet/output/upsnet/cityscapes/upsnet_resnet50_cityscapes_4gpu/val/results/pans_unified/pan_2ch/frankfurt_000000_005543_leftImg8bit.png'\n"
     ]
    },
    {
     "ename": "FileNotFoundError",
     "evalue": "[Errno 2] No such file or directory: '/home/adelgior/code/upsnet/output/upsnet/cityscapes/upsnet_resnet50_cityscapes_4gpu/val/results/pans_unified/pan_2ch/frankfurt_000000_000294_leftImg8bit.png'",
     "output_type": "error",
     "traceback": [
      "\u001b[0;31m---------------------------------------------------------------------------\u001b[0m",
      "\u001b[0;31mRemoteTraceback\u001b[0m                           Traceback (most recent call last)",
      "\u001b[0;31mRemoteTraceback\u001b[0m: \n\"\"\"\nTraceback (most recent call last):\n  File \"/usr0/home/adelgior/program_files/anaconda3/lib/python3.7/multiprocessing/pool.py\", line 121, in worker\n    result = (True, func(*args, **kwds))\n  File \"/home/adelgior/code/fcn-instances-pytorch/instanceseg/ext/panopticapi/utils.py\", line 20, in wrapper\n    raise e\n  File \"/home/adelgior/code/fcn-instances-pytorch/instanceseg/ext/panopticapi/utils.py\", line 16, in wrapper\n    return f(*args, **kwargs)\n  File \"/usr0/home/adelgior/code/experimental-instanceseg/instanceseg/ext/panopticapi/evaluation.py\", line 98, in pq_compute_single_core\n    with Image.open(os.path.join(pred_folder, pred_ann['file_name'])) as img:\n  File \"/home/adelgior/virtualenvs/pytorch4_python3/lib/python3.7/site-packages/PIL/Image.py\", line 2652, in open\n    fp = builtins.open(filename, \"rb\")\nFileNotFoundError: [Errno 2] No such file or directory: '/home/adelgior/code/upsnet/output/upsnet/cityscapes/upsnet_resnet50_cityscapes_4gpu/val/results/pans_unified/pan_2ch/frankfurt_000000_000294_leftImg8bit.png'\n\"\"\"",
      "\nThe above exception was the direct cause of the following exception:\n",
      "\u001b[0;31mFileNotFoundError\u001b[0m                         Traceback (most recent call last)",
      "\u001b[0;32m<ipython-input-6-1b66f59cd464>\u001b[0m in \u001b[0;36m<module>\u001b[0;34m\u001b[0m\n\u001b[1;32m      1\u001b[0m \u001b[0;31m#%%\u001b[0m\u001b[0;34m\u001b[0m\u001b[0;34m\u001b[0m\u001b[0;34m\u001b[0m\u001b[0m\n\u001b[1;32m      2\u001b[0m evaluate.main_unwrapped(gt_json_file, new_pred_json_file, gt_folder, pred_folder, problem_config, iou_threshold=0.5,\n\u001b[0;32m----> 3\u001b[0;31m                         overwrite=False)\n\u001b[0m",
      "\u001b[0;32m~/code/experimental-instanceseg/scripts/evaluate.py\u001b[0m in \u001b[0;36mmain_unwrapped\u001b[0;34m(gt_json_file, pred_json_file, gt_folder, pred_folder, problem_config, iou_threshold, overwrite)\u001b[0m\n\u001b[1;32m     35\u001b[0m     class_avgs_per_image = compute.pq_compute_per_image(gt_json_file=gt_json_file, pred_json_file=pred_json_file,\n\u001b[1;32m     36\u001b[0m                                                         \u001b[0mgt_folder\u001b[0m\u001b[0;34m=\u001b[0m\u001b[0mgt_folder\u001b[0m\u001b[0;34m,\u001b[0m \u001b[0mpred_folder\u001b[0m\u001b[0;34m=\u001b[0m\u001b[0mpred_folder\u001b[0m\u001b[0;34m,\u001b[0m\u001b[0;34m\u001b[0m\u001b[0;34m\u001b[0m\u001b[0m\n\u001b[0;32m---> 37\u001b[0;31m                                                         iou_threshold=iou_threshold)\n\u001b[0m\u001b[1;32m     38\u001b[0m     \u001b[0;31m# isthing = problem_config.has_instances\u001b[0m\u001b[0;34m\u001b[0m\u001b[0;34m\u001b[0m\u001b[0;34m\u001b[0m\u001b[0m\n\u001b[1;32m     39\u001b[0m     \u001b[0mcategories\u001b[0m \u001b[0;34m=\u001b[0m \u001b[0mproblem_config\u001b[0m\u001b[0;34m.\u001b[0m\u001b[0msemantic_vals\u001b[0m\u001b[0;34m\u001b[0m\u001b[0;34m\u001b[0m\u001b[0m\n",
      "\u001b[0;32m~/code/experimental-instanceseg/instanceseg/panoeval/compute.py\u001b[0m in \u001b[0;36mpq_compute_per_image\u001b[0;34m(gt_json_file, pred_json_file, gt_folder, pred_folder, iou_threshold)\u001b[0m\n\u001b[1;32m     74\u001b[0m         \u001b[0mmatched_annotations_list\u001b[0m\u001b[0;34m.\u001b[0m\u001b[0mappend\u001b[0m\u001b[0;34m(\u001b[0m\u001b[0;34m(\u001b[0m\u001b[0mgt_ann\u001b[0m\u001b[0;34m,\u001b[0m \u001b[0mpred_annotations\u001b[0m\u001b[0;34m[\u001b[0m\u001b[0mimage_id\u001b[0m\u001b[0;34m]\u001b[0m\u001b[0;34m)\u001b[0m\u001b[0;34m)\u001b[0m\u001b[0;34m\u001b[0m\u001b[0;34m\u001b[0m\u001b[0m\n\u001b[1;32m     75\u001b[0m     \u001b[0;32mimport\u001b[0m \u001b[0mipdb\u001b[0m\u001b[0;34m;\u001b[0m \u001b[0mipdb\u001b[0m\u001b[0;34m.\u001b[0m\u001b[0mset_trace\u001b[0m\u001b[0;34m(\u001b[0m\u001b[0;34m)\u001b[0m\u001b[0;34m\u001b[0m\u001b[0;34m\u001b[0m\u001b[0m\n\u001b[0;32m---> 76\u001b[0;31m     pq_stats_per_image = pq_compute_multi_core_per_image(matched_annotations_list, gt_folder, pred_folder, categories,\n\u001b[0m\u001b[1;32m     77\u001b[0m                                                          iou_threshold)\n\u001b[1;32m     78\u001b[0m     \u001b[0mclass_avgs_per_image\u001b[0m \u001b[0;34m=\u001b[0m \u001b[0;34m[\u001b[0m\u001b[0;34m]\u001b[0m\u001b[0;34m\u001b[0m\u001b[0;34m\u001b[0m\u001b[0m\n",
      "\u001b[0;32m~/code/experimental-instanceseg/instanceseg/panoeval/compute.py\u001b[0m in \u001b[0;36mpq_compute_multi_core_per_image\u001b[0;34m(matched_annotations_list, gt_folder, pred_folder, categories, iou_threshold)\u001b[0m\n\u001b[1;32m     23\u001b[0m         \u001b[0mprocesses\u001b[0m\u001b[0;34m.\u001b[0m\u001b[0mappend\u001b[0m\u001b[0;34m(\u001b[0m\u001b[0mp\u001b[0m\u001b[0;34m)\u001b[0m\u001b[0;34m\u001b[0m\u001b[0;34m\u001b[0m\u001b[0m\n\u001b[1;32m     24\u001b[0m \u001b[0;34m\u001b[0m\u001b[0m\n\u001b[0;32m---> 25\u001b[0;31m     \u001b[0mpq_stats_per_image\u001b[0m \u001b[0;34m=\u001b[0m \u001b[0mcombine_processes_to_stats_per_img\u001b[0m\u001b[0;34m(\u001b[0m\u001b[0mprocesses\u001b[0m\u001b[0;34m)\u001b[0m\u001b[0;34m\u001b[0m\u001b[0;34m\u001b[0m\u001b[0m\n\u001b[0m\u001b[1;32m     26\u001b[0m     \u001b[0;32massert\u001b[0m \u001b[0mlen\u001b[0m\u001b[0;34m(\u001b[0m\u001b[0mpq_stats_per_image\u001b[0m\u001b[0;34m)\u001b[0m \u001b[0;34m==\u001b[0m \u001b[0mlen\u001b[0m\u001b[0;34m(\u001b[0m\u001b[0mmatched_annotations_list\u001b[0m\u001b[0;34m)\u001b[0m\u001b[0;34m\u001b[0m\u001b[0;34m\u001b[0m\u001b[0m\n\u001b[1;32m     27\u001b[0m     \u001b[0;31m# pq_stat = PQStat()\u001b[0m\u001b[0;34m\u001b[0m\u001b[0;34m\u001b[0m\u001b[0;34m\u001b[0m\u001b[0m\n",
      "\u001b[0;32m~/code/experimental-instanceseg/instanceseg/panoeval/compute.py\u001b[0m in \u001b[0;36mcombine_processes_to_stats_per_img\u001b[0;34m(processes)\u001b[0m\n\u001b[1;32m     35\u001b[0m     \u001b[0mpq_stats\u001b[0m \u001b[0;34m=\u001b[0m \u001b[0;34m[\u001b[0m\u001b[0;34m]\u001b[0m\u001b[0;34m\u001b[0m\u001b[0;34m\u001b[0m\u001b[0m\n\u001b[1;32m     36\u001b[0m     \u001b[0;32mfor\u001b[0m \u001b[0mp\u001b[0m \u001b[0;32min\u001b[0m \u001b[0mprocesses\u001b[0m\u001b[0;34m:\u001b[0m\u001b[0;34m\u001b[0m\u001b[0;34m\u001b[0m\u001b[0m\n\u001b[0;32m---> 37\u001b[0;31m         \u001b[0mpq_stats\u001b[0m\u001b[0;34m.\u001b[0m\u001b[0mappend\u001b[0m\u001b[0;34m(\u001b[0m\u001b[0mp\u001b[0m\u001b[0;34m.\u001b[0m\u001b[0mget\u001b[0m\u001b[0;34m(\u001b[0m\u001b[0;34m)\u001b[0m\u001b[0;34m)\u001b[0m\u001b[0;34m\u001b[0m\u001b[0;34m\u001b[0m\u001b[0m\n\u001b[0m\u001b[1;32m     38\u001b[0m     \u001b[0;32mreturn\u001b[0m \u001b[0mpq_stats\u001b[0m\u001b[0;34m\u001b[0m\u001b[0;34m\u001b[0m\u001b[0m\n\u001b[1;32m     39\u001b[0m \u001b[0;34m\u001b[0m\u001b[0m\n",
      "\u001b[0;32m~/program_files/anaconda3/lib/python3.7/multiprocessing/pool.py\u001b[0m in \u001b[0;36mget\u001b[0;34m(self, timeout)\u001b[0m\n\u001b[1;32m    655\u001b[0m             \u001b[0;32mreturn\u001b[0m \u001b[0mself\u001b[0m\u001b[0;34m.\u001b[0m\u001b[0m_value\u001b[0m\u001b[0;34m\u001b[0m\u001b[0;34m\u001b[0m\u001b[0m\n\u001b[1;32m    656\u001b[0m         \u001b[0;32melse\u001b[0m\u001b[0;34m:\u001b[0m\u001b[0;34m\u001b[0m\u001b[0;34m\u001b[0m\u001b[0m\n\u001b[0;32m--> 657\u001b[0;31m             \u001b[0;32mraise\u001b[0m \u001b[0mself\u001b[0m\u001b[0;34m.\u001b[0m\u001b[0m_value\u001b[0m\u001b[0;34m\u001b[0m\u001b[0;34m\u001b[0m\u001b[0m\n\u001b[0m\u001b[1;32m    658\u001b[0m \u001b[0;34m\u001b[0m\u001b[0m\n\u001b[1;32m    659\u001b[0m     \u001b[0;32mdef\u001b[0m \u001b[0m_set\u001b[0m\u001b[0;34m(\u001b[0m\u001b[0mself\u001b[0m\u001b[0;34m,\u001b[0m \u001b[0mi\u001b[0m\u001b[0;34m,\u001b[0m \u001b[0mobj\u001b[0m\u001b[0;34m)\u001b[0m\u001b[0;34m:\u001b[0m\u001b[0;34m\u001b[0m\u001b[0;34m\u001b[0m\u001b[0m\n",
      "\u001b[0;31mFileNotFoundError\u001b[0m: [Errno 2] No such file or directory: '/home/adelgior/code/upsnet/output/upsnet/cityscapes/upsnet_resnet50_cityscapes_4gpu/val/results/pans_unified/pan_2ch/frankfurt_000000_000294_leftImg8bit.png'"
     ]
    },
    {
     "name": "stdout",
     "output_type": "stream",
     "text": [
      "Core: 46, 0 from 1 images processed\n"
     ]
    },
    {
     "name": "stderr",
     "output_type": "stream",
     "text": [
      "  File \"/usr0/home/adelgior/code/experimental-instanceseg/instanceseg/ext/panopticapi/evaluation.py\", line 98, in pq_compute_single_core\n",
      "    with Image.open(os.path.join(pred_folder, pred_ann['file_name'])) as img:\n",
      "FileNotFoundError: [Errno 2] No such file or directory: '/home/adelgior/code/upsnet/output/upsnet/cityscapes/upsnet_resnet50_cityscapes_4gpu/val/results/pans_unified/pan_2ch/frankfurt_000000_002963_leftImg8bit.png'\n"
     ]
    },
    {
     "name": "stdout",
     "output_type": "stream",
     "text": [
      "Core: 45, 0 from 1 images processed\n",
      "Core: 44, 0 from 1 images processed\n"
     ]
    },
    {
     "name": "stderr",
     "output_type": "stream",
     "text": [
      "  File \"/home/adelgior/virtualenvs/pytorch4_python3/lib/python3.7/site-packages/PIL/Image.py\", line 2652, in open\n",
      "    fp = builtins.open(filename, \"rb\")\n"
     ]
    },
    {
     "name": "stdout",
     "output_type": "stream",
     "text": [
      "Core: 43, 0 from 1 images processed\n"
     ]
    },
    {
     "name": "stderr",
     "output_type": "stream",
     "text": [
      "  File \"/usr0/home/adelgior/code/experimental-instanceseg/instanceseg/ext/panopticapi/evaluation.py\", line 98, in pq_compute_single_core\n",
      "    with Image.open(os.path.join(pred_folder, pred_ann['file_name'])) as img:\n",
      "  File \"/usr0/home/adelgior/code/experimental-instanceseg/instanceseg/ext/panopticapi/evaluation.py\", line 98, in pq_compute_single_core\n",
      "    with Image.open(os.path.join(pred_folder, pred_ann['file_name'])) as img:\n"
     ]
    },
    {
     "name": "stdout",
     "output_type": "stream",
     "text": [
      "Caught exception in worker thread:\n"
     ]
    },
    {
     "name": "stderr",
     "output_type": "stream",
     "text": [
      "  File \"/usr0/home/adelgior/code/experimental-instanceseg/instanceseg/ext/panopticapi/evaluation.py\", line 98, in pq_compute_single_core\n",
      "    with Image.open(os.path.join(pred_folder, pred_ann['file_name'])) as img:\n",
      "  File \"/home/adelgior/virtualenvs/pytorch4_python3/lib/python3.7/site-packages/PIL/Image.py\", line 2652, in open\n",
      "    fp = builtins.open(filename, \"rb\")\n",
      "  File \"/home/adelgior/virtualenvs/pytorch4_python3/lib/python3.7/site-packages/PIL/Image.py\", line 2652, in open\n",
      "    fp = builtins.open(filename, \"rb\")\n"
     ]
    },
    {
     "name": "stdout",
     "output_type": "stream",
     "text": [
      "Core: 33, 0 from 1 images processed\n",
      "Caught exception in worker thread:\n"
     ]
    },
    {
     "name": "stderr",
     "output_type": "stream",
     "text": [
      "  File \"/home/adelgior/virtualenvs/pytorch4_python3/lib/python3.7/site-packages/PIL/Image.py\", line 2652, in open\n",
      "    fp = builtins.open(filename, \"rb\")\n",
      "FileNotFoundError: [Errno 2] No such file or directory: '/home/adelgior/code/upsnet/output/upsnet/cityscapes/upsnet_resnet50_cityscapes_4gpu/val/results/pans_unified/pan_2ch/frankfurt_000000_009291_leftImg8bit.png'\n",
      "  File \"/home/adelgior/code/fcn-instances-pytorch/instanceseg/ext/panopticapi/utils.py\", line 16, in wrapper\n",
      "    return f(*args, **kwargs)\n",
      "  File \"/home/adelgior/code/fcn-instances-pytorch/instanceseg/ext/panopticapi/utils.py\", line 16, in wrapper\n",
      "    return f(*args, **kwargs)\n",
      "  File \"/usr0/home/adelgior/code/experimental-instanceseg/instanceseg/ext/panopticapi/evaluation.py\", line 98, in pq_compute_single_core\n",
      "    with Image.open(os.path.join(pred_folder, pred_ann['file_name'])) as img:\n",
      "  File \"/home/adelgior/code/fcn-instances-pytorch/instanceseg/ext/panopticapi/utils.py\", line 16, in wrapper\n",
      "    return f(*args, **kwargs)\n",
      "  File \"/usr0/home/adelgior/code/experimental-instanceseg/instanceseg/ext/panopticapi/evaluation.py\", line 98, in pq_compute_single_core\n",
      "    with Image.open(os.path.join(pred_folder, pred_ann['file_name'])) as img:\n",
      "  File \"/home/adelgior/virtualenvs/pytorch4_python3/lib/python3.7/site-packages/PIL/Image.py\", line 2652, in open\n",
      "    fp = builtins.open(filename, \"rb\")\n",
      "  File \"/home/adelgior/virtualenvs/pytorch4_python3/lib/python3.7/site-packages/PIL/Image.py\", line 2652, in open\n",
      "    fp = builtins.open(filename, \"rb\")\n",
      "FileNotFoundError: [Errno 2] No such file or directory: '/home/adelgior/code/upsnet/output/upsnet/cityscapes/upsnet_resnet50_cityscapes_4gpu/val/results/pans_unified/pan_2ch/frankfurt_000000_009688_leftImg8bit.png'\n",
      "  File \"/usr0/home/adelgior/code/experimental-instanceseg/instanceseg/ext/panopticapi/evaluation.py\", line 98, in pq_compute_single_core\n",
      "    with Image.open(os.path.join(pred_folder, pred_ann['file_name'])) as img:\n",
      "  File \"/home/adelgior/virtualenvs/pytorch4_python3/lib/python3.7/site-packages/PIL/Image.py\", line 2652, in open\n",
      "    fp = builtins.open(filename, \"rb\")\n",
      "  File \"/home/adelgior/code/fcn-instances-pytorch/instanceseg/ext/panopticapi/utils.py\", line 16, in wrapper\n",
      "    return f(*args, **kwargs)\n",
      "  File \"/home/adelgior/code/fcn-instances-pytorch/instanceseg/ext/panopticapi/utils.py\", line 16, in wrapper\n",
      "    return f(*args, **kwargs)\n",
      "  File \"/home/adelgior/virtualenvs/pytorch4_python3/lib/python3.7/site-packages/PIL/Image.py\", line 2652, in open\n",
      "    fp = builtins.open(filename, \"rb\")\n",
      "  File \"/home/adelgior/virtualenvs/pytorch4_python3/lib/python3.7/site-packages/PIL/Image.py\", line 2652, in open\n",
      "    fp = builtins.open(filename, \"rb\")\n",
      "FileNotFoundError: [Errno 2] No such file or directory: '/home/adelgior/code/upsnet/output/upsnet/cityscapes/upsnet_resnet50_cityscapes_4gpu/val/results/pans_unified/pan_2ch/frankfurt_000000_004617_leftImg8bit.png'\n"
     ]
    },
    {
     "name": "stdout",
     "output_type": "stream",
     "text": [
      "Core: 34, 0 from 1 images processed\n"
     ]
    },
    {
     "name": "stderr",
     "output_type": "stream",
     "text": [
      "  File \"/usr0/home/adelgior/code/experimental-instanceseg/instanceseg/ext/panopticapi/evaluation.py\", line 98, in pq_compute_single_core\n",
      "    with Image.open(os.path.join(pred_folder, pred_ann['file_name'])) as img:\n",
      "FileNotFoundError: [Errno 2] No such file or directory: '/home/adelgior/code/upsnet/output/upsnet/cityscapes/upsnet_resnet50_cityscapes_4gpu/val/results/pans_unified/pan_2ch/frankfurt_000000_010351_leftImg8bit.png'\n",
      "  File \"/home/adelgior/virtualenvs/pytorch4_python3/lib/python3.7/site-packages/PIL/Image.py\", line 2652, in open\n",
      "    fp = builtins.open(filename, \"rb\")\n",
      "  File \"/usr0/home/adelgior/code/experimental-instanceseg/instanceseg/ext/panopticapi/evaluation.py\", line 98, in pq_compute_single_core\n",
      "    with Image.open(os.path.join(pred_folder, pred_ann['file_name'])) as img:\n",
      "Traceback (most recent call last):\n",
      "  File \"/home/adelgior/virtualenvs/pytorch4_python3/lib/python3.7/site-packages/PIL/Image.py\", line 2652, in open\n",
      "    fp = builtins.open(filename, \"rb\")\n"
     ]
    },
    {
     "name": "stdout",
     "output_type": "stream",
     "text": [
      "Core: 35, 0 from 1 images processed\n"
     ]
    },
    {
     "name": "stderr",
     "output_type": "stream",
     "text": [
      "  File \"/home/adelgior/virtualenvs/pytorch4_python3/lib/python3.7/site-packages/PIL/Image.py\", line 2652, in open\n",
      "    fp = builtins.open(filename, \"rb\")\n",
      "FileNotFoundError: [Errno 2] No such file or directory: '/home/adelgior/code/upsnet/output/upsnet/cityscapes/upsnet_resnet50_cityscapes_4gpu/val/results/pans_unified/pan_2ch/frankfurt_000000_008206_leftImg8bit.png'\n",
      "  File \"/usr0/home/adelgior/code/experimental-instanceseg/instanceseg/ext/panopticapi/evaluation.py\", line 98, in pq_compute_single_core\n",
      "    with Image.open(os.path.join(pred_folder, pred_ann['file_name'])) as img:\n",
      "  File \"/home/adelgior/virtualenvs/pytorch4_python3/lib/python3.7/site-packages/PIL/Image.py\", line 2652, in open\n",
      "    fp = builtins.open(filename, \"rb\")\n",
      "FileNotFoundError: [Errno 2] No such file or directory: '/home/adelgior/code/upsnet/output/upsnet/cityscapes/upsnet_resnet50_cityscapes_4gpu/val/results/pans_unified/pan_2ch/frankfurt_000000_002196_leftImg8bit.png'\n",
      "  File \"/home/adelgior/virtualenvs/pytorch4_python3/lib/python3.7/site-packages/PIL/Image.py\", line 2652, in open\n",
      "    fp = builtins.open(filename, \"rb\")\n",
      "  File \"/usr0/home/adelgior/code/experimental-instanceseg/instanceseg/ext/panopticapi/evaluation.py\", line 98, in pq_compute_single_core\n",
      "    with Image.open(os.path.join(pred_folder, pred_ann['file_name'])) as img:\n",
      "  File \"/home/adelgior/code/fcn-instances-pytorch/instanceseg/ext/panopticapi/utils.py\", line 16, in wrapper\n",
      "    return f(*args, **kwargs)\n",
      "Traceback (most recent call last):\n",
      "  File \"/usr0/home/adelgior/code/experimental-instanceseg/instanceseg/ext/panopticapi/evaluation.py\", line 98, in pq_compute_single_core\n",
      "    with Image.open(os.path.join(pred_folder, pred_ann['file_name'])) as img:\n",
      "FileNotFoundError: [Errno 2] No such file or directory: '/home/adelgior/code/upsnet/output/upsnet/cityscapes/upsnet_resnet50_cityscapes_4gpu/val/results/pans_unified/pan_2ch/frankfurt_000000_006589_leftImg8bit.png'\n",
      "  File \"/home/adelgior/virtualenvs/pytorch4_python3/lib/python3.7/site-packages/PIL/Image.py\", line 2652, in open\n",
      "    fp = builtins.open(filename, \"rb\")\n",
      "  File \"/usr0/home/adelgior/code/experimental-instanceseg/instanceseg/ext/panopticapi/evaluation.py\", line 98, in pq_compute_single_core\n",
      "    with Image.open(os.path.join(pred_folder, pred_ann['file_name'])) as img:\n"
     ]
    },
    {
     "name": "stdout",
     "output_type": "stream",
     "text": [
      "Core: 36, 0 from 1 images processed\n"
     ]
    },
    {
     "name": "stderr",
     "output_type": "stream",
     "text": [
      "FileNotFoundError: [Errno 2] No such file or directory: '/home/adelgior/code/upsnet/output/upsnet/cityscapes/upsnet_resnet50_cityscapes_4gpu/val/results/pans_unified/pan_2ch/frankfurt_000000_005898_leftImg8bit.png'\n",
      "  File \"/usr0/home/adelgior/code/experimental-instanceseg/instanceseg/ext/panopticapi/evaluation.py\", line 98, in pq_compute_single_core\n",
      "    with Image.open(os.path.join(pred_folder, pred_ann['file_name'])) as img:\n",
      "  File \"/home/adelgior/virtualenvs/pytorch4_python3/lib/python3.7/site-packages/PIL/Image.py\", line 2652, in open\n",
      "    fp = builtins.open(filename, \"rb\")\n",
      "FileNotFoundError: [Errno 2] No such file or directory: '/home/adelgior/code/upsnet/output/upsnet/cityscapes/upsnet_resnet50_cityscapes_4gpu/val/results/pans_unified/pan_2ch/frankfurt_000000_008451_leftImg8bit.png'\n",
      "  File \"/home/adelgior/virtualenvs/pytorch4_python3/lib/python3.7/site-packages/PIL/Image.py\", line 2652, in open\n",
      "    fp = builtins.open(filename, \"rb\")\n"
     ]
    },
    {
     "name": "stdout",
     "output_type": "stream",
     "text": [
      "Core: 37, 0 from 1 images processed\n"
     ]
    },
    {
     "name": "stderr",
     "output_type": "stream",
     "text": [
      "FileNotFoundError: [Errno 2] No such file or directory: '/home/adelgior/code/upsnet/output/upsnet/cityscapes/upsnet_resnet50_cityscapes_4gpu/val/results/pans_unified/pan_2ch/frankfurt_000000_012868_leftImg8bit.png'\n",
      "FileNotFoundError: [Errno 2] No such file or directory: '/home/adelgior/code/upsnet/output/upsnet/cityscapes/upsnet_resnet50_cityscapes_4gpu/val/results/pans_unified/pan_2ch/frankfurt_000000_003357_leftImg8bit.png'\n"
     ]
    },
    {
     "name": "stdout",
     "output_type": "stream",
     "text": [
      "Core: 38, 0 from 1 images processed\n"
     ]
    },
    {
     "name": "stderr",
     "output_type": "stream",
     "text": [
      "FileNotFoundError: [Errno 2] No such file or directory: '/home/adelgior/code/upsnet/output/upsnet/cityscapes/upsnet_resnet50_cityscapes_4gpu/val/results/pans_unified/pan_2ch/frankfurt_000000_001236_leftImg8bit.png'\n",
      "FileNotFoundError: [Errno 2] No such file or directory: '/home/adelgior/code/upsnet/output/upsnet/cityscapes/upsnet_resnet50_cityscapes_4gpu/val/results/pans_unified/pan_2ch/frankfurt_000000_013067_leftImg8bit.png'\n"
     ]
    },
    {
     "name": "stdout",
     "output_type": "stream",
     "text": [
      "Core: 39, 0 from 1 images processed\n"
     ]
    },
    {
     "name": "stderr",
     "output_type": "stream",
     "text": [
      "  File \"/home/adelgior/virtualenvs/pytorch4_python3/lib/python3.7/site-packages/PIL/Image.py\", line 2652, in open\n",
      "    fp = builtins.open(filename, \"rb\")\n",
      "FileNotFoundError: [Errno 2] No such file or directory: '/home/adelgior/code/upsnet/output/upsnet/cityscapes/upsnet_resnet50_cityscapes_4gpu/val/results/pans_unified/pan_2ch/frankfurt_000000_003025_leftImg8bit.png'\n",
      "FileNotFoundError: [Errno 2] No such file or directory: '/home/adelgior/code/upsnet/output/upsnet/cityscapes/upsnet_resnet50_cityscapes_4gpu/val/results/pans_unified/pan_2ch/frankfurt_000000_001751_leftImg8bit.png'\n",
      "  File \"/usr0/home/adelgior/code/experimental-instanceseg/instanceseg/ext/panopticapi/evaluation.py\", line 98, in pq_compute_single_core\n",
      "    with Image.open(os.path.join(pred_folder, pred_ann['file_name'])) as img:\n",
      "  File \"/home/adelgior/virtualenvs/pytorch4_python3/lib/python3.7/site-packages/PIL/Image.py\", line 2652, in open\n",
      "    fp = builtins.open(filename, \"rb\")\n",
      "  File \"/home/adelgior/code/fcn-instances-pytorch/instanceseg/ext/panopticapi/utils.py\", line 16, in wrapper\n",
      "    return f(*args, **kwargs)\n"
     ]
    },
    {
     "name": "stdout",
     "output_type": "stream",
     "text": [
      "Core: 40, 0 from 1 images processed\n",
      "Core: 41, 0 from 1 images processed\n"
     ]
    },
    {
     "name": "stderr",
     "output_type": "stream",
     "text": [
      "  File \"/home/adelgior/code/fcn-instances-pytorch/instanceseg/ext/panopticapi/utils.py\", line 16, in wrapper\n",
      "    return f(*args, **kwargs)\n",
      "  File \"/home/adelgior/virtualenvs/pytorch4_python3/lib/python3.7/site-packages/PIL/Image.py\", line 2652, in open\n",
      "    fp = builtins.open(filename, \"rb\")\n",
      "  File \"/home/adelgior/virtualenvs/pytorch4_python3/lib/python3.7/site-packages/PIL/Image.py\", line 2652, in open\n",
      "    fp = builtins.open(filename, \"rb\")\n",
      "  File \"/home/adelgior/virtualenvs/pytorch4_python3/lib/python3.7/site-packages/PIL/Image.py\", line 2652, in open\n",
      "    fp = builtins.open(filename, \"rb\")\n",
      "FileNotFoundError: [Errno 2] No such file or directory: '/home/adelgior/code/upsnet/output/upsnet/cityscapes/upsnet_resnet50_cityscapes_4gpu/val/results/pans_unified/pan_2ch/frankfurt_000000_010763_leftImg8bit.png'\n",
      "FileNotFoundError: [Errno 2] No such file or directory: '/home/adelgior/code/upsnet/output/upsnet/cityscapes/upsnet_resnet50_cityscapes_4gpu/val/results/pans_unified/pan_2ch/frankfurt_000000_007365_leftImg8bit.png'\n",
      "FileNotFoundError: [Errno 2] No such file or directory: '/home/adelgior/code/upsnet/output/upsnet/cityscapes/upsnet_resnet50_cityscapes_4gpu/val/results/pans_unified/pan_2ch/frankfurt_000000_011007_leftImg8bit.png'\n"
     ]
    },
    {
     "name": "stdout",
     "output_type": "stream",
     "text": [
      "Core: 42, 0 from 1 images processed\n"
     ]
    },
    {
     "name": "stderr",
     "output_type": "stream",
     "text": [
      "FileNotFoundError: [Errno 2] No such file or directory: '/home/adelgior/code/upsnet/output/upsnet/cityscapes/upsnet_resnet50_cityscapes_4gpu/val/results/pans_unified/pan_2ch/frankfurt_000000_012009_leftImg8bit.png'\n",
      "  File \"/home/adelgior/virtualenvs/pytorch4_python3/lib/python3.7/site-packages/PIL/Image.py\", line 2652, in open\n",
      "    fp = builtins.open(filename, \"rb\")\n"
     ]
    },
    {
     "name": "stdout",
     "output_type": "stream",
     "text": [
      "Core: 60, 0 from 1 images processed\n"
     ]
    },
    {
     "name": "stderr",
     "output_type": "stream",
     "text": [
      "FileNotFoundError: [Errno 2] No such file or directory: '/home/adelgior/code/upsnet/output/upsnet/cityscapes/upsnet_resnet50_cityscapes_4gpu/val/results/pans_unified/pan_2ch/frankfurt_000000_012121_leftImg8bit.png'\n"
     ]
    },
    {
     "name": "stdout",
     "output_type": "stream",
     "text": [
      "Caught exception in worker thread:\n",
      "Core: 61, 0 from 1 images processed\n"
     ]
    },
    {
     "name": "stderr",
     "output_type": "stream",
     "text": [
      "Traceback (most recent call last):\n",
      "  File \"/home/adelgior/code/fcn-instances-pytorch/instanceseg/ext/panopticapi/utils.py\", line 16, in wrapper\n",
      "    return f(*args, **kwargs)\n",
      "  File \"/usr0/home/adelgior/code/experimental-instanceseg/instanceseg/ext/panopticapi/evaluation.py\", line 98, in pq_compute_single_core\n",
      "    with Image.open(os.path.join(pred_folder, pred_ann['file_name'])) as img:\n",
      "  File \"/home/adelgior/virtualenvs/pytorch4_python3/lib/python3.7/site-packages/PIL/Image.py\", line 2652, in open\n",
      "    fp = builtins.open(filename, \"rb\")\n"
     ]
    },
    {
     "name": "stdout",
     "output_type": "stream",
     "text": [
      "Caught exception in worker thread:\n"
     ]
    },
    {
     "name": "stderr",
     "output_type": "stream",
     "text": [
      "FileNotFoundError: [Errno 2] No such file or directory: '/home/adelgior/code/upsnet/output/upsnet/cityscapes/upsnet_resnet50_cityscapes_4gpu/val/results/pans_unified/pan_2ch/frankfurt_000000_013240_leftImg8bit.png'\n"
     ]
    },
    {
     "name": "stdout",
     "output_type": "stream",
     "text": [
      "Core: 62, 0 from 1 images processed\n",
      "Caught exception in worker thread:\n",
      "Caught exception in worker thread:\n"
     ]
    },
    {
     "name": "stderr",
     "output_type": "stream",
     "text": [
      "Traceback (most recent call last):\n",
      "  File \"/home/adelgior/code/fcn-instances-pytorch/instanceseg/ext/panopticapi/utils.py\", line 16, in wrapper\n",
      "    return f(*args, **kwargs)\n",
      "  File \"/usr0/home/adelgior/code/experimental-instanceseg/instanceseg/ext/panopticapi/evaluation.py\", line 98, in pq_compute_single_core\n",
      "    with Image.open(os.path.join(pred_folder, pred_ann['file_name'])) as img:\n",
      "Traceback (most recent call last):\n",
      "Traceback (most recent call last):\n",
      "  File \"/home/adelgior/virtualenvs/pytorch4_python3/lib/python3.7/site-packages/PIL/Image.py\", line 2652, in open\n",
      "    fp = builtins.open(filename, \"rb\")\n"
     ]
    },
    {
     "name": "stdout",
     "output_type": "stream",
     "text": [
      "Caught exception in worker thread:\n",
      "Caught exception in worker thread:\n"
     ]
    },
    {
     "name": "stderr",
     "output_type": "stream",
     "text": [
      "Traceback (most recent call last):\n",
      "Traceback (most recent call last):\n",
      "  File \"/home/adelgior/code/fcn-instances-pytorch/instanceseg/ext/panopticapi/utils.py\", line 16, in wrapper\n",
      "    return f(*args, **kwargs)\n",
      "  File \"/home/adelgior/code/fcn-instances-pytorch/instanceseg/ext/panopticapi/utils.py\", line 16, in wrapper\n",
      "    return f(*args, **kwargs)\n"
     ]
    },
    {
     "name": "stdout",
     "output_type": "stream",
     "text": [
      "Caught exception in worker thread:\n",
      "Caught exception in worker thread:\n",
      "Caught exception in worker thread:\n"
     ]
    },
    {
     "name": "stderr",
     "output_type": "stream",
     "text": [
      "  File \"/home/adelgior/code/fcn-instances-pytorch/instanceseg/ext/panopticapi/utils.py\", line 16, in wrapper\n",
      "    return f(*args, **kwargs)\n",
      "FileNotFoundError: [Errno 2] No such file or directory: '/home/adelgior/code/upsnet/output/upsnet/cityscapes/upsnet_resnet50_cityscapes_4gpu/val/results/pans_unified/pan_2ch/frankfurt_000000_013942_leftImg8bit.png'\n"
     ]
    },
    {
     "name": "stdout",
     "output_type": "stream",
     "text": [
      "Caught exception in worker thread:\n"
     ]
    },
    {
     "name": "stderr",
     "output_type": "stream",
     "text": [
      "Traceback (most recent call last):\n",
      "  File \"/usr0/home/adelgior/code/experimental-instanceseg/instanceseg/ext/panopticapi/evaluation.py\", line 98, in pq_compute_single_core\n",
      "    with Image.open(os.path.join(pred_folder, pred_ann['file_name'])) as img:\n"
     ]
    },
    {
     "name": "stdout",
     "output_type": "stream",
     "text": [
      "Caught exception in worker thread:\n",
      "Caught exception in worker thread:\n"
     ]
    },
    {
     "name": "stderr",
     "output_type": "stream",
     "text": [
      "Traceback (most recent call last):\n",
      "  File \"/home/adelgior/code/fcn-instances-pytorch/instanceseg/ext/panopticapi/utils.py\", line 16, in wrapper\n",
      "    return f(*args, **kwargs)\n",
      "Traceback (most recent call last):\n"
     ]
    },
    {
     "name": "stdout",
     "output_type": "stream",
     "text": [
      "Caught exception in worker thread:\n",
      "Caught exception in worker thread:\n"
     ]
    },
    {
     "name": "stderr",
     "output_type": "stream",
     "text": [
      "  File \"/home/adelgior/code/fcn-instances-pytorch/instanceseg/ext/panopticapi/utils.py\", line 16, in wrapper\n",
      "    return f(*args, **kwargs)\n",
      "  File \"/home/adelgior/code/fcn-instances-pytorch/instanceseg/ext/panopticapi/utils.py\", line 16, in wrapper\n",
      "    return f(*args, **kwargs)\n",
      "  File \"/usr0/home/adelgior/code/experimental-instanceseg/instanceseg/ext/panopticapi/evaluation.py\", line 98, in pq_compute_single_core\n",
      "    with Image.open(os.path.join(pred_folder, pred_ann['file_name'])) as img:\n",
      "  File \"/home/adelgior/code/fcn-instances-pytorch/instanceseg/ext/panopticapi/utils.py\", line 16, in wrapper\n",
      "    return f(*args, **kwargs)\n",
      "Traceback (most recent call last):\n",
      "Traceback (most recent call last):\n",
      "  File \"/home/adelgior/virtualenvs/pytorch4_python3/lib/python3.7/site-packages/PIL/Image.py\", line 2652, in open\n",
      "    fp = builtins.open(filename, \"rb\")\n",
      "  File \"/usr0/home/adelgior/code/experimental-instanceseg/instanceseg/ext/panopticapi/evaluation.py\", line 98, in pq_compute_single_core\n",
      "    with Image.open(os.path.join(pred_folder, pred_ann['file_name'])) as img:\n",
      "  File \"/usr0/home/adelgior/code/experimental-instanceseg/instanceseg/ext/panopticapi/evaluation.py\", line 98, in pq_compute_single_core\n",
      "    with Image.open(os.path.join(pred_folder, pred_ann['file_name'])) as img:\n",
      "  File \"/usr0/home/adelgior/code/experimental-instanceseg/instanceseg/ext/panopticapi/evaluation.py\", line 98, in pq_compute_single_core\n",
      "    with Image.open(os.path.join(pred_folder, pred_ann['file_name'])) as img:\n"
     ]
    },
    {
     "name": "stdout",
     "output_type": "stream",
     "text": [
      "Core: 63, 0 from 1 images processed\n"
     ]
    },
    {
     "name": "stderr",
     "output_type": "stream",
     "text": [
      "  File \"/home/adelgior/virtualenvs/pytorch4_python3/lib/python3.7/site-packages/PIL/Image.py\", line 2652, in open\n",
      "    fp = builtins.open(filename, \"rb\")\n",
      "  File \"/usr0/home/adelgior/code/experimental-instanceseg/instanceseg/ext/panopticapi/evaluation.py\", line 98, in pq_compute_single_core\n",
      "    with Image.open(os.path.join(pred_folder, pred_ann['file_name'])) as img:\n",
      "FileNotFoundError: [Errno 2] No such file or directory: '/home/adelgior/code/upsnet/output/upsnet/cityscapes/upsnet_resnet50_cityscapes_4gpu/val/results/pans_unified/pan_2ch/frankfurt_000000_017476_leftImg8bit.png'\n",
      "Traceback (most recent call last):\n"
     ]
    },
    {
     "name": "stdout",
     "output_type": "stream",
     "text": [
      "Caught exception in worker thread:\n"
     ]
    },
    {
     "name": "stderr",
     "output_type": "stream",
     "text": [
      "Traceback (most recent call last):\n"
     ]
    },
    {
     "name": "stdout",
     "output_type": "stream",
     "text": [
      "Caught exception in worker thread:\n"
     ]
    },
    {
     "name": "stderr",
     "output_type": "stream",
     "text": [
      "  File \"/home/adelgior/code/fcn-instances-pytorch/instanceseg/ext/panopticapi/utils.py\", line 16, in wrapper\n",
      "    return f(*args, **kwargs)\n",
      "Traceback (most recent call last):\n"
     ]
    },
    {
     "name": "stdout",
     "output_type": "stream",
     "text": [
      "Caught exception in worker thread:\n"
     ]
    },
    {
     "name": "stderr",
     "output_type": "stream",
     "text": [
      "  File \"/home/adelgior/virtualenvs/pytorch4_python3/lib/python3.7/site-packages/PIL/Image.py\", line 2652, in open\n",
      "    fp = builtins.open(filename, \"rb\")\n"
     ]
    },
    {
     "name": "stdout",
     "output_type": "stream",
     "text": [
      "Caught exception in worker thread:\n"
     ]
    },
    {
     "name": "stderr",
     "output_type": "stream",
     "text": [
      "  File \"/home/adelgior/code/fcn-instances-pytorch/instanceseg/ext/panopticapi/utils.py\", line 16, in wrapper\n",
      "    return f(*args, **kwargs)\n",
      "  File \"/usr0/home/adelgior/code/experimental-instanceseg/instanceseg/ext/panopticapi/evaluation.py\", line 98, in pq_compute_single_core\n",
      "    with Image.open(os.path.join(pred_folder, pred_ann['file_name'])) as img:\n"
     ]
    },
    {
     "name": "stdout",
     "output_type": "stream",
     "text": [
      "Caught exception in worker thread:\n"
     ]
    },
    {
     "name": "stderr",
     "output_type": "stream",
     "text": [
      "  File \"/home/adelgior/code/fcn-instances-pytorch/instanceseg/ext/panopticapi/utils.py\", line 16, in wrapper\n",
      "    return f(*args, **kwargs)\n",
      "Traceback (most recent call last):\n",
      "  File \"/home/adelgior/virtualenvs/pytorch4_python3/lib/python3.7/site-packages/PIL/Image.py\", line 2652, in open\n",
      "    fp = builtins.open(filename, \"rb\")\n"
     ]
    },
    {
     "name": "stdout",
     "output_type": "stream",
     "text": [
      "Caught exception in worker thread:\n"
     ]
    },
    {
     "name": "stderr",
     "output_type": "stream",
     "text": [
      "Traceback (most recent call last):\n",
      "  File \"/home/adelgior/virtualenvs/pytorch4_python3/lib/python3.7/site-packages/PIL/Image.py\", line 2652, in open\n",
      "    fp = builtins.open(filename, \"rb\")\n",
      "  File \"/usr0/home/adelgior/code/experimental-instanceseg/instanceseg/ext/panopticapi/evaluation.py\", line 98, in pq_compute_single_core\n",
      "    with Image.open(os.path.join(pred_folder, pred_ann['file_name'])) as img:\n",
      "Traceback (most recent call last):\n",
      "  File \"/home/adelgior/code/fcn-instances-pytorch/instanceseg/ext/panopticapi/utils.py\", line 16, in wrapper\n",
      "    return f(*args, **kwargs)\n",
      "  File \"/usr0/home/adelgior/code/experimental-instanceseg/instanceseg/ext/panopticapi/evaluation.py\", line 98, in pq_compute_single_core\n",
      "    with Image.open(os.path.join(pred_folder, pred_ann['file_name'])) as img:\n",
      "  File \"/home/adelgior/virtualenvs/pytorch4_python3/lib/python3.7/site-packages/PIL/Image.py\", line 2652, in open\n",
      "    fp = builtins.open(filename, \"rb\")\n",
      "  File \"/usr0/home/adelgior/code/experimental-instanceseg/instanceseg/ext/panopticapi/evaluation.py\", line 98, in pq_compute_single_core\n",
      "    with Image.open(os.path.join(pred_folder, pred_ann['file_name'])) as img:\n",
      "FileNotFoundError: [Errno 2] No such file or directory: '/home/adelgior/code/upsnet/output/upsnet/cityscapes/upsnet_resnet50_cityscapes_4gpu/val/results/pans_unified/pan_2ch/frankfurt_000000_020321_leftImg8bit.png'\n"
     ]
    },
    {
     "name": "stdout",
     "output_type": "stream",
     "text": [
      "Caught exception in worker thread:\n",
      "Caught exception in worker thread:\n"
     ]
    },
    {
     "name": "stderr",
     "output_type": "stream",
     "text": [
      "  File \"/home/adelgior/virtualenvs/pytorch4_python3/lib/python3.7/site-packages/PIL/Image.py\", line 2652, in open\n",
      "    fp = builtins.open(filename, \"rb\")\n",
      "  File \"/home/adelgior/code/fcn-instances-pytorch/instanceseg/ext/panopticapi/utils.py\", line 16, in wrapper\n",
      "    return f(*args, **kwargs)\n",
      "Traceback (most recent call last):\n",
      "  File \"/home/adelgior/virtualenvs/pytorch4_python3/lib/python3.7/site-packages/PIL/Image.py\", line 2652, in open\n",
      "    fp = builtins.open(filename, \"rb\")\n",
      "FileNotFoundError: [Errno 2] No such file or directory: '/home/adelgior/code/upsnet/output/upsnet/cityscapes/upsnet_resnet50_cityscapes_4gpu/val/results/pans_unified/pan_2ch/frankfurt_000000_014480_leftImg8bit.png'\n",
      "  File \"/home/adelgior/virtualenvs/pytorch4_python3/lib/python3.7/site-packages/PIL/Image.py\", line 2652, in open\n",
      "    fp = builtins.open(filename, \"rb\")\n",
      "  File \"/home/adelgior/virtualenvs/pytorch4_python3/lib/python3.7/site-packages/PIL/Image.py\", line 2652, in open\n",
      "    fp = builtins.open(filename, \"rb\")\n",
      "  File \"/home/adelgior/code/fcn-instances-pytorch/instanceseg/ext/panopticapi/utils.py\", line 16, in wrapper\n",
      "    return f(*args, **kwargs)\n",
      "FileNotFoundError: [Errno 2] No such file or directory: '/home/adelgior/code/upsnet/output/upsnet/cityscapes/upsnet_resnet50_cityscapes_4gpu/val/results/pans_unified/pan_2ch/frankfurt_000000_013382_leftImg8bit.png'\n",
      "FileNotFoundError: [Errno 2] No such file or directory: '/home/adelgior/code/upsnet/output/upsnet/cityscapes/upsnet_resnet50_cityscapes_4gpu/val/results/pans_unified/pan_2ch/frankfurt_000000_016286_leftImg8bit.png'\n"
     ]
    },
    {
     "name": "stdout",
     "output_type": "stream",
     "text": [
      "Caught exception in worker thread:\n"
     ]
    },
    {
     "name": "stderr",
     "output_type": "stream",
     "text": [
      "  File \"/usr0/home/adelgior/code/experimental-instanceseg/instanceseg/ext/panopticapi/evaluation.py\", line 98, in pq_compute_single_core\n",
      "    with Image.open(os.path.join(pred_folder, pred_ann['file_name'])) as img:\n",
      "  File \"/home/adelgior/code/fcn-instances-pytorch/instanceseg/ext/panopticapi/utils.py\", line 16, in wrapper\n",
      "    return f(*args, **kwargs)\n",
      "FileNotFoundError: [Errno 2] No such file or directory: '/home/adelgior/code/upsnet/output/upsnet/cityscapes/upsnet_resnet50_cityscapes_4gpu/val/results/pans_unified/pan_2ch/frankfurt_000000_015389_leftImg8bit.png'\n",
      "Traceback (most recent call last):\n"
     ]
    },
    {
     "name": "stdout",
     "output_type": "stream",
     "text": [
      "Caught exception in worker thread:\n"
     ]
    },
    {
     "name": "stderr",
     "output_type": "stream",
     "text": [
      "  File \"/home/adelgior/code/fcn-instances-pytorch/instanceseg/ext/panopticapi/utils.py\", line 16, in wrapper\n",
      "    return f(*args, **kwargs)\n",
      "  File \"/home/adelgior/virtualenvs/pytorch4_python3/lib/python3.7/site-packages/PIL/Image.py\", line 2652, in open\n",
      "    fp = builtins.open(filename, \"rb\")\n",
      "Traceback (most recent call last):\n",
      "  File \"/home/adelgior/code/fcn-instances-pytorch/instanceseg/ext/panopticapi/utils.py\", line 16, in wrapper\n",
      "    return f(*args, **kwargs)\n",
      "Traceback (most recent call last):\n",
      "Traceback (most recent call last):\n",
      "FileNotFoundError: [Errno 2] No such file or directory: '/home/adelgior/code/upsnet/output/upsnet/cityscapes/upsnet_resnet50_cityscapes_4gpu/val/results/pans_unified/pan_2ch/frankfurt_000000_019607_leftImg8bit.png'\n",
      "FileNotFoundError: [Errno 2] No such file or directory: '/home/adelgior/code/upsnet/output/upsnet/cityscapes/upsnet_resnet50_cityscapes_4gpu/val/results/pans_unified/pan_2ch/frankfurt_000000_021667_leftImg8bit.png'\n",
      "FileNotFoundError: [Errno 2] No such file or directory: '/home/adelgior/code/upsnet/output/upsnet/cityscapes/upsnet_resnet50_cityscapes_4gpu/val/results/pans_unified/pan_2ch/frankfurt_000000_017228_leftImg8bit.png'\n",
      "  File \"/home/adelgior/code/fcn-instances-pytorch/instanceseg/ext/panopticapi/utils.py\", line 16, in wrapper\n",
      "    return f(*args, **kwargs)\n",
      "  File \"/home/adelgior/code/fcn-instances-pytorch/instanceseg/ext/panopticapi/utils.py\", line 16, in wrapper\n",
      "    return f(*args, **kwargs)\n",
      "  File \"/usr0/home/adelgior/code/experimental-instanceseg/instanceseg/ext/panopticapi/evaluation.py\", line 98, in pq_compute_single_core\n",
      "    with Image.open(os.path.join(pred_folder, pred_ann['file_name'])) as img:\n",
      "  File \"/home/adelgior/code/fcn-instances-pytorch/instanceseg/ext/panopticapi/utils.py\", line 16, in wrapper\n",
      "    return f(*args, **kwargs)\n",
      "FileNotFoundError: [Errno 2] No such file or directory: '/home/adelgior/code/upsnet/output/upsnet/cityscapes/upsnet_resnet50_cityscapes_4gpu/val/results/pans_unified/pan_2ch/frankfurt_000000_018797_leftImg8bit.png'\n",
      "  File \"/home/adelgior/virtualenvs/pytorch4_python3/lib/python3.7/site-packages/PIL/Image.py\", line 2652, in open\n",
      "    fp = builtins.open(filename, \"rb\")\n",
      "  File \"/usr0/home/adelgior/code/experimental-instanceseg/instanceseg/ext/panopticapi/evaluation.py\", line 98, in pq_compute_single_core\n",
      "    with Image.open(os.path.join(pred_folder, pred_ann['file_name'])) as img:\n"
     ]
    },
    {
     "name": "stdout",
     "output_type": "stream",
     "text": [
      "Caught exception in worker thread:\n",
      "Core: 64, 0 from 1 images processed\n"
     ]
    },
    {
     "name": "stderr",
     "output_type": "stream",
     "text": [
      "  File \"/usr0/home/adelgior/code/experimental-instanceseg/instanceseg/ext/panopticapi/evaluation.py\", line 98, in pq_compute_single_core\n",
      "    with Image.open(os.path.join(pred_folder, pred_ann['file_name'])) as img:\n",
      "  File \"/usr0/home/adelgior/code/experimental-instanceseg/instanceseg/ext/panopticapi/evaluation.py\", line 98, in pq_compute_single_core\n",
      "    with Image.open(os.path.join(pred_folder, pred_ann['file_name'])) as img:\n",
      "Traceback (most recent call last):\n",
      "FileNotFoundError: [Errno 2] No such file or directory: '/home/adelgior/code/upsnet/output/upsnet/cityscapes/upsnet_resnet50_cityscapes_4gpu/val/results/pans_unified/pan_2ch/frankfurt_000001_001464_leftImg8bit.png'\n",
      "  File \"/home/adelgior/code/fcn-instances-pytorch/instanceseg/ext/panopticapi/utils.py\", line 16, in wrapper\n",
      "    return f(*args, **kwargs)\n",
      "  File \"/usr0/home/adelgior/code/experimental-instanceseg/instanceseg/ext/panopticapi/evaluation.py\", line 98, in pq_compute_single_core\n",
      "    with Image.open(os.path.join(pred_folder, pred_ann['file_name'])) as img:\n",
      "  File \"/home/adelgior/virtualenvs/pytorch4_python3/lib/python3.7/site-packages/PIL/Image.py\", line 2652, in open\n",
      "    fp = builtins.open(filename, \"rb\")\n",
      "Traceback (most recent call last):\n",
      "  File \"/home/adelgior/virtualenvs/pytorch4_python3/lib/python3.7/site-packages/PIL/Image.py\", line 2652, in open\n",
      "    fp = builtins.open(filename, \"rb\")\n",
      "  File \"/home/adelgior/code/fcn-instances-pytorch/instanceseg/ext/panopticapi/utils.py\", line 16, in wrapper\n",
      "    return f(*args, **kwargs)\n",
      "  File \"/usr0/home/adelgior/code/experimental-instanceseg/instanceseg/ext/panopticapi/evaluation.py\", line 98, in pq_compute_single_core\n",
      "    with Image.open(os.path.join(pred_folder, pred_ann['file_name'])) as img:\n"
     ]
    },
    {
     "name": "stdout",
     "output_type": "stream",
     "text": [
      "Core: 65, 0 from 1 images processed\n"
     ]
    },
    {
     "name": "stderr",
     "output_type": "stream",
     "text": [
      "  File \"/home/adelgior/code/fcn-instances-pytorch/instanceseg/ext/panopticapi/utils.py\", line 16, in wrapper\n",
      "    return f(*args, **kwargs)\n",
      "FileNotFoundError: [Errno 2] No such file or directory: '/home/adelgior/code/upsnet/output/upsnet/cityscapes/upsnet_resnet50_cityscapes_4gpu/val/results/pans_unified/pan_2ch/frankfurt_000001_000538_leftImg8bit.png'\n",
      "FileNotFoundError: [Errno 2] No such file or directory: '/home/adelgior/code/upsnet/output/upsnet/cityscapes/upsnet_resnet50_cityscapes_4gpu/val/results/pans_unified/pan_2ch/frankfurt_000000_022797_leftImg8bit.png'\n"
     ]
    },
    {
     "name": "stdout",
     "output_type": "stream",
     "text": [
      "Caught exception in worker thread:\n"
     ]
    },
    {
     "name": "stderr",
     "output_type": "stream",
     "text": [
      "  File \"/home/adelgior/virtualenvs/pytorch4_python3/lib/python3.7/site-packages/PIL/Image.py\", line 2652, in open\n",
      "    fp = builtins.open(filename, \"rb\")\n",
      "  File \"/usr0/home/adelgior/code/experimental-instanceseg/instanceseg/ext/panopticapi/evaluation.py\", line 98, in pq_compute_single_core\n",
      "    with Image.open(os.path.join(pred_folder, pred_ann['file_name'])) as img:\n",
      "  File \"/usr0/home/adelgior/code/experimental-instanceseg/instanceseg/ext/panopticapi/evaluation.py\", line 98, in pq_compute_single_core\n",
      "    with Image.open(os.path.join(pred_folder, pred_ann['file_name'])) as img:\n",
      "  File \"/home/adelgior/virtualenvs/pytorch4_python3/lib/python3.7/site-packages/PIL/Image.py\", line 2652, in open\n",
      "    fp = builtins.open(filename, \"rb\")\n",
      "FileNotFoundError: [Errno 2] No such file or directory: '/home/adelgior/code/upsnet/output/upsnet/cityscapes/upsnet_resnet50_cityscapes_4gpu/val/results/pans_unified/pan_2ch/frankfurt_000001_002759_leftImg8bit.png'\n",
      "FileNotFoundError: [Errno 2] No such file or directory: '/home/adelgior/code/upsnet/output/upsnet/cityscapes/upsnet_resnet50_cityscapes_4gpu/val/results/pans_unified/pan_2ch/frankfurt_000000_022254_leftImg8bit.png'\n"
     ]
    },
    {
     "name": "stdout",
     "output_type": "stream",
     "text": [
      "Core: 66, 0 from 1 images processed\n",
      "Caught exception in worker thread:\n",
      "Core: 68, 0 from 1 images processed\n",
      "Core: 69, 0 from 1 images processed\n"
     ]
    },
    {
     "name": "stderr",
     "output_type": "stream",
     "text": [
      "  File \"/usr0/home/adelgior/code/experimental-instanceseg/instanceseg/ext/panopticapi/evaluation.py\", line 98, in pq_compute_single_core\n",
      "    with Image.open(os.path.join(pred_folder, pred_ann['file_name'])) as img:\n",
      "Traceback (most recent call last):\n"
     ]
    },
    {
     "name": "stdout",
     "output_type": "stream",
     "text": [
      "Caught exception in worker thread:\n",
      "Core: 67, 0 from 1 images processed\n",
      "Core: 70, 0 from 1 images processed\n"
     ]
    },
    {
     "name": "stderr",
     "output_type": "stream",
     "text": [
      "  File \"/home/adelgior/virtualenvs/pytorch4_python3/lib/python3.7/site-packages/PIL/Image.py\", line 2652, in open\n",
      "    fp = builtins.open(filename, \"rb\")\n"
     ]
    },
    {
     "name": "stdout",
     "output_type": "stream",
     "text": [
      "Core: 71, 0 from 1 images processed\n"
     ]
    },
    {
     "name": "stderr",
     "output_type": "stream",
     "text": [
      "Traceback (most recent call last):\n"
     ]
    },
    {
     "name": "stdout",
     "output_type": "stream",
     "text": [
      "Core: 72, 0 from 1 images processed\n"
     ]
    },
    {
     "name": "stderr",
     "output_type": "stream",
     "text": [
      "Traceback (most recent call last):\n",
      "  File \"/home/adelgior/virtualenvs/pytorch4_python3/lib/python3.7/site-packages/PIL/Image.py\", line 2652, in open\n",
      "    fp = builtins.open(filename, \"rb\")\n",
      "  File \"/home/adelgior/code/fcn-instances-pytorch/instanceseg/ext/panopticapi/utils.py\", line 16, in wrapper\n",
      "    return f(*args, **kwargs)\n",
      "FileNotFoundError: [Errno 2] No such file or directory: '/home/adelgior/code/upsnet/output/upsnet/cityscapes/upsnet_resnet50_cityscapes_4gpu/val/results/pans_unified/pan_2ch/frankfurt_000000_020880_leftImg8bit.png'\n",
      "FileNotFoundError: [Errno 2] No such file or directory: '/home/adelgior/code/upsnet/output/upsnet/cityscapes/upsnet_resnet50_cityscapes_4gpu/val/results/pans_unified/pan_2ch/frankfurt_000000_020215_leftImg8bit.png'\n",
      "  File \"/usr0/home/adelgior/code/experimental-instanceseg/instanceseg/ext/panopticapi/evaluation.py\", line 98, in pq_compute_single_core\n",
      "    with Image.open(os.path.join(pred_folder, pred_ann['file_name'])) as img:\n"
     ]
    },
    {
     "name": "stdout",
     "output_type": "stream",
     "text": [
      "Core: 73, 0 from 1 images processed\n"
     ]
    },
    {
     "name": "stderr",
     "output_type": "stream",
     "text": [
      "Traceback (most recent call last):\n"
     ]
    },
    {
     "name": "stdout",
     "output_type": "stream",
     "text": [
      "Core: 74, 0 from 1 images processed\n"
     ]
    },
    {
     "name": "stderr",
     "output_type": "stream",
     "text": [
      "  File \"/usr0/home/adelgior/code/experimental-instanceseg/instanceseg/ext/panopticapi/evaluation.py\", line 98, in pq_compute_single_core\n",
      "    with Image.open(os.path.join(pred_folder, pred_ann['file_name'])) as img:\n",
      "FileNotFoundError: [Errno 2] No such file or directory: '/home/adelgior/code/upsnet/output/upsnet/cityscapes/upsnet_resnet50_cityscapes_4gpu/val/results/pans_unified/pan_2ch/frankfurt_000001_003056_leftImg8bit.png'\n",
      "  File \"/home/adelgior/code/fcn-instances-pytorch/instanceseg/ext/panopticapi/utils.py\", line 16, in wrapper\n",
      "    return f(*args, **kwargs)\n"
     ]
    },
    {
     "name": "stdout",
     "output_type": "stream",
     "text": [
      "Core: 76, 0 from 1 images processed\n"
     ]
    },
    {
     "name": "stderr",
     "output_type": "stream",
     "text": [
      "  File \"/usr0/home/adelgior/code/experimental-instanceseg/instanceseg/ext/panopticapi/evaluation.py\", line 98, in pq_compute_single_core\n",
      "    with Image.open(os.path.join(pred_folder, pred_ann['file_name'])) as img:\n",
      "  File \"/home/adelgior/virtualenvs/pytorch4_python3/lib/python3.7/site-packages/PIL/Image.py\", line 2652, in open\n",
      "    fp = builtins.open(filename, \"rb\")\n"
     ]
    },
    {
     "name": "stdout",
     "output_type": "stream",
     "text": [
      "Caught exception in worker thread:\n"
     ]
    },
    {
     "name": "stderr",
     "output_type": "stream",
     "text": [
      "  File \"/home/adelgior/virtualenvs/pytorch4_python3/lib/python3.7/site-packages/PIL/Image.py\", line 2652, in open\n",
      "    fp = builtins.open(filename, \"rb\")\n",
      "  File \"/usr0/home/adelgior/code/experimental-instanceseg/instanceseg/ext/panopticapi/evaluation.py\", line 98, in pq_compute_single_core\n",
      "    with Image.open(os.path.join(pred_folder, pred_ann['file_name'])) as img:\n",
      "  File \"/home/adelgior/virtualenvs/pytorch4_python3/lib/python3.7/site-packages/PIL/Image.py\", line 2652, in open\n",
      "    fp = builtins.open(filename, \"rb\")\n"
     ]
    },
    {
     "name": "stdout",
     "output_type": "stream",
     "text": [
      "Core: 75, 0 from 1 images processed\n"
     ]
    },
    {
     "name": "stderr",
     "output_type": "stream",
     "text": [
      "FileNotFoundError: [Errno 2] No such file or directory: '/home/adelgior/code/upsnet/output/upsnet/cityscapes/upsnet_resnet50_cityscapes_4gpu/val/results/pans_unified/pan_2ch/frankfurt_000001_004327_leftImg8bit.png'\n",
      "  File \"/home/adelgior/virtualenvs/pytorch4_python3/lib/python3.7/site-packages/PIL/Image.py\", line 2652, in open\n",
      "    fp = builtins.open(filename, \"rb\")\n",
      "Traceback (most recent call last):\n",
      "  File \"/home/adelgior/virtualenvs/pytorch4_python3/lib/python3.7/site-packages/PIL/Image.py\", line 2652, in open\n",
      "    fp = builtins.open(filename, \"rb\")\n",
      "  File \"/home/adelgior/virtualenvs/pytorch4_python3/lib/python3.7/site-packages/PIL/Image.py\", line 2652, in open\n",
      "    fp = builtins.open(filename, \"rb\")\n"
     ]
    },
    {
     "name": "stdout",
     "output_type": "stream",
     "text": [
      "Core: 78, 0 from 1 images processed\n",
      "Core: 79, 0 from 1 images processed\n",
      "Caught exception in worker thread:\n",
      "Core: 80, 0 from 1 images processed\n"
     ]
    },
    {
     "name": "stderr",
     "output_type": "stream",
     "text": [
      "FileNotFoundError: [Errno 2] No such file or directory: '/home/adelgior/code/upsnet/output/upsnet/cityscapes/upsnet_resnet50_cityscapes_4gpu/val/results/pans_unified/pan_2ch/frankfurt_000001_002512_leftImg8bit.png'\n"
     ]
    },
    {
     "name": "stdout",
     "output_type": "stream",
     "text": [
      "Core: 77, 0 from 1 images processed\n"
     ]
    },
    {
     "name": "stderr",
     "output_type": "stream",
     "text": [
      "FileNotFoundError: [Errno 2] No such file or directory: '/home/adelgior/code/upsnet/output/upsnet/cityscapes/upsnet_resnet50_cityscapes_4gpu/val/results/pans_unified/pan_2ch/frankfurt_000000_016005_leftImg8bit.png'\n"
     ]
    },
    {
     "name": "stdout",
     "output_type": "stream",
     "text": [
      "Core: 81, 0 from 1 images processed\n"
     ]
    },
    {
     "name": "stderr",
     "output_type": "stream",
     "text": [
      "  File \"/home/adelgior/code/fcn-instances-pytorch/instanceseg/ext/panopticapi/utils.py\", line 16, in wrapper\n",
      "    return f(*args, **kwargs)\n",
      "FileNotFoundError: [Errno 2] No such file or directory: '/home/adelgior/code/upsnet/output/upsnet/cityscapes/upsnet_resnet50_cityscapes_4gpu/val/results/pans_unified/pan_2ch/frankfurt_000001_004736_leftImg8bit.png'\n",
      "  File \"/home/adelgior/code/fcn-instances-pytorch/instanceseg/ext/panopticapi/utils.py\", line 16, in wrapper\n",
      "    return f(*args, **kwargs)\n",
      "  File \"/usr0/home/adelgior/code/experimental-instanceseg/instanceseg/ext/panopticapi/evaluation.py\", line 98, in pq_compute_single_core\n",
      "    with Image.open(os.path.join(pred_folder, pred_ann['file_name'])) as img:\n",
      "FileNotFoundError: [Errno 2] No such file or directory: '/home/adelgior/code/upsnet/output/upsnet/cityscapes/upsnet_resnet50_cityscapes_4gpu/val/results/pans_unified/pan_2ch/frankfurt_000000_021879_leftImg8bit.png'\n",
      "  File \"/home/adelgior/code/fcn-instances-pytorch/instanceseg/ext/panopticapi/utils.py\", line 16, in wrapper\n",
      "    return f(*args, **kwargs)\n",
      "  File \"/usr0/home/adelgior/code/experimental-instanceseg/instanceseg/ext/panopticapi/evaluation.py\", line 98, in pq_compute_single_core\n",
      "    with Image.open(os.path.join(pred_folder, pred_ann['file_name'])) as img:\n",
      "  File \"/home/adelgior/virtualenvs/pytorch4_python3/lib/python3.7/site-packages/PIL/Image.py\", line 2652, in open\n",
      "    fp = builtins.open(filename, \"rb\")\n",
      "Traceback (most recent call last):\n"
     ]
    },
    {
     "name": "stdout",
     "output_type": "stream",
     "text": [
      "Core: 82, 0 from 1 images processed\n"
     ]
    },
    {
     "name": "stderr",
     "output_type": "stream",
     "text": [
      "FileNotFoundError: [Errno 2] No such file or directory: '/home/adelgior/code/upsnet/output/upsnet/cityscapes/upsnet_resnet50_cityscapes_4gpu/val/results/pans_unified/pan_2ch/frankfurt_000001_004859_leftImg8bit.png'\n",
      "  File \"/usr0/home/adelgior/code/experimental-instanceseg/instanceseg/ext/panopticapi/evaluation.py\", line 98, in pq_compute_single_core\n",
      "    with Image.open(os.path.join(pred_folder, pred_ann['file_name'])) as img:\n"
     ]
    },
    {
     "name": "stdout",
     "output_type": "stream",
     "text": [
      "Core: 83, 0 from 1 images processed\n",
      "Core: 84, 0 from 1 images processed\n"
     ]
    },
    {
     "name": "stderr",
     "output_type": "stream",
     "text": [
      "FileNotFoundError: [Errno 2] No such file or directory: '/home/adelgior/code/upsnet/output/upsnet/cityscapes/upsnet_resnet50_cityscapes_4gpu/val/results/pans_unified/pan_2ch/frankfurt_000001_002646_leftImg8bit.png'\n",
      "  File \"/home/adelgior/virtualenvs/pytorch4_python3/lib/python3.7/site-packages/PIL/Image.py\", line 2652, in open\n",
      "    fp = builtins.open(filename, \"rb\")\n",
      "  File \"/home/adelgior/code/fcn-instances-pytorch/instanceseg/ext/panopticapi/utils.py\", line 16, in wrapper\n",
      "    return f(*args, **kwargs)\n",
      "FileNotFoundError: [Errno 2] No such file or directory: '/home/adelgior/code/upsnet/output/upsnet/cityscapes/upsnet_resnet50_cityscapes_4gpu/val/results/pans_unified/pan_2ch/frankfurt_000000_015676_leftImg8bit.png'\n"
     ]
    },
    {
     "name": "stdout",
     "output_type": "stream",
     "text": [
      "Core: 86, 0 from 1 images processed\n"
     ]
    },
    {
     "name": "stderr",
     "output_type": "stream",
     "text": [
      "  File \"/home/adelgior/virtualenvs/pytorch4_python3/lib/python3.7/site-packages/PIL/Image.py\", line 2652, in open\n",
      "    fp = builtins.open(filename, \"rb\")\n"
     ]
    },
    {
     "name": "stdout",
     "output_type": "stream",
     "text": [
      "Core: 85, 0 from 1 images processed\n",
      "Core: 87, 0 from 1 images processed\n",
      "Core: 88, 0 from 1 images processed\n"
     ]
    },
    {
     "name": "stderr",
     "output_type": "stream",
     "text": [
      "  File \"/usr0/home/adelgior/code/experimental-instanceseg/instanceseg/ext/panopticapi/evaluation.py\", line 98, in pq_compute_single_core\n",
      "    with Image.open(os.path.join(pred_folder, pred_ann['file_name'])) as img:\n"
     ]
    },
    {
     "name": "stdout",
     "output_type": "stream",
     "text": [
      "Core: 89, 0 from 1 images processed\n"
     ]
    },
    {
     "name": "stderr",
     "output_type": "stream",
     "text": [
      "FileNotFoundError: [Errno 2] No such file or directory: '/home/adelgior/code/upsnet/output/upsnet/cityscapes/upsnet_resnet50_cityscapes_4gpu/val/results/pans_unified/pan_2ch/frankfurt_000001_003588_leftImg8bit.png'\n"
     ]
    },
    {
     "name": "stdout",
     "output_type": "stream",
     "text": [
      "Caught exception in worker thread:\n"
     ]
    },
    {
     "name": "stderr",
     "output_type": "stream",
     "text": [
      "  File \"/home/adelgior/virtualenvs/pytorch4_python3/lib/python3.7/site-packages/PIL/Image.py\", line 2652, in open\n",
      "    fp = builtins.open(filename, \"rb\")\n",
      "Traceback (most recent call last):\n"
     ]
    },
    {
     "name": "stdout",
     "output_type": "stream",
     "text": [
      "Caught exception in worker thread:\n",
      "Core: 90, 0 from 1 images processed\n"
     ]
    },
    {
     "name": "stderr",
     "output_type": "stream",
     "text": [
      "Traceback (most recent call last):\n",
      "FileNotFoundError: [Errno 2] No such file or directory: '/home/adelgior/code/upsnet/output/upsnet/cityscapes/upsnet_resnet50_cityscapes_4gpu/val/results/pans_unified/pan_2ch/frankfurt_000001_005184_leftImg8bit.png'\n",
      "  File \"/home/adelgior/code/fcn-instances-pytorch/instanceseg/ext/panopticapi/utils.py\", line 16, in wrapper\n",
      "    return f(*args, **kwargs)\n",
      "  File \"/home/adelgior/code/fcn-instances-pytorch/instanceseg/ext/panopticapi/utils.py\", line 16, in wrapper\n",
      "    return f(*args, **kwargs)\n",
      "  File \"/usr0/home/adelgior/code/experimental-instanceseg/instanceseg/ext/panopticapi/evaluation.py\", line 98, in pq_compute_single_core\n",
      "    with Image.open(os.path.join(pred_folder, pred_ann['file_name'])) as img:\n",
      "  File \"/usr0/home/adelgior/code/experimental-instanceseg/instanceseg/ext/panopticapi/evaluation.py\", line 98, in pq_compute_single_core\n",
      "    with Image.open(os.path.join(pred_folder, pred_ann['file_name'])) as img:\n",
      "  File \"/home/adelgior/virtualenvs/pytorch4_python3/lib/python3.7/site-packages/PIL/Image.py\", line 2652, in open\n",
      "    fp = builtins.open(filename, \"rb\")\n"
     ]
    },
    {
     "name": "stdout",
     "output_type": "stream",
     "text": [
      "Core: 91, 0 from 1 images processed\n"
     ]
    },
    {
     "name": "stderr",
     "output_type": "stream",
     "text": [
      "  File \"/home/adelgior/virtualenvs/pytorch4_python3/lib/python3.7/site-packages/PIL/Image.py\", line 2652, in open\n",
      "    fp = builtins.open(filename, \"rb\")\n",
      "FileNotFoundError: [Errno 2] No such file or directory: '/home/adelgior/code/upsnet/output/upsnet/cityscapes/upsnet_resnet50_cityscapes_4gpu/val/results/pans_unified/pan_2ch/frankfurt_000001_005703_leftImg8bit.png'\n"
     ]
    },
    {
     "name": "stdout",
     "output_type": "stream",
     "text": [
      "Caught exception in worker thread:\n",
      "Core: 92, 0 from 1 images processed\n"
     ]
    },
    {
     "name": "stderr",
     "output_type": "stream",
     "text": [
      "FileNotFoundError: [Errno 2] No such file or directory: '/home/adelgior/code/upsnet/output/upsnet/cityscapes/upsnet_resnet50_cityscapes_4gpu/val/results/pans_unified/pan_2ch/frankfurt_000001_005410_leftImg8bit.png'\n",
      "Traceback (most recent call last):\n",
      "  File \"/home/adelgior/code/fcn-instances-pytorch/instanceseg/ext/panopticapi/utils.py\", line 16, in wrapper\n",
      "    return f(*args, **kwargs)\n"
     ]
    },
    {
     "name": "stdout",
     "output_type": "stream",
     "text": [
      "Caught exception in worker thread:\n",
      "Caught exception in worker thread:\n"
     ]
    },
    {
     "name": "stderr",
     "output_type": "stream",
     "text": [
      "  File \"/usr0/home/adelgior/code/experimental-instanceseg/instanceseg/ext/panopticapi/evaluation.py\", line 98, in pq_compute_single_core\n",
      "    with Image.open(os.path.join(pred_folder, pred_ann['file_name'])) as img:\n",
      "Traceback (most recent call last):\n"
     ]
    },
    {
     "name": "stdout",
     "output_type": "stream",
     "text": [
      "Core: 93, 0 from 1 images processed\n"
     ]
    },
    {
     "name": "stderr",
     "output_type": "stream",
     "text": [
      "Traceback (most recent call last):\n",
      "  File \"/home/adelgior/code/fcn-instances-pytorch/instanceseg/ext/panopticapi/utils.py\", line 16, in wrapper\n",
      "    return f(*args, **kwargs)\n"
     ]
    },
    {
     "name": "stdout",
     "output_type": "stream",
     "text": [
      "Caught exception in worker thread:\n"
     ]
    },
    {
     "name": "stderr",
     "output_type": "stream",
     "text": [
      "  File \"/home/adelgior/code/fcn-instances-pytorch/instanceseg/ext/panopticapi/utils.py\", line 16, in wrapper\n",
      "    return f(*args, **kwargs)\n"
     ]
    },
    {
     "name": "stdout",
     "output_type": "stream",
     "text": [
      "Caught exception in worker thread:\n"
     ]
    },
    {
     "name": "stderr",
     "output_type": "stream",
     "text": [
      "Traceback (most recent call last):\n",
      "  File \"/usr0/home/adelgior/code/experimental-instanceseg/instanceseg/ext/panopticapi/evaluation.py\", line 98, in pq_compute_single_core\n",
      "    with Image.open(os.path.join(pred_folder, pred_ann['file_name'])) as img:\n",
      "  File \"/usr0/home/adelgior/code/experimental-instanceseg/instanceseg/ext/panopticapi/evaluation.py\", line 98, in pq_compute_single_core\n",
      "    with Image.open(os.path.join(pred_folder, pred_ann['file_name'])) as img:\n",
      "Traceback (most recent call last):\n",
      "  File \"/home/adelgior/code/fcn-instances-pytorch/instanceseg/ext/panopticapi/utils.py\", line 16, in wrapper\n",
      "    return f(*args, **kwargs)\n",
      "  File \"/home/adelgior/code/fcn-instances-pytorch/instanceseg/ext/panopticapi/utils.py\", line 16, in wrapper\n",
      "    return f(*args, **kwargs)\n",
      "  File \"/home/adelgior/virtualenvs/pytorch4_python3/lib/python3.7/site-packages/PIL/Image.py\", line 2652, in open\n",
      "    fp = builtins.open(filename, \"rb\")\n",
      "  File \"/home/adelgior/virtualenvs/pytorch4_python3/lib/python3.7/site-packages/PIL/Image.py\", line 2652, in open\n",
      "    fp = builtins.open(filename, \"rb\")\n",
      "  File \"/usr0/home/adelgior/code/experimental-instanceseg/instanceseg/ext/panopticapi/evaluation.py\", line 98, in pq_compute_single_core\n",
      "    with Image.open(os.path.join(pred_folder, pred_ann['file_name'])) as img:\n",
      "  File \"/home/adelgior/virtualenvs/pytorch4_python3/lib/python3.7/site-packages/PIL/Image.py\", line 2652, in open\n",
      "    fp = builtins.open(filename, \"rb\")\n"
     ]
    },
    {
     "name": "stdout",
     "output_type": "stream",
     "text": [
      "Caught exception in worker thread:\n"
     ]
    },
    {
     "name": "stderr",
     "output_type": "stream",
     "text": [
      "FileNotFoundError: [Errno 2] No such file or directory: '/home/adelgior/code/upsnet/output/upsnet/cityscapes/upsnet_resnet50_cityscapes_4gpu/val/results/pans_unified/pan_2ch/frankfurt_000001_007622_leftImg8bit.png'\n",
      "  File \"/usr0/home/adelgior/code/experimental-instanceseg/instanceseg/ext/panopticapi/evaluation.py\", line 98, in pq_compute_single_core\n",
      "    with Image.open(os.path.join(pred_folder, pred_ann['file_name'])) as img:\n",
      "FileNotFoundError: [Errno 2] No such file or directory: '/home/adelgior/code/upsnet/output/upsnet/cityscapes/upsnet_resnet50_cityscapes_4gpu/val/results/pans_unified/pan_2ch/frankfurt_000001_005898_leftImg8bit.png'\n"
     ]
    },
    {
     "name": "stdout",
     "output_type": "stream",
     "text": [
      "Caught exception in worker thread:\n"
     ]
    },
    {
     "name": "stderr",
     "output_type": "stream",
     "text": [
      "Traceback (most recent call last):\n",
      "Traceback (most recent call last):\n"
     ]
    },
    {
     "name": "stdout",
     "output_type": "stream",
     "text": [
      "Caught exception in worker thread:\n"
     ]
    },
    {
     "name": "stderr",
     "output_type": "stream",
     "text": [
      "  File \"/home/adelgior/virtualenvs/pytorch4_python3/lib/python3.7/site-packages/PIL/Image.py\", line 2652, in open\n",
      "    fp = builtins.open(filename, \"rb\")\n"
     ]
    },
    {
     "name": "stdout",
     "output_type": "stream",
     "text": [
      "Caught exception in worker thread:\n"
     ]
    },
    {
     "name": "stderr",
     "output_type": "stream",
     "text": [
      "FileNotFoundError: [Errno 2] No such file or directory: '/home/adelgior/code/upsnet/output/upsnet/cityscapes/upsnet_resnet50_cityscapes_4gpu/val/results/pans_unified/pan_2ch/frankfurt_000001_007973_leftImg8bit.png'\n"
     ]
    },
    {
     "name": "stdout",
     "output_type": "stream",
     "text": [
      "Caught exception in worker thread:\n",
      "Caught exception in worker thread:\n"
     ]
    },
    {
     "name": "stderr",
     "output_type": "stream",
     "text": [
      "Traceback (most recent call last):\n",
      "Traceback (most recent call last):\n",
      "  File \"/home/adelgior/code/fcn-instances-pytorch/instanceseg/ext/panopticapi/utils.py\", line 16, in wrapper\n",
      "    return f(*args, **kwargs)\n",
      "  File \"/home/adelgior/virtualenvs/pytorch4_python3/lib/python3.7/site-packages/PIL/Image.py\", line 2652, in open\n",
      "    fp = builtins.open(filename, \"rb\")\n",
      "Traceback (most recent call last):\n"
     ]
    },
    {
     "name": "stdout",
     "output_type": "stream",
     "text": [
      "Caught exception in worker thread:\n",
      "Caught exception in worker thread:\n"
     ]
    },
    {
     "name": "stderr",
     "output_type": "stream",
     "text": [
      "  File \"/home/adelgior/code/fcn-instances-pytorch/instanceseg/ext/panopticapi/utils.py\", line 16, in wrapper\n",
      "    return f(*args, **kwargs)\n"
     ]
    },
    {
     "name": "stdout",
     "output_type": "stream",
     "text": [
      "Caught exception in worker thread:\n"
     ]
    },
    {
     "name": "stderr",
     "output_type": "stream",
     "text": [
      "  File \"/usr0/home/adelgior/code/experimental-instanceseg/instanceseg/ext/panopticapi/evaluation.py\", line 98, in pq_compute_single_core\n",
      "    with Image.open(os.path.join(pred_folder, pred_ann['file_name'])) as img:\n",
      "  File \"/home/adelgior/code/fcn-instances-pytorch/instanceseg/ext/panopticapi/utils.py\", line 16, in wrapper\n",
      "    return f(*args, **kwargs)\n",
      "FileNotFoundError: [Errno 2] No such file or directory: '/home/adelgior/code/upsnet/output/upsnet/cityscapes/upsnet_resnet50_cityscapes_4gpu/val/results/pans_unified/pan_2ch/frankfurt_000001_009058_leftImg8bit.png'\n"
     ]
    },
    {
     "name": "stdout",
     "output_type": "stream",
     "text": [
      "Caught exception in worker thread:\n"
     ]
    },
    {
     "name": "stderr",
     "output_type": "stream",
     "text": [
      "Traceback (most recent call last):\n",
      "Traceback (most recent call last):\n",
      "  File \"/usr0/home/adelgior/code/experimental-instanceseg/instanceseg/ext/panopticapi/evaluation.py\", line 98, in pq_compute_single_core\n",
      "    with Image.open(os.path.join(pred_folder, pred_ann['file_name'])) as img:\n",
      "  File \"/usr0/home/adelgior/code/experimental-instanceseg/instanceseg/ext/panopticapi/evaluation.py\", line 98, in pq_compute_single_core\n",
      "    with Image.open(os.path.join(pred_folder, pred_ann['file_name'])) as img:\n",
      "Traceback (most recent call last):\n",
      "  File \"/home/adelgior/code/fcn-instances-pytorch/instanceseg/ext/panopticapi/utils.py\", line 16, in wrapper\n",
      "    return f(*args, **kwargs)\n",
      "Traceback (most recent call last):\n",
      "FileNotFoundError: [Errno 2] No such file or directory: '/home/adelgior/code/upsnet/output/upsnet/cityscapes/upsnet_resnet50_cityscapes_4gpu/val/results/pans_unified/pan_2ch/frankfurt_000001_010156_leftImg8bit.png'\n",
      "  File \"/home/adelgior/virtualenvs/pytorch4_python3/lib/python3.7/site-packages/PIL/Image.py\", line 2652, in open\n",
      "    fp = builtins.open(filename, \"rb\")\n",
      "  File \"/home/adelgior/code/fcn-instances-pytorch/instanceseg/ext/panopticapi/utils.py\", line 16, in wrapper\n",
      "    return f(*args, **kwargs)\n",
      "  File \"/usr0/home/adelgior/code/experimental-instanceseg/instanceseg/ext/panopticapi/evaluation.py\", line 98, in pq_compute_single_core\n",
      "    with Image.open(os.path.join(pred_folder, pred_ann['file_name'])) as img:\n",
      "  File \"/home/adelgior/code/fcn-instances-pytorch/instanceseg/ext/panopticapi/utils.py\", line 16, in wrapper\n",
      "    return f(*args, **kwargs)\n"
     ]
    },
    {
     "name": "stdout",
     "output_type": "stream",
     "text": [
      "Caught exception in worker thread:\n"
     ]
    },
    {
     "name": "stderr",
     "output_type": "stream",
     "text": [
      "FileNotFoundError: [Errno 2] No such file or directory: '/home/adelgior/code/upsnet/output/upsnet/cityscapes/upsnet_resnet50_cityscapes_4gpu/val/results/pans_unified/pan_2ch/frankfurt_000001_008688_leftImg8bit.png'\n",
      "Traceback (most recent call last):\n",
      "  File \"/home/adelgior/virtualenvs/pytorch4_python3/lib/python3.7/site-packages/PIL/Image.py\", line 2652, in open\n",
      "    fp = builtins.open(filename, \"rb\")\n"
     ]
    },
    {
     "name": "stdout",
     "output_type": "stream",
     "text": [
      "Caught exception in worker thread:\n"
     ]
    },
    {
     "name": "stderr",
     "output_type": "stream",
     "text": [
      "Traceback (most recent call last):\n",
      "  File \"/home/adelgior/virtualenvs/pytorch4_python3/lib/python3.7/site-packages/PIL/Image.py\", line 2652, in open\n",
      "    fp = builtins.open(filename, \"rb\")\n"
     ]
    },
    {
     "name": "stdout",
     "output_type": "stream",
     "text": [
      "Core: 95, 0 from 1 images processed\n",
      "Caught exception in worker thread:\n"
     ]
    },
    {
     "name": "stderr",
     "output_type": "stream",
     "text": [
      "  File \"/home/adelgior/code/fcn-instances-pytorch/instanceseg/ext/panopticapi/utils.py\", line 16, in wrapper\n",
      "    return f(*args, **kwargs)\n",
      "Traceback (most recent call last):\n",
      "FileNotFoundError: [Errno 2] No such file or directory: '/home/adelgior/code/upsnet/output/upsnet/cityscapes/upsnet_resnet50_cityscapes_4gpu/val/results/pans_unified/pan_2ch/frankfurt_000001_008200_leftImg8bit.png'\n",
      "  File \"/usr0/home/adelgior/code/experimental-instanceseg/instanceseg/ext/panopticapi/evaluation.py\", line 98, in pq_compute_single_core\n",
      "    with Image.open(os.path.join(pred_folder, pred_ann['file_name'])) as img:\n",
      "  File \"/home/adelgior/code/fcn-instances-pytorch/instanceseg/ext/panopticapi/utils.py\", line 16, in wrapper\n",
      "    return f(*args, **kwargs)\n"
     ]
    },
    {
     "name": "stdout",
     "output_type": "stream",
     "text": [
      "Caught exception in worker thread:\n"
     ]
    },
    {
     "name": "stderr",
     "output_type": "stream",
     "text": [
      "  File \"/home/adelgior/code/fcn-instances-pytorch/instanceseg/ext/panopticapi/utils.py\", line 16, in wrapper\n",
      "    return f(*args, **kwargs)\n",
      "FileNotFoundError: [Errno 2] No such file or directory: '/home/adelgior/code/upsnet/output/upsnet/cityscapes/upsnet_resnet50_cityscapes_4gpu/val/results/pans_unified/pan_2ch/frankfurt_000001_007285_leftImg8bit.png'\n",
      "Traceback (most recent call last):\n",
      "  File \"/usr0/home/adelgior/code/experimental-instanceseg/instanceseg/ext/panopticapi/evaluation.py\", line 98, in pq_compute_single_core\n",
      "    with Image.open(os.path.join(pred_folder, pred_ann['file_name'])) as img:\n",
      "Traceback (most recent call last):\n"
     ]
    },
    {
     "name": "stdout",
     "output_type": "stream",
     "text": [
      "Core: 98, 0 from 1 images processed\n"
     ]
    },
    {
     "name": "stderr",
     "output_type": "stream",
     "text": [
      "  File \"/home/adelgior/code/fcn-instances-pytorch/instanceseg/ext/panopticapi/utils.py\", line 16, in wrapper\n",
      "    return f(*args, **kwargs)\n",
      "  File \"/home/adelgior/virtualenvs/pytorch4_python3/lib/python3.7/site-packages/PIL/Image.py\", line 2652, in open\n",
      "    fp = builtins.open(filename, \"rb\")\n",
      "  File \"/home/adelgior/code/fcn-instances-pytorch/instanceseg/ext/panopticapi/utils.py\", line 16, in wrapper\n",
      "    return f(*args, **kwargs)\n",
      "  File \"/home/adelgior/virtualenvs/pytorch4_python3/lib/python3.7/site-packages/PIL/Image.py\", line 2652, in open\n",
      "    fp = builtins.open(filename, \"rb\")\n",
      "  File \"/home/adelgior/code/fcn-instances-pytorch/instanceseg/ext/panopticapi/utils.py\", line 16, in wrapper\n",
      "    return f(*args, **kwargs)\n",
      "  File \"/usr0/home/adelgior/code/experimental-instanceseg/instanceseg/ext/panopticapi/evaluation.py\", line 98, in pq_compute_single_core\n",
      "    with Image.open(os.path.join(pred_folder, pred_ann['file_name'])) as img:\n",
      "  File \"/usr0/home/adelgior/code/experimental-instanceseg/instanceseg/ext/panopticapi/evaluation.py\", line 98, in pq_compute_single_core\n",
      "    with Image.open(os.path.join(pred_folder, pred_ann['file_name'])) as img:\n",
      "FileNotFoundError: [Errno 2] No such file or directory: '/home/adelgior/code/upsnet/output/upsnet/cityscapes/upsnet_resnet50_cityscapes_4gpu/val/results/pans_unified/pan_2ch/frankfurt_000001_009504_leftImg8bit.png'\n",
      "FileNotFoundError: [Errno 2] No such file or directory: '/home/adelgior/code/upsnet/output/upsnet/cityscapes/upsnet_resnet50_cityscapes_4gpu/val/results/pans_unified/pan_2ch/frankfurt_000001_011162_leftImg8bit.png'\n"
     ]
    },
    {
     "name": "stdout",
     "output_type": "stream",
     "text": [
      "Caught exception in worker thread:\n",
      "Core: 100, 0 from 1 images processed\n",
      "Core: 99, 0 from 1 images processed\n"
     ]
    },
    {
     "name": "stderr",
     "output_type": "stream",
     "text": [
      "Traceback (most recent call last):\n"
     ]
    },
    {
     "name": "stdout",
     "output_type": "stream",
     "text": [
      "Core: 97, 0 from 1 images processed\n"
     ]
    },
    {
     "name": "stderr",
     "output_type": "stream",
     "text": [
      "  File \"/home/adelgior/code/fcn-instances-pytorch/instanceseg/ext/panopticapi/utils.py\", line 16, in wrapper\n",
      "    return f(*args, **kwargs)\n"
     ]
    },
    {
     "name": "stdout",
     "output_type": "stream",
     "text": [
      "Core: 96, 0 from 1 images processed\n"
     ]
    },
    {
     "name": "stderr",
     "output_type": "stream",
     "text": [
      "  File \"/usr0/home/adelgior/code/experimental-instanceseg/instanceseg/ext/panopticapi/evaluation.py\", line 98, in pq_compute_single_core\n",
      "    with Image.open(os.path.join(pred_folder, pred_ann['file_name'])) as img:\n",
      "  File \"/usr0/home/adelgior/code/experimental-instanceseg/instanceseg/ext/panopticapi/evaluation.py\", line 98, in pq_compute_single_core\n",
      "    with Image.open(os.path.join(pred_folder, pred_ann['file_name'])) as img:\n",
      "  File \"/home/adelgior/virtualenvs/pytorch4_python3/lib/python3.7/site-packages/PIL/Image.py\", line 2652, in open\n",
      "    fp = builtins.open(filename, \"rb\")\n"
     ]
    },
    {
     "name": "stdout",
     "output_type": "stream",
     "text": [
      "Core: 94, 0 from 1 images processed\n"
     ]
    },
    {
     "name": "stderr",
     "output_type": "stream",
     "text": [
      "  File \"/usr0/home/adelgior/code/experimental-instanceseg/instanceseg/ext/panopticapi/evaluation.py\", line 98, in pq_compute_single_core\n",
      "    with Image.open(os.path.join(pred_folder, pred_ann['file_name'])) as img:\n"
     ]
    },
    {
     "name": "stdout",
     "output_type": "stream",
     "text": [
      "Caught exception in worker thread:\n"
     ]
    },
    {
     "name": "stderr",
     "output_type": "stream",
     "text": [
      "  File \"/home/adelgior/virtualenvs/pytorch4_python3/lib/python3.7/site-packages/PIL/Image.py\", line 2652, in open\n",
      "    fp = builtins.open(filename, \"rb\")\n",
      "  File \"/usr0/home/adelgior/code/experimental-instanceseg/instanceseg/ext/panopticapi/evaluation.py\", line 98, in pq_compute_single_core\n",
      "    with Image.open(os.path.join(pred_folder, pred_ann['file_name'])) as img:\n",
      "  File \"/usr0/home/adelgior/code/experimental-instanceseg/instanceseg/ext/panopticapi/evaluation.py\", line 98, in pq_compute_single_core\n",
      "    with Image.open(os.path.join(pred_folder, pred_ann['file_name'])) as img:\n",
      "  File \"/home/adelgior/virtualenvs/pytorch4_python3/lib/python3.7/site-packages/PIL/Image.py\", line 2652, in open\n",
      "    fp = builtins.open(filename, \"rb\")\n",
      "FileNotFoundError: [Errno 2] No such file or directory: '/home/adelgior/code/upsnet/output/upsnet/cityscapes/upsnet_resnet50_cityscapes_4gpu/val/results/pans_unified/pan_2ch/frankfurt_000001_012870_leftImg8bit.png'\n",
      "  File \"/home/adelgior/virtualenvs/pytorch4_python3/lib/python3.7/site-packages/PIL/Image.py\", line 2652, in open\n",
      "    fp = builtins.open(filename, \"rb\")\n",
      "Traceback (most recent call last):\n",
      "  File \"/home/adelgior/virtualenvs/pytorch4_python3/lib/python3.7/site-packages/PIL/Image.py\", line 2652, in open\n",
      "    fp = builtins.open(filename, \"rb\")\n"
     ]
    },
    {
     "name": "stdout",
     "output_type": "stream",
     "text": [
      "Core: 101, 0 from 1 images processed\n"
     ]
    },
    {
     "name": "stderr",
     "output_type": "stream",
     "text": [
      "  File \"/home/adelgior/virtualenvs/pytorch4_python3/lib/python3.7/site-packages/PIL/Image.py\", line 2652, in open\n",
      "    fp = builtins.open(filename, \"rb\")\n"
     ]
    },
    {
     "name": "stdout",
     "output_type": "stream",
     "text": [
      "Caught exception in worker thread:\n",
      "Core: 103, 0 from 1 images processed\n"
     ]
    },
    {
     "name": "stderr",
     "output_type": "stream",
     "text": [
      "  File \"/home/adelgior/virtualenvs/pytorch4_python3/lib/python3.7/site-packages/PIL/Image.py\", line 2652, in open\n",
      "    fp = builtins.open(filename, \"rb\")\n",
      "  File \"/home/adelgior/virtualenvs/pytorch4_python3/lib/python3.7/site-packages/PIL/Image.py\", line 2652, in open\n",
      "    fp = builtins.open(filename, \"rb\")\n"
     ]
    },
    {
     "name": "stdout",
     "output_type": "stream",
     "text": [
      "Core: 102, 0 from 1 images processed\n"
     ]
    },
    {
     "name": "stderr",
     "output_type": "stream",
     "text": [
      "  File \"/home/adelgior/code/fcn-instances-pytorch/instanceseg/ext/panopticapi/utils.py\", line 16, in wrapper\n",
      "    return f(*args, **kwargs)\n"
     ]
    },
    {
     "name": "stdout",
     "output_type": "stream",
     "text": [
      "Caught exception in worker thread:\n"
     ]
    },
    {
     "name": "stderr",
     "output_type": "stream",
     "text": [
      "Traceback (most recent call last):\n",
      "FileNotFoundError: [Errno 2] No such file or directory: '/home/adelgior/code/upsnet/output/upsnet/cityscapes/upsnet_resnet50_cityscapes_4gpu/val/results/pans_unified/pan_2ch/frankfurt_000001_012038_leftImg8bit.png'\n",
      "FileNotFoundError: [Errno 2] No such file or directory: '/home/adelgior/code/upsnet/output/upsnet/cityscapes/upsnet_resnet50_cityscapes_4gpu/val/results/pans_unified/pan_2ch/frankfurt_000001_010444_leftImg8bit.png'\n",
      "  File \"/home/adelgior/code/fcn-instances-pytorch/instanceseg/ext/panopticapi/utils.py\", line 16, in wrapper\n",
      "    return f(*args, **kwargs)\n",
      "FileNotFoundError: [Errno 2] No such file or directory: '/home/adelgior/code/upsnet/output/upsnet/cityscapes/upsnet_resnet50_cityscapes_4gpu/val/results/pans_unified/pan_2ch/frankfurt_000001_010600_leftImg8bit.png'\n"
     ]
    },
    {
     "name": "stdout",
     "output_type": "stream",
     "text": [
      "Caught exception in worker thread:\n",
      "Caught exception in worker thread:\n"
     ]
    },
    {
     "name": "stderr",
     "output_type": "stream",
     "text": [
      "FileNotFoundError: [Errno 2] No such file or directory: '/home/adelgior/code/upsnet/output/upsnet/cityscapes/upsnet_resnet50_cityscapes_4gpu/val/results/pans_unified/pan_2ch/frankfurt_000001_011715_leftImg8bit.png'\n",
      "  File \"/home/adelgior/code/fcn-instances-pytorch/instanceseg/ext/panopticapi/utils.py\", line 16, in wrapper\n",
      "    return f(*args, **kwargs)\n",
      "FileNotFoundError: [Errno 2] No such file or directory: '/home/adelgior/code/upsnet/output/upsnet/cityscapes/upsnet_resnet50_cityscapes_4gpu/val/results/pans_unified/pan_2ch/frankfurt_000001_009854_leftImg8bit.png'\n",
      "Traceback (most recent call last):\n",
      "  File \"/home/adelgior/code/fcn-instances-pytorch/instanceseg/ext/panopticapi/utils.py\", line 16, in wrapper\n",
      "    return f(*args, **kwargs)\n",
      "  File \"/usr0/home/adelgior/code/experimental-instanceseg/instanceseg/ext/panopticapi/evaluation.py\", line 98, in pq_compute_single_core\n",
      "    with Image.open(os.path.join(pred_folder, pred_ann['file_name'])) as img:\n",
      "Traceback (most recent call last):\n",
      "  File \"/usr0/home/adelgior/code/experimental-instanceseg/instanceseg/ext/panopticapi/evaluation.py\", line 98, in pq_compute_single_core\n",
      "    with Image.open(os.path.join(pred_folder, pred_ann['file_name'])) as img:\n",
      "  File \"/home/adelgior/code/fcn-instances-pytorch/instanceseg/ext/panopticapi/utils.py\", line 16, in wrapper\n",
      "    return f(*args, **kwargs)\n",
      "  File \"/usr0/home/adelgior/code/experimental-instanceseg/instanceseg/ext/panopticapi/evaluation.py\", line 98, in pq_compute_single_core\n",
      "    with Image.open(os.path.join(pred_folder, pred_ann['file_name'])) as img:\n"
     ]
    },
    {
     "name": "stdout",
     "output_type": "stream",
     "text": [
      "Caught exception in worker thread:\n"
     ]
    },
    {
     "name": "stderr",
     "output_type": "stream",
     "text": [
      "  File \"/home/adelgior/virtualenvs/pytorch4_python3/lib/python3.7/site-packages/PIL/Image.py\", line 2652, in open\n",
      "    fp = builtins.open(filename, \"rb\")\n",
      "FileNotFoundError: [Errno 2] No such file or directory: '/home/adelgior/code/upsnet/output/upsnet/cityscapes/upsnet_resnet50_cityscapes_4gpu/val/results/pans_unified/pan_2ch/frankfurt_000001_007857_leftImg8bit.png'\n",
      "FileNotFoundError: [Errno 2] No such file or directory: '/home/adelgior/code/upsnet/output/upsnet/cityscapes/upsnet_resnet50_cityscapes_4gpu/val/results/pans_unified/pan_2ch/frankfurt_000001_012738_leftImg8bit.png'\n",
      "  File \"/usr0/home/adelgior/code/experimental-instanceseg/instanceseg/ext/panopticapi/evaluation.py\", line 98, in pq_compute_single_core\n",
      "    with Image.open(os.path.join(pred_folder, pred_ann['file_name'])) as img:\n"
     ]
    },
    {
     "name": "stdout",
     "output_type": "stream",
     "text": [
      "Core: 105, 0 from 1 images processed\n",
      "Caught exception in worker thread:\n"
     ]
    },
    {
     "name": "stderr",
     "output_type": "stream",
     "text": [
      "  File \"/home/adelgior/virtualenvs/pytorch4_python3/lib/python3.7/site-packages/PIL/Image.py\", line 2652, in open\n",
      "    fp = builtins.open(filename, \"rb\")\n"
     ]
    },
    {
     "name": "stdout",
     "output_type": "stream",
     "text": [
      "Core: 107, 0 from 1 images processed\n"
     ]
    },
    {
     "name": "stderr",
     "output_type": "stream",
     "text": [
      "  File \"/home/adelgior/virtualenvs/pytorch4_python3/lib/python3.7/site-packages/PIL/Image.py\", line 2652, in open\n",
      "    fp = builtins.open(filename, \"rb\")\n",
      "Traceback (most recent call last):\n",
      "Traceback (most recent call last):\n",
      "FileNotFoundError: [Errno 2] No such file or directory: '/home/adelgior/code/upsnet/output/upsnet/cityscapes/upsnet_resnet50_cityscapes_4gpu/val/results/pans_unified/pan_2ch/frankfurt_000001_012519_leftImg8bit.png'\n"
     ]
    },
    {
     "name": "stdout",
     "output_type": "stream",
     "text": [
      "Core: 106, 0 from 1 images processed\n"
     ]
    },
    {
     "name": "stderr",
     "output_type": "stream",
     "text": [
      "  File \"/usr0/home/adelgior/code/experimental-instanceseg/instanceseg/ext/panopticapi/evaluation.py\", line 98, in pq_compute_single_core\n",
      "    with Image.open(os.path.join(pred_folder, pred_ann['file_name'])) as img:\n",
      "FileNotFoundError: [Errno 2] No such file or directory: '/home/adelgior/code/upsnet/output/upsnet/cityscapes/upsnet_resnet50_cityscapes_4gpu/val/results/pans_unified/pan_2ch/frankfurt_000001_013016_leftImg8bit.png'\n"
     ]
    },
    {
     "name": "stdout",
     "output_type": "stream",
     "text": [
      "Core: 104, 0 from 1 images processed\n",
      "Core: 108, 0 from 1 images processed\n",
      "Core: 109, 0 from 1 images processed\n"
     ]
    },
    {
     "name": "stderr",
     "output_type": "stream",
     "text": [
      "  File \"/home/adelgior/code/fcn-instances-pytorch/instanceseg/ext/panopticapi/utils.py\", line 16, in wrapper\n",
      "    return f(*args, **kwargs)\n",
      "  File \"/home/adelgior/code/fcn-instances-pytorch/instanceseg/ext/panopticapi/utils.py\", line 16, in wrapper\n",
      "    return f(*args, **kwargs)\n",
      "  File \"/home/adelgior/virtualenvs/pytorch4_python3/lib/python3.7/site-packages/PIL/Image.py\", line 2652, in open\n",
      "    fp = builtins.open(filename, \"rb\")\n",
      "  File \"/home/adelgior/code/fcn-instances-pytorch/instanceseg/ext/panopticapi/utils.py\", line 16, in wrapper\n",
      "    return f(*args, **kwargs)\n"
     ]
    },
    {
     "name": "stdout",
     "output_type": "stream",
     "text": [
      "Core: 110, 0 from 1 images processed\n"
     ]
    },
    {
     "name": "stderr",
     "output_type": "stream",
     "text": [
      "FileNotFoundError: [Errno 2] No such file or directory: '/home/adelgior/code/upsnet/output/upsnet/cityscapes/upsnet_resnet50_cityscapes_4gpu/val/results/pans_unified/pan_2ch/frankfurt_000001_007407_leftImg8bit.png'\n",
      "  File \"/usr0/home/adelgior/code/experimental-instanceseg/instanceseg/ext/panopticapi/evaluation.py\", line 98, in pq_compute_single_core\n",
      "    with Image.open(os.path.join(pred_folder, pred_ann['file_name'])) as img:\n",
      "Traceback (most recent call last):\n"
     ]
    },
    {
     "name": "stdout",
     "output_type": "stream",
     "text": [
      "Core: 111, 0 from 1 images processed\n",
      "Core: 112, 0 from 1 images processed\n",
      "Core: 113, 0 from 1 images processed\n"
     ]
    },
    {
     "name": "stderr",
     "output_type": "stream",
     "text": [
      "FileNotFoundError: [Errno 2] No such file or directory: '/home/adelgior/code/upsnet/output/upsnet/cityscapes/upsnet_resnet50_cityscapes_4gpu/val/results/pans_unified/pan_2ch/frankfurt_000001_010830_leftImg8bit.png'\n",
      "  File \"/usr0/home/adelgior/code/experimental-instanceseg/instanceseg/ext/panopticapi/evaluation.py\", line 98, in pq_compute_single_core\n",
      "    with Image.open(os.path.join(pred_folder, pred_ann['file_name'])) as img:\n"
     ]
    },
    {
     "name": "stdout",
     "output_type": "stream",
     "text": [
      "Caught exception in worker thread:\n"
     ]
    },
    {
     "name": "stderr",
     "output_type": "stream",
     "text": [
      "  File \"/usr0/home/adelgior/code/experimental-instanceseg/instanceseg/ext/panopticapi/evaluation.py\", line 98, in pq_compute_single_core\n",
      "    with Image.open(os.path.join(pred_folder, pred_ann['file_name'])) as img:\n",
      "Traceback (most recent call last):\n",
      "  File \"/home/adelgior/virtualenvs/pytorch4_python3/lib/python3.7/site-packages/PIL/Image.py\", line 2652, in open\n",
      "    fp = builtins.open(filename, \"rb\")\n",
      "  File \"/home/adelgior/virtualenvs/pytorch4_python3/lib/python3.7/site-packages/PIL/Image.py\", line 2652, in open\n",
      "    fp = builtins.open(filename, \"rb\")\n",
      "  File \"/home/adelgior/code/fcn-instances-pytorch/instanceseg/ext/panopticapi/utils.py\", line 16, in wrapper\n",
      "    return f(*args, **kwargs)\n",
      "FileNotFoundError: [Errno 2] No such file or directory: '/home/adelgior/code/upsnet/output/upsnet/cityscapes/upsnet_resnet50_cityscapes_4gpu/val/results/pans_unified/pan_2ch/frankfurt_000001_012699_leftImg8bit.png'\n"
     ]
    },
    {
     "name": "stdout",
     "output_type": "stream",
     "text": [
      "Caught exception in worker thread:\n"
     ]
    },
    {
     "name": "stderr",
     "output_type": "stream",
     "text": [
      "  File \"/home/adelgior/virtualenvs/pytorch4_python3/lib/python3.7/site-packages/PIL/Image.py\", line 2652, in open\n",
      "    fp = builtins.open(filename, \"rb\")\n",
      "  File \"/home/adelgior/virtualenvs/pytorch4_python3/lib/python3.7/site-packages/PIL/Image.py\", line 2652, in open\n",
      "    fp = builtins.open(filename, \"rb\")\n"
     ]
    },
    {
     "name": "stdout",
     "output_type": "stream",
     "text": [
      "Core: 114, 0 from 1 images processed\n"
     ]
    },
    {
     "name": "stderr",
     "output_type": "stream",
     "text": [
      "  File \"/usr0/home/adelgior/code/experimental-instanceseg/instanceseg/ext/panopticapi/evaluation.py\", line 98, in pq_compute_single_core\n",
      "    with Image.open(os.path.join(pred_folder, pred_ann['file_name'])) as img:\n",
      "Traceback (most recent call last):\n",
      "  File \"/home/adelgior/code/fcn-instances-pytorch/instanceseg/ext/panopticapi/utils.py\", line 16, in wrapper\n",
      "    return f(*args, **kwargs)\n",
      "  File \"/home/adelgior/virtualenvs/pytorch4_python3/lib/python3.7/site-packages/PIL/Image.py\", line 2652, in open\n",
      "    fp = builtins.open(filename, \"rb\")\n",
      "  File \"/home/adelgior/code/fcn-instances-pytorch/instanceseg/ext/panopticapi/utils.py\", line 16, in wrapper\n",
      "    return f(*args, **kwargs)\n",
      "FileNotFoundError: [Errno 2] No such file or directory: '/home/adelgior/code/upsnet/output/upsnet/cityscapes/upsnet_resnet50_cityscapes_4gpu/val/results/pans_unified/pan_2ch/frankfurt_000001_014221_leftImg8bit.png'\n"
     ]
    },
    {
     "name": "stdout",
     "output_type": "stream",
     "text": [
      "Core: 116, 0 from 1 images processed\n"
     ]
    },
    {
     "name": "stderr",
     "output_type": "stream",
     "text": [
      "FileNotFoundError: [Errno 2] No such file or directory: '/home/adelgior/code/upsnet/output/upsnet/cityscapes/upsnet_resnet50_cityscapes_4gpu/val/results/pans_unified/pan_2ch/frankfurt_000001_013710_leftImg8bit.png'\n"
     ]
    },
    {
     "name": "stdout",
     "output_type": "stream",
     "text": [
      "Core: 115, 0 from 1 images processed\n"
     ]
    },
    {
     "name": "stderr",
     "output_type": "stream",
     "text": [
      "FileNotFoundError: [Errno 2] No such file or directory: '/home/adelgior/code/upsnet/output/upsnet/cityscapes/upsnet_resnet50_cityscapes_4gpu/val/results/pans_unified/pan_2ch/frankfurt_000001_011835_leftImg8bit.png'\n",
      "  File \"/usr0/home/adelgior/code/experimental-instanceseg/instanceseg/ext/panopticapi/evaluation.py\", line 98, in pq_compute_single_core\n",
      "    with Image.open(os.path.join(pred_folder, pred_ann['file_name'])) as img:\n",
      "  File \"/home/adelgior/virtualenvs/pytorch4_python3/lib/python3.7/site-packages/PIL/Image.py\", line 2652, in open\n",
      "    fp = builtins.open(filename, \"rb\")\n"
     ]
    },
    {
     "name": "stdout",
     "output_type": "stream",
     "text": [
      "Core: 118, 0 from 1 images processed\n",
      "Core: 117, 0 from 1 images processed\n"
     ]
    },
    {
     "name": "stderr",
     "output_type": "stream",
     "text": [
      "  File \"/usr0/home/adelgior/code/experimental-instanceseg/instanceseg/ext/panopticapi/evaluation.py\", line 98, in pq_compute_single_core\n",
      "    with Image.open(os.path.join(pred_folder, pred_ann['file_name'])) as img:\n",
      "FileNotFoundError: [Errno 2] No such file or directory: '/home/adelgior/code/upsnet/output/upsnet/cityscapes/upsnet_resnet50_cityscapes_4gpu/val/results/pans_unified/pan_2ch/frankfurt_000001_013496_leftImg8bit.png'\n",
      "FileNotFoundError: [Errno 2] No such file or directory: '/home/adelgior/code/upsnet/output/upsnet/cityscapes/upsnet_resnet50_cityscapes_4gpu/val/results/pans_unified/pan_2ch/frankfurt_000001_014406_leftImg8bit.png'\n",
      "  File \"/home/adelgior/virtualenvs/pytorch4_python3/lib/python3.7/site-packages/PIL/Image.py\", line 2652, in open\n",
      "    fp = builtins.open(filename, \"rb\")\n"
     ]
    },
    {
     "name": "stdout",
     "output_type": "stream",
     "text": [
      "Core: 119, 0 from 1 images processed\n",
      "Caught exception in worker thread:\n",
      "Core: 120, 0 from 1 images processed\n",
      "Core: 121, 0 from 1 images processed\n"
     ]
    },
    {
     "name": "stderr",
     "output_type": "stream",
     "text": [
      "FileNotFoundError: [Errno 2] No such file or directory: '/home/adelgior/code/upsnet/output/upsnet/cityscapes/upsnet_resnet50_cityscapes_4gpu/val/results/pans_unified/pan_2ch/frankfurt_000001_014565_leftImg8bit.png'\n",
      "Traceback (most recent call last):\n"
     ]
    },
    {
     "name": "stdout",
     "output_type": "stream",
     "text": [
      "Caught exception in worker thread:\n"
     ]
    },
    {
     "name": "stderr",
     "output_type": "stream",
     "text": [
      "  File \"/home/adelgior/code/fcn-instances-pytorch/instanceseg/ext/panopticapi/utils.py\", line 16, in wrapper\n",
      "    return f(*args, **kwargs)\n"
     ]
    },
    {
     "name": "stdout",
     "output_type": "stream",
     "text": [
      "Core: 122, 0 from 1 images processed\n"
     ]
    },
    {
     "name": "stderr",
     "output_type": "stream",
     "text": [
      "Traceback (most recent call last):\n",
      "  File \"/usr0/home/adelgior/code/experimental-instanceseg/instanceseg/ext/panopticapi/evaluation.py\", line 98, in pq_compute_single_core\n",
      "    with Image.open(os.path.join(pred_folder, pred_ann['file_name'])) as img:\n"
     ]
    },
    {
     "name": "stdout",
     "output_type": "stream",
     "text": [
      "Caught exception in worker thread:\n"
     ]
    },
    {
     "name": "stderr",
     "output_type": "stream",
     "text": [
      "  File \"/home/adelgior/virtualenvs/pytorch4_python3/lib/python3.7/site-packages/PIL/Image.py\", line 2652, in open\n",
      "    fp = builtins.open(filename, \"rb\")\n",
      "  File \"/home/adelgior/code/fcn-instances-pytorch/instanceseg/ext/panopticapi/utils.py\", line 16, in wrapper\n",
      "    return f(*args, **kwargs)\n",
      "Traceback (most recent call last):\n",
      "FileNotFoundError: [Errno 2] No such file or directory: '/home/adelgior/code/upsnet/output/upsnet/cityscapes/upsnet_resnet50_cityscapes_4gpu/val/results/pans_unified/pan_2ch/frankfurt_000001_014741_leftImg8bit.png'\n",
      "  File \"/usr0/home/adelgior/code/experimental-instanceseg/instanceseg/ext/panopticapi/evaluation.py\", line 98, in pq_compute_single_core\n",
      "    with Image.open(os.path.join(pred_folder, pred_ann['file_name'])) as img:\n"
     ]
    },
    {
     "name": "stdout",
     "output_type": "stream",
     "text": [
      "Caught exception in worker thread:\n",
      "Caught exception in worker thread:\n"
     ]
    },
    {
     "name": "stderr",
     "output_type": "stream",
     "text": [
      "Traceback (most recent call last):\n"
     ]
    },
    {
     "name": "stdout",
     "output_type": "stream",
     "text": [
      "Caught exception in worker thread:\n"
     ]
    },
    {
     "name": "stderr",
     "output_type": "stream",
     "text": [
      "  File \"/home/adelgior/code/fcn-instances-pytorch/instanceseg/ext/panopticapi/utils.py\", line 16, in wrapper\n",
      "    return f(*args, **kwargs)\n"
     ]
    },
    {
     "name": "stdout",
     "output_type": "stream",
     "text": [
      "Caught exception in worker thread:\n"
     ]
    },
    {
     "name": "stderr",
     "output_type": "stream",
     "text": [
      "Traceback (most recent call last):\n"
     ]
    },
    {
     "name": "stdout",
     "output_type": "stream",
     "text": [
      "Caught exception in worker thread:\n"
     ]
    },
    {
     "name": "stderr",
     "output_type": "stream",
     "text": [
      "  File \"/home/adelgior/virtualenvs/pytorch4_python3/lib/python3.7/site-packages/PIL/Image.py\", line 2652, in open\n",
      "    fp = builtins.open(filename, \"rb\")\n",
      "  File \"/home/adelgior/code/fcn-instances-pytorch/instanceseg/ext/panopticapi/utils.py\", line 16, in wrapper\n",
      "    return f(*args, **kwargs)\n",
      "Traceback (most recent call last):\n",
      "  File \"/usr0/home/adelgior/code/experimental-instanceseg/instanceseg/ext/panopticapi/evaluation.py\", line 98, in pq_compute_single_core\n",
      "    with Image.open(os.path.join(pred_folder, pred_ann['file_name'])) as img:\n",
      "  File \"/usr0/home/adelgior/code/experimental-instanceseg/instanceseg/ext/panopticapi/evaluation.py\", line 98, in pq_compute_single_core\n",
      "    with Image.open(os.path.join(pred_folder, pred_ann['file_name'])) as img:\n"
     ]
    },
    {
     "name": "stdout",
     "output_type": "stream",
     "text": [
      "Core: 123, 0 from 1 images processed\n",
      "Caught exception in worker thread:\n"
     ]
    },
    {
     "name": "stderr",
     "output_type": "stream",
     "text": [
      "  File \"/home/adelgior/code/fcn-instances-pytorch/instanceseg/ext/panopticapi/utils.py\", line 16, in wrapper\n",
      "    return f(*args, **kwargs)\n",
      "  File \"/home/adelgior/virtualenvs/pytorch4_python3/lib/python3.7/site-packages/PIL/Image.py\", line 2652, in open\n",
      "    fp = builtins.open(filename, \"rb\")\n"
     ]
    },
    {
     "name": "stdout",
     "output_type": "stream",
     "text": [
      "Caught exception in worker thread:\n"
     ]
    },
    {
     "name": "stderr",
     "output_type": "stream",
     "text": [
      "Traceback (most recent call last):\n",
      "  File \"/home/adelgior/code/fcn-instances-pytorch/instanceseg/ext/panopticapi/utils.py\", line 16, in wrapper\n",
      "    return f(*args, **kwargs)\n",
      "Traceback (most recent call last):\n",
      "FileNotFoundError: [Errno 2] No such file or directory: '/home/adelgior/code/upsnet/output/upsnet/cityscapes/upsnet_resnet50_cityscapes_4gpu/val/results/pans_unified/pan_2ch/frankfurt_000001_015091_leftImg8bit.png'\n",
      "  File \"/home/adelgior/virtualenvs/pytorch4_python3/lib/python3.7/site-packages/PIL/Image.py\", line 2652, in open\n",
      "    fp = builtins.open(filename, \"rb\")\n",
      "  File \"/usr0/home/adelgior/code/experimental-instanceseg/instanceseg/ext/panopticapi/evaluation.py\", line 98, in pq_compute_single_core\n",
      "    with Image.open(os.path.join(pred_folder, pred_ann['file_name'])) as img:\n"
     ]
    },
    {
     "name": "stdout",
     "output_type": "stream",
     "text": [
      "Caught exception in worker thread:\n"
     ]
    },
    {
     "name": "stderr",
     "output_type": "stream",
     "text": [
      "FileNotFoundError: [Errno 2] No such file or directory: '/home/adelgior/code/upsnet/output/upsnet/cityscapes/upsnet_resnet50_cityscapes_4gpu/val/results/pans_unified/pan_2ch/frankfurt_000001_017101_leftImg8bit.png'\n",
      "  File \"/home/adelgior/code/fcn-instances-pytorch/instanceseg/ext/panopticapi/utils.py\", line 16, in wrapper\n",
      "    return f(*args, **kwargs)\n",
      "  File \"/usr0/home/adelgior/code/experimental-instanceseg/instanceseg/ext/panopticapi/evaluation.py\", line 98, in pq_compute_single_core\n",
      "    with Image.open(os.path.join(pred_folder, pred_ann['file_name'])) as img:\n",
      "  File \"/home/adelgior/code/fcn-instances-pytorch/instanceseg/ext/panopticapi/utils.py\", line 16, in wrapper\n",
      "    return f(*args, **kwargs)\n",
      "Traceback (most recent call last):\n"
     ]
    },
    {
     "name": "stdout",
     "output_type": "stream",
     "text": [
      "Caught exception in worker thread:\n"
     ]
    },
    {
     "name": "stderr",
     "output_type": "stream",
     "text": [
      "Traceback (most recent call last):\n",
      "  File \"/usr0/home/adelgior/code/experimental-instanceseg/instanceseg/ext/panopticapi/evaluation.py\", line 98, in pq_compute_single_core\n",
      "    with Image.open(os.path.join(pred_folder, pred_ann['file_name'])) as img:\n",
      "  File \"/home/adelgior/code/fcn-instances-pytorch/instanceseg/ext/panopticapi/utils.py\", line 16, in wrapper\n",
      "    return f(*args, **kwargs)\n",
      "Traceback (most recent call last):\n"
     ]
    },
    {
     "name": "stdout",
     "output_type": "stream",
     "text": [
      "Caught exception in worker thread:\n"
     ]
    },
    {
     "name": "stderr",
     "output_type": "stream",
     "text": [
      "Traceback (most recent call last):\n",
      "  File \"/usr0/home/adelgior/code/experimental-instanceseg/instanceseg/ext/panopticapi/evaluation.py\", line 98, in pq_compute_single_core\n",
      "    with Image.open(os.path.join(pred_folder, pred_ann['file_name'])) as img:\n",
      "  File \"/usr0/home/adelgior/code/experimental-instanceseg/instanceseg/ext/panopticapi/evaluation.py\", line 98, in pq_compute_single_core\n",
      "    with Image.open(os.path.join(pred_folder, pred_ann['file_name'])) as img:\n"
     ]
    },
    {
     "name": "stdout",
     "output_type": "stream",
     "text": [
      "Caught exception in worker thread:\n",
      "Core: 125, 0 from 1 images processed\n"
     ]
    },
    {
     "name": "stderr",
     "output_type": "stream",
     "text": [
      "  File \"/home/adelgior/virtualenvs/pytorch4_python3/lib/python3.7/site-packages/PIL/Image.py\", line 2652, in open\n",
      "    fp = builtins.open(filename, \"rb\")\n"
     ]
    },
    {
     "name": "stdout",
     "output_type": "stream",
     "text": [
      "Caught exception in worker thread:\n",
      "Core: 124, 0 from 1 images processed\n"
     ]
    },
    {
     "name": "stderr",
     "output_type": "stream",
     "text": [
      "Traceback (most recent call last):\n",
      "  File \"/home/adelgior/code/fcn-instances-pytorch/instanceseg/ext/panopticapi/utils.py\", line 16, in wrapper\n",
      "    return f(*args, **kwargs)\n",
      "  File \"/home/adelgior/virtualenvs/pytorch4_python3/lib/python3.7/site-packages/PIL/Image.py\", line 2652, in open\n",
      "    fp = builtins.open(filename, \"rb\")\n",
      "FileNotFoundError: [Errno 2] No such file or directory: '/home/adelgior/code/upsnet/output/upsnet/cityscapes/upsnet_resnet50_cityscapes_4gpu/val/results/pans_unified/pan_2ch/frankfurt_000001_015768_leftImg8bit.png'\n",
      "  File \"/home/adelgior/code/fcn-instances-pytorch/instanceseg/ext/panopticapi/utils.py\", line 16, in wrapper\n",
      "    return f(*args, **kwargs)\n",
      "FileNotFoundError: [Errno 2] No such file or directory: '/home/adelgior/code/upsnet/output/upsnet/cityscapes/upsnet_resnet50_cityscapes_4gpu/val/results/pans_unified/pan_2ch/frankfurt_000001_016462_leftImg8bit.png'\n",
      "  File \"/home/adelgior/virtualenvs/pytorch4_python3/lib/python3.7/site-packages/PIL/Image.py\", line 2652, in open\n",
      "    fp = builtins.open(filename, \"rb\")\n",
      "FileNotFoundError: [Errno 2] No such file or directory: '/home/adelgior/code/upsnet/output/upsnet/cityscapes/upsnet_resnet50_cityscapes_4gpu/val/results/pans_unified/pan_2ch/frankfurt_000001_016273_leftImg8bit.png'\n",
      "  File \"/home/adelgior/virtualenvs/pytorch4_python3/lib/python3.7/site-packages/PIL/Image.py\", line 2652, in open\n",
      "    fp = builtins.open(filename, \"rb\")\n",
      "  File \"/usr0/home/adelgior/code/experimental-instanceseg/instanceseg/ext/panopticapi/evaluation.py\", line 98, in pq_compute_single_core\n",
      "    with Image.open(os.path.join(pred_folder, pred_ann['file_name'])) as img:\n",
      "Traceback (most recent call last):\n",
      "  File \"/home/adelgior/code/fcn-instances-pytorch/instanceseg/ext/panopticapi/utils.py\", line 16, in wrapper\n",
      "    return f(*args, **kwargs)\n",
      "  File \"/home/adelgior/virtualenvs/pytorch4_python3/lib/python3.7/site-packages/PIL/Image.py\", line 2652, in open\n",
      "    fp = builtins.open(filename, \"rb\")\n",
      "  File \"/usr0/home/adelgior/code/experimental-instanceseg/instanceseg/ext/panopticapi/evaluation.py\", line 98, in pq_compute_single_core\n",
      "    with Image.open(os.path.join(pred_folder, pred_ann['file_name'])) as img:\n",
      "  File \"/home/adelgior/code/fcn-instances-pytorch/instanceseg/ext/panopticapi/utils.py\", line 16, in wrapper\n",
      "    return f(*args, **kwargs)\n",
      "  File \"/home/adelgior/virtualenvs/pytorch4_python3/lib/python3.7/site-packages/PIL/Image.py\", line 2652, in open\n",
      "    fp = builtins.open(filename, \"rb\")\n"
     ]
    },
    {
     "name": "stdout",
     "output_type": "stream",
     "text": [
      "Caught exception in worker thread:\n"
     ]
    },
    {
     "name": "stderr",
     "output_type": "stream",
     "text": [
      "  File \"/home/adelgior/code/fcn-instances-pytorch/instanceseg/ext/panopticapi/utils.py\", line 16, in wrapper\n",
      "    return f(*args, **kwargs)\n",
      "FileNotFoundError: [Errno 2] No such file or directory: '/home/adelgior/code/upsnet/output/upsnet/cityscapes/upsnet_resnet50_cityscapes_4gpu/val/results/pans_unified/pan_2ch/frankfurt_000001_019854_leftImg8bit.png'\n",
      "FileNotFoundError: [Errno 2] No such file or directory: '/home/adelgior/code/upsnet/output/upsnet/cityscapes/upsnet_resnet50_cityscapes_4gpu/val/results/pans_unified/pan_2ch/frankfurt_000001_020693_leftImg8bit.png'\n",
      "  File \"/usr0/home/adelgior/code/experimental-instanceseg/instanceseg/ext/panopticapi/evaluation.py\", line 98, in pq_compute_single_core\n",
      "    with Image.open(os.path.join(pred_folder, pred_ann['file_name'])) as img:\n"
     ]
    },
    {
     "name": "stdout",
     "output_type": "stream",
     "text": [
      "Caught exception in worker thread:\n"
     ]
    },
    {
     "name": "stderr",
     "output_type": "stream",
     "text": [
      "FileNotFoundError: [Errno 2] No such file or directory: '/home/adelgior/code/upsnet/output/upsnet/cityscapes/upsnet_resnet50_cityscapes_4gpu/val/results/pans_unified/pan_2ch/frankfurt_000001_016029_leftImg8bit.png'\n"
     ]
    },
    {
     "name": "stdout",
     "output_type": "stream",
     "text": [
      "Caught exception in worker thread:\n"
     ]
    },
    {
     "name": "stderr",
     "output_type": "stream",
     "text": [
      "  File \"/usr0/home/adelgior/code/experimental-instanceseg/instanceseg/ext/panopticapi/evaluation.py\", line 98, in pq_compute_single_core\n",
      "    with Image.open(os.path.join(pred_folder, pred_ann['file_name'])) as img:\n",
      "Traceback (most recent call last):\n",
      "FileNotFoundError: [Errno 2] No such file or directory: '/home/adelgior/code/upsnet/output/upsnet/cityscapes/upsnet_resnet50_cityscapes_4gpu/val/results/pans_unified/pan_2ch/frankfurt_000001_015328_leftImg8bit.png'\n",
      "Traceback (most recent call last):\n"
     ]
    },
    {
     "name": "stdout",
     "output_type": "stream",
     "text": [
      "Caught exception in worker thread:\n",
      "Core: 126, 0 from 1 images processed\n"
     ]
    },
    {
     "name": "stderr",
     "output_type": "stream",
     "text": [
      "  File \"/home/adelgior/virtualenvs/pytorch4_python3/lib/python3.7/site-packages/PIL/Image.py\", line 2652, in open\n",
      "    fp = builtins.open(filename, \"rb\")\n"
     ]
    },
    {
     "name": "stdout",
     "output_type": "stream",
     "text": [
      "Core: 127, 0 from 1 images processed\n",
      "Caught exception in worker thread:\n"
     ]
    },
    {
     "name": "stderr",
     "output_type": "stream",
     "text": [
      "Traceback (most recent call last):\n",
      "  File \"/home/adelgior/virtualenvs/pytorch4_python3/lib/python3.7/site-packages/PIL/Image.py\", line 2652, in open\n",
      "    fp = builtins.open(filename, \"rb\")\n"
     ]
    },
    {
     "name": "stdout",
     "output_type": "stream",
     "text": [
      "Caught exception in worker thread:\n"
     ]
    },
    {
     "name": "stderr",
     "output_type": "stream",
     "text": [
      "  File \"/home/adelgior/code/fcn-instances-pytorch/instanceseg/ext/panopticapi/utils.py\", line 16, in wrapper\n",
      "    return f(*args, **kwargs)\n"
     ]
    },
    {
     "name": "stdout",
     "output_type": "stream",
     "text": [
      "Caught exception in worker thread:\n"
     ]
    },
    {
     "name": "stderr",
     "output_type": "stream",
     "text": [
      "Traceback (most recent call last):\n",
      "  File \"/home/adelgior/code/fcn-instances-pytorch/instanceseg/ext/panopticapi/utils.py\", line 16, in wrapper\n",
      "    return f(*args, **kwargs)\n",
      "  File \"/home/adelgior/virtualenvs/pytorch4_python3/lib/python3.7/site-packages/PIL/Image.py\", line 2652, in open\n",
      "    fp = builtins.open(filename, \"rb\")\n"
     ]
    },
    {
     "name": "stdout",
     "output_type": "stream",
     "text": [
      "Caught exception in worker thread:\n"
     ]
    },
    {
     "name": "stderr",
     "output_type": "stream",
     "text": [
      "Traceback (most recent call last):\n",
      "  File \"/usr0/home/adelgior/code/experimental-instanceseg/instanceseg/ext/panopticapi/evaluation.py\", line 98, in pq_compute_single_core\n",
      "    with Image.open(os.path.join(pred_folder, pred_ann['file_name'])) as img:\n",
      "  File \"/home/adelgior/code/fcn-instances-pytorch/instanceseg/ext/panopticapi/utils.py\", line 16, in wrapper\n",
      "    return f(*args, **kwargs)\n",
      "Traceback (most recent call last):\n",
      "  File \"/home/adelgior/code/fcn-instances-pytorch/instanceseg/ext/panopticapi/utils.py\", line 16, in wrapper\n",
      "    return f(*args, **kwargs)\n"
     ]
    },
    {
     "name": "stdout",
     "output_type": "stream",
     "text": [
      "Core: 129, 0 from 1 images processed\n"
     ]
    },
    {
     "name": "stderr",
     "output_type": "stream",
     "text": [
      "  File \"/usr0/home/adelgior/code/experimental-instanceseg/instanceseg/ext/panopticapi/evaluation.py\", line 98, in pq_compute_single_core\n",
      "    with Image.open(os.path.join(pred_folder, pred_ann['file_name'])) as img:\n",
      "Traceback (most recent call last):\n",
      "  File \"/usr0/home/adelgior/code/experimental-instanceseg/instanceseg/ext/panopticapi/evaluation.py\", line 98, in pq_compute_single_core\n",
      "    with Image.open(os.path.join(pred_folder, pred_ann['file_name'])) as img:\n",
      "  File \"/home/adelgior/virtualenvs/pytorch4_python3/lib/python3.7/site-packages/PIL/Image.py\", line 2652, in open\n",
      "    fp = builtins.open(filename, \"rb\")\n"
     ]
    },
    {
     "name": "stdout",
     "output_type": "stream",
     "text": [
      "Core: 130, 0 from 1 images processed\n"
     ]
    },
    {
     "name": "stderr",
     "output_type": "stream",
     "text": [
      "  File \"/usr0/home/adelgior/code/experimental-instanceseg/instanceseg/ext/panopticapi/evaluation.py\", line 98, in pq_compute_single_core\n",
      "    with Image.open(os.path.join(pred_folder, pred_ann['file_name'])) as img:\n",
      "Traceback (most recent call last):\n",
      "  File \"/home/adelgior/virtualenvs/pytorch4_python3/lib/python3.7/site-packages/PIL/Image.py\", line 2652, in open\n",
      "    fp = builtins.open(filename, \"rb\")\n",
      "  File \"/home/adelgior/code/fcn-instances-pytorch/instanceseg/ext/panopticapi/utils.py\", line 16, in wrapper\n",
      "    return f(*args, **kwargs)\n",
      "  File \"/home/adelgior/virtualenvs/pytorch4_python3/lib/python3.7/site-packages/PIL/Image.py\", line 2652, in open\n",
      "    fp = builtins.open(filename, \"rb\")\n",
      "  File \"/home/adelgior/code/fcn-instances-pytorch/instanceseg/ext/panopticapi/utils.py\", line 16, in wrapper\n",
      "    return f(*args, **kwargs)\n",
      "  File \"/home/adelgior/code/fcn-instances-pytorch/instanceseg/ext/panopticapi/utils.py\", line 16, in wrapper\n",
      "    return f(*args, **kwargs)\n",
      "  File \"/usr0/home/adelgior/code/experimental-instanceseg/instanceseg/ext/panopticapi/evaluation.py\", line 98, in pq_compute_single_core\n",
      "    with Image.open(os.path.join(pred_folder, pred_ann['file_name'])) as img:\n"
     ]
    },
    {
     "name": "stdout",
     "output_type": "stream",
     "text": [
      "Core: 132, 0 from 1 images processed\n"
     ]
    },
    {
     "name": "stderr",
     "output_type": "stream",
     "text": [
      "FileNotFoundError: [Errno 2] No such file or directory: '/home/adelgior/code/upsnet/output/upsnet/cityscapes/upsnet_resnet50_cityscapes_4gpu/val/results/pans_unified/pan_2ch/frankfurt_000001_021825_leftImg8bit.png'\n"
     ]
    },
    {
     "name": "stdout",
     "output_type": "stream",
     "text": [
      "Core: 131, 0 from 1 images processed\n"
     ]
    },
    {
     "name": "stderr",
     "output_type": "stream",
     "text": [
      "  File \"/usr0/home/adelgior/code/experimental-instanceseg/instanceseg/ext/panopticapi/evaluation.py\", line 98, in pq_compute_single_core\n",
      "    with Image.open(os.path.join(pred_folder, pred_ann['file_name'])) as img:\n",
      "  File \"/home/adelgior/virtualenvs/pytorch4_python3/lib/python3.7/site-packages/PIL/Image.py\", line 2652, in open\n",
      "    fp = builtins.open(filename, \"rb\")\n",
      "  File \"/usr0/home/adelgior/code/experimental-instanceseg/instanceseg/ext/panopticapi/evaluation.py\", line 98, in pq_compute_single_core\n",
      "    with Image.open(os.path.join(pred_folder, pred_ann['file_name'])) as img:\n"
     ]
    },
    {
     "name": "stdout",
     "output_type": "stream",
     "text": [
      "Caught exception in worker thread:\n"
     ]
    },
    {
     "name": "stderr",
     "output_type": "stream",
     "text": [
      "  File \"/home/adelgior/virtualenvs/pytorch4_python3/lib/python3.7/site-packages/PIL/Image.py\", line 2652, in open\n",
      "    fp = builtins.open(filename, \"rb\")\n",
      "Traceback (most recent call last):\n",
      "FileNotFoundError: [Errno 2] No such file or directory: '/home/adelgior/code/upsnet/output/upsnet/cityscapes/upsnet_resnet50_cityscapes_4gpu/val/results/pans_unified/pan_2ch/frankfurt_000001_023769_leftImg8bit.png'\n",
      "  File \"/home/adelgior/code/fcn-instances-pytorch/instanceseg/ext/panopticapi/utils.py\", line 16, in wrapper\n",
      "    return f(*args, **kwargs)\n",
      "  File \"/usr0/home/adelgior/code/experimental-instanceseg/instanceseg/ext/panopticapi/evaluation.py\", line 98, in pq_compute_single_core\n",
      "    with Image.open(os.path.join(pred_folder, pred_ann['file_name'])) as img:\n",
      "FileNotFoundError: [Errno 2] No such file or directory: '/home/adelgior/code/upsnet/output/upsnet/cityscapes/upsnet_resnet50_cityscapes_4gpu/val/results/pans_unified/pan_2ch/frankfurt_000001_017459_leftImg8bit.png'\n"
     ]
    },
    {
     "name": "stdout",
     "output_type": "stream",
     "text": [
      "Caught exception in worker thread:\n"
     ]
    },
    {
     "name": "stderr",
     "output_type": "stream",
     "text": [
      "FileNotFoundError: [Errno 2] No such file or directory: '/home/adelgior/code/upsnet/output/upsnet/cityscapes/upsnet_resnet50_cityscapes_4gpu/val/results/pans_unified/pan_2ch/frankfurt_000001_019969_leftImg8bit.png'\n",
      "FileNotFoundError: [Errno 2] No such file or directory: '/home/adelgior/code/upsnet/output/upsnet/cityscapes/upsnet_resnet50_cityscapes_4gpu/val/results/pans_unified/pan_2ch/frankfurt_000001_018113_leftImg8bit.png'\n",
      "Traceback (most recent call last):\n"
     ]
    },
    {
     "name": "stdout",
     "output_type": "stream",
     "text": [
      "Core: 128, 0 from 1 images processed\n"
     ]
    },
    {
     "name": "stderr",
     "output_type": "stream",
     "text": [
      "  File \"/usr0/home/adelgior/code/experimental-instanceseg/instanceseg/ext/panopticapi/evaluation.py\", line 98, in pq_compute_single_core\n",
      "    with Image.open(os.path.join(pred_folder, pred_ann['file_name'])) as img:\n",
      "FileNotFoundError: [Errno 2] No such file or directory: '/home/adelgior/code/upsnet/output/upsnet/cityscapes/upsnet_resnet50_cityscapes_4gpu/val/results/pans_unified/pan_2ch/frankfurt_000001_021406_leftImg8bit.png'\n",
      "FileNotFoundError: [Errno 2] No such file or directory: '/home/adelgior/code/upsnet/output/upsnet/cityscapes/upsnet_resnet50_cityscapes_4gpu/val/results/pans_unified/pan_2ch/frankfurt_000001_024927_leftImg8bit.png'\n"
     ]
    },
    {
     "name": "stdout",
     "output_type": "stream",
     "text": [
      "Core: 133, 0 from 1 images processed\n"
     ]
    },
    {
     "name": "stderr",
     "output_type": "stream",
     "text": [
      "  File \"/home/adelgior/virtualenvs/pytorch4_python3/lib/python3.7/site-packages/PIL/Image.py\", line 2652, in open\n",
      "    fp = builtins.open(filename, \"rb\")\n",
      "  File \"/home/adelgior/virtualenvs/pytorch4_python3/lib/python3.7/site-packages/PIL/Image.py\", line 2652, in open\n",
      "    fp = builtins.open(filename, \"rb\")\n",
      "  File \"/home/adelgior/code/fcn-instances-pytorch/instanceseg/ext/panopticapi/utils.py\", line 16, in wrapper\n",
      "    return f(*args, **kwargs)\n",
      "  File \"/home/adelgior/virtualenvs/pytorch4_python3/lib/python3.7/site-packages/PIL/Image.py\", line 2652, in open\n",
      "    fp = builtins.open(filename, \"rb\")\n",
      "FileNotFoundError: [Errno 2] No such file or directory: '/home/adelgior/code/upsnet/output/upsnet/cityscapes/upsnet_resnet50_cityscapes_4gpu/val/results/pans_unified/pan_2ch/frankfurt_000001_020287_leftImg8bit.png'\n",
      "FileNotFoundError: [Errno 2] No such file or directory: '/home/adelgior/code/upsnet/output/upsnet/cityscapes/upsnet_resnet50_cityscapes_4gpu/val/results/pans_unified/pan_2ch/frankfurt_000001_025512_leftImg8bit.png'\n",
      "FileNotFoundError: [Errno 2] No such file or directory: '/home/adelgior/code/upsnet/output/upsnet/cityscapes/upsnet_resnet50_cityscapes_4gpu/val/results/pans_unified/pan_2ch/frankfurt_000001_019698_leftImg8bit.png'\n"
     ]
    },
    {
     "name": "stdout",
     "output_type": "stream",
     "text": [
      "Core: 134, 0 from 1 images processed\n",
      "Caught exception in worker thread:\n"
     ]
    },
    {
     "name": "stderr",
     "output_type": "stream",
     "text": [
      "  File \"/home/adelgior/virtualenvs/pytorch4_python3/lib/python3.7/site-packages/PIL/Image.py\", line 2652, in open\n",
      "    fp = builtins.open(filename, \"rb\")\n",
      "  File \"/usr0/home/adelgior/code/experimental-instanceseg/instanceseg/ext/panopticapi/evaluation.py\", line 98, in pq_compute_single_core\n",
      "    with Image.open(os.path.join(pred_folder, pred_ann['file_name'])) as img:\n"
     ]
    },
    {
     "name": "stdout",
     "output_type": "stream",
     "text": [
      "Core: 135, 0 from 1 images processed\n",
      "Core: 139, 0 from 1 images processed\n"
     ]
    },
    {
     "name": "stderr",
     "output_type": "stream",
     "text": [
      "Traceback (most recent call last):\n"
     ]
    },
    {
     "name": "stdout",
     "output_type": "stream",
     "text": [
      "Caught exception in worker thread:\n"
     ]
    },
    {
     "name": "stderr",
     "output_type": "stream",
     "text": [
      "  File \"/home/adelgior/code/fcn-instances-pytorch/instanceseg/ext/panopticapi/utils.py\", line 16, in wrapper\n",
      "    return f(*args, **kwargs)\n"
     ]
    },
    {
     "name": "stdout",
     "output_type": "stream",
     "text": [
      "Core: 137, 0 from 1 images processed\n",
      "Core: 140, 0 from 1 images processed\n",
      "Core: 142, 0 from 1 images processed\n"
     ]
    },
    {
     "name": "stderr",
     "output_type": "stream",
     "text": [
      "  File \"/usr0/home/adelgior/code/experimental-instanceseg/instanceseg/ext/panopticapi/evaluation.py\", line 98, in pq_compute_single_core\n",
      "    with Image.open(os.path.join(pred_folder, pred_ann['file_name'])) as img:\n",
      "Traceback (most recent call last):\n"
     ]
    },
    {
     "name": "stdout",
     "output_type": "stream",
     "text": [
      "Core: 136, 0 from 1 images processed\n",
      "Core: 141, 0 from 1 images processed\n"
     ]
    },
    {
     "name": "stderr",
     "output_type": "stream",
     "text": [
      "  File \"/home/adelgior/virtualenvs/pytorch4_python3/lib/python3.7/site-packages/PIL/Image.py\", line 2652, in open\n",
      "    fp = builtins.open(filename, \"rb\")\n",
      "Traceback (most recent call last):\n"
     ]
    },
    {
     "name": "stdout",
     "output_type": "stream",
     "text": [
      "Core: 138, 0 from 1 images processed\n"
     ]
    },
    {
     "name": "stderr",
     "output_type": "stream",
     "text": [
      "FileNotFoundError: [Errno 2] No such file or directory: '/home/adelgior/code/upsnet/output/upsnet/cityscapes/upsnet_resnet50_cityscapes_4gpu/val/results/pans_unified/pan_2ch/frankfurt_000001_017842_leftImg8bit.png'\n",
      "  File \"/home/adelgior/code/fcn-instances-pytorch/instanceseg/ext/panopticapi/utils.py\", line 16, in wrapper\n",
      "    return f(*args, **kwargs)\n",
      "FileNotFoundError: [Errno 2] No such file or directory: '/home/adelgior/code/upsnet/output/upsnet/cityscapes/upsnet_resnet50_cityscapes_4gpu/val/results/pans_unified/pan_2ch/frankfurt_000001_023369_leftImg8bit.png'\n",
      "  File \"/usr0/home/adelgior/code/experimental-instanceseg/instanceseg/ext/panopticapi/evaluation.py\", line 98, in pq_compute_single_core\n",
      "    with Image.open(os.path.join(pred_folder, pred_ann['file_name'])) as img:\n",
      "  File \"/home/adelgior/code/fcn-instances-pytorch/instanceseg/ext/panopticapi/utils.py\", line 16, in wrapper\n",
      "    return f(*args, **kwargs)\n"
     ]
    },
    {
     "name": "stdout",
     "output_type": "stream",
     "text": [
      "Caught exception in worker thread:\n",
      "Core: 144, 0 from 1 images processed\n"
     ]
    },
    {
     "name": "stderr",
     "output_type": "stream",
     "text": [
      "  File \"/home/adelgior/virtualenvs/pytorch4_python3/lib/python3.7/site-packages/PIL/Image.py\", line 2652, in open\n",
      "    fp = builtins.open(filename, \"rb\")\n",
      "  File \"/home/adelgior/code/fcn-instances-pytorch/instanceseg/ext/panopticapi/utils.py\", line 16, in wrapper\n",
      "    return f(*args, **kwargs)\n"
     ]
    },
    {
     "name": "stdout",
     "output_type": "stream",
     "text": [
      "Caught exception in worker thread:\n"
     ]
    },
    {
     "name": "stderr",
     "output_type": "stream",
     "text": [
      "  File \"/home/adelgior/virtualenvs/pytorch4_python3/lib/python3.7/site-packages/PIL/Image.py\", line 2652, in open\n",
      "    fp = builtins.open(filename, \"rb\")\n",
      "  File \"/usr0/home/adelgior/code/experimental-instanceseg/instanceseg/ext/panopticapi/evaluation.py\", line 98, in pq_compute_single_core\n",
      "    with Image.open(os.path.join(pred_folder, pred_ann['file_name'])) as img:\n",
      "Traceback (most recent call last):\n"
     ]
    },
    {
     "name": "stdout",
     "output_type": "stream",
     "text": [
      "Caught exception in worker thread:\n",
      "Core: 143, 0 from 1 images processed\n"
     ]
    },
    {
     "name": "stderr",
     "output_type": "stream",
     "text": [
      "  File \"/usr0/home/adelgior/code/experimental-instanceseg/instanceseg/ext/panopticapi/evaluation.py\", line 98, in pq_compute_single_core\n",
      "    with Image.open(os.path.join(pred_folder, pred_ann['file_name'])) as img:\n",
      "  File \"/home/adelgior/virtualenvs/pytorch4_python3/lib/python3.7/site-packages/PIL/Image.py\", line 2652, in open\n",
      "    fp = builtins.open(filename, \"rb\")\n",
      "FileNotFoundError: [Errno 2] No such file or directory: '/home/adelgior/code/upsnet/output/upsnet/cityscapes/upsnet_resnet50_cityscapes_4gpu/val/results/pans_unified/pan_2ch/frankfurt_000001_020046_leftImg8bit.png'\n",
      "FileNotFoundError: [Errno 2] No such file or directory: '/home/adelgior/code/upsnet/output/upsnet/cityscapes/upsnet_resnet50_cityscapes_4gpu/val/results/pans_unified/pan_2ch/frankfurt_000001_025921_leftImg8bit.png'\n",
      "FileNotFoundError: [Errno 2] No such file or directory: '/home/adelgior/code/upsnet/output/upsnet/cityscapes/upsnet_resnet50_cityscapes_4gpu/val/results/pans_unified/pan_2ch/frankfurt_000001_023235_leftImg8bit.png'\n",
      "Traceback (most recent call last):\n"
     ]
    },
    {
     "name": "stdout",
     "output_type": "stream",
     "text": [
      "Caught exception in worker thread:\n"
     ]
    },
    {
     "name": "stderr",
     "output_type": "stream",
     "text": [
      "  File \"/home/adelgior/code/fcn-instances-pytorch/instanceseg/ext/panopticapi/utils.py\", line 16, in wrapper\n",
      "    return f(*args, **kwargs)\n",
      "FileNotFoundError: [Errno 2] No such file or directory: '/home/adelgior/code/upsnet/output/upsnet/cityscapes/upsnet_resnet50_cityscapes_4gpu/val/results/pans_unified/pan_2ch/frankfurt_000001_025713_leftImg8bit.png'\n",
      "Traceback (most recent call last):\n"
     ]
    },
    {
     "name": "stdout",
     "output_type": "stream",
     "text": [
      "Core: 145, 0 from 1 images processed\n"
     ]
    },
    {
     "name": "stderr",
     "output_type": "stream",
     "text": [
      "  File \"/home/adelgior/code/fcn-instances-pytorch/instanceseg/ext/panopticapi/utils.py\", line 16, in wrapper\n",
      "    return f(*args, **kwargs)\n",
      "  File \"/home/adelgior/virtualenvs/pytorch4_python3/lib/python3.7/site-packages/PIL/Image.py\", line 2652, in open\n",
      "    fp = builtins.open(filename, \"rb\")\n",
      "  File \"/home/adelgior/code/fcn-instances-pytorch/instanceseg/ext/panopticapi/utils.py\", line 16, in wrapper\n",
      "    return f(*args, **kwargs)\n",
      "Traceback (most recent call last):\n"
     ]
    },
    {
     "name": "stdout",
     "output_type": "stream",
     "text": [
      "Core: 147, 0 from 1 images processed\n"
     ]
    },
    {
     "name": "stderr",
     "output_type": "stream",
     "text": [
      "  File \"/usr0/home/adelgior/code/experimental-instanceseg/instanceseg/ext/panopticapi/evaluation.py\", line 98, in pq_compute_single_core\n",
      "    with Image.open(os.path.join(pred_folder, pred_ann['file_name'])) as img:\n",
      "FileNotFoundError: [Errno 2] No such file or directory: '/home/adelgior/code/upsnet/output/upsnet/cityscapes/upsnet_resnet50_cityscapes_4gpu/val/results/pans_unified/pan_2ch/frankfurt_000001_027325_leftImg8bit.png'\n",
      "  File \"/usr0/home/adelgior/code/experimental-instanceseg/instanceseg/ext/panopticapi/evaluation.py\", line 98, in pq_compute_single_core\n",
      "    with Image.open(os.path.join(pred_folder, pred_ann['file_name'])) as img:\n"
     ]
    },
    {
     "name": "stdout",
     "output_type": "stream",
     "text": [
      "Core: 146, 0 from 1 images processed\n"
     ]
    },
    {
     "name": "stderr",
     "output_type": "stream",
     "text": [
      "  File \"/home/adelgior/virtualenvs/pytorch4_python3/lib/python3.7/site-packages/PIL/Image.py\", line 2652, in open\n",
      "    fp = builtins.open(filename, \"rb\")\n",
      "  File \"/home/adelgior/virtualenvs/pytorch4_python3/lib/python3.7/site-packages/PIL/Image.py\", line 2652, in open\n",
      "    fp = builtins.open(filename, \"rb\")\n",
      "  File \"/usr0/home/adelgior/code/experimental-instanceseg/instanceseg/ext/panopticapi/evaluation.py\", line 98, in pq_compute_single_core\n",
      "    with Image.open(os.path.join(pred_folder, pred_ann['file_name'])) as img:\n",
      "  File \"/home/adelgior/virtualenvs/pytorch4_python3/lib/python3.7/site-packages/PIL/Image.py\", line 2652, in open\n",
      "    fp = builtins.open(filename, \"rb\")\n",
      "FileNotFoundError: [Errno 2] No such file or directory: '/home/adelgior/code/upsnet/output/upsnet/cityscapes/upsnet_resnet50_cityscapes_4gpu/val/results/pans_unified/pan_2ch/frankfurt_000001_028590_leftImg8bit.png'\n"
     ]
    },
    {
     "name": "stdout",
     "output_type": "stream",
     "text": [
      "Core: 148, 0 from 1 images processed\n",
      "Core: 149, 0 from 1 images processed\n"
     ]
    },
    {
     "name": "stderr",
     "output_type": "stream",
     "text": [
      "FileNotFoundError: [Errno 2] No such file or directory: '/home/adelgior/code/upsnet/output/upsnet/cityscapes/upsnet_resnet50_cityscapes_4gpu/val/results/pans_unified/pan_2ch/frankfurt_000001_028232_leftImg8bit.png'\n",
      "  File \"/home/adelgior/code/fcn-instances-pytorch/instanceseg/ext/panopticapi/utils.py\", line 16, in wrapper\n",
      "    return f(*args, **kwargs)\n"
     ]
    },
    {
     "name": "stdout",
     "output_type": "stream",
     "text": [
      "Core: 150, 0 from 1 images processed\n"
     ]
    },
    {
     "name": "stderr",
     "output_type": "stream",
     "text": [
      "FileNotFoundError: [Errno 2] No such file or directory: '/home/adelgior/code/upsnet/output/upsnet/cityscapes/upsnet_resnet50_cityscapes_4gpu/val/results/pans_unified/pan_2ch/frankfurt_000001_028335_leftImg8bit.png'\n",
      "  File \"/usr0/home/adelgior/code/experimental-instanceseg/instanceseg/ext/panopticapi/evaluation.py\", line 98, in pq_compute_single_core\n",
      "    with Image.open(os.path.join(pred_folder, pred_ann['file_name'])) as img:\n",
      "  File \"/home/adelgior/virtualenvs/pytorch4_python3/lib/python3.7/site-packages/PIL/Image.py\", line 2652, in open\n",
      "    fp = builtins.open(filename, \"rb\")\n"
     ]
    },
    {
     "name": "stdout",
     "output_type": "stream",
     "text": [
      "Core: 151, 0 from 1 images processed\n"
     ]
    },
    {
     "name": "stderr",
     "output_type": "stream",
     "text": [
      "FileNotFoundError: [Errno 2] No such file or directory: '/home/adelgior/code/upsnet/output/upsnet/cityscapes/upsnet_resnet50_cityscapes_4gpu/val/results/pans_unified/pan_2ch/frankfurt_000001_028854_leftImg8bit.png'\n"
     ]
    },
    {
     "name": "stdout",
     "output_type": "stream",
     "text": [
      "Core: 152, 0 from 1 images processed\n",
      "Caught exception in worker thread:\n"
     ]
    },
    {
     "name": "stderr",
     "output_type": "stream",
     "text": [
      "Traceback (most recent call last):\n",
      "  File \"/home/adelgior/code/fcn-instances-pytorch/instanceseg/ext/panopticapi/utils.py\", line 16, in wrapper\n",
      "    return f(*args, **kwargs)\n",
      "  File \"/usr0/home/adelgior/code/experimental-instanceseg/instanceseg/ext/panopticapi/evaluation.py\", line 98, in pq_compute_single_core\n",
      "    with Image.open(os.path.join(pred_folder, pred_ann['file_name'])) as img:\n"
     ]
    },
    {
     "name": "stdout",
     "output_type": "stream",
     "text": [
      "Caught exception in worker thread:\n",
      "Core: 153, 0 from 1 images processed\n"
     ]
    },
    {
     "name": "stderr",
     "output_type": "stream",
     "text": [
      "  File \"/home/adelgior/virtualenvs/pytorch4_python3/lib/python3.7/site-packages/PIL/Image.py\", line 2652, in open\n",
      "    fp = builtins.open(filename, \"rb\")\n",
      "FileNotFoundError: [Errno 2] No such file or directory: '/home/adelgior/code/upsnet/output/upsnet/cityscapes/upsnet_resnet50_cityscapes_4gpu/val/results/pans_unified/pan_2ch/frankfurt_000001_029086_leftImg8bit.png'\n",
      "Traceback (most recent call last):\n",
      "  File \"/home/adelgior/code/fcn-instances-pytorch/instanceseg/ext/panopticapi/utils.py\", line 16, in wrapper\n",
      "    return f(*args, **kwargs)\n",
      "  File \"/usr0/home/adelgior/code/experimental-instanceseg/instanceseg/ext/panopticapi/evaluation.py\", line 98, in pq_compute_single_core\n",
      "    with Image.open(os.path.join(pred_folder, pred_ann['file_name'])) as img:\n",
      "  File \"/home/adelgior/virtualenvs/pytorch4_python3/lib/python3.7/site-packages/PIL/Image.py\", line 2652, in open\n",
      "    fp = builtins.open(filename, \"rb\")\n"
     ]
    },
    {
     "name": "stdout",
     "output_type": "stream",
     "text": [
      "Caught exception in worker thread:\n",
      "Caught exception in worker thread:\n",
      "Caught exception in worker thread:\n",
      "Caught exception in worker thread:\n"
     ]
    },
    {
     "name": "stderr",
     "output_type": "stream",
     "text": [
      "Traceback (most recent call last):\n"
     ]
    },
    {
     "name": "stdout",
     "output_type": "stream",
     "text": [
      "Caught exception in worker thread:\n"
     ]
    },
    {
     "name": "stderr",
     "output_type": "stream",
     "text": [
      "Traceback (most recent call last):\n"
     ]
    },
    {
     "name": "stdout",
     "output_type": "stream",
     "text": [
      "Core: 154, 0 from 1 images processed\n",
      "Caught exception in worker thread:\n"
     ]
    },
    {
     "name": "stderr",
     "output_type": "stream",
     "text": [
      "Traceback (most recent call last):\n",
      "FileNotFoundError: [Errno 2] No such file or directory: '/home/adelgior/code/upsnet/output/upsnet/cityscapes/upsnet_resnet50_cityscapes_4gpu/val/results/pans_unified/pan_2ch/frankfurt_000001_029600_leftImg8bit.png'\n",
      "  File \"/home/adelgior/code/fcn-instances-pytorch/instanceseg/ext/panopticapi/utils.py\", line 16, in wrapper\n",
      "    return f(*args, **kwargs)\n",
      "  File \"/home/adelgior/code/fcn-instances-pytorch/instanceseg/ext/panopticapi/utils.py\", line 16, in wrapper\n",
      "    return f(*args, **kwargs)\n",
      "Traceback (most recent call last):\n",
      "Traceback (most recent call last):\n",
      "  File \"/home/adelgior/code/fcn-instances-pytorch/instanceseg/ext/panopticapi/utils.py\", line 16, in wrapper\n",
      "    return f(*args, **kwargs)\n",
      "  File \"/usr0/home/adelgior/code/experimental-instanceseg/instanceseg/ext/panopticapi/evaluation.py\", line 98, in pq_compute_single_core\n",
      "    with Image.open(os.path.join(pred_folder, pred_ann['file_name'])) as img:\n",
      "  File \"/home/adelgior/code/fcn-instances-pytorch/instanceseg/ext/panopticapi/utils.py\", line 16, in wrapper\n",
      "    return f(*args, **kwargs)\n"
     ]
    },
    {
     "name": "stdout",
     "output_type": "stream",
     "text": [
      "Caught exception in worker thread:\n"
     ]
    },
    {
     "name": "stderr",
     "output_type": "stream",
     "text": [
      "  File \"/usr0/home/adelgior/code/experimental-instanceseg/instanceseg/ext/panopticapi/evaluation.py\", line 98, in pq_compute_single_core\n",
      "    with Image.open(os.path.join(pred_folder, pred_ann['file_name'])) as img:\n",
      "Traceback (most recent call last):\n",
      "  File \"/home/adelgior/code/fcn-instances-pytorch/instanceseg/ext/panopticapi/utils.py\", line 16, in wrapper\n",
      "    return f(*args, **kwargs)\n"
     ]
    },
    {
     "name": "stdout",
     "output_type": "stream",
     "text": [
      "Caught exception in worker thread:\n"
     ]
    },
    {
     "name": "stderr",
     "output_type": "stream",
     "text": [
      "  File \"/usr0/home/adelgior/code/experimental-instanceseg/instanceseg/ext/panopticapi/evaluation.py\", line 98, in pq_compute_single_core\n",
      "    with Image.open(os.path.join(pred_folder, pred_ann['file_name'])) as img:\n"
     ]
    },
    {
     "name": "stdout",
     "output_type": "stream",
     "text": [
      "Caught exception in worker thread:\n",
      "Core: 155, 0 from 1 images processed\n"
     ]
    },
    {
     "name": "stderr",
     "output_type": "stream",
     "text": [
      "  File \"/usr0/home/adelgior/code/experimental-instanceseg/instanceseg/ext/panopticapi/evaluation.py\", line 98, in pq_compute_single_core\n",
      "    with Image.open(os.path.join(pred_folder, pred_ann['file_name'])) as img:\n",
      "Traceback (most recent call last):\n",
      "  File \"/home/adelgior/virtualenvs/pytorch4_python3/lib/python3.7/site-packages/PIL/Image.py\", line 2652, in open\n",
      "    fp = builtins.open(filename, \"rb\")\n",
      "Traceback (most recent call last):\n",
      "  File \"/home/adelgior/virtualenvs/pytorch4_python3/lib/python3.7/site-packages/PIL/Image.py\", line 2652, in open\n",
      "    fp = builtins.open(filename, \"rb\")\n",
      "Traceback (most recent call last):\n",
      "  File \"/usr0/home/adelgior/code/experimental-instanceseg/instanceseg/ext/panopticapi/evaluation.py\", line 98, in pq_compute_single_core\n",
      "    with Image.open(os.path.join(pred_folder, pred_ann['file_name'])) as img:\n",
      "  File \"/home/adelgior/code/fcn-instances-pytorch/instanceseg/ext/panopticapi/utils.py\", line 16, in wrapper\n",
      "    return f(*args, **kwargs)\n",
      "  File \"/home/adelgior/virtualenvs/pytorch4_python3/lib/python3.7/site-packages/PIL/Image.py\", line 2652, in open\n",
      "    fp = builtins.open(filename, \"rb\")\n",
      "FileNotFoundError: [Errno 2] No such file or directory: '/home/adelgior/code/upsnet/output/upsnet/cityscapes/upsnet_resnet50_cityscapes_4gpu/val/results/pans_unified/pan_2ch/frankfurt_000001_029236_leftImg8bit.png'\n",
      "FileNotFoundError: [Errno 2] No such file or directory: '/home/adelgior/code/upsnet/output/upsnet/cityscapes/upsnet_resnet50_cityscapes_4gpu/val/results/pans_unified/pan_2ch/frankfurt_000001_030669_leftImg8bit.png'\n",
      "  File \"/home/adelgior/virtualenvs/pytorch4_python3/lib/python3.7/site-packages/PIL/Image.py\", line 2652, in open\n",
      "    fp = builtins.open(filename, \"rb\")\n",
      "  File \"/usr0/home/adelgior/code/experimental-instanceseg/instanceseg/ext/panopticapi/evaluation.py\", line 98, in pq_compute_single_core\n",
      "    with Image.open(os.path.join(pred_folder, pred_ann['file_name'])) as img:\n",
      "FileNotFoundError: [Errno 2] No such file or directory: '/home/adelgior/code/upsnet/output/upsnet/cityscapes/upsnet_resnet50_cityscapes_4gpu/val/results/pans_unified/pan_2ch/frankfurt_000001_030310_leftImg8bit.png'\n"
     ]
    },
    {
     "name": "stdout",
     "output_type": "stream",
     "text": [
      "Caught exception in worker thread:\n",
      "Caught exception in worker thread:\n",
      "Caught exception in worker thread:\n"
     ]
    },
    {
     "name": "stderr",
     "output_type": "stream",
     "text": [
      "  File \"/home/adelgior/code/fcn-instances-pytorch/instanceseg/ext/panopticapi/utils.py\", line 16, in wrapper\n",
      "    return f(*args, **kwargs)\n",
      "Traceback (most recent call last):\n",
      "FileNotFoundError: [Errno 2] No such file or directory: '/home/adelgior/code/upsnet/output/upsnet/cityscapes/upsnet_resnet50_cityscapes_4gpu/val/results/pans_unified/pan_2ch/frankfurt_000001_031266_leftImg8bit.png'\n",
      "  File \"/home/adelgior/virtualenvs/pytorch4_python3/lib/python3.7/site-packages/PIL/Image.py\", line 2652, in open\n",
      "    fp = builtins.open(filename, \"rb\")\n",
      "  File \"/home/adelgior/virtualenvs/pytorch4_python3/lib/python3.7/site-packages/PIL/Image.py\", line 2652, in open\n",
      "    fp = builtins.open(filename, \"rb\")\n",
      "  File \"/home/adelgior/code/fcn-instances-pytorch/instanceseg/ext/panopticapi/utils.py\", line 16, in wrapper\n",
      "    return f(*args, **kwargs)\n",
      "  File \"/home/adelgior/code/fcn-instances-pytorch/instanceseg/ext/panopticapi/utils.py\", line 16, in wrapper\n",
      "    return f(*args, **kwargs)\n",
      "  File \"/home/adelgior/code/fcn-instances-pytorch/instanceseg/ext/panopticapi/utils.py\", line 16, in wrapper\n",
      "    return f(*args, **kwargs)\n",
      "  File \"/usr0/home/adelgior/code/experimental-instanceseg/instanceseg/ext/panopticapi/evaluation.py\", line 98, in pq_compute_single_core\n",
      "    with Image.open(os.path.join(pred_folder, pred_ann['file_name'])) as img:\n",
      "  File \"/usr0/home/adelgior/code/experimental-instanceseg/instanceseg/ext/panopticapi/evaluation.py\", line 98, in pq_compute_single_core\n",
      "    with Image.open(os.path.join(pred_folder, pred_ann['file_name'])) as img:\n",
      "  File \"/home/adelgior/virtualenvs/pytorch4_python3/lib/python3.7/site-packages/PIL/Image.py\", line 2652, in open\n",
      "    fp = builtins.open(filename, \"rb\")\n",
      "FileNotFoundError: [Errno 2] No such file or directory: '/home/adelgior/code/upsnet/output/upsnet/cityscapes/upsnet_resnet50_cityscapes_4gpu/val/results/pans_unified/pan_2ch/frankfurt_000001_032711_leftImg8bit.png'\n"
     ]
    },
    {
     "name": "stdout",
     "output_type": "stream",
     "text": [
      "Core: 156, 0 from 1 images processed\n"
     ]
    },
    {
     "name": "stderr",
     "output_type": "stream",
     "text": [
      "Traceback (most recent call last):\n",
      "  File \"/usr0/home/adelgior/code/experimental-instanceseg/instanceseg/ext/panopticapi/evaluation.py\", line 98, in pq_compute_single_core\n",
      "    with Image.open(os.path.join(pred_folder, pred_ann['file_name'])) as img:\n",
      "FileNotFoundError: [Errno 2] No such file or directory: '/home/adelgior/code/upsnet/output/upsnet/cityscapes/upsnet_resnet50_cityscapes_4gpu/val/results/pans_unified/pan_2ch/frankfurt_000001_032942_leftImg8bit.png'\n",
      "  File \"/usr0/home/adelgior/code/experimental-instanceseg/instanceseg/ext/panopticapi/evaluation.py\", line 98, in pq_compute_single_core\n",
      "    with Image.open(os.path.join(pred_folder, pred_ann['file_name'])) as img:\n"
     ]
    },
    {
     "name": "stdout",
     "output_type": "stream",
     "text": [
      "Caught exception in worker thread:\n"
     ]
    },
    {
     "name": "stderr",
     "output_type": "stream",
     "text": [
      "  File \"/home/adelgior/virtualenvs/pytorch4_python3/lib/python3.7/site-packages/PIL/Image.py\", line 2652, in open\n",
      "    fp = builtins.open(filename, \"rb\")\n",
      "Traceback (most recent call last):\n"
     ]
    },
    {
     "name": "stdout",
     "output_type": "stream",
     "text": [
      "Core: 158, 0 from 1 images processed\n"
     ]
    },
    {
     "name": "stderr",
     "output_type": "stream",
     "text": [
      "FileNotFoundError: [Errno 2] No such file or directory: '/home/adelgior/code/upsnet/output/upsnet/cityscapes/upsnet_resnet50_cityscapes_4gpu/val/results/pans_unified/pan_2ch/frankfurt_000001_030067_leftImg8bit.png'\n",
      "Traceback (most recent call last):\n",
      "  File \"/home/adelgior/virtualenvs/pytorch4_python3/lib/python3.7/site-packages/PIL/Image.py\", line 2652, in open\n",
      "    fp = builtins.open(filename, \"rb\")\n",
      "  File \"/home/adelgior/code/fcn-instances-pytorch/instanceseg/ext/panopticapi/utils.py\", line 16, in wrapper\n",
      "    return f(*args, **kwargs)\n"
     ]
    },
    {
     "name": "stdout",
     "output_type": "stream",
     "text": [
      "Core: 159, 0 from 1 images processed\n",
      "Core: 157, 0 from 1 images processed\n"
     ]
    },
    {
     "name": "stderr",
     "output_type": "stream",
     "text": [
      "FileNotFoundError: [Errno 2] No such file or directory: '/home/adelgior/code/upsnet/output/upsnet/cityscapes/upsnet_resnet50_cityscapes_4gpu/val/results/pans_unified/pan_2ch/frankfurt_000001_034047_leftImg8bit.png'\n",
      "  File \"/home/adelgior/virtualenvs/pytorch4_python3/lib/python3.7/site-packages/PIL/Image.py\", line 2652, in open\n",
      "    fp = builtins.open(filename, \"rb\")\n",
      "  File \"/home/adelgior/code/fcn-instances-pytorch/instanceseg/ext/panopticapi/utils.py\", line 16, in wrapper\n",
      "    return f(*args, **kwargs)\n"
     ]
    },
    {
     "name": "stdout",
     "output_type": "stream",
     "text": [
      "Caught exception in worker thread:\n"
     ]
    },
    {
     "name": "stderr",
     "output_type": "stream",
     "text": [
      "FileNotFoundError: [Errno 2] No such file or directory: '/home/adelgior/code/upsnet/output/upsnet/cityscapes/upsnet_resnet50_cityscapes_4gpu/val/results/pans_unified/pan_2ch/frankfurt_000001_032556_leftImg8bit.png'\n",
      "  File \"/usr0/home/adelgior/code/experimental-instanceseg/instanceseg/ext/panopticapi/evaluation.py\", line 98, in pq_compute_single_core\n",
      "    with Image.open(os.path.join(pred_folder, pred_ann['file_name'])) as img:\n"
     ]
    },
    {
     "name": "stdout",
     "output_type": "stream",
     "text": [
      "Caught exception in worker thread:\n",
      "Caught exception in worker thread:\n",
      "Core: 160, 0 from 1 images processed\n"
     ]
    },
    {
     "name": "stderr",
     "output_type": "stream",
     "text": [
      "Traceback (most recent call last):\n"
     ]
    },
    {
     "name": "stdout",
     "output_type": "stream",
     "text": [
      "Caught exception in worker thread:\n"
     ]
    },
    {
     "name": "stderr",
     "output_type": "stream",
     "text": [
      "FileNotFoundError: [Errno 2] No such file or directory: '/home/adelgior/code/upsnet/output/upsnet/cityscapes/upsnet_resnet50_cityscapes_4gpu/val/results/pans_unified/pan_2ch/frankfurt_000001_031416_leftImg8bit.png'\n",
      "  File \"/usr0/home/adelgior/code/experimental-instanceseg/instanceseg/ext/panopticapi/evaluation.py\", line 98, in pq_compute_single_core\n",
      "    with Image.open(os.path.join(pred_folder, pred_ann['file_name'])) as img:\n"
     ]
    },
    {
     "name": "stdout",
     "output_type": "stream",
     "text": [
      "Caught exception in worker thread:\n"
     ]
    },
    {
     "name": "stderr",
     "output_type": "stream",
     "text": [
      "  File \"/home/adelgior/virtualenvs/pytorch4_python3/lib/python3.7/site-packages/PIL/Image.py\", line 2652, in open\n",
      "    fp = builtins.open(filename, \"rb\")\n",
      "  File \"/home/adelgior/virtualenvs/pytorch4_python3/lib/python3.7/site-packages/PIL/Image.py\", line 2652, in open\n",
      "    fp = builtins.open(filename, \"rb\")\n",
      "Traceback (most recent call last):\n"
     ]
    },
    {
     "name": "stdout",
     "output_type": "stream",
     "text": [
      "Caught exception in worker thread:\n"
     ]
    },
    {
     "name": "stderr",
     "output_type": "stream",
     "text": [
      "  File \"/home/adelgior/code/fcn-instances-pytorch/instanceseg/ext/panopticapi/utils.py\", line 16, in wrapper\n",
      "    return f(*args, **kwargs)\n",
      "FileNotFoundError: [Errno 2] No such file or directory: '/home/adelgior/code/upsnet/output/upsnet/cityscapes/upsnet_resnet50_cityscapes_4gpu/val/results/pans_unified/pan_2ch/frankfurt_000001_032018_leftImg8bit.png'\n",
      "Traceback (most recent call last):\n",
      "  File \"/home/adelgior/code/fcn-instances-pytorch/instanceseg/ext/panopticapi/utils.py\", line 16, in wrapper\n",
      "    return f(*args, **kwargs)\n",
      "Traceback (most recent call last):\n"
     ]
    },
    {
     "name": "stdout",
     "output_type": "stream",
     "text": [
      "Caught exception in worker thread:\n"
     ]
    },
    {
     "name": "stderr",
     "output_type": "stream",
     "text": [
      "  File \"/home/adelgior/code/fcn-instances-pytorch/instanceseg/ext/panopticapi/utils.py\", line 16, in wrapper\n",
      "    return f(*args, **kwargs)\n",
      "Traceback (most recent call last):\n"
     ]
    },
    {
     "name": "stdout",
     "output_type": "stream",
     "text": [
      "Core: 161, 0 from 1 images processed\n"
     ]
    },
    {
     "name": "stderr",
     "output_type": "stream",
     "text": [
      "Traceback (most recent call last):\n",
      "  File \"/home/adelgior/code/fcn-instances-pytorch/instanceseg/ext/panopticapi/utils.py\", line 16, in wrapper\n",
      "    return f(*args, **kwargs)\n",
      "  File \"/home/adelgior/code/fcn-instances-pytorch/instanceseg/ext/panopticapi/utils.py\", line 16, in wrapper\n",
      "    return f(*args, **kwargs)\n",
      "Traceback (most recent call last):\n",
      "  File \"/usr0/home/adelgior/code/experimental-instanceseg/instanceseg/ext/panopticapi/evaluation.py\", line 98, in pq_compute_single_core\n",
      "    with Image.open(os.path.join(pred_folder, pred_ann['file_name'])) as img:\n",
      "  File \"/home/adelgior/code/fcn-instances-pytorch/instanceseg/ext/panopticapi/utils.py\", line 16, in wrapper\n",
      "    return f(*args, **kwargs)\n"
     ]
    },
    {
     "name": "stdout",
     "output_type": "stream",
     "text": [
      "Core: 164, 0 from 1 images processed\n"
     ]
    },
    {
     "name": "stderr",
     "output_type": "stream",
     "text": [
      "  File \"/home/adelgior/code/fcn-instances-pytorch/instanceseg/ext/panopticapi/utils.py\", line 16, in wrapper\n",
      "    return f(*args, **kwargs)\n",
      "  File \"/home/adelgior/virtualenvs/pytorch4_python3/lib/python3.7/site-packages/PIL/Image.py\", line 2652, in open\n",
      "    fp = builtins.open(filename, \"rb\")\n"
     ]
    },
    {
     "name": "stdout",
     "output_type": "stream",
     "text": [
      "Core: 165, 0 from 1 images processed\n",
      "Core: 162, 0 from 1 images processed\n",
      "Core: 163, 0 from 1 images processed\n"
     ]
    },
    {
     "name": "stderr",
     "output_type": "stream",
     "text": [
      "  File \"/usr0/home/adelgior/code/experimental-instanceseg/instanceseg/ext/panopticapi/evaluation.py\", line 98, in pq_compute_single_core\n",
      "    with Image.open(os.path.join(pred_folder, pred_ann['file_name'])) as img:\n",
      "  File \"/home/adelgior/code/fcn-instances-pytorch/instanceseg/ext/panopticapi/utils.py\", line 16, in wrapper\n",
      "    return f(*args, **kwargs)\n",
      "  File \"/usr0/home/adelgior/code/experimental-instanceseg/instanceseg/ext/panopticapi/evaluation.py\", line 98, in pq_compute_single_core\n",
      "    with Image.open(os.path.join(pred_folder, pred_ann['file_name'])) as img:\n"
     ]
    },
    {
     "name": "stdout",
     "output_type": "stream",
     "text": [
      "Caught exception in worker thread:\n"
     ]
    },
    {
     "name": "stderr",
     "output_type": "stream",
     "text": [
      "  File \"/usr0/home/adelgior/code/experimental-instanceseg/instanceseg/ext/panopticapi/evaluation.py\", line 98, in pq_compute_single_core\n",
      "    with Image.open(os.path.join(pred_folder, pred_ann['file_name'])) as img:\n"
     ]
    },
    {
     "name": "stdout",
     "output_type": "stream",
     "text": [
      "Caught exception in worker thread:\n"
     ]
    },
    {
     "name": "stderr",
     "output_type": "stream",
     "text": [
      "FileNotFoundError: [Errno 2] No such file or directory: '/home/adelgior/code/upsnet/output/upsnet/cityscapes/upsnet_resnet50_cityscapes_4gpu/val/results/pans_unified/pan_2ch/frankfurt_000001_038844_leftImg8bit.png'\n",
      "  File \"/usr0/home/adelgior/code/experimental-instanceseg/instanceseg/ext/panopticapi/evaluation.py\", line 98, in pq_compute_single_core\n",
      "    with Image.open(os.path.join(pred_folder, pred_ann['file_name'])) as img:\n",
      "  File \"/home/adelgior/virtualenvs/pytorch4_python3/lib/python3.7/site-packages/PIL/Image.py\", line 2652, in open\n",
      "    fp = builtins.open(filename, \"rb\")\n",
      "  File \"/home/adelgior/virtualenvs/pytorch4_python3/lib/python3.7/site-packages/PIL/Image.py\", line 2652, in open\n",
      "    fp = builtins.open(filename, \"rb\")\n",
      "FileNotFoundError: [Errno 2] No such file or directory: '/home/adelgior/code/upsnet/output/upsnet/cityscapes/upsnet_resnet50_cityscapes_4gpu/val/results/pans_unified/pan_2ch/frankfurt_000001_035144_leftImg8bit.png'\n",
      "FileNotFoundError: [Errno 2] No such file or directory: '/home/adelgior/code/upsnet/output/upsnet/cityscapes/upsnet_resnet50_cityscapes_4gpu/val/results/pans_unified/pan_2ch/frankfurt_000001_033655_leftImg8bit.png'\n",
      "  File \"/home/adelgior/virtualenvs/pytorch4_python3/lib/python3.7/site-packages/PIL/Image.py\", line 2652, in open\n",
      "    fp = builtins.open(filename, \"rb\")\n"
     ]
    },
    {
     "name": "stdout",
     "output_type": "stream",
     "text": [
      "Core: 167, 0 from 1 images processed\n"
     ]
    },
    {
     "name": "stderr",
     "output_type": "stream",
     "text": [
      "  File \"/home/adelgior/virtualenvs/pytorch4_python3/lib/python3.7/site-packages/PIL/Image.py\", line 2652, in open\n",
      "    fp = builtins.open(filename, \"rb\")\n"
     ]
    },
    {
     "name": "stdout",
     "output_type": "stream",
     "text": [
      "Caught exception in worker thread:\n"
     ]
    },
    {
     "name": "stderr",
     "output_type": "stream",
     "text": [
      "  File \"/usr0/home/adelgior/code/experimental-instanceseg/instanceseg/ext/panopticapi/evaluation.py\", line 98, in pq_compute_single_core\n",
      "    with Image.open(os.path.join(pred_folder, pred_ann['file_name'])) as img:\n",
      "  File \"/usr0/home/adelgior/code/experimental-instanceseg/instanceseg/ext/panopticapi/evaluation.py\", line 98, in pq_compute_single_core\n",
      "    with Image.open(os.path.join(pred_folder, pred_ann['file_name'])) as img:\n"
     ]
    },
    {
     "name": "stdout",
     "output_type": "stream",
     "text": [
      "Core: 166, 0 from 1 images processed\n"
     ]
    },
    {
     "name": "stderr",
     "output_type": "stream",
     "text": [
      "FileNotFoundError: [Errno 2] No such file or directory: '/home/adelgior/code/upsnet/output/upsnet/cityscapes/upsnet_resnet50_cityscapes_4gpu/val/results/pans_unified/pan_2ch/frankfurt_000001_034816_leftImg8bit.png'\n",
      "FileNotFoundError: [Errno 2] No such file or directory: '/home/adelgior/code/upsnet/output/upsnet/cityscapes/upsnet_resnet50_cityscapes_4gpu/val/results/pans_unified/pan_2ch/frankfurt_000001_038418_leftImg8bit.png'\n",
      "  File \"/usr0/home/adelgior/code/experimental-instanceseg/instanceseg/ext/panopticapi/evaluation.py\", line 98, in pq_compute_single_core\n",
      "    with Image.open(os.path.join(pred_folder, pred_ann['file_name'])) as img:\n",
      "  File \"/home/adelgior/virtualenvs/pytorch4_python3/lib/python3.7/site-packages/PIL/Image.py\", line 2652, in open\n",
      "    fp = builtins.open(filename, \"rb\")\n"
     ]
    },
    {
     "name": "stdout",
     "output_type": "stream",
     "text": [
      "Core: 169, 0 from 1 images processed\n"
     ]
    },
    {
     "name": "stderr",
     "output_type": "stream",
     "text": [
      "FileNotFoundError: [Errno 2] No such file or directory: '/home/adelgior/code/upsnet/output/upsnet/cityscapes/upsnet_resnet50_cityscapes_4gpu/val/results/pans_unified/pan_2ch/frankfurt_000001_040732_leftImg8bit.png'\n",
      "FileNotFoundError: [Errno 2] No such file or directory: '/home/adelgior/code/upsnet/output/upsnet/cityscapes/upsnet_resnet50_cityscapes_4gpu/val/results/pans_unified/pan_2ch/frankfurt_000001_037705_leftImg8bit.png'\n"
     ]
    },
    {
     "name": "stdout",
     "output_type": "stream",
     "text": [
      "Core: 168, 0 from 1 images processed\n"
     ]
    },
    {
     "name": "stderr",
     "output_type": "stream",
     "text": [
      "  File \"/home/adelgior/virtualenvs/pytorch4_python3/lib/python3.7/site-packages/PIL/Image.py\", line 2652, in open\n",
      "    fp = builtins.open(filename, \"rb\")\n",
      "  File \"/home/adelgior/virtualenvs/pytorch4_python3/lib/python3.7/site-packages/PIL/Image.py\", line 2652, in open\n",
      "    fp = builtins.open(filename, \"rb\")\n",
      "Traceback (most recent call last):\n",
      "Traceback (most recent call last):\n",
      "Traceback (most recent call last):\n"
     ]
    },
    {
     "name": "stdout",
     "output_type": "stream",
     "text": [
      "Caught exception in worker thread:\n",
      "Caught exception in worker thread:\n"
     ]
    },
    {
     "name": "stderr",
     "output_type": "stream",
     "text": [
      "FileNotFoundError: [Errno 2] No such file or directory: '/home/adelgior/code/upsnet/output/upsnet/cityscapes/upsnet_resnet50_cityscapes_4gpu/val/results/pans_unified/pan_2ch/frankfurt_000001_035864_leftImg8bit.png'\n"
     ]
    },
    {
     "name": "stdout",
     "output_type": "stream",
     "text": [
      "Core: 171, 0 from 1 images processed\n"
     ]
    },
    {
     "name": "stderr",
     "output_type": "stream",
     "text": [
      "  File \"/home/adelgior/code/fcn-instances-pytorch/instanceseg/ext/panopticapi/utils.py\", line 16, in wrapper\n",
      "    return f(*args, **kwargs)\n",
      "  File \"/home/adelgior/code/fcn-instances-pytorch/instanceseg/ext/panopticapi/utils.py\", line 16, in wrapper\n",
      "    return f(*args, **kwargs)\n",
      "  File \"/usr0/home/adelgior/code/experimental-instanceseg/instanceseg/ext/panopticapi/evaluation.py\", line 98, in pq_compute_single_core\n",
      "    with Image.open(os.path.join(pred_folder, pred_ann['file_name'])) as img:\n"
     ]
    },
    {
     "name": "stdout",
     "output_type": "stream",
     "text": [
      "Caught exception in worker thread:\n"
     ]
    },
    {
     "name": "stderr",
     "output_type": "stream",
     "text": [
      "FileNotFoundError: [Errno 2] No such file or directory: '/home/adelgior/code/upsnet/output/upsnet/cityscapes/upsnet_resnet50_cityscapes_4gpu/val/results/pans_unified/pan_2ch/frankfurt_000001_038245_leftImg8bit.png'\n"
     ]
    },
    {
     "name": "stdout",
     "output_type": "stream",
     "text": [
      "Core: 170, 0 from 1 images processed\n"
     ]
    },
    {
     "name": "stderr",
     "output_type": "stream",
     "text": [
      "  File \"/home/adelgior/virtualenvs/pytorch4_python3/lib/python3.7/site-packages/PIL/Image.py\", line 2652, in open\n",
      "    fp = builtins.open(filename, \"rb\")\n",
      "  File \"/home/adelgior/code/fcn-instances-pytorch/instanceseg/ext/panopticapi/utils.py\", line 16, in wrapper\n",
      "    return f(*args, **kwargs)\n",
      "  File \"/usr0/home/adelgior/code/experimental-instanceseg/instanceseg/ext/panopticapi/evaluation.py\", line 98, in pq_compute_single_core\n",
      "    with Image.open(os.path.join(pred_folder, pred_ann['file_name'])) as img:\n"
     ]
    },
    {
     "name": "stdout",
     "output_type": "stream",
     "text": [
      "Core: 172, 0 from 1 images processed\n"
     ]
    },
    {
     "name": "stderr",
     "output_type": "stream",
     "text": [
      "FileNotFoundError: [Errno 2] No such file or directory: '/home/adelgior/code/upsnet/output/upsnet/cityscapes/upsnet_resnet50_cityscapes_4gpu/val/results/pans_unified/pan_2ch/frankfurt_000001_038645_leftImg8bit.png'\n",
      "  File \"/usr0/home/adelgior/code/experimental-instanceseg/instanceseg/ext/panopticapi/evaluation.py\", line 98, in pq_compute_single_core\n",
      "    with Image.open(os.path.join(pred_folder, pred_ann['file_name'])) as img:\n"
     ]
    },
    {
     "name": "stdout",
     "output_type": "stream",
     "text": [
      "Caught exception in worker thread:\n"
     ]
    },
    {
     "name": "stderr",
     "output_type": "stream",
     "text": [
      "  File \"/home/adelgior/virtualenvs/pytorch4_python3/lib/python3.7/site-packages/PIL/Image.py\", line 2652, in open\n",
      "    fp = builtins.open(filename, \"rb\")\n"
     ]
    },
    {
     "name": "stdout",
     "output_type": "stream",
     "text": [
      "Core: 174, 0 from 1 images processed\n"
     ]
    },
    {
     "name": "stderr",
     "output_type": "stream",
     "text": [
      "Traceback (most recent call last):\n"
     ]
    },
    {
     "name": "stdout",
     "output_type": "stream",
     "text": [
      "Caught exception in worker thread:\n"
     ]
    },
    {
     "name": "stderr",
     "output_type": "stream",
     "text": [
      "Traceback (most recent call last):\n",
      "Traceback (most recent call last):\n",
      "Traceback (most recent call last):\n"
     ]
    },
    {
     "name": "stdout",
     "output_type": "stream",
     "text": [
      "Core: 173, 0 from 1 images processed\n"
     ]
    },
    {
     "name": "stderr",
     "output_type": "stream",
     "text": [
      "  File \"/home/adelgior/virtualenvs/pytorch4_python3/lib/python3.7/site-packages/PIL/Image.py\", line 2652, in open\n",
      "    fp = builtins.open(filename, \"rb\")\n",
      "FileNotFoundError: [Errno 2] No such file or directory: '/home/adelgior/code/upsnet/output/upsnet/cityscapes/upsnet_resnet50_cityscapes_4gpu/val/results/pans_unified/pan_2ch/frankfurt_000001_039895_leftImg8bit.png'\n",
      "  File \"/home/adelgior/code/fcn-instances-pytorch/instanceseg/ext/panopticapi/utils.py\", line 16, in wrapper\n",
      "    return f(*args, **kwargs)\n",
      "  File \"/home/adelgior/code/fcn-instances-pytorch/instanceseg/ext/panopticapi/utils.py\", line 16, in wrapper\n",
      "    return f(*args, **kwargs)\n",
      "  File \"/home/adelgior/code/fcn-instances-pytorch/instanceseg/ext/panopticapi/utils.py\", line 16, in wrapper\n",
      "    return f(*args, **kwargs)\n",
      "  File \"/home/adelgior/code/fcn-instances-pytorch/instanceseg/ext/panopticapi/utils.py\", line 16, in wrapper\n",
      "    return f(*args, **kwargs)\n",
      "FileNotFoundError: [Errno 2] No such file or directory: '/home/adelgior/code/upsnet/output/upsnet/cityscapes/upsnet_resnet50_cityscapes_4gpu/val/results/pans_unified/pan_2ch/frankfurt_000001_040575_leftImg8bit.png'\n",
      "  File \"/usr0/home/adelgior/code/experimental-instanceseg/instanceseg/ext/panopticapi/evaluation.py\", line 98, in pq_compute_single_core\n",
      "    with Image.open(os.path.join(pred_folder, pred_ann['file_name'])) as img:\n"
     ]
    },
    {
     "name": "stdout",
     "output_type": "stream",
     "text": [
      "Caught exception in worker thread:\n"
     ]
    },
    {
     "name": "stderr",
     "output_type": "stream",
     "text": [
      "  File \"/usr0/home/adelgior/code/experimental-instanceseg/instanceseg/ext/panopticapi/evaluation.py\", line 98, in pq_compute_single_core\n",
      "    with Image.open(os.path.join(pred_folder, pred_ann['file_name'])) as img:\n"
     ]
    },
    {
     "name": "stdout",
     "output_type": "stream",
     "text": [
      "Core: 177, 0 from 1 images processed\n"
     ]
    },
    {
     "name": "stderr",
     "output_type": "stream",
     "text": [
      "  File \"/home/adelgior/virtualenvs/pytorch4_python3/lib/python3.7/site-packages/PIL/Image.py\", line 2652, in open\n",
      "    fp = builtins.open(filename, \"rb\")\n",
      "  File \"/home/adelgior/virtualenvs/pytorch4_python3/lib/python3.7/site-packages/PIL/Image.py\", line 2652, in open\n",
      "    fp = builtins.open(filename, \"rb\")\n"
     ]
    },
    {
     "name": "stdout",
     "output_type": "stream",
     "text": [
      "Core: 175, 0 from 1 images processed\n",
      "Core: 176, 0 from 1 images processed\n"
     ]
    },
    {
     "name": "stderr",
     "output_type": "stream",
     "text": [
      "  File \"/usr0/home/adelgior/code/experimental-instanceseg/instanceseg/ext/panopticapi/evaluation.py\", line 98, in pq_compute_single_core\n",
      "    with Image.open(os.path.join(pred_folder, pred_ann['file_name'])) as img:\n",
      "  File \"/usr0/home/adelgior/code/experimental-instanceseg/instanceseg/ext/panopticapi/evaluation.py\", line 98, in pq_compute_single_core\n",
      "    with Image.open(os.path.join(pred_folder, pred_ann['file_name'])) as img:\n",
      "Traceback (most recent call last):\n"
     ]
    },
    {
     "name": "stdout",
     "output_type": "stream",
     "text": [
      "Core: 178, 0 from 1 images processed\n"
     ]
    },
    {
     "name": "stderr",
     "output_type": "stream",
     "text": [
      "FileNotFoundError: [Errno 2] No such file or directory: '/home/adelgior/code/upsnet/output/upsnet/cityscapes/upsnet_resnet50_cityscapes_4gpu/val/results/pans_unified/pan_2ch/frankfurt_000001_041517_leftImg8bit.png'\n",
      "FileNotFoundError: [Errno 2] No such file or directory: '/home/adelgior/code/upsnet/output/upsnet/cityscapes/upsnet_resnet50_cityscapes_4gpu/val/results/pans_unified/pan_2ch/frankfurt_000001_041664_leftImg8bit.png'\n",
      "Traceback (most recent call last):\n",
      "  File \"/home/adelgior/code/fcn-instances-pytorch/instanceseg/ext/panopticapi/utils.py\", line 16, in wrapper\n",
      "    return f(*args, **kwargs)\n",
      "  File \"/usr0/home/adelgior/code/experimental-instanceseg/instanceseg/ext/panopticapi/evaluation.py\", line 98, in pq_compute_single_core\n",
      "    with Image.open(os.path.join(pred_folder, pred_ann['file_name'])) as img:\n",
      "  File \"/home/adelgior/virtualenvs/pytorch4_python3/lib/python3.7/site-packages/PIL/Image.py\", line 2652, in open\n",
      "    fp = builtins.open(filename, \"rb\")\n"
     ]
    },
    {
     "name": "stdout",
     "output_type": "stream",
     "text": [
      "Core: 179, 0 from 1 images processed\n"
     ]
    },
    {
     "name": "stderr",
     "output_type": "stream",
     "text": [
      "  File \"/home/adelgior/virtualenvs/pytorch4_python3/lib/python3.7/site-packages/PIL/Image.py\", line 2652, in open\n",
      "    fp = builtins.open(filename, \"rb\")\n"
     ]
    },
    {
     "name": "stdout",
     "output_type": "stream",
     "text": [
      "Caught exception in worker thread:\n"
     ]
    },
    {
     "name": "stderr",
     "output_type": "stream",
     "text": [
      "FileNotFoundError: [Errno 2] No such file or directory: '/home/adelgior/code/upsnet/output/upsnet/cityscapes/upsnet_resnet50_cityscapes_4gpu/val/results/pans_unified/pan_2ch/frankfurt_000001_041074_leftImg8bit.png'\n",
      "  File \"/home/adelgior/code/fcn-instances-pytorch/instanceseg/ext/panopticapi/utils.py\", line 16, in wrapper\n",
      "    return f(*args, **kwargs)\n",
      "Traceback (most recent call last):\n",
      "FileNotFoundError: [Errno 2] No such file or directory: '/home/adelgior/code/upsnet/output/upsnet/cityscapes/upsnet_resnet50_cityscapes_4gpu/val/results/pans_unified/pan_2ch/frankfurt_000001_041354_leftImg8bit.png'\n"
     ]
    },
    {
     "name": "stdout",
     "output_type": "stream",
     "text": [
      "Core: 180, 0 from 1 images processed\n"
     ]
    },
    {
     "name": "stderr",
     "output_type": "stream",
     "text": [
      "  File \"/usr0/home/adelgior/code/experimental-instanceseg/instanceseg/ext/panopticapi/evaluation.py\", line 98, in pq_compute_single_core\n",
      "    with Image.open(os.path.join(pred_folder, pred_ann['file_name'])) as img:\n",
      "  File \"/home/adelgior/virtualenvs/pytorch4_python3/lib/python3.7/site-packages/PIL/Image.py\", line 2652, in open\n",
      "    fp = builtins.open(filename, \"rb\")\n",
      "  File \"/home/adelgior/virtualenvs/pytorch4_python3/lib/python3.7/site-packages/PIL/Image.py\", line 2652, in open\n",
      "    fp = builtins.open(filename, \"rb\")\n"
     ]
    },
    {
     "name": "stdout",
     "output_type": "stream",
     "text": [
      "Caught exception in worker thread:\n"
     ]
    },
    {
     "name": "stderr",
     "output_type": "stream",
     "text": [
      "FileNotFoundError: [Errno 2] No such file or directory: '/home/adelgior/code/upsnet/output/upsnet/cityscapes/upsnet_resnet50_cityscapes_4gpu/val/results/pans_unified/pan_2ch/frankfurt_000001_042098_leftImg8bit.png'\n",
      "FileNotFoundError: [Errno 2] No such file or directory: '/home/adelgior/code/upsnet/output/upsnet/cityscapes/upsnet_resnet50_cityscapes_4gpu/val/results/pans_unified/pan_2ch/frankfurt_000001_042384_leftImg8bit.png'\n"
     ]
    },
    {
     "name": "stdout",
     "output_type": "stream",
     "text": [
      "Core: 181, 0 from 1 images processed\n"
     ]
    },
    {
     "name": "stderr",
     "output_type": "stream",
     "text": [
      "Traceback (most recent call last):\n"
     ]
    },
    {
     "name": "stdout",
     "output_type": "stream",
     "text": [
      "Core: 182, 0 from 1 images processed\n"
     ]
    },
    {
     "name": "stderr",
     "output_type": "stream",
     "text": [
      "  File \"/home/adelgior/code/fcn-instances-pytorch/instanceseg/ext/panopticapi/utils.py\", line 16, in wrapper\n",
      "    return f(*args, **kwargs)\n"
     ]
    },
    {
     "name": "stdout",
     "output_type": "stream",
     "text": [
      "Core: 183, 0 from 1 images processed\n"
     ]
    },
    {
     "name": "stderr",
     "output_type": "stream",
     "text": [
      "  File \"/home/adelgior/code/fcn-instances-pytorch/instanceseg/ext/panopticapi/utils.py\", line 16, in wrapper\n",
      "    return f(*args, **kwargs)\n"
     ]
    },
    {
     "name": "stdout",
     "output_type": "stream",
     "text": [
      "Core: 184, 0 from 1 images processed\n"
     ]
    },
    {
     "name": "stderr",
     "output_type": "stream",
     "text": [
      "  File \"/usr0/home/adelgior/code/experimental-instanceseg/instanceseg/ext/panopticapi/evaluation.py\", line 98, in pq_compute_single_core\n",
      "    with Image.open(os.path.join(pred_folder, pred_ann['file_name'])) as img:\n",
      "  File \"/usr0/home/adelgior/code/experimental-instanceseg/instanceseg/ext/panopticapi/evaluation.py\", line 98, in pq_compute_single_core\n",
      "    with Image.open(os.path.join(pred_folder, pred_ann['file_name'])) as img:\n",
      "  File \"/home/adelgior/virtualenvs/pytorch4_python3/lib/python3.7/site-packages/PIL/Image.py\", line 2652, in open\n",
      "    fp = builtins.open(filename, \"rb\")\n",
      "  File \"/home/adelgior/virtualenvs/pytorch4_python3/lib/python3.7/site-packages/PIL/Image.py\", line 2652, in open\n",
      "    fp = builtins.open(filename, \"rb\")\n",
      "FileNotFoundError: [Errno 2] No such file or directory: '/home/adelgior/code/upsnet/output/upsnet/cityscapes/upsnet_resnet50_cityscapes_4gpu/val/results/pans_unified/pan_2ch/frankfurt_000001_042733_leftImg8bit.png'\n"
     ]
    },
    {
     "name": "stdout",
     "output_type": "stream",
     "text": [
      "Caught exception in worker thread:\n",
      "Caught exception in worker thread:\n",
      "Caught exception in worker thread:\n"
     ]
    },
    {
     "name": "stderr",
     "output_type": "stream",
     "text": [
      "Traceback (most recent call last):\n",
      "  File \"/home/adelgior/code/fcn-instances-pytorch/instanceseg/ext/panopticapi/utils.py\", line 16, in wrapper\n",
      "    return f(*args, **kwargs)\n"
     ]
    },
    {
     "name": "stdout",
     "output_type": "stream",
     "text": [
      "Caught exception in worker thread:\n",
      "Caught exception in worker thread:\n"
     ]
    },
    {
     "name": "stderr",
     "output_type": "stream",
     "text": [
      "Traceback (most recent call last):\n",
      "Traceback (most recent call last):\n",
      "  File \"/home/adelgior/code/fcn-instances-pytorch/instanceseg/ext/panopticapi/utils.py\", line 16, in wrapper\n",
      "    return f(*args, **kwargs)\n",
      "  File \"/usr0/home/adelgior/code/experimental-instanceseg/instanceseg/ext/panopticapi/evaluation.py\", line 98, in pq_compute_single_core\n",
      "    with Image.open(os.path.join(pred_folder, pred_ann['file_name'])) as img:\n",
      "  File \"/usr0/home/adelgior/code/experimental-instanceseg/instanceseg/ext/panopticapi/evaluation.py\", line 98, in pq_compute_single_core\n",
      "    with Image.open(os.path.join(pred_folder, pred_ann['file_name'])) as img:\n",
      "Traceback (most recent call last):\n"
     ]
    },
    {
     "name": "stdout",
     "output_type": "stream",
     "text": [
      "Caught exception in worker thread:\n"
     ]
    },
    {
     "name": "stderr",
     "output_type": "stream",
     "text": [
      "Traceback (most recent call last):\n",
      "FileNotFoundError: [Errno 2] No such file or directory: '/home/adelgior/code/upsnet/output/upsnet/cityscapes/upsnet_resnet50_cityscapes_4gpu/val/results/pans_unified/pan_2ch/frankfurt_000001_043395_leftImg8bit.png'\n"
     ]
    },
    {
     "name": "stdout",
     "output_type": "stream",
     "text": [
      "Caught exception in worker thread:\n"
     ]
    },
    {
     "name": "stderr",
     "output_type": "stream",
     "text": [
      "  File \"/home/adelgior/virtualenvs/pytorch4_python3/lib/python3.7/site-packages/PIL/Image.py\", line 2652, in open\n",
      "    fp = builtins.open(filename, \"rb\")\n",
      "  File \"/home/adelgior/virtualenvs/pytorch4_python3/lib/python3.7/site-packages/PIL/Image.py\", line 2652, in open\n",
      "    fp = builtins.open(filename, \"rb\")\n"
     ]
    },
    {
     "name": "stdout",
     "output_type": "stream",
     "text": [
      "Core: 185, 0 from 1 images processed\n"
     ]
    },
    {
     "name": "stderr",
     "output_type": "stream",
     "text": [
      "  File \"/home/adelgior/code/fcn-instances-pytorch/instanceseg/ext/panopticapi/utils.py\", line 16, in wrapper\n",
      "    return f(*args, **kwargs)\n",
      "  File \"/home/adelgior/code/fcn-instances-pytorch/instanceseg/ext/panopticapi/utils.py\", line 16, in wrapper\n",
      "    return f(*args, **kwargs)\n",
      "Traceback (most recent call last):\n",
      "Traceback (most recent call last):\n",
      "  File \"/usr0/home/adelgior/code/experimental-instanceseg/instanceseg/ext/panopticapi/evaluation.py\", line 98, in pq_compute_single_core\n",
      "    with Image.open(os.path.join(pred_folder, pred_ann['file_name'])) as img:\n",
      "  File \"/home/adelgior/code/fcn-instances-pytorch/instanceseg/ext/panopticapi/utils.py\", line 16, in wrapper\n",
      "    return f(*args, **kwargs)\n",
      "  File \"/home/adelgior/code/fcn-instances-pytorch/instanceseg/ext/panopticapi/utils.py\", line 16, in wrapper\n",
      "    return f(*args, **kwargs)\n"
     ]
    },
    {
     "name": "stdout",
     "output_type": "stream",
     "text": [
      "Caught exception in worker thread:\n"
     ]
    },
    {
     "name": "stderr",
     "output_type": "stream",
     "text": [
      "  File \"/home/adelgior/virtualenvs/pytorch4_python3/lib/python3.7/site-packages/PIL/Image.py\", line 2652, in open\n",
      "    fp = builtins.open(filename, \"rb\")\n"
     ]
    },
    {
     "name": "stdout",
     "output_type": "stream",
     "text": [
      "Core: 186, 0 from 1 images processed\n"
     ]
    },
    {
     "name": "stderr",
     "output_type": "stream",
     "text": [
      "FileNotFoundError: [Errno 2] No such file or directory: '/home/adelgior/code/upsnet/output/upsnet/cityscapes/upsnet_resnet50_cityscapes_4gpu/val/results/pans_unified/pan_2ch/frankfurt_000001_046504_leftImg8bit.png'\n",
      "  File \"/usr0/home/adelgior/code/experimental-instanceseg/instanceseg/ext/panopticapi/evaluation.py\", line 98, in pq_compute_single_core\n",
      "    with Image.open(os.path.join(pred_folder, pred_ann['file_name'])) as img:\n"
     ]
    },
    {
     "name": "stdout",
     "output_type": "stream",
     "text": [
      "Caught exception in worker thread:\n"
     ]
    },
    {
     "name": "stderr",
     "output_type": "stream",
     "text": [
      "  File \"/home/adelgior/code/fcn-instances-pytorch/instanceseg/ext/panopticapi/utils.py\", line 16, in wrapper\n",
      "    return f(*args, **kwargs)\n"
     ]
    },
    {
     "name": "stdout",
     "output_type": "stream",
     "text": [
      "Caught exception in worker thread:\n"
     ]
    },
    {
     "name": "stderr",
     "output_type": "stream",
     "text": [
      "  File \"/usr0/home/adelgior/code/experimental-instanceseg/instanceseg/ext/panopticapi/evaluation.py\", line 98, in pq_compute_single_core\n",
      "    with Image.open(os.path.join(pred_folder, pred_ann['file_name'])) as img:\n",
      "FileNotFoundError: [Errno 2] No such file or directory: '/home/adelgior/code/upsnet/output/upsnet/cityscapes/upsnet_resnet50_cityscapes_4gpu/val/results/pans_unified/pan_2ch/frankfurt_000001_044525_leftImg8bit.png'\n",
      "FileNotFoundError: [Errno 2] No such file or directory: '/home/adelgior/code/upsnet/output/upsnet/cityscapes/upsnet_resnet50_cityscapes_4gpu/val/results/pans_unified/pan_2ch/frankfurt_000001_044658_leftImg8bit.png'\n",
      "  File \"/usr0/home/adelgior/code/experimental-instanceseg/instanceseg/ext/panopticapi/evaluation.py\", line 98, in pq_compute_single_core\n",
      "    with Image.open(os.path.join(pred_folder, pred_ann['file_name'])) as img:\n",
      "Traceback (most recent call last):\n",
      "  File \"/usr0/home/adelgior/code/experimental-instanceseg/instanceseg/ext/panopticapi/evaluation.py\", line 98, in pq_compute_single_core\n",
      "    with Image.open(os.path.join(pred_folder, pred_ann['file_name'])) as img:\n",
      "  File \"/home/adelgior/code/fcn-instances-pytorch/instanceseg/ext/panopticapi/utils.py\", line 16, in wrapper\n",
      "    return f(*args, **kwargs)\n",
      "  File \"/usr0/home/adelgior/code/experimental-instanceseg/instanceseg/ext/panopticapi/evaluation.py\", line 98, in pq_compute_single_core\n",
      "    with Image.open(os.path.join(pred_folder, pred_ann['file_name'])) as img:\n",
      "Traceback (most recent call last):\n"
     ]
    },
    {
     "name": "stdout",
     "output_type": "stream",
     "text": [
      "Caught exception in worker thread:\n"
     ]
    },
    {
     "name": "stderr",
     "output_type": "stream",
     "text": [
      "  File \"/home/adelgior/virtualenvs/pytorch4_python3/lib/python3.7/site-packages/PIL/Image.py\", line 2652, in open\n",
      "    fp = builtins.open(filename, \"rb\")\n",
      "Traceback (most recent call last):\n"
     ]
    },
    {
     "name": "stdout",
     "output_type": "stream",
     "text": [
      "Caught exception in worker thread:\n",
      "Caught exception in worker thread:\n",
      "Caught exception in worker thread:\n",
      "Caught exception in worker thread:\n"
     ]
    },
    {
     "name": "stderr",
     "output_type": "stream",
     "text": [
      "  File \"/home/adelgior/virtualenvs/pytorch4_python3/lib/python3.7/site-packages/PIL/Image.py\", line 2652, in open\n",
      "    fp = builtins.open(filename, \"rb\")\n",
      "  File \"/home/adelgior/virtualenvs/pytorch4_python3/lib/python3.7/site-packages/PIL/Image.py\", line 2652, in open\n",
      "    fp = builtins.open(filename, \"rb\")\n",
      "  File \"/home/adelgior/virtualenvs/pytorch4_python3/lib/python3.7/site-packages/PIL/Image.py\", line 2652, in open\n",
      "    fp = builtins.open(filename, \"rb\")\n",
      "  File \"/home/adelgior/code/fcn-instances-pytorch/instanceseg/ext/panopticapi/utils.py\", line 16, in wrapper\n",
      "    return f(*args, **kwargs)\n",
      "  File \"/home/adelgior/virtualenvs/pytorch4_python3/lib/python3.7/site-packages/PIL/Image.py\", line 2652, in open\n",
      "    fp = builtins.open(filename, \"rb\")\n",
      "Traceback (most recent call last):\n"
     ]
    },
    {
     "name": "stdout",
     "output_type": "stream",
     "text": [
      "Caught exception in worker thread:\n"
     ]
    },
    {
     "name": "stderr",
     "output_type": "stream",
     "text": [
      "Traceback (most recent call last):\n",
      "FileNotFoundError: [Errno 2] No such file or directory: '/home/adelgior/code/upsnet/output/upsnet/cityscapes/upsnet_resnet50_cityscapes_4gpu/val/results/pans_unified/pan_2ch/frankfurt_000001_046779_leftImg8bit.png'\n",
      "Traceback (most recent call last):\n",
      "Traceback (most recent call last):\n",
      "  File \"/home/adelgior/code/fcn-instances-pytorch/instanceseg/ext/panopticapi/utils.py\", line 16, in wrapper\n",
      "    return f(*args, **kwargs)\n",
      "FileNotFoundError: [Errno 2] No such file or directory: '/home/adelgior/code/upsnet/output/upsnet/cityscapes/upsnet_resnet50_cityscapes_4gpu/val/results/pans_unified/pan_2ch/frankfurt_000001_044413_leftImg8bit.png'\n"
     ]
    },
    {
     "name": "stdout",
     "output_type": "stream",
     "text": [
      "Core: 187, 0 from 1 images processed\n"
     ]
    },
    {
     "name": "stderr",
     "output_type": "stream",
     "text": [
      "FileNotFoundError: [Errno 2] No such file or directory: '/home/adelgior/code/upsnet/output/upsnet/cityscapes/upsnet_resnet50_cityscapes_4gpu/val/results/pans_unified/pan_2ch/frankfurt_000001_046272_leftImg8bit.png'\n",
      "FileNotFoundError: [Errno 2] No such file or directory: '/home/adelgior/code/upsnet/output/upsnet/cityscapes/upsnet_resnet50_cityscapes_4gpu/val/results/pans_unified/pan_2ch/frankfurt_000001_043564_leftImg8bit.png'\n",
      "Traceback (most recent call last):\n",
      "  File \"/usr0/home/adelgior/code/experimental-instanceseg/instanceseg/ext/panopticapi/evaluation.py\", line 98, in pq_compute_single_core\n",
      "    with Image.open(os.path.join(pred_folder, pred_ann['file_name'])) as img:\n",
      "  File \"/home/adelgior/code/fcn-instances-pytorch/instanceseg/ext/panopticapi/utils.py\", line 16, in wrapper\n",
      "    return f(*args, **kwargs)\n",
      "  File \"/home/adelgior/code/fcn-instances-pytorch/instanceseg/ext/panopticapi/utils.py\", line 16, in wrapper\n",
      "    return f(*args, **kwargs)\n",
      "  File \"/usr0/home/adelgior/code/experimental-instanceseg/instanceseg/ext/panopticapi/evaluation.py\", line 98, in pq_compute_single_core\n",
      "    with Image.open(os.path.join(pred_folder, pred_ann['file_name'])) as img:\n",
      "  File \"/home/adelgior/code/fcn-instances-pytorch/instanceseg/ext/panopticapi/utils.py\", line 16, in wrapper\n",
      "    return f(*args, **kwargs)\n"
     ]
    },
    {
     "name": "stdout",
     "output_type": "stream",
     "text": [
      "Core: 188, 0 from 1 images processed\n"
     ]
    },
    {
     "name": "stderr",
     "output_type": "stream",
     "text": [
      "  File \"/usr0/home/adelgior/code/experimental-instanceseg/instanceseg/ext/panopticapi/evaluation.py\", line 98, in pq_compute_single_core\n",
      "    with Image.open(os.path.join(pred_folder, pred_ann['file_name'])) as img:\n",
      "Traceback (most recent call last):\n",
      "  File \"/usr0/home/adelgior/code/experimental-instanceseg/instanceseg/ext/panopticapi/evaluation.py\", line 98, in pq_compute_single_core\n",
      "    with Image.open(os.path.join(pred_folder, pred_ann['file_name'])) as img:\n",
      "  File \"/usr0/home/adelgior/code/experimental-instanceseg/instanceseg/ext/panopticapi/evaluation.py\", line 98, in pq_compute_single_core\n",
      "    with Image.open(os.path.join(pred_folder, pred_ann['file_name'])) as img:\n"
     ]
    },
    {
     "name": "stdout",
     "output_type": "stream",
     "text": [
      "Core: 189, 0 from 1 images processed\n"
     ]
    },
    {
     "name": "stderr",
     "output_type": "stream",
     "text": [
      "  File \"/home/adelgior/code/fcn-instances-pytorch/instanceseg/ext/panopticapi/utils.py\", line 16, in wrapper\n",
      "    return f(*args, **kwargs)\n",
      "  File \"/home/adelgior/virtualenvs/pytorch4_python3/lib/python3.7/site-packages/PIL/Image.py\", line 2652, in open\n",
      "    fp = builtins.open(filename, \"rb\")\n",
      "  File \"/home/adelgior/virtualenvs/pytorch4_python3/lib/python3.7/site-packages/PIL/Image.py\", line 2652, in open\n",
      "    fp = builtins.open(filename, \"rb\")\n",
      "  File \"/home/adelgior/virtualenvs/pytorch4_python3/lib/python3.7/site-packages/PIL/Image.py\", line 2652, in open\n",
      "    fp = builtins.open(filename, \"rb\")\n",
      "FileNotFoundError: [Errno 2] No such file or directory: '/home/adelgior/code/upsnet/output/upsnet/cityscapes/upsnet_resnet50_cityscapes_4gpu/val/results/pans_unified/pan_2ch/frankfurt_000001_046126_leftImg8bit.png'\n",
      "  File \"/home/adelgior/virtualenvs/pytorch4_python3/lib/python3.7/site-packages/PIL/Image.py\", line 2652, in open\n",
      "    fp = builtins.open(filename, \"rb\")\n",
      "FileNotFoundError: [Errno 2] No such file or directory: '/home/adelgior/code/upsnet/output/upsnet/cityscapes/upsnet_resnet50_cityscapes_4gpu/val/results/pans_unified/pan_2ch/frankfurt_000001_049078_leftImg8bit.png'\n",
      "  File \"/home/adelgior/code/fcn-instances-pytorch/instanceseg/ext/panopticapi/utils.py\", line 16, in wrapper\n",
      "    return f(*args, **kwargs)\n",
      "FileNotFoundError: [Errno 2] No such file or directory: '/home/adelgior/code/upsnet/output/upsnet/cityscapes/upsnet_resnet50_cityscapes_4gpu/val/results/pans_unified/pan_2ch/frankfurt_000001_047552_leftImg8bit.png'\n",
      "  File \"/home/adelgior/virtualenvs/pytorch4_python3/lib/python3.7/site-packages/PIL/Image.py\", line 2652, in open\n",
      "    fp = builtins.open(filename, \"rb\")\n",
      "  File \"/home/adelgior/code/fcn-instances-pytorch/instanceseg/ext/panopticapi/utils.py\", line 16, in wrapper\n",
      "    return f(*args, **kwargs)\n",
      "FileNotFoundError: [Errno 2] No such file or directory: '/home/adelgior/code/upsnet/output/upsnet/cityscapes/upsnet_resnet50_cityscapes_4gpu/val/results/pans_unified/pan_2ch/frankfurt_000001_044227_leftImg8bit.png'\n",
      "  File \"/usr0/home/adelgior/code/experimental-instanceseg/instanceseg/ext/panopticapi/evaluation.py\", line 98, in pq_compute_single_core\n",
      "    with Image.open(os.path.join(pred_folder, pred_ann['file_name'])) as img:\n"
     ]
    },
    {
     "name": "stdout",
     "output_type": "stream",
     "text": [
      "Core: 191, 0 from 1 images processed\n"
     ]
    },
    {
     "name": "stderr",
     "output_type": "stream",
     "text": [
      "FileNotFoundError: [Errno 2] No such file or directory: '/home/adelgior/code/upsnet/output/upsnet/cityscapes/upsnet_resnet50_cityscapes_4gpu/val/results/pans_unified/pan_2ch/frankfurt_000001_048654_leftImg8bit.png'\n"
     ]
    },
    {
     "name": "stdout",
     "output_type": "stream",
     "text": [
      "Core: 193, 0 from 1 images processed\n"
     ]
    },
    {
     "name": "stderr",
     "output_type": "stream",
     "text": [
      "  File \"/home/adelgior/virtualenvs/pytorch4_python3/lib/python3.7/site-packages/PIL/Image.py\", line 2652, in open\n",
      "    fp = builtins.open(filename, \"rb\")\n"
     ]
    },
    {
     "name": "stdout",
     "output_type": "stream",
     "text": [
      "Core: 190, 0 from 1 images processed\n"
     ]
    },
    {
     "name": "stderr",
     "output_type": "stream",
     "text": [
      "FileNotFoundError: [Errno 2] No such file or directory: '/home/adelgior/code/upsnet/output/upsnet/cityscapes/upsnet_resnet50_cityscapes_4gpu/val/results/pans_unified/pan_2ch/frankfurt_000001_048196_leftImg8bit.png'\n"
     ]
    },
    {
     "name": "stdout",
     "output_type": "stream",
     "text": [
      "Caught exception in worker thread:\n"
     ]
    },
    {
     "name": "stderr",
     "output_type": "stream",
     "text": [
      "FileNotFoundError: [Errno 2] No such file or directory: '/home/adelgior/code/upsnet/output/upsnet/cityscapes/upsnet_resnet50_cityscapes_4gpu/val/results/pans_unified/pan_2ch/frankfurt_000001_047178_leftImg8bit.png'\n",
      "  File \"/usr0/home/adelgior/code/experimental-instanceseg/instanceseg/ext/panopticapi/evaluation.py\", line 98, in pq_compute_single_core\n",
      "    with Image.open(os.path.join(pred_folder, pred_ann['file_name'])) as img:\n"
     ]
    },
    {
     "name": "stdout",
     "output_type": "stream",
     "text": [
      "Core: 192, 0 from 1 images processed\n",
      "Caught exception in worker thread:\n"
     ]
    },
    {
     "name": "stderr",
     "output_type": "stream",
     "text": [
      "  File \"/usr0/home/adelgior/code/experimental-instanceseg/instanceseg/ext/panopticapi/evaluation.py\", line 98, in pq_compute_single_core\n",
      "    with Image.open(os.path.join(pred_folder, pred_ann['file_name'])) as img:\n",
      "Traceback (most recent call last):\n",
      "  File \"/home/adelgior/virtualenvs/pytorch4_python3/lib/python3.7/site-packages/PIL/Image.py\", line 2652, in open\n",
      "    fp = builtins.open(filename, \"rb\")\n",
      "  File \"/home/adelgior/virtualenvs/pytorch4_python3/lib/python3.7/site-packages/PIL/Image.py\", line 2652, in open\n",
      "    fp = builtins.open(filename, \"rb\")\n"
     ]
    },
    {
     "name": "stdout",
     "output_type": "stream",
     "text": [
      "Core: 194, 0 from 1 images processed\n"
     ]
    },
    {
     "name": "stderr",
     "output_type": "stream",
     "text": [
      "FileNotFoundError: [Errno 2] No such file or directory: '/home/adelgior/code/upsnet/output/upsnet/cityscapes/upsnet_resnet50_cityscapes_4gpu/val/results/pans_unified/pan_2ch/frankfurt_000001_044787_leftImg8bit.png'\n"
     ]
    },
    {
     "name": "stdout",
     "output_type": "stream",
     "text": [
      "Core: 196, 0 from 1 images processed\n"
     ]
    },
    {
     "name": "stderr",
     "output_type": "stream",
     "text": [
      "  File \"/home/adelgior/code/fcn-instances-pytorch/instanceseg/ext/panopticapi/utils.py\", line 16, in wrapper\n",
      "    return f(*args, **kwargs)\n"
     ]
    },
    {
     "name": "stdout",
     "output_type": "stream",
     "text": [
      "Core: 197, 0 from 1 images processed\n",
      "Caught exception in worker thread:\n",
      "Caught exception in worker thread:\n",
      "Core: 195, 0 from 1 images processed\n"
     ]
    },
    {
     "name": "stderr",
     "output_type": "stream",
     "text": [
      "Traceback (most recent call last):\n",
      "Traceback (most recent call last):\n"
     ]
    },
    {
     "name": "stdout",
     "output_type": "stream",
     "text": [
      "Core: 200, 0 from 1 images processed\n",
      "Core: 199, 0 from 1 images processed\n"
     ]
    },
    {
     "name": "stderr",
     "output_type": "stream",
     "text": [
      "  File \"/home/adelgior/code/fcn-instances-pytorch/instanceseg/ext/panopticapi/utils.py\", line 16, in wrapper\n",
      "    return f(*args, **kwargs)\n"
     ]
    },
    {
     "name": "stdout",
     "output_type": "stream",
     "text": [
      "Caught exception in worker thread:\n"
     ]
    },
    {
     "name": "stderr",
     "output_type": "stream",
     "text": [
      "Traceback (most recent call last):\n",
      "  File \"/home/adelgior/code/fcn-instances-pytorch/instanceseg/ext/panopticapi/utils.py\", line 16, in wrapper\n",
      "    return f(*args, **kwargs)\n",
      "FileNotFoundError: [Errno 2] No such file or directory: '/home/adelgior/code/upsnet/output/upsnet/cityscapes/upsnet_resnet50_cityscapes_4gpu/val/results/pans_unified/pan_2ch/frankfurt_000001_048355_leftImg8bit.png'\n",
      "  File \"/usr0/home/adelgior/code/experimental-instanceseg/instanceseg/ext/panopticapi/evaluation.py\", line 98, in pq_compute_single_core\n",
      "    with Image.open(os.path.join(pred_folder, pred_ann['file_name'])) as img:\n"
     ]
    },
    {
     "name": "stdout",
     "output_type": "stream",
     "text": [
      "Core: 201, 0 from 1 images processed\n"
     ]
    },
    {
     "name": "stderr",
     "output_type": "stream",
     "text": [
      "Traceback (most recent call last):\n",
      "  File \"/home/adelgior/code/fcn-instances-pytorch/instanceseg/ext/panopticapi/utils.py\", line 16, in wrapper\n",
      "    return f(*args, **kwargs)\n"
     ]
    },
    {
     "name": "stdout",
     "output_type": "stream",
     "text": [
      "Caught exception in worker thread:\n",
      "Caught exception in worker thread:\n"
     ]
    },
    {
     "name": "stderr",
     "output_type": "stream",
     "text": [
      "Traceback (most recent call last):\n"
     ]
    },
    {
     "name": "stdout",
     "output_type": "stream",
     "text": [
      "Core: 198, 0 from 1 images processed\n"
     ]
    },
    {
     "name": "stderr",
     "output_type": "stream",
     "text": [
      "  File \"/home/adelgior/code/fcn-instances-pytorch/instanceseg/ext/panopticapi/utils.py\", line 16, in wrapper\n",
      "    return f(*args, **kwargs)\n",
      "  File \"/usr0/home/adelgior/code/experimental-instanceseg/instanceseg/ext/panopticapi/evaluation.py\", line 98, in pq_compute_single_core\n",
      "    with Image.open(os.path.join(pred_folder, pred_ann['file_name'])) as img:\n",
      "  File \"/home/adelgior/code/fcn-instances-pytorch/instanceseg/ext/panopticapi/utils.py\", line 16, in wrapper\n",
      "    return f(*args, **kwargs)\n",
      "  File \"/usr0/home/adelgior/code/experimental-instanceseg/instanceseg/ext/panopticapi/evaluation.py\", line 98, in pq_compute_single_core\n",
      "    with Image.open(os.path.join(pred_folder, pred_ann['file_name'])) as img:\n",
      "  File \"/usr0/home/adelgior/code/experimental-instanceseg/instanceseg/ext/panopticapi/evaluation.py\", line 98, in pq_compute_single_core\n",
      "    with Image.open(os.path.join(pred_folder, pred_ann['file_name'])) as img:\n",
      "  File \"/home/adelgior/virtualenvs/pytorch4_python3/lib/python3.7/site-packages/PIL/Image.py\", line 2652, in open\n",
      "    fp = builtins.open(filename, \"rb\")\n",
      "  File \"/home/adelgior/virtualenvs/pytorch4_python3/lib/python3.7/site-packages/PIL/Image.py\", line 2652, in open\n",
      "    fp = builtins.open(filename, \"rb\")\n",
      "FileNotFoundError: [Errno 2] No such file or directory: '/home/adelgior/code/upsnet/output/upsnet/cityscapes/upsnet_resnet50_cityscapes_4gpu/val/results/pans_unified/pan_2ch/frankfurt_000001_049298_leftImg8bit.png'\n",
      "  File \"/home/adelgior/virtualenvs/pytorch4_python3/lib/python3.7/site-packages/PIL/Image.py\", line 2652, in open\n",
      "    fp = builtins.open(filename, \"rb\")\n"
     ]
    },
    {
     "name": "stdout",
     "output_type": "stream",
     "text": [
      "Core: 202, 0 from 1 images processed\n"
     ]
    },
    {
     "name": "stderr",
     "output_type": "stream",
     "text": [
      "  File \"/usr0/home/adelgior/code/experimental-instanceseg/instanceseg/ext/panopticapi/evaluation.py\", line 98, in pq_compute_single_core\n",
      "    with Image.open(os.path.join(pred_folder, pred_ann['file_name'])) as img:\n",
      "  File \"/usr0/home/adelgior/code/experimental-instanceseg/instanceseg/ext/panopticapi/evaluation.py\", line 98, in pq_compute_single_core\n",
      "    with Image.open(os.path.join(pred_folder, pred_ann['file_name'])) as img:\n"
     ]
    },
    {
     "name": "stdout",
     "output_type": "stream",
     "text": [
      "Caught exception in worker thread:\n"
     ]
    },
    {
     "name": "stderr",
     "output_type": "stream",
     "text": [
      "  File \"/home/adelgior/virtualenvs/pytorch4_python3/lib/python3.7/site-packages/PIL/Image.py\", line 2652, in open\n",
      "    fp = builtins.open(filename, \"rb\")\n",
      "  File \"/home/adelgior/virtualenvs/pytorch4_python3/lib/python3.7/site-packages/PIL/Image.py\", line 2652, in open\n",
      "    fp = builtins.open(filename, \"rb\")\n",
      "Traceback (most recent call last):\n"
     ]
    },
    {
     "name": "stdout",
     "output_type": "stream",
     "text": [
      "Caught exception in worker thread:\n"
     ]
    },
    {
     "name": "stderr",
     "output_type": "stream",
     "text": [
      "  File \"/home/adelgior/virtualenvs/pytorch4_python3/lib/python3.7/site-packages/PIL/Image.py\", line 2652, in open\n",
      "    fp = builtins.open(filename, \"rb\")\n",
      "FileNotFoundError: [Errno 2] No such file or directory: '/home/adelgior/code/upsnet/output/upsnet/cityscapes/upsnet_resnet50_cityscapes_4gpu/val/results/pans_unified/pan_2ch/frankfurt_000001_051516_leftImg8bit.png'\n",
      "FileNotFoundError: [Errno 2] No such file or directory: '/home/adelgior/code/upsnet/output/upsnet/cityscapes/upsnet_resnet50_cityscapes_4gpu/val/results/pans_unified/pan_2ch/frankfurt_000001_049209_leftImg8bit.png'\n",
      "FileNotFoundError: [Errno 2] No such file or directory: '/home/adelgior/code/upsnet/output/upsnet/cityscapes/upsnet_resnet50_cityscapes_4gpu/val/results/pans_unified/pan_2ch/frankfurt_000001_049698_leftImg8bit.png'\n",
      "  File \"/home/adelgior/code/fcn-instances-pytorch/instanceseg/ext/panopticapi/utils.py\", line 16, in wrapper\n",
      "    return f(*args, **kwargs)\n",
      "FileNotFoundError: [Errno 2] No such file or directory: '/home/adelgior/code/upsnet/output/upsnet/cityscapes/upsnet_resnet50_cityscapes_4gpu/val/results/pans_unified/pan_2ch/frankfurt_000001_050686_leftImg8bit.png'\n",
      "Traceback (most recent call last):\n"
     ]
    },
    {
     "name": "stdout",
     "output_type": "stream",
     "text": [
      "Caught exception in worker thread:\n"
     ]
    },
    {
     "name": "stderr",
     "output_type": "stream",
     "text": [
      "Traceback (most recent call last):\n",
      "  File \"/usr0/home/adelgior/code/experimental-instanceseg/instanceseg/ext/panopticapi/evaluation.py\", line 98, in pq_compute_single_core\n",
      "    with Image.open(os.path.join(pred_folder, pred_ann['file_name'])) as img:\n",
      "  File \"/home/adelgior/code/fcn-instances-pytorch/instanceseg/ext/panopticapi/utils.py\", line 16, in wrapper\n",
      "    return f(*args, **kwargs)\n",
      "FileNotFoundError: [Errno 2] No such file or directory: '/home/adelgior/code/upsnet/output/upsnet/cityscapes/upsnet_resnet50_cityscapes_4gpu/val/results/pans_unified/pan_2ch/frankfurt_000001_049770_leftImg8bit.png'\n"
     ]
    },
    {
     "name": "stdout",
     "output_type": "stream",
     "text": [
      "Core: 203, 0 from 1 images processed\n"
     ]
    },
    {
     "name": "stderr",
     "output_type": "stream",
     "text": [
      "Traceback (most recent call last):\n",
      "  File \"/home/adelgior/code/fcn-instances-pytorch/instanceseg/ext/panopticapi/utils.py\", line 16, in wrapper\n",
      "    return f(*args, **kwargs)\n",
      "  File \"/usr0/home/adelgior/code/experimental-instanceseg/instanceseg/ext/panopticapi/evaluation.py\", line 98, in pq_compute_single_core\n",
      "    with Image.open(os.path.join(pred_folder, pred_ann['file_name'])) as img:\n"
     ]
    },
    {
     "name": "stdout",
     "output_type": "stream",
     "text": [
      "Core: 204, 0 from 1 images processed\n",
      "Caught exception in worker thread:\n",
      "Core: 205, 0 from 1 images processed\n",
      "Core: 206, 0 from 1 images processed\n"
     ]
    },
    {
     "name": "stderr",
     "output_type": "stream",
     "text": [
      "  File \"/usr0/home/adelgior/code/experimental-instanceseg/instanceseg/ext/panopticapi/evaluation.py\", line 98, in pq_compute_single_core\n",
      "    with Image.open(os.path.join(pred_folder, pred_ann['file_name'])) as img:\n"
     ]
    },
    {
     "name": "stdout",
     "output_type": "stream",
     "text": [
      "Core: 207, 0 from 1 images processed\n",
      "Caught exception in worker thread:\n"
     ]
    },
    {
     "name": "stderr",
     "output_type": "stream",
     "text": [
      "  File \"/home/adelgior/virtualenvs/pytorch4_python3/lib/python3.7/site-packages/PIL/Image.py\", line 2652, in open\n",
      "    fp = builtins.open(filename, \"rb\")\n",
      "  File \"/home/adelgior/code/fcn-instances-pytorch/instanceseg/ext/panopticapi/utils.py\", line 16, in wrapper\n",
      "    return f(*args, **kwargs)\n",
      "  File \"/home/adelgior/virtualenvs/pytorch4_python3/lib/python3.7/site-packages/PIL/Image.py\", line 2652, in open\n",
      "    fp = builtins.open(filename, \"rb\")\n"
     ]
    },
    {
     "name": "stdout",
     "output_type": "stream",
     "text": [
      "Caught exception in worker thread:\n"
     ]
    },
    {
     "name": "stderr",
     "output_type": "stream",
     "text": [
      "Traceback (most recent call last):\n",
      "Traceback (most recent call last):\n",
      "  File \"/usr0/home/adelgior/code/experimental-instanceseg/instanceseg/ext/panopticapi/evaluation.py\", line 98, in pq_compute_single_core\n",
      "    with Image.open(os.path.join(pred_folder, pred_ann['file_name'])) as img:\n"
     ]
    },
    {
     "name": "stdout",
     "output_type": "stream",
     "text": [
      "Core: 208, 0 from 1 images processed\n"
     ]
    },
    {
     "name": "stderr",
     "output_type": "stream",
     "text": [
      "  File \"/home/adelgior/virtualenvs/pytorch4_python3/lib/python3.7/site-packages/PIL/Image.py\", line 2652, in open\n",
      "    fp = builtins.open(filename, \"rb\")\n",
      "FileNotFoundError: [Errno 2] No such file or directory: '/home/adelgior/code/upsnet/output/upsnet/cityscapes/upsnet_resnet50_cityscapes_4gpu/val/results/pans_unified/pan_2ch/frankfurt_000001_050149_leftImg8bit.png'\n",
      "  File \"/home/adelgior/code/fcn-instances-pytorch/instanceseg/ext/panopticapi/utils.py\", line 16, in wrapper\n",
      "    return f(*args, **kwargs)\n",
      "  File \"/home/adelgior/code/fcn-instances-pytorch/instanceseg/ext/panopticapi/utils.py\", line 16, in wrapper\n",
      "    return f(*args, **kwargs)\n",
      "  File \"/usr0/home/adelgior/code/experimental-instanceseg/instanceseg/ext/panopticapi/evaluation.py\", line 98, in pq_compute_single_core\n",
      "    with Image.open(os.path.join(pred_folder, pred_ann['file_name'])) as img:\n",
      "  File \"/home/adelgior/virtualenvs/pytorch4_python3/lib/python3.7/site-packages/PIL/Image.py\", line 2652, in open\n",
      "    fp = builtins.open(filename, \"rb\")\n",
      "FileNotFoundError: [Errno 2] No such file or directory: '/home/adelgior/code/upsnet/output/upsnet/cityscapes/upsnet_resnet50_cityscapes_4gpu/val/results/pans_unified/pan_2ch/frankfurt_000001_051807_leftImg8bit.png'\n"
     ]
    },
    {
     "name": "stdout",
     "output_type": "stream",
     "text": [
      "Core: 209, 0 from 1 images processed\n"
     ]
    },
    {
     "name": "stderr",
     "output_type": "stream",
     "text": [
      "FileNotFoundError: [Errno 2] No such file or directory: '/home/adelgior/code/upsnet/output/upsnet/cityscapes/upsnet_resnet50_cityscapes_4gpu/val/results/pans_unified/pan_2ch/frankfurt_000001_052594_leftImg8bit.png'\n",
      "FileNotFoundError: [Errno 2] No such file or directory: '/home/adelgior/code/upsnet/output/upsnet/cityscapes/upsnet_resnet50_cityscapes_4gpu/val/results/pans_unified/pan_2ch/frankfurt_000001_051737_leftImg8bit.png'\n",
      "  File \"/usr0/home/adelgior/code/experimental-instanceseg/instanceseg/ext/panopticapi/evaluation.py\", line 98, in pq_compute_single_core\n",
      "    with Image.open(os.path.join(pred_folder, pred_ann['file_name'])) as img:\n",
      "  File \"/home/adelgior/virtualenvs/pytorch4_python3/lib/python3.7/site-packages/PIL/Image.py\", line 2652, in open\n",
      "    fp = builtins.open(filename, \"rb\")\n",
      "Traceback (most recent call last):\n",
      "  File \"/home/adelgior/virtualenvs/pytorch4_python3/lib/python3.7/site-packages/PIL/Image.py\", line 2652, in open\n",
      "    fp = builtins.open(filename, \"rb\")\n"
     ]
    },
    {
     "name": "stdout",
     "output_type": "stream",
     "text": [
      "Core: 210, 0 from 1 images processed\n"
     ]
    },
    {
     "name": "stderr",
     "output_type": "stream",
     "text": [
      "  File \"/home/adelgior/code/fcn-instances-pytorch/instanceseg/ext/panopticapi/utils.py\", line 16, in wrapper\n",
      "    return f(*args, **kwargs)\n",
      "FileNotFoundError: [Errno 2] No such file or directory: '/home/adelgior/code/upsnet/output/upsnet/cityscapes/upsnet_resnet50_cityscapes_4gpu/val/results/pans_unified/pan_2ch/frankfurt_000001_054077_leftImg8bit.png'\n",
      "  File \"/usr0/home/adelgior/code/experimental-instanceseg/instanceseg/ext/panopticapi/evaluation.py\", line 98, in pq_compute_single_core\n",
      "    with Image.open(os.path.join(pred_folder, pred_ann['file_name'])) as img:\n",
      "  File \"/home/adelgior/virtualenvs/pytorch4_python3/lib/python3.7/site-packages/PIL/Image.py\", line 2652, in open\n",
      "    fp = builtins.open(filename, \"rb\")\n",
      "FileNotFoundError: [Errno 2] No such file or directory: '/home/adelgior/code/upsnet/output/upsnet/cityscapes/upsnet_resnet50_cityscapes_4gpu/val/results/pans_unified/pan_2ch/frankfurt_000001_052120_leftImg8bit.png'\n"
     ]
    },
    {
     "name": "stdout",
     "output_type": "stream",
     "text": [
      "Core: 211, 0 from 1 images processed\n",
      "Caught exception in worker thread:\n",
      "Core: 212, 0 from 1 images processed\n"
     ]
    },
    {
     "name": "stderr",
     "output_type": "stream",
     "text": [
      "FileNotFoundError: [Errno 2] No such file or directory: '/home/adelgior/code/upsnet/output/upsnet/cityscapes/upsnet_resnet50_cityscapes_4gpu/val/results/pans_unified/pan_2ch/frankfurt_000001_053102_leftImg8bit.png'\n"
     ]
    },
    {
     "name": "stdout",
     "output_type": "stream",
     "text": [
      "Core: 213, 0 from 1 images processed\n",
      "Caught exception in worker thread:\n"
     ]
    },
    {
     "name": "stderr",
     "output_type": "stream",
     "text": [
      "Traceback (most recent call last):\n"
     ]
    },
    {
     "name": "stdout",
     "output_type": "stream",
     "text": [
      "Core: 214, 0 from 1 images processed\n"
     ]
    },
    {
     "name": "stderr",
     "output_type": "stream",
     "text": [
      "  File \"/home/adelgior/code/fcn-instances-pytorch/instanceseg/ext/panopticapi/utils.py\", line 16, in wrapper\n",
      "    return f(*args, **kwargs)\n",
      "Traceback (most recent call last):\n"
     ]
    },
    {
     "name": "stdout",
     "output_type": "stream",
     "text": [
      "Core: 215, 0 from 1 images processed\n",
      "Caught exception in worker thread:\n"
     ]
    },
    {
     "name": "stderr",
     "output_type": "stream",
     "text": [
      "  File \"/home/adelgior/code/fcn-instances-pytorch/instanceseg/ext/panopticapi/utils.py\", line 16, in wrapper\n",
      "    return f(*args, **kwargs)\n",
      "  File \"/usr0/home/adelgior/code/experimental-instanceseg/instanceseg/ext/panopticapi/evaluation.py\", line 98, in pq_compute_single_core\n",
      "    with Image.open(os.path.join(pred_folder, pred_ann['file_name'])) as img:\n"
     ]
    },
    {
     "name": "stdout",
     "output_type": "stream",
     "text": [
      "Caught exception in worker thread:\n"
     ]
    },
    {
     "name": "stderr",
     "output_type": "stream",
     "text": [
      "  File \"/usr0/home/adelgior/code/experimental-instanceseg/instanceseg/ext/panopticapi/evaluation.py\", line 98, in pq_compute_single_core\n",
      "    with Image.open(os.path.join(pred_folder, pred_ann['file_name'])) as img:\n"
     ]
    },
    {
     "name": "stdout",
     "output_type": "stream",
     "text": [
      "Caught exception in worker thread:\n"
     ]
    },
    {
     "name": "stderr",
     "output_type": "stream",
     "text": [
      "Traceback (most recent call last):\n",
      "Traceback (most recent call last):\n",
      "  File \"/home/adelgior/virtualenvs/pytorch4_python3/lib/python3.7/site-packages/PIL/Image.py\", line 2652, in open\n",
      "    fp = builtins.open(filename, \"rb\")\n",
      "  File \"/home/adelgior/code/fcn-instances-pytorch/instanceseg/ext/panopticapi/utils.py\", line 16, in wrapper\n",
      "    return f(*args, **kwargs)\n",
      "  File \"/home/adelgior/virtualenvs/pytorch4_python3/lib/python3.7/site-packages/PIL/Image.py\", line 2652, in open\n",
      "    fp = builtins.open(filename, \"rb\")\n"
     ]
    },
    {
     "name": "stdout",
     "output_type": "stream",
     "text": [
      "Caught exception in worker thread:\n"
     ]
    },
    {
     "name": "stderr",
     "output_type": "stream",
     "text": [
      "Traceback (most recent call last):\n",
      "FileNotFoundError: [Errno 2] No such file or directory: '/home/adelgior/code/upsnet/output/upsnet/cityscapes/upsnet_resnet50_cityscapes_4gpu/val/results/pans_unified/pan_2ch/frankfurt_000001_054219_leftImg8bit.png'\n",
      "FileNotFoundError: [Errno 2] No such file or directory: '/home/adelgior/code/upsnet/output/upsnet/cityscapes/upsnet_resnet50_cityscapes_4gpu/val/results/pans_unified/pan_2ch/frankfurt_000001_054415_leftImg8bit.png'\n",
      "Traceback (most recent call last):\n",
      "  File \"/home/adelgior/code/fcn-instances-pytorch/instanceseg/ext/panopticapi/utils.py\", line 16, in wrapper\n",
      "    return f(*args, **kwargs)\n",
      "  File \"/home/adelgior/code/fcn-instances-pytorch/instanceseg/ext/panopticapi/utils.py\", line 16, in wrapper\n",
      "    return f(*args, **kwargs)\n",
      "  File \"/home/adelgior/code/fcn-instances-pytorch/instanceseg/ext/panopticapi/utils.py\", line 16, in wrapper\n",
      "    return f(*args, **kwargs)\n"
     ]
    },
    {
     "name": "stdout",
     "output_type": "stream",
     "text": [
      "Caught exception in worker thread:\n"
     ]
    },
    {
     "name": "stderr",
     "output_type": "stream",
     "text": [
      "  File \"/usr0/home/adelgior/code/experimental-instanceseg/instanceseg/ext/panopticapi/evaluation.py\", line 98, in pq_compute_single_core\n",
      "    with Image.open(os.path.join(pred_folder, pred_ann['file_name'])) as img:\n",
      "  File \"/usr0/home/adelgior/code/experimental-instanceseg/instanceseg/ext/panopticapi/evaluation.py\", line 98, in pq_compute_single_core\n",
      "    with Image.open(os.path.join(pred_folder, pred_ann['file_name'])) as img:\n",
      "  File \"/usr0/home/adelgior/code/experimental-instanceseg/instanceseg/ext/panopticapi/evaluation.py\", line 98, in pq_compute_single_core\n",
      "    with Image.open(os.path.join(pred_folder, pred_ann['file_name'])) as img:\n",
      "  File \"/home/adelgior/virtualenvs/pytorch4_python3/lib/python3.7/site-packages/PIL/Image.py\", line 2652, in open\n",
      "    fp = builtins.open(filename, \"rb\")\n",
      "  File \"/usr0/home/adelgior/code/experimental-instanceseg/instanceseg/ext/panopticapi/evaluation.py\", line 98, in pq_compute_single_core\n",
      "    with Image.open(os.path.join(pred_folder, pred_ann['file_name'])) as img:\n",
      "  File \"/home/adelgior/virtualenvs/pytorch4_python3/lib/python3.7/site-packages/PIL/Image.py\", line 2652, in open\n",
      "    fp = builtins.open(filename, \"rb\")\n",
      "  File \"/home/adelgior/virtualenvs/pytorch4_python3/lib/python3.7/site-packages/PIL/Image.py\", line 2652, in open\n",
      "    fp = builtins.open(filename, \"rb\")\n",
      "  File \"/home/adelgior/virtualenvs/pytorch4_python3/lib/python3.7/site-packages/PIL/Image.py\", line 2652, in open\n",
      "    fp = builtins.open(filename, \"rb\")\n",
      "FileNotFoundError: [Errno 2] No such file or directory: '/home/adelgior/code/upsnet/output/upsnet/cityscapes/upsnet_resnet50_cityscapes_4gpu/val/results/pans_unified/pan_2ch/frankfurt_000001_055172_leftImg8bit.png'\n"
     ]
    },
    {
     "name": "stdout",
     "output_type": "stream",
     "text": [
      "Caught exception in worker thread:\n"
     ]
    },
    {
     "name": "stderr",
     "output_type": "stream",
     "text": [
      "Traceback (most recent call last):\n"
     ]
    },
    {
     "name": "stdout",
     "output_type": "stream",
     "text": [
      "Caught exception in worker thread:\n",
      "Core: 216, 0 from 1 images processed\n",
      "Caught exception in worker thread:\n"
     ]
    },
    {
     "name": "stderr",
     "output_type": "stream",
     "text": [
      "  File \"/home/adelgior/code/fcn-instances-pytorch/instanceseg/ext/panopticapi/utils.py\", line 16, in wrapper\n",
      "    return f(*args, **kwargs)\n",
      "Traceback (most recent call last):\n",
      "Traceback (most recent call last):\n"
     ]
    },
    {
     "name": "stdout",
     "output_type": "stream",
     "text": [
      "Caught exception in worker thread:\n"
     ]
    },
    {
     "name": "stderr",
     "output_type": "stream",
     "text": [
      "  File \"/home/adelgior/code/fcn-instances-pytorch/instanceseg/ext/panopticapi/utils.py\", line 16, in wrapper\n",
      "    return f(*args, **kwargs)\n",
      "  File \"/home/adelgior/code/fcn-instances-pytorch/instanceseg/ext/panopticapi/utils.py\", line 16, in wrapper\n",
      "    return f(*args, **kwargs)\n"
     ]
    },
    {
     "name": "stdout",
     "output_type": "stream",
     "text": [
      "Core: 218, 0 from 1 images processed\n"
     ]
    },
    {
     "name": "stderr",
     "output_type": "stream",
     "text": [
      "Traceback (most recent call last):\n",
      "Traceback (most recent call last):\n",
      "FileNotFoundError: [Errno 2] No such file or directory: '/home/adelgior/code/upsnet/output/upsnet/cityscapes/upsnet_resnet50_cityscapes_4gpu/val/results/pans_unified/pan_2ch/frankfurt_000001_054640_leftImg8bit.png'\n"
     ]
    },
    {
     "name": "stdout",
     "output_type": "stream",
     "text": [
      "Caught exception in worker thread:\n",
      "Core: 217, 0 from 1 images processed\n"
     ]
    },
    {
     "name": "stderr",
     "output_type": "stream",
     "text": [
      "  File \"/home/adelgior/code/fcn-instances-pytorch/instanceseg/ext/panopticapi/utils.py\", line 16, in wrapper\n",
      "    return f(*args, **kwargs)\n",
      "FileNotFoundError: [Errno 2] No such file or directory: '/home/adelgior/code/upsnet/output/upsnet/cityscapes/upsnet_resnet50_cityscapes_4gpu/val/results/pans_unified/pan_2ch/frankfurt_000001_055062_leftImg8bit.png'\n",
      "  File \"/usr0/home/adelgior/code/experimental-instanceseg/instanceseg/ext/panopticapi/evaluation.py\", line 98, in pq_compute_single_core\n",
      "    with Image.open(os.path.join(pred_folder, pred_ann['file_name'])) as img:\n",
      "  File \"/usr0/home/adelgior/code/experimental-instanceseg/instanceseg/ext/panopticapi/evaluation.py\", line 98, in pq_compute_single_core\n",
      "    with Image.open(os.path.join(pred_folder, pred_ann['file_name'])) as img:\n"
     ]
    },
    {
     "name": "stdout",
     "output_type": "stream",
     "text": [
      "Caught exception in worker thread:\n"
     ]
    },
    {
     "name": "stderr",
     "output_type": "stream",
     "text": [
      "  File \"/home/adelgior/virtualenvs/pytorch4_python3/lib/python3.7/site-packages/PIL/Image.py\", line 2652, in open\n",
      "    fp = builtins.open(filename, \"rb\")\n",
      "Traceback (most recent call last):\n",
      "  File \"/home/adelgior/code/fcn-instances-pytorch/instanceseg/ext/panopticapi/utils.py\", line 16, in wrapper\n",
      "    return f(*args, **kwargs)\n",
      "  File \"/usr0/home/adelgior/code/experimental-instanceseg/instanceseg/ext/panopticapi/evaluation.py\", line 98, in pq_compute_single_core\n",
      "    with Image.open(os.path.join(pred_folder, pred_ann['file_name'])) as img:\n",
      "  File \"/home/adelgior/virtualenvs/pytorch4_python3/lib/python3.7/site-packages/PIL/Image.py\", line 2652, in open\n",
      "    fp = builtins.open(filename, \"rb\")\n"
     ]
    },
    {
     "name": "stdout",
     "output_type": "stream",
     "text": [
      "Caught exception in worker thread:\n"
     ]
    },
    {
     "name": "stderr",
     "output_type": "stream",
     "text": [
      "  File \"/usr0/home/adelgior/code/experimental-instanceseg/instanceseg/ext/panopticapi/evaluation.py\", line 98, in pq_compute_single_core\n",
      "    with Image.open(os.path.join(pred_folder, pred_ann['file_name'])) as img:\n"
     ]
    },
    {
     "name": "stdout",
     "output_type": "stream",
     "text": [
      "Caught exception in worker thread:\n",
      "Caught exception in worker thread:\n"
     ]
    },
    {
     "name": "stderr",
     "output_type": "stream",
     "text": [
      "FileNotFoundError: [Errno 2] No such file or directory: '/home/adelgior/code/upsnet/output/upsnet/cityscapes/upsnet_resnet50_cityscapes_4gpu/val/results/pans_unified/pan_2ch/frankfurt_000001_054884_leftImg8bit.png'\n",
      "  File \"/home/adelgior/code/fcn-instances-pytorch/instanceseg/ext/panopticapi/utils.py\", line 16, in wrapper\n",
      "    return f(*args, **kwargs)\n",
      "  File \"/home/adelgior/virtualenvs/pytorch4_python3/lib/python3.7/site-packages/PIL/Image.py\", line 2652, in open\n",
      "    fp = builtins.open(filename, \"rb\")\n",
      "  File \"/usr0/home/adelgior/code/experimental-instanceseg/instanceseg/ext/panopticapi/evaluation.py\", line 98, in pq_compute_single_core\n",
      "    with Image.open(os.path.join(pred_folder, pred_ann['file_name'])) as img:\n",
      "Traceback (most recent call last):\n",
      "Traceback (most recent call last):\n",
      "  File \"/usr0/home/adelgior/code/experimental-instanceseg/instanceseg/ext/panopticapi/evaluation.py\", line 98, in pq_compute_single_core\n",
      "    with Image.open(os.path.join(pred_folder, pred_ann['file_name'])) as img:\n"
     ]
    },
    {
     "name": "stdout",
     "output_type": "stream",
     "text": [
      "Caught exception in worker thread:\n"
     ]
    },
    {
     "name": "stderr",
     "output_type": "stream",
     "text": [
      "Traceback (most recent call last):\n",
      "  File \"/home/adelgior/virtualenvs/pytorch4_python3/lib/python3.7/site-packages/PIL/Image.py\", line 2652, in open\n",
      "    fp = builtins.open(filename, \"rb\")\n",
      "  File \"/home/adelgior/code/fcn-instances-pytorch/instanceseg/ext/panopticapi/utils.py\", line 16, in wrapper\n",
      "    return f(*args, **kwargs)\n",
      "  File \"/home/adelgior/virtualenvs/pytorch4_python3/lib/python3.7/site-packages/PIL/Image.py\", line 2652, in open\n",
      "    fp = builtins.open(filename, \"rb\")\n",
      "FileNotFoundError: [Errno 2] No such file or directory: '/home/adelgior/code/upsnet/output/upsnet/cityscapes/upsnet_resnet50_cityscapes_4gpu/val/results/pans_unified/pan_2ch/frankfurt_000001_055387_leftImg8bit.png'\n",
      "Traceback (most recent call last):\n",
      "  File \"/usr0/home/adelgior/code/experimental-instanceseg/instanceseg/ext/panopticapi/evaluation.py\", line 98, in pq_compute_single_core\n",
      "    with Image.open(os.path.join(pred_folder, pred_ann['file_name'])) as img:\n",
      "FileNotFoundError: [Errno 2] No such file or directory: '/home/adelgior/code/upsnet/output/upsnet/cityscapes/upsnet_resnet50_cityscapes_4gpu/val/results/pans_unified/pan_2ch/frankfurt_000001_055538_leftImg8bit.png'\n"
     ]
    },
    {
     "name": "stdout",
     "output_type": "stream",
     "text": [
      "Core: 219, 0 from 1 images processed\n"
     ]
    },
    {
     "name": "stderr",
     "output_type": "stream",
     "text": [
      "FileNotFoundError: [Errno 2] No such file or directory: '/home/adelgior/code/upsnet/output/upsnet/cityscapes/upsnet_resnet50_cityscapes_4gpu/val/results/pans_unified/pan_2ch/frankfurt_000001_057954_leftImg8bit.png'\n",
      "  File \"/home/adelgior/virtualenvs/pytorch4_python3/lib/python3.7/site-packages/PIL/Image.py\", line 2652, in open\n",
      "    fp = builtins.open(filename, \"rb\")\n",
      "  File \"/home/adelgior/code/fcn-instances-pytorch/instanceseg/ext/panopticapi/utils.py\", line 16, in wrapper\n",
      "    return f(*args, **kwargs)\n",
      "FileNotFoundError: [Errno 2] No such file or directory: '/home/adelgior/code/upsnet/output/upsnet/cityscapes/upsnet_resnet50_cityscapes_4gpu/val/results/pans_unified/pan_2ch/frankfurt_000001_055709_leftImg8bit.png'\n",
      "FileNotFoundError: [Errno 2] No such file or directory: '/home/adelgior/code/upsnet/output/upsnet/cityscapes/upsnet_resnet50_cityscapes_4gpu/val/results/pans_unified/pan_2ch/frankfurt_000001_058176_leftImg8bit.png'\n",
      "Traceback (most recent call last):\n"
     ]
    },
    {
     "name": "stdout",
     "output_type": "stream",
     "text": [
      "Core: 220, 0 from 1 images processed\n"
     ]
    },
    {
     "name": "stderr",
     "output_type": "stream",
     "text": [
      "  File \"/home/adelgior/code/fcn-instances-pytorch/instanceseg/ext/panopticapi/utils.py\", line 16, in wrapper\n",
      "    return f(*args, **kwargs)\n"
     ]
    },
    {
     "name": "stdout",
     "output_type": "stream",
     "text": [
      "Caught exception in worker thread:\n",
      "Caught exception in worker thread:\n"
     ]
    },
    {
     "name": "stderr",
     "output_type": "stream",
     "text": [
      "  File \"/usr0/home/adelgior/code/experimental-instanceseg/instanceseg/ext/panopticapi/evaluation.py\", line 98, in pq_compute_single_core\n",
      "    with Image.open(os.path.join(pred_folder, pred_ann['file_name'])) as img:\n",
      "  File \"/home/adelgior/virtualenvs/pytorch4_python3/lib/python3.7/site-packages/PIL/Image.py\", line 2652, in open\n",
      "    fp = builtins.open(filename, \"rb\")\n",
      "  File \"/home/adelgior/code/fcn-instances-pytorch/instanceseg/ext/panopticapi/utils.py\", line 16, in wrapper\n",
      "    return f(*args, **kwargs)\n",
      "  File \"/home/adelgior/virtualenvs/pytorch4_python3/lib/python3.7/site-packages/PIL/Image.py\", line 2652, in open\n",
      "    fp = builtins.open(filename, \"rb\")\n"
     ]
    },
    {
     "name": "stdout",
     "output_type": "stream",
     "text": [
      "Core: 222, 0 from 1 images processed\n"
     ]
    },
    {
     "name": "stderr",
     "output_type": "stream",
     "text": [
      "FileNotFoundError: [Errno 2] No such file or directory: '/home/adelgior/code/upsnet/output/upsnet/cityscapes/upsnet_resnet50_cityscapes_4gpu/val/results/pans_unified/pan_2ch/frankfurt_000001_055306_leftImg8bit.png'\n",
      "FileNotFoundError: [Errno 2] No such file or directory: '/home/adelgior/code/upsnet/output/upsnet/cityscapes/upsnet_resnet50_cityscapes_4gpu/val/results/pans_unified/pan_2ch/frankfurt_000001_056580_leftImg8bit.png'\n",
      "  File \"/home/adelgior/code/fcn-instances-pytorch/instanceseg/ext/panopticapi/utils.py\", line 16, in wrapper\n",
      "    return f(*args, **kwargs)\n"
     ]
    },
    {
     "name": "stdout",
     "output_type": "stream",
     "text": [
      "Caught exception in worker thread:\n"
     ]
    },
    {
     "name": "stderr",
     "output_type": "stream",
     "text": [
      "  File \"/usr0/home/adelgior/code/experimental-instanceseg/instanceseg/ext/panopticapi/evaluation.py\", line 98, in pq_compute_single_core\n",
      "    with Image.open(os.path.join(pred_folder, pred_ann['file_name'])) as img:\n"
     ]
    },
    {
     "name": "stdout",
     "output_type": "stream",
     "text": [
      "Core: 223, 0 from 1 images processed\n"
     ]
    },
    {
     "name": "stderr",
     "output_type": "stream",
     "text": [
      "FileNotFoundError: [Errno 2] No such file or directory: '/home/adelgior/code/upsnet/output/upsnet/cityscapes/upsnet_resnet50_cityscapes_4gpu/val/results/pans_unified/pan_2ch/frankfurt_000001_057181_leftImg8bit.png'\n",
      "  File \"/usr0/home/adelgior/code/experimental-instanceseg/instanceseg/ext/panopticapi/evaluation.py\", line 98, in pq_compute_single_core\n",
      "    with Image.open(os.path.join(pred_folder, pred_ann['file_name'])) as img:\n",
      "  File \"/home/adelgior/virtualenvs/pytorch4_python3/lib/python3.7/site-packages/PIL/Image.py\", line 2652, in open\n",
      "    fp = builtins.open(filename, \"rb\")\n",
      "  File \"/usr0/home/adelgior/code/experimental-instanceseg/instanceseg/ext/panopticapi/evaluation.py\", line 98, in pq_compute_single_core\n",
      "    with Image.open(os.path.join(pred_folder, pred_ann['file_name'])) as img:\n",
      "  File \"/home/adelgior/virtualenvs/pytorch4_python3/lib/python3.7/site-packages/PIL/Image.py\", line 2652, in open\n",
      "    fp = builtins.open(filename, \"rb\")\n"
     ]
    },
    {
     "name": "stdout",
     "output_type": "stream",
     "text": [
      "Core: 226, 0 from 1 images processed\n"
     ]
    },
    {
     "name": "stderr",
     "output_type": "stream",
     "text": [
      "Traceback (most recent call last):\n",
      "FileNotFoundError: [Errno 2] No such file or directory: '/home/adelgior/code/upsnet/output/upsnet/cityscapes/upsnet_resnet50_cityscapes_4gpu/val/results/pans_unified/pan_2ch/frankfurt_000001_058057_leftImg8bit.png'\n",
      "  File \"/home/adelgior/code/fcn-instances-pytorch/instanceseg/ext/panopticapi/utils.py\", line 16, in wrapper\n",
      "    return f(*args, **kwargs)\n",
      "  File \"/usr0/home/adelgior/code/experimental-instanceseg/instanceseg/ext/panopticapi/evaluation.py\", line 98, in pq_compute_single_core\n",
      "    with Image.open(os.path.join(pred_folder, pred_ann['file_name'])) as img:\n",
      "Traceback (most recent call last):\n"
     ]
    },
    {
     "name": "stdout",
     "output_type": "stream",
     "text": [
      "Caught exception in worker thread:\n"
     ]
    },
    {
     "name": "stderr",
     "output_type": "stream",
     "text": [
      "  File \"/home/adelgior/virtualenvs/pytorch4_python3/lib/python3.7/site-packages/PIL/Image.py\", line 2652, in open\n",
      "    fp = builtins.open(filename, \"rb\")\n",
      "FileNotFoundError: [Errno 2] No such file or directory: '/home/adelgior/code/upsnet/output/upsnet/cityscapes/upsnet_resnet50_cityscapes_4gpu/val/results/pans_unified/pan_2ch/frankfurt_000001_055603_leftImg8bit.png'\n"
     ]
    },
    {
     "name": "stdout",
     "output_type": "stream",
     "text": [
      "Core: 221, 0 from 1 images processed\n"
     ]
    },
    {
     "name": "stderr",
     "output_type": "stream",
     "text": [
      "  File \"/home/adelgior/virtualenvs/pytorch4_python3/lib/python3.7/site-packages/PIL/Image.py\", line 2652, in open\n",
      "    fp = builtins.open(filename, \"rb\")\n",
      "Traceback (most recent call last):\n",
      "  File \"/home/adelgior/code/fcn-instances-pytorch/instanceseg/ext/panopticapi/utils.py\", line 16, in wrapper\n",
      "    return f(*args, **kwargs)\n"
     ]
    },
    {
     "name": "stdout",
     "output_type": "stream",
     "text": [
      "Core: 225, 0 from 1 images processed\n",
      "Core: 227, 0 from 1 images processed\n"
     ]
    },
    {
     "name": "stderr",
     "output_type": "stream",
     "text": [
      "FileNotFoundError: [Errno 2] No such file or directory: '/home/adelgior/code/upsnet/output/upsnet/cityscapes/upsnet_resnet50_cityscapes_4gpu/val/results/pans_unified/pan_2ch/frankfurt_000001_057478_leftImg8bit.png'\n",
      "FileNotFoundError: [Errno 2] No such file or directory: '/home/adelgior/code/upsnet/output/upsnet/cityscapes/upsnet_resnet50_cityscapes_4gpu/val/results/pans_unified/pan_2ch/frankfurt_000001_058914_leftImg8bit.png'\n"
     ]
    },
    {
     "name": "stdout",
     "output_type": "stream",
     "text": [
      "Caught exception in worker thread:\n"
     ]
    },
    {
     "name": "stderr",
     "output_type": "stream",
     "text": [
      "  File \"/home/adelgior/code/fcn-instances-pytorch/instanceseg/ext/panopticapi/utils.py\", line 16, in wrapper\n",
      "    return f(*args, **kwargs)\n",
      "  File \"/usr0/home/adelgior/code/experimental-instanceseg/instanceseg/ext/panopticapi/evaluation.py\", line 98, in pq_compute_single_core\n",
      "    with Image.open(os.path.join(pred_folder, pred_ann['file_name'])) as img:\n",
      "  File \"/usr0/home/adelgior/code/experimental-instanceseg/instanceseg/ext/panopticapi/evaluation.py\", line 98, in pq_compute_single_core\n",
      "    with Image.open(os.path.join(pred_folder, pred_ann['file_name'])) as img:\n"
     ]
    },
    {
     "name": "stdout",
     "output_type": "stream",
     "text": [
      "Core: 228, 0 from 1 images processed\n"
     ]
    },
    {
     "name": "stderr",
     "output_type": "stream",
     "text": [
      "  File \"/home/adelgior/virtualenvs/pytorch4_python3/lib/python3.7/site-packages/PIL/Image.py\", line 2652, in open\n",
      "    fp = builtins.open(filename, \"rb\")\n",
      "  File \"/home/adelgior/virtualenvs/pytorch4_python3/lib/python3.7/site-packages/PIL/Image.py\", line 2652, in open\n",
      "    fp = builtins.open(filename, \"rb\")\n"
     ]
    },
    {
     "name": "stdout",
     "output_type": "stream",
     "text": [
      "Caught exception in worker thread:\n",
      "Core: 224, 0 from 1 images processed\n"
     ]
    },
    {
     "name": "stderr",
     "output_type": "stream",
     "text": [
      "Traceback (most recent call last):\n"
     ]
    },
    {
     "name": "stdout",
     "output_type": "stream",
     "text": [
      "Core: 229, 0 from 1 images processed\n",
      "Core: 230, 0 from 1 images processed\n",
      "Core: 231, 0 from 1 images processed\n",
      "Core: 232, 0 from 1 images processed\n"
     ]
    },
    {
     "name": "stderr",
     "output_type": "stream",
     "text": [
      "FileNotFoundError: [Errno 2] No such file or directory: '/home/adelgior/code/upsnet/output/upsnet/cityscapes/upsnet_resnet50_cityscapes_4gpu/val/results/pans_unified/pan_2ch/frankfurt_000001_060135_leftImg8bit.png'\n",
      "FileNotFoundError: [Errno 2] No such file or directory: '/home/adelgior/code/upsnet/output/upsnet/cityscapes/upsnet_resnet50_cityscapes_4gpu/val/results/pans_unified/pan_2ch/frankfurt_000001_058504_leftImg8bit.png'\n"
     ]
    },
    {
     "name": "stdout",
     "output_type": "stream",
     "text": [
      "Caught exception in worker thread:\n",
      "Core: 233, 0 from 1 images processed\n",
      "Core: 234, 0 from 1 images processed\n"
     ]
    },
    {
     "name": "stderr",
     "output_type": "stream",
     "text": [
      "  File \"/home/adelgior/code/fcn-instances-pytorch/instanceseg/ext/panopticapi/utils.py\", line 16, in wrapper\n",
      "    return f(*args, **kwargs)\n",
      "Traceback (most recent call last):\n",
      "Traceback (most recent call last):\n"
     ]
    },
    {
     "name": "stdout",
     "output_type": "stream",
     "text": [
      "Caught exception in worker thread:\n"
     ]
    },
    {
     "name": "stderr",
     "output_type": "stream",
     "text": [
      "Traceback (most recent call last):\n"
     ]
    },
    {
     "name": "stdout",
     "output_type": "stream",
     "text": [
      "Core: 235, 0 from 1 images processed\n"
     ]
    },
    {
     "name": "stderr",
     "output_type": "stream",
     "text": [
      "  File \"/home/adelgior/code/fcn-instances-pytorch/instanceseg/ext/panopticapi/utils.py\", line 16, in wrapper\n",
      "    return f(*args, **kwargs)\n"
     ]
    },
    {
     "name": "stdout",
     "output_type": "stream",
     "text": [
      "Caught exception in worker thread:\n"
     ]
    },
    {
     "name": "stderr",
     "output_type": "stream",
     "text": [
      "Traceback (most recent call last):\n",
      "  File \"/usr0/home/adelgior/code/experimental-instanceseg/instanceseg/ext/panopticapi/evaluation.py\", line 98, in pq_compute_single_core\n",
      "    with Image.open(os.path.join(pred_folder, pred_ann['file_name'])) as img:\n",
      "Traceback (most recent call last):\n"
     ]
    },
    {
     "name": "stdout",
     "output_type": "stream",
     "text": [
      "Caught exception in worker thread:\n"
     ]
    },
    {
     "name": "stderr",
     "output_type": "stream",
     "text": [
      "Traceback (most recent call last):\n",
      "  File \"/home/adelgior/code/fcn-instances-pytorch/instanceseg/ext/panopticapi/utils.py\", line 16, in wrapper\n",
      "    return f(*args, **kwargs)\n"
     ]
    },
    {
     "name": "stdout",
     "output_type": "stream",
     "text": [
      "Caught exception in worker thread:\n"
     ]
    },
    {
     "name": "stderr",
     "output_type": "stream",
     "text": [
      "  File \"/home/adelgior/code/fcn-instances-pytorch/instanceseg/ext/panopticapi/utils.py\", line 16, in wrapper\n",
      "    return f(*args, **kwargs)\n",
      "  File \"/home/adelgior/code/fcn-instances-pytorch/instanceseg/ext/panopticapi/utils.py\", line 16, in wrapper\n",
      "    return f(*args, **kwargs)\n",
      "  File \"/home/adelgior/virtualenvs/pytorch4_python3/lib/python3.7/site-packages/PIL/Image.py\", line 2652, in open\n",
      "    fp = builtins.open(filename, \"rb\")\n"
     ]
    },
    {
     "name": "stdout",
     "output_type": "stream",
     "text": [
      "Caught exception in worker thread:\n"
     ]
    },
    {
     "name": "stderr",
     "output_type": "stream",
     "text": [
      "  File \"/usr0/home/adelgior/code/experimental-instanceseg/instanceseg/ext/panopticapi/evaluation.py\", line 98, in pq_compute_single_core\n",
      "    with Image.open(os.path.join(pred_folder, pred_ann['file_name'])) as img:\n",
      "  File \"/home/adelgior/virtualenvs/pytorch4_python3/lib/python3.7/site-packages/PIL/Image.py\", line 2652, in open\n",
      "    fp = builtins.open(filename, \"rb\")\n",
      "FileNotFoundError: [Errno 2] No such file or directory: '/home/adelgior/code/upsnet/output/upsnet/cityscapes/upsnet_resnet50_cityscapes_4gpu/val/results/pans_unified/pan_2ch/frankfurt_000001_059642_leftImg8bit.png'\n",
      "  File \"/home/adelgior/code/fcn-instances-pytorch/instanceseg/ext/panopticapi/utils.py\", line 16, in wrapper\n",
      "    return f(*args, **kwargs)\n",
      "  File \"/home/adelgior/code/fcn-instances-pytorch/instanceseg/ext/panopticapi/utils.py\", line 16, in wrapper\n",
      "    return f(*args, **kwargs)\n",
      "FileNotFoundError: [Errno 2] No such file or directory: '/home/adelgior/code/upsnet/output/upsnet/cityscapes/upsnet_resnet50_cityscapes_4gpu/val/results/pans_unified/pan_2ch/frankfurt_000001_059119_leftImg8bit.png'\n",
      "  File \"/usr0/home/adelgior/code/experimental-instanceseg/instanceseg/ext/panopticapi/evaluation.py\", line 98, in pq_compute_single_core\n",
      "    with Image.open(os.path.join(pred_folder, pred_ann['file_name'])) as img:\n",
      "Traceback (most recent call last):\n",
      "Traceback (most recent call last):\n",
      "  File \"/usr0/home/adelgior/code/experimental-instanceseg/instanceseg/ext/panopticapi/evaluation.py\", line 98, in pq_compute_single_core\n",
      "    with Image.open(os.path.join(pred_folder, pred_ann['file_name'])) as img:\n",
      "  File \"/usr0/home/adelgior/code/experimental-instanceseg/instanceseg/ext/panopticapi/evaluation.py\", line 98, in pq_compute_single_core\n",
      "    with Image.open(os.path.join(pred_folder, pred_ann['file_name'])) as img:\n",
      "  File \"/usr0/home/adelgior/code/experimental-instanceseg/instanceseg/ext/panopticapi/evaluation.py\", line 98, in pq_compute_single_core\n",
      "    with Image.open(os.path.join(pred_folder, pred_ann['file_name'])) as img:\n",
      "  File \"/home/adelgior/code/fcn-instances-pytorch/instanceseg/ext/panopticapi/utils.py\", line 16, in wrapper\n",
      "    return f(*args, **kwargs)\n",
      "  File \"/home/adelgior/virtualenvs/pytorch4_python3/lib/python3.7/site-packages/PIL/Image.py\", line 2652, in open\n",
      "    fp = builtins.open(filename, \"rb\")\n",
      "  File \"/home/adelgior/virtualenvs/pytorch4_python3/lib/python3.7/site-packages/PIL/Image.py\", line 2652, in open\n",
      "    fp = builtins.open(filename, \"rb\")\n"
     ]
    },
    {
     "name": "stdout",
     "output_type": "stream",
     "text": [
      "Core: 236, 0 from 1 images processed\n"
     ]
    },
    {
     "name": "stderr",
     "output_type": "stream",
     "text": [
      "FileNotFoundError: [Errno 2] No such file or directory: '/home/adelgior/code/upsnet/output/upsnet/cityscapes/upsnet_resnet50_cityscapes_4gpu/val/results/pans_unified/pan_2ch/frankfurt_000001_060906_leftImg8bit.png'\n",
      "FileNotFoundError: [Errno 2] No such file or directory: '/home/adelgior/code/upsnet/output/upsnet/cityscapes/upsnet_resnet50_cityscapes_4gpu/val/results/pans_unified/pan_2ch/frankfurt_000001_059789_leftImg8bit.png'\n"
     ]
    },
    {
     "name": "stdout",
     "output_type": "stream",
     "text": [
      "Caught exception in worker thread:\n"
     ]
    },
    {
     "name": "stderr",
     "output_type": "stream",
     "text": [
      "  File \"/home/adelgior/virtualenvs/pytorch4_python3/lib/python3.7/site-packages/PIL/Image.py\", line 2652, in open\n",
      "    fp = builtins.open(filename, \"rb\")\n",
      "  File \"/home/adelgior/virtualenvs/pytorch4_python3/lib/python3.7/site-packages/PIL/Image.py\", line 2652, in open\n",
      "    fp = builtins.open(filename, \"rb\")\n",
      "  File \"/home/adelgior/code/fcn-instances-pytorch/instanceseg/ext/panopticapi/utils.py\", line 16, in wrapper\n",
      "    return f(*args, **kwargs)\n",
      "  File \"/usr0/home/adelgior/code/experimental-instanceseg/instanceseg/ext/panopticapi/evaluation.py\", line 98, in pq_compute_single_core\n",
      "    with Image.open(os.path.join(pred_folder, pred_ann['file_name'])) as img:\n",
      "FileNotFoundError: [Errno 2] No such file or directory: '/home/adelgior/code/upsnet/output/upsnet/cityscapes/upsnet_resnet50_cityscapes_4gpu/val/results/pans_unified/pan_2ch/frankfurt_000001_062016_leftImg8bit.png'\n",
      "Traceback (most recent call last):\n",
      "FileNotFoundError: [Errno 2] No such file or directory: '/home/adelgior/code/upsnet/output/upsnet/cityscapes/upsnet_resnet50_cityscapes_4gpu/val/results/pans_unified/pan_2ch/frankfurt_000001_060422_leftImg8bit.png'\n"
     ]
    },
    {
     "name": "stdout",
     "output_type": "stream",
     "text": [
      "Core: 238, 0 from 1 images processed\n"
     ]
    },
    {
     "name": "stderr",
     "output_type": "stream",
     "text": [
      "  File \"/usr0/home/adelgior/code/experimental-instanceseg/instanceseg/ext/panopticapi/evaluation.py\", line 98, in pq_compute_single_core\n",
      "    with Image.open(os.path.join(pred_folder, pred_ann['file_name'])) as img:\n",
      "  File \"/home/adelgior/virtualenvs/pytorch4_python3/lib/python3.7/site-packages/PIL/Image.py\", line 2652, in open\n",
      "    fp = builtins.open(filename, \"rb\")\n",
      "  File \"/home/adelgior/code/fcn-instances-pytorch/instanceseg/ext/panopticapi/utils.py\", line 16, in wrapper\n",
      "    return f(*args, **kwargs)\n"
     ]
    },
    {
     "name": "stdout",
     "output_type": "stream",
     "text": [
      "Core: 239, 0 from 1 images processed\n"
     ]
    },
    {
     "name": "stderr",
     "output_type": "stream",
     "text": [
      "  File \"/usr0/home/adelgior/code/experimental-instanceseg/instanceseg/ext/panopticapi/evaluation.py\", line 98, in pq_compute_single_core\n",
      "    with Image.open(os.path.join(pred_folder, pred_ann['file_name'])) as img:\n",
      "FileNotFoundError: [Errno 2] No such file or directory: '/home/adelgior/code/upsnet/output/upsnet/cityscapes/upsnet_resnet50_cityscapes_4gpu/val/results/pans_unified/pan_2ch/frankfurt_000001_061682_leftImg8bit.png'\n"
     ]
    },
    {
     "name": "stdout",
     "output_type": "stream",
     "text": [
      "Core: 237, 0 from 1 images processed\n"
     ]
    },
    {
     "name": "stderr",
     "output_type": "stream",
     "text": [
      "  File \"/usr0/home/adelgior/code/experimental-instanceseg/instanceseg/ext/panopticapi/evaluation.py\", line 98, in pq_compute_single_core\n",
      "    with Image.open(os.path.join(pred_folder, pred_ann['file_name'])) as img:\n",
      "  File \"/home/adelgior/virtualenvs/pytorch4_python3/lib/python3.7/site-packages/PIL/Image.py\", line 2652, in open\n",
      "    fp = builtins.open(filename, \"rb\")\n",
      "  File \"/home/adelgior/virtualenvs/pytorch4_python3/lib/python3.7/site-packages/PIL/Image.py\", line 2652, in open\n",
      "    fp = builtins.open(filename, \"rb\")\n",
      "FileNotFoundError: [Errno 2] No such file or directory: '/home/adelgior/code/upsnet/output/upsnet/cityscapes/upsnet_resnet50_cityscapes_4gpu/val/results/pans_unified/pan_2ch/frankfurt_000001_060545_leftImg8bit.png'\n",
      "FileNotFoundError: [Errno 2] No such file or directory: '/home/adelgior/code/upsnet/output/upsnet/cityscapes/upsnet_resnet50_cityscapes_4gpu/val/results/pans_unified/pan_2ch/frankfurt_000001_061763_leftImg8bit.png'\n",
      "  File \"/home/adelgior/virtualenvs/pytorch4_python3/lib/python3.7/site-packages/PIL/Image.py\", line 2652, in open\n",
      "    fp = builtins.open(filename, \"rb\")\n"
     ]
    },
    {
     "name": "stdout",
     "output_type": "stream",
     "text": [
      "Caught exception in worker thread:\n"
     ]
    },
    {
     "name": "stderr",
     "output_type": "stream",
     "text": [
      "FileNotFoundError: [Errno 2] No such file or directory: '/home/adelgior/code/upsnet/output/upsnet/cityscapes/upsnet_resnet50_cityscapes_4gpu/val/results/pans_unified/pan_2ch/frankfurt_000001_062250_leftImg8bit.png'\n"
     ]
    },
    {
     "name": "stdout",
     "output_type": "stream",
     "text": [
      "Core: 241, 0 from 1 images processed\n",
      "Core: 240, 0 from 1 images processed\n",
      "Core: 242, 0 from 1 images processed\n",
      "Core: 243, 0 from 1 images processed\n",
      "Caught exception in worker thread:\n"
     ]
    },
    {
     "name": "stderr",
     "output_type": "stream",
     "text": [
      "Traceback (most recent call last):\n",
      "  File \"/home/adelgior/code/fcn-instances-pytorch/instanceseg/ext/panopticapi/utils.py\", line 16, in wrapper\n",
      "    return f(*args, **kwargs)\n",
      "  File \"/usr0/home/adelgior/code/experimental-instanceseg/instanceseg/ext/panopticapi/evaluation.py\", line 98, in pq_compute_single_core\n",
      "    with Image.open(os.path.join(pred_folder, pred_ann['file_name'])) as img:\n",
      "Traceback (most recent call last):\n"
     ]
    },
    {
     "name": "stdout",
     "output_type": "stream",
     "text": [
      "Core: 244, 0 from 1 images processed\n",
      "Caught exception in worker thread:\n",
      "Core: 245, 0 from 1 images processed\n"
     ]
    },
    {
     "name": "stderr",
     "output_type": "stream",
     "text": [
      "  File \"/home/adelgior/virtualenvs/pytorch4_python3/lib/python3.7/site-packages/PIL/Image.py\", line 2652, in open\n",
      "    fp = builtins.open(filename, \"rb\")\n",
      "Traceback (most recent call last):\n",
      "FileNotFoundError: [Errno 2] No such file or directory: '/home/adelgior/code/upsnet/output/upsnet/cityscapes/upsnet_resnet50_cityscapes_4gpu/val/results/pans_unified/pan_2ch/frankfurt_000001_062396_leftImg8bit.png'\n"
     ]
    },
    {
     "name": "stdout",
     "output_type": "stream",
     "text": [
      "Caught exception in worker thread:\n"
     ]
    },
    {
     "name": "stderr",
     "output_type": "stream",
     "text": [
      "  File \"/home/adelgior/code/fcn-instances-pytorch/instanceseg/ext/panopticapi/utils.py\", line 16, in wrapper\n",
      "    return f(*args, **kwargs)\n",
      "  File \"/home/adelgior/code/fcn-instances-pytorch/instanceseg/ext/panopticapi/utils.py\", line 16, in wrapper\n",
      "    return f(*args, **kwargs)\n",
      "  File \"/usr0/home/adelgior/code/experimental-instanceseg/instanceseg/ext/panopticapi/evaluation.py\", line 98, in pq_compute_single_core\n",
      "    with Image.open(os.path.join(pred_folder, pred_ann['file_name'])) as img:\n",
      "Traceback (most recent call last):\n"
     ]
    },
    {
     "name": "stdout",
     "output_type": "stream",
     "text": [
      "Caught exception in worker thread:\n"
     ]
    },
    {
     "name": "stderr",
     "output_type": "stream",
     "text": [
      "  File \"/home/adelgior/virtualenvs/pytorch4_python3/lib/python3.7/site-packages/PIL/Image.py\", line 2652, in open\n",
      "    fp = builtins.open(filename, \"rb\")\n",
      "  File \"/home/adelgior/code/fcn-instances-pytorch/instanceseg/ext/panopticapi/utils.py\", line 16, in wrapper\n",
      "    return f(*args, **kwargs)\n",
      "  File \"/usr0/home/adelgior/code/experimental-instanceseg/instanceseg/ext/panopticapi/evaluation.py\", line 98, in pq_compute_single_core\n",
      "    with Image.open(os.path.join(pred_folder, pred_ann['file_name'])) as img:\n",
      "FileNotFoundError: [Errno 2] No such file or directory: '/home/adelgior/code/upsnet/output/upsnet/cityscapes/upsnet_resnet50_cityscapes_4gpu/val/results/pans_unified/pan_2ch/frankfurt_000001_062509_leftImg8bit.png'\n"
     ]
    },
    {
     "name": "stdout",
     "output_type": "stream",
     "text": [
      "Core: 246, 0 from 1 images processed\n"
     ]
    },
    {
     "name": "stderr",
     "output_type": "stream",
     "text": [
      "  File \"/usr0/home/adelgior/code/experimental-instanceseg/instanceseg/ext/panopticapi/evaluation.py\", line 98, in pq_compute_single_core\n",
      "    with Image.open(os.path.join(pred_folder, pred_ann['file_name'])) as img:\n",
      "Traceback (most recent call last):\n"
     ]
    },
    {
     "name": "stdout",
     "output_type": "stream",
     "text": [
      "Caught exception in worker thread:\n"
     ]
    },
    {
     "name": "stderr",
     "output_type": "stream",
     "text": [
      "  File \"/home/adelgior/virtualenvs/pytorch4_python3/lib/python3.7/site-packages/PIL/Image.py\", line 2652, in open\n",
      "    fp = builtins.open(filename, \"rb\")\n"
     ]
    },
    {
     "name": "stdout",
     "output_type": "stream",
     "text": [
      "Caught exception in worker thread:\n"
     ]
    },
    {
     "name": "stderr",
     "output_type": "stream",
     "text": [
      "  File \"/home/adelgior/virtualenvs/pytorch4_python3/lib/python3.7/site-packages/PIL/Image.py\", line 2652, in open\n",
      "    fp = builtins.open(filename, \"rb\")\n",
      "Traceback (most recent call last):\n",
      "FileNotFoundError: [Errno 2] No such file or directory: '/home/adelgior/code/upsnet/output/upsnet/cityscapes/upsnet_resnet50_cityscapes_4gpu/val/results/pans_unified/pan_2ch/frankfurt_000001_062653_leftImg8bit.png'\n"
     ]
    },
    {
     "name": "stdout",
     "output_type": "stream",
     "text": [
      "Caught exception in worker thread:\n"
     ]
    },
    {
     "name": "stderr",
     "output_type": "stream",
     "text": [
      "  File \"/home/adelgior/code/fcn-instances-pytorch/instanceseg/ext/panopticapi/utils.py\", line 16, in wrapper\n",
      "    return f(*args, **kwargs)\n",
      "Traceback (most recent call last):\n"
     ]
    },
    {
     "name": "stdout",
     "output_type": "stream",
     "text": [
      "Caught exception in worker thread:\n",
      "Core: 247, 0 from 1 images processed\n"
     ]
    },
    {
     "name": "stderr",
     "output_type": "stream",
     "text": [
      "FileNotFoundError: [Errno 2] No such file or directory: '/home/adelgior/code/upsnet/output/upsnet/cityscapes/upsnet_resnet50_cityscapes_4gpu/val/results/pans_unified/pan_2ch/frankfurt_000001_062793_leftImg8bit.png'\n",
      "  File \"/home/adelgior/code/fcn-instances-pytorch/instanceseg/ext/panopticapi/utils.py\", line 16, in wrapper\n",
      "    return f(*args, **kwargs)\n",
      "  File \"/usr0/home/adelgior/code/experimental-instanceseg/instanceseg/ext/panopticapi/evaluation.py\", line 98, in pq_compute_single_core\n",
      "    with Image.open(os.path.join(pred_folder, pred_ann['file_name'])) as img:\n"
     ]
    },
    {
     "name": "stdout",
     "output_type": "stream",
     "text": [
      "Core: 248, 0 from 1 images processed\n"
     ]
    },
    {
     "name": "stderr",
     "output_type": "stream",
     "text": [
      "  File \"/home/adelgior/code/fcn-instances-pytorch/instanceseg/ext/panopticapi/utils.py\", line 16, in wrapper\n",
      "    return f(*args, **kwargs)\n",
      "  File \"/usr0/home/adelgior/code/experimental-instanceseg/instanceseg/ext/panopticapi/evaluation.py\", line 98, in pq_compute_single_core\n",
      "    with Image.open(os.path.join(pred_folder, pred_ann['file_name'])) as img:\n",
      "Traceback (most recent call last):\n",
      "  File \"/home/adelgior/virtualenvs/pytorch4_python3/lib/python3.7/site-packages/PIL/Image.py\", line 2652, in open\n",
      "    fp = builtins.open(filename, \"rb\")\n",
      "FileNotFoundError: [Errno 2] No such file or directory: '/home/adelgior/code/upsnet/output/upsnet/cityscapes/upsnet_resnet50_cityscapes_4gpu/val/results/pans_unified/pan_2ch/frankfurt_000001_065160_leftImg8bit.png'\n"
     ]
    },
    {
     "name": "stdout",
     "output_type": "stream",
     "text": [
      "Caught exception in worker thread:\n",
      "Caught exception in worker thread:\n"
     ]
    },
    {
     "name": "stderr",
     "output_type": "stream",
     "text": [
      "  File \"/usr0/home/adelgior/code/experimental-instanceseg/instanceseg/ext/panopticapi/evaluation.py\", line 98, in pq_compute_single_core\n",
      "    with Image.open(os.path.join(pred_folder, pred_ann['file_name'])) as img:\n"
     ]
    },
    {
     "name": "stdout",
     "output_type": "stream",
     "text": [
      "Caught exception in worker thread:\n",
      "Caught exception in worker thread:\n"
     ]
    },
    {
     "name": "stderr",
     "output_type": "stream",
     "text": [
      "Traceback (most recent call last):\n",
      "  File \"/home/adelgior/virtualenvs/pytorch4_python3/lib/python3.7/site-packages/PIL/Image.py\", line 2652, in open\n",
      "    fp = builtins.open(filename, \"rb\")\n",
      "  File \"/home/adelgior/code/fcn-instances-pytorch/instanceseg/ext/panopticapi/utils.py\", line 16, in wrapper\n",
      "    return f(*args, **kwargs)\n",
      "  File \"/usr0/home/adelgior/code/experimental-instanceseg/instanceseg/ext/panopticapi/evaluation.py\", line 98, in pq_compute_single_core\n",
      "    with Image.open(os.path.join(pred_folder, pred_ann['file_name'])) as img:\n",
      "Traceback (most recent call last):\n",
      "Traceback (most recent call last):\n",
      "Traceback (most recent call last):\n",
      "  File \"/home/adelgior/virtualenvs/pytorch4_python3/lib/python3.7/site-packages/PIL/Image.py\", line 2652, in open\n",
      "    fp = builtins.open(filename, \"rb\")\n",
      "  File \"/home/adelgior/code/fcn-instances-pytorch/instanceseg/ext/panopticapi/utils.py\", line 16, in wrapper\n",
      "    return f(*args, **kwargs)\n",
      "FileNotFoundError: [Errno 2] No such file or directory: '/home/adelgior/code/upsnet/output/upsnet/cityscapes/upsnet_resnet50_cityscapes_4gpu/val/results/pans_unified/pan_2ch/frankfurt_000001_063045_leftImg8bit.png'\n",
      "Traceback (most recent call last):\n"
     ]
    },
    {
     "name": "stdout",
     "output_type": "stream",
     "text": [
      "Core: 250, 0 from 1 images processed\n"
     ]
    },
    {
     "name": "stderr",
     "output_type": "stream",
     "text": [
      "  File \"/home/adelgior/code/fcn-instances-pytorch/instanceseg/ext/panopticapi/utils.py\", line 16, in wrapper\n",
      "    return f(*args, **kwargs)\n"
     ]
    },
    {
     "name": "stdout",
     "output_type": "stream",
     "text": [
      "Caught exception in worker thread:\n",
      "Caught exception in worker thread:\n"
     ]
    },
    {
     "name": "stderr",
     "output_type": "stream",
     "text": [
      "  File \"/usr0/home/adelgior/code/experimental-instanceseg/instanceseg/ext/panopticapi/evaluation.py\", line 98, in pq_compute_single_core\n",
      "    with Image.open(os.path.join(pred_folder, pred_ann['file_name'])) as img:\n",
      "  File \"/home/adelgior/virtualenvs/pytorch4_python3/lib/python3.7/site-packages/PIL/Image.py\", line 2652, in open\n",
      "    fp = builtins.open(filename, \"rb\")\n",
      "FileNotFoundError: [Errno 2] No such file or directory: '/home/adelgior/code/upsnet/output/upsnet/cityscapes/upsnet_resnet50_cityscapes_4gpu/val/results/pans_unified/pan_2ch/frankfurt_000001_064305_leftImg8bit.png'\n"
     ]
    },
    {
     "name": "stdout",
     "output_type": "stream",
     "text": [
      "Caught exception in worker thread:\n"
     ]
    },
    {
     "name": "stderr",
     "output_type": "stream",
     "text": [
      "  File \"/home/adelgior/code/fcn-instances-pytorch/instanceseg/ext/panopticapi/utils.py\", line 16, in wrapper\n",
      "    return f(*args, **kwargs)\n",
      "  File \"/home/adelgior/virtualenvs/pytorch4_python3/lib/python3.7/site-packages/PIL/Image.py\", line 2652, in open\n",
      "    fp = builtins.open(filename, \"rb\")\n",
      "Traceback (most recent call last):\n",
      "Traceback (most recent call last):\n"
     ]
    },
    {
     "name": "stdout",
     "output_type": "stream",
     "text": [
      "Core: 251, 0 from 1 images processed\n"
     ]
    },
    {
     "name": "stderr",
     "output_type": "stream",
     "text": [
      "Traceback (most recent call last):\n",
      "  File \"/usr0/home/adelgior/code/experimental-instanceseg/instanceseg/ext/panopticapi/evaluation.py\", line 98, in pq_compute_single_core\n",
      "    with Image.open(os.path.join(pred_folder, pred_ann['file_name'])) as img:\n",
      "  File \"/home/adelgior/code/fcn-instances-pytorch/instanceseg/ext/panopticapi/utils.py\", line 16, in wrapper\n",
      "    return f(*args, **kwargs)\n",
      "FileNotFoundError: [Errno 2] No such file or directory: '/home/adelgior/code/upsnet/output/upsnet/cityscapes/upsnet_resnet50_cityscapes_4gpu/val/results/pans_unified/pan_2ch/frankfurt_000001_064798_leftImg8bit.png'\n",
      "  File \"/home/adelgior/code/fcn-instances-pytorch/instanceseg/ext/panopticapi/utils.py\", line 16, in wrapper\n",
      "    return f(*args, **kwargs)\n",
      "  File \"/home/adelgior/virtualenvs/pytorch4_python3/lib/python3.7/site-packages/PIL/Image.py\", line 2652, in open\n",
      "    fp = builtins.open(filename, \"rb\")\n",
      "  File \"/home/adelgior/code/fcn-instances-pytorch/instanceseg/ext/panopticapi/utils.py\", line 16, in wrapper\n",
      "    return f(*args, **kwargs)\n",
      "  File \"/home/adelgior/code/fcn-instances-pytorch/instanceseg/ext/panopticapi/utils.py\", line 16, in wrapper\n",
      "    return f(*args, **kwargs)\n",
      "  File \"/home/adelgior/code/fcn-instances-pytorch/instanceseg/ext/panopticapi/utils.py\", line 16, in wrapper\n",
      "    return f(*args, **kwargs)\n"
     ]
    },
    {
     "name": "stdout",
     "output_type": "stream",
     "text": [
      "Caught exception in worker thread:\n"
     ]
    },
    {
     "name": "stderr",
     "output_type": "stream",
     "text": [
      "FileNotFoundError: [Errno 2] No such file or directory: '/home/adelgior/code/upsnet/output/upsnet/cityscapes/upsnet_resnet50_cityscapes_4gpu/val/results/pans_unified/pan_2ch/frankfurt_000001_066438_leftImg8bit.png'\n",
      "  File \"/usr0/home/adelgior/code/experimental-instanceseg/instanceseg/ext/panopticapi/evaluation.py\", line 98, in pq_compute_single_core\n",
      "    with Image.open(os.path.join(pred_folder, pred_ann['file_name'])) as img:\n",
      "  File \"/usr0/home/adelgior/code/experimental-instanceseg/instanceseg/ext/panopticapi/evaluation.py\", line 98, in pq_compute_single_core\n",
      "    with Image.open(os.path.join(pred_folder, pred_ann['file_name'])) as img:\n",
      "  File \"/usr0/home/adelgior/code/experimental-instanceseg/instanceseg/ext/panopticapi/evaluation.py\", line 98, in pq_compute_single_core\n",
      "    with Image.open(os.path.join(pred_folder, pred_ann['file_name'])) as img:\n"
     ]
    },
    {
     "name": "stdout",
     "output_type": "stream",
     "text": [
      "Core: 249, 0 from 1 images processed\n"
     ]
    },
    {
     "name": "stderr",
     "output_type": "stream",
     "text": [
      "  File \"/home/adelgior/virtualenvs/pytorch4_python3/lib/python3.7/site-packages/PIL/Image.py\", line 2652, in open\n",
      "    fp = builtins.open(filename, \"rb\")\n"
     ]
    },
    {
     "name": "stdout",
     "output_type": "stream",
     "text": [
      "Caught exception in worker thread:\n"
     ]
    },
    {
     "name": "stderr",
     "output_type": "stream",
     "text": [
      "  File \"/usr0/home/adelgior/code/experimental-instanceseg/instanceseg/ext/panopticapi/evaluation.py\", line 98, in pq_compute_single_core\n",
      "    with Image.open(os.path.join(pred_folder, pred_ann['file_name'])) as img:\n"
     ]
    },
    {
     "name": "stdout",
     "output_type": "stream",
     "text": [
      "Core: 252, 0 from 1 images processed\n"
     ]
    },
    {
     "name": "stderr",
     "output_type": "stream",
     "text": [
      "  File \"/home/adelgior/virtualenvs/pytorch4_python3/lib/python3.7/site-packages/PIL/Image.py\", line 2652, in open\n",
      "    fp = builtins.open(filename, \"rb\")\n"
     ]
    },
    {
     "name": "stdout",
     "output_type": "stream",
     "text": [
      "Caught exception in worker thread:\n"
     ]
    },
    {
     "name": "stderr",
     "output_type": "stream",
     "text": [
      "  File \"/usr0/home/adelgior/code/experimental-instanceseg/instanceseg/ext/panopticapi/evaluation.py\", line 98, in pq_compute_single_core\n",
      "    with Image.open(os.path.join(pred_folder, pred_ann['file_name'])) as img:\n"
     ]
    },
    {
     "name": "stdout",
     "output_type": "stream",
     "text": [
      "Core: 253, 0 from 1 images processed\n"
     ]
    },
    {
     "name": "stderr",
     "output_type": "stream",
     "text": [
      "  File \"/home/adelgior/virtualenvs/pytorch4_python3/lib/python3.7/site-packages/PIL/Image.py\", line 2652, in open\n",
      "    fp = builtins.open(filename, \"rb\")\n",
      "  File \"/home/adelgior/virtualenvs/pytorch4_python3/lib/python3.7/site-packages/PIL/Image.py\", line 2652, in open\n",
      "    fp = builtins.open(filename, \"rb\")\n",
      "FileNotFoundError: [Errno 2] No such file or directory: '/home/adelgior/code/upsnet/output/upsnet/cityscapes/upsnet_resnet50_cityscapes_4gpu/val/results/pans_unified/pan_2ch/frankfurt_000001_066574_leftImg8bit.png'\n"
     ]
    },
    {
     "name": "stdout",
     "output_type": "stream",
     "text": [
      "Core: 254, 0 from 1 images processed\n"
     ]
    },
    {
     "name": "stderr",
     "output_type": "stream",
     "text": [
      "  File \"/home/adelgior/virtualenvs/pytorch4_python3/lib/python3.7/site-packages/PIL/Image.py\", line 2652, in open\n",
      "    fp = builtins.open(filename, \"rb\")\n"
     ]
    },
    {
     "name": "stdout",
     "output_type": "stream",
     "text": [
      "Caught exception in worker thread:\n"
     ]
    },
    {
     "name": "stderr",
     "output_type": "stream",
     "text": [
      "Traceback (most recent call last):\n",
      "FileNotFoundError: [Errno 2] No such file or directory: '/home/adelgior/code/upsnet/output/upsnet/cityscapes/upsnet_resnet50_cityscapes_4gpu/val/results/pans_unified/pan_2ch/frankfurt_000001_065617_leftImg8bit.png'\n",
      "FileNotFoundError: [Errno 2] No such file or directory: '/home/adelgior/code/upsnet/output/upsnet/cityscapes/upsnet_resnet50_cityscapes_4gpu/val/results/pans_unified/pan_2ch/frankfurt_000001_067295_leftImg8bit.png'\n"
     ]
    },
    {
     "name": "stdout",
     "output_type": "stream",
     "text": [
      "Caught exception in worker thread:\n"
     ]
    },
    {
     "name": "stderr",
     "output_type": "stream",
     "text": [
      "  File \"/usr0/home/adelgior/code/experimental-instanceseg/instanceseg/ext/panopticapi/evaluation.py\", line 98, in pq_compute_single_core\n",
      "    with Image.open(os.path.join(pred_folder, pred_ann['file_name'])) as img:\n",
      "  File \"/home/adelgior/virtualenvs/pytorch4_python3/lib/python3.7/site-packages/PIL/Image.py\", line 2652, in open\n",
      "    fp = builtins.open(filename, \"rb\")\n",
      "Traceback (most recent call last):\n",
      "FileNotFoundError: [Errno 2] No such file or directory: '/home/adelgior/code/upsnet/output/upsnet/cityscapes/upsnet_resnet50_cityscapes_4gpu/val/results/pans_unified/pan_2ch/frankfurt_000001_064130_leftImg8bit.png'\n",
      "Traceback (most recent call last):\n"
     ]
    },
    {
     "name": "stdout",
     "output_type": "stream",
     "text": [
      "Core: 255, 0 from 1 images processed\n"
     ]
    },
    {
     "name": "stderr",
     "output_type": "stream",
     "text": [
      "Traceback (most recent call last):\n",
      "  File \"/home/adelgior/code/fcn-instances-pytorch/instanceseg/ext/panopticapi/utils.py\", line 16, in wrapper\n",
      "    return f(*args, **kwargs)\n",
      "FileNotFoundError: [Errno 2] No such file or directory: '/home/adelgior/code/upsnet/output/upsnet/cityscapes/upsnet_resnet50_cityscapes_4gpu/val/results/pans_unified/pan_2ch/frankfurt_000001_066832_leftImg8bit.png'\n",
      "FileNotFoundError: [Errno 2] No such file or directory: '/home/adelgior/code/upsnet/output/upsnet/cityscapes/upsnet_resnet50_cityscapes_4gpu/val/results/pans_unified/pan_2ch/frankfurt_000001_065850_leftImg8bit.png'\n"
     ]
    },
    {
     "name": "stdout",
     "output_type": "stream",
     "text": [
      "Caught exception in worker thread:\n"
     ]
    },
    {
     "name": "stderr",
     "output_type": "stream",
     "text": [
      "Traceback (most recent call last):\n",
      "  File \"/home/adelgior/code/fcn-instances-pytorch/instanceseg/ext/panopticapi/utils.py\", line 16, in wrapper\n",
      "    return f(*args, **kwargs)\n",
      "FileNotFoundError: [Errno 2] No such file or directory: '/home/adelgior/code/upsnet/output/upsnet/cityscapes/upsnet_resnet50_cityscapes_4gpu/val/results/pans_unified/pan_2ch/frankfurt_000001_067178_leftImg8bit.png'\n"
     ]
    },
    {
     "name": "stdout",
     "output_type": "stream",
     "text": [
      "Core: 257, 0 from 1 images processed\n",
      "Core: 256, 0 from 1 images processed\n"
     ]
    },
    {
     "name": "stderr",
     "output_type": "stream",
     "text": [
      "  File \"/usr0/home/adelgior/code/experimental-instanceseg/instanceseg/ext/panopticapi/evaluation.py\", line 98, in pq_compute_single_core\n",
      "    with Image.open(os.path.join(pred_folder, pred_ann['file_name'])) as img:\n",
      "  File \"/home/adelgior/code/fcn-instances-pytorch/instanceseg/ext/panopticapi/utils.py\", line 16, in wrapper\n",
      "    return f(*args, **kwargs)\n",
      "  File \"/home/adelgior/code/fcn-instances-pytorch/instanceseg/ext/panopticapi/utils.py\", line 16, in wrapper\n",
      "    return f(*args, **kwargs)\n",
      "  File \"/home/adelgior/code/fcn-instances-pytorch/instanceseg/ext/panopticapi/utils.py\", line 16, in wrapper\n",
      "    return f(*args, **kwargs)\n",
      "  File \"/usr0/home/adelgior/code/experimental-instanceseg/instanceseg/ext/panopticapi/evaluation.py\", line 98, in pq_compute_single_core\n",
      "    with Image.open(os.path.join(pred_folder, pred_ann['file_name'])) as img:\n",
      "  File \"/usr0/home/adelgior/code/experimental-instanceseg/instanceseg/ext/panopticapi/evaluation.py\", line 98, in pq_compute_single_core\n",
      "    with Image.open(os.path.join(pred_folder, pred_ann['file_name'])) as img:\n",
      "  File \"/usr0/home/adelgior/code/experimental-instanceseg/instanceseg/ext/panopticapi/evaluation.py\", line 98, in pq_compute_single_core\n",
      "    with Image.open(os.path.join(pred_folder, pred_ann['file_name'])) as img:\n",
      "  File \"/home/adelgior/virtualenvs/pytorch4_python3/lib/python3.7/site-packages/PIL/Image.py\", line 2652, in open\n",
      "    fp = builtins.open(filename, \"rb\")\n"
     ]
    },
    {
     "name": "stdout",
     "output_type": "stream",
     "text": [
      "Core: 259, 0 from 1 images processed\n"
     ]
    },
    {
     "name": "stderr",
     "output_type": "stream",
     "text": [
      "  File \"/home/adelgior/virtualenvs/pytorch4_python3/lib/python3.7/site-packages/PIL/Image.py\", line 2652, in open\n",
      "    fp = builtins.open(filename, \"rb\")\n",
      "  File \"/usr0/home/adelgior/code/experimental-instanceseg/instanceseg/ext/panopticapi/evaluation.py\", line 98, in pq_compute_single_core\n",
      "    with Image.open(os.path.join(pred_folder, pred_ann['file_name'])) as img:\n"
     ]
    },
    {
     "name": "stdout",
     "output_type": "stream",
     "text": [
      "Core: 260, 0 from 1 images processed\n"
     ]
    },
    {
     "name": "stderr",
     "output_type": "stream",
     "text": [
      "  File \"/home/adelgior/virtualenvs/pytorch4_python3/lib/python3.7/site-packages/PIL/Image.py\", line 2652, in open\n",
      "    fp = builtins.open(filename, \"rb\")\n"
     ]
    },
    {
     "name": "stdout",
     "output_type": "stream",
     "text": [
      "Core: 258, 0 from 1 images processed\n"
     ]
    },
    {
     "name": "stderr",
     "output_type": "stream",
     "text": [
      "  File \"/home/adelgior/virtualenvs/pytorch4_python3/lib/python3.7/site-packages/PIL/Image.py\", line 2652, in open\n",
      "    fp = builtins.open(filename, \"rb\")\n",
      "Traceback (most recent call last):\n",
      "  File \"/home/adelgior/virtualenvs/pytorch4_python3/lib/python3.7/site-packages/PIL/Image.py\", line 2652, in open\n",
      "    fp = builtins.open(filename, \"rb\")\n",
      "FileNotFoundError: [Errno 2] No such file or directory: '/home/adelgior/code/upsnet/output/upsnet/cityscapes/upsnet_resnet50_cityscapes_4gpu/val/results/pans_unified/pan_2ch/frankfurt_000001_066092_leftImg8bit.png'\n"
     ]
    },
    {
     "name": "stdout",
     "output_type": "stream",
     "text": [
      "Caught exception in worker thread:\n",
      "Core: 261, 0 from 1 images processed\n"
     ]
    },
    {
     "name": "stderr",
     "output_type": "stream",
     "text": [
      "FileNotFoundError: [Errno 2] No such file or directory: '/home/adelgior/code/upsnet/output/upsnet/cityscapes/upsnet_resnet50_cityscapes_4gpu/val/results/pans_unified/pan_2ch/frankfurt_000001_067474_leftImg8bit.png'\n",
      "FileNotFoundError: [Errno 2] No such file or directory: '/home/adelgior/code/upsnet/output/upsnet/cityscapes/upsnet_resnet50_cityscapes_4gpu/val/results/pans_unified/pan_2ch/frankfurt_000001_064925_leftImg8bit.png'\n",
      "FileNotFoundError: [Errno 2] No such file or directory: '/home/adelgior/code/upsnet/output/upsnet/cityscapes/upsnet_resnet50_cityscapes_4gpu/val/results/pans_unified/pan_2ch/frankfurt_000001_064651_leftImg8bit.png'\n",
      "  File \"/home/adelgior/code/fcn-instances-pytorch/instanceseg/ext/panopticapi/utils.py\", line 16, in wrapper\n",
      "    return f(*args, **kwargs)\n",
      "Traceback (most recent call last):\n"
     ]
    },
    {
     "name": "stdout",
     "output_type": "stream",
     "text": [
      "Caught exception in worker thread:\n"
     ]
    },
    {
     "name": "stderr",
     "output_type": "stream",
     "text": [
      "  File \"/home/adelgior/code/fcn-instances-pytorch/instanceseg/ext/panopticapi/utils.py\", line 16, in wrapper\n",
      "    return f(*args, **kwargs)\n"
     ]
    },
    {
     "name": "stdout",
     "output_type": "stream",
     "text": [
      "Core: 262, 0 from 1 images processed\n"
     ]
    },
    {
     "name": "stderr",
     "output_type": "stream",
     "text": [
      "  File \"/usr0/home/adelgior/code/experimental-instanceseg/instanceseg/ext/panopticapi/evaluation.py\", line 98, in pq_compute_single_core\n",
      "    with Image.open(os.path.join(pred_folder, pred_ann['file_name'])) as img:\n",
      "FileNotFoundError: [Errno 2] No such file or directory: '/home/adelgior/code/upsnet/output/upsnet/cityscapes/upsnet_resnet50_cityscapes_4gpu/val/results/pans_unified/pan_2ch/frankfurt_000001_067092_leftImg8bit.png'\n"
     ]
    },
    {
     "name": "stdout",
     "output_type": "stream",
     "text": [
      "Caught exception in worker thread:\n"
     ]
    },
    {
     "name": "stderr",
     "output_type": "stream",
     "text": [
      "Traceback (most recent call last):\n",
      "  File \"/home/adelgior/virtualenvs/pytorch4_python3/lib/python3.7/site-packages/PIL/Image.py\", line 2652, in open\n",
      "    fp = builtins.open(filename, \"rb\")\n",
      "Traceback (most recent call last):\n",
      "  File \"/usr0/home/adelgior/code/experimental-instanceseg/instanceseg/ext/panopticapi/evaluation.py\", line 98, in pq_compute_single_core\n",
      "    with Image.open(os.path.join(pred_folder, pred_ann['file_name'])) as img:\n",
      "FileNotFoundError: [Errno 2] No such file or directory: '/home/adelgior/code/upsnet/output/upsnet/cityscapes/upsnet_resnet50_cityscapes_4gpu/val/results/pans_unified/pan_2ch/frankfurt_000001_070099_leftImg8bit.png'\n",
      "  File \"/home/adelgior/code/fcn-instances-pytorch/instanceseg/ext/panopticapi/utils.py\", line 16, in wrapper\n",
      "    return f(*args, **kwargs)\n",
      "  File \"/home/adelgior/virtualenvs/pytorch4_python3/lib/python3.7/site-packages/PIL/Image.py\", line 2652, in open\n",
      "    fp = builtins.open(filename, \"rb\")\n"
     ]
    },
    {
     "name": "stdout",
     "output_type": "stream",
     "text": [
      "Caught exception in worker thread:\n",
      "Core: 265, 0 from 1 images processed\n",
      "Core: 266, 0 from 1 images processed\n",
      "Core: 264, 0 from 1 images processed\n",
      "Caught exception in worker thread:\n"
     ]
    },
    {
     "name": "stderr",
     "output_type": "stream",
     "text": [
      "  File \"/home/adelgior/code/fcn-instances-pytorch/instanceseg/ext/panopticapi/utils.py\", line 16, in wrapper\n",
      "    return f(*args, **kwargs)\n",
      "FileNotFoundError: [Errno 2] No such file or directory: '/home/adelgior/code/upsnet/output/upsnet/cityscapes/upsnet_resnet50_cityscapes_4gpu/val/results/pans_unified/pan_2ch/frankfurt_000001_067735_leftImg8bit.png'\n"
     ]
    },
    {
     "name": "stdout",
     "output_type": "stream",
     "text": [
      "Caught exception in worker thread:\n"
     ]
    },
    {
     "name": "stderr",
     "output_type": "stream",
     "text": [
      "  File \"/usr0/home/adelgior/code/experimental-instanceseg/instanceseg/ext/panopticapi/evaluation.py\", line 98, in pq_compute_single_core\n",
      "    with Image.open(os.path.join(pred_folder, pred_ann['file_name'])) as img:\n",
      "Traceback (most recent call last):\n",
      "  File \"/home/adelgior/virtualenvs/pytorch4_python3/lib/python3.7/site-packages/PIL/Image.py\", line 2652, in open\n",
      "    fp = builtins.open(filename, \"rb\")\n",
      "Traceback (most recent call last):\n",
      "  File \"/home/adelgior/code/fcn-instances-pytorch/instanceseg/ext/panopticapi/utils.py\", line 16, in wrapper\n",
      "    return f(*args, **kwargs)\n"
     ]
    },
    {
     "name": "stdout",
     "output_type": "stream",
     "text": [
      "Caught exception in worker thread:\n"
     ]
    },
    {
     "name": "stderr",
     "output_type": "stream",
     "text": [
      "  File \"/home/adelgior/code/fcn-instances-pytorch/instanceseg/ext/panopticapi/utils.py\", line 16, in wrapper\n",
      "    return f(*args, **kwargs)\n"
     ]
    },
    {
     "name": "stdout",
     "output_type": "stream",
     "text": [
      "Caught exception in worker thread:\n",
      "Caught exception in worker thread:\n"
     ]
    },
    {
     "name": "stderr",
     "output_type": "stream",
     "text": [
      "  File \"/usr0/home/adelgior/code/experimental-instanceseg/instanceseg/ext/panopticapi/evaluation.py\", line 98, in pq_compute_single_core\n",
      "    with Image.open(os.path.join(pred_folder, pred_ann['file_name'])) as img:\n",
      "  File \"/usr0/home/adelgior/code/experimental-instanceseg/instanceseg/ext/panopticapi/evaluation.py\", line 98, in pq_compute_single_core\n",
      "    with Image.open(os.path.join(pred_folder, pred_ann['file_name'])) as img:\n"
     ]
    },
    {
     "name": "stdout",
     "output_type": "stream",
     "text": [
      "Core: 267, 0 from 1 images processed\n",
      "Core: 263, 0 from 1 images processed\n"
     ]
    },
    {
     "name": "stderr",
     "output_type": "stream",
     "text": [
      "  File \"/home/adelgior/virtualenvs/pytorch4_python3/lib/python3.7/site-packages/PIL/Image.py\", line 2652, in open\n",
      "    fp = builtins.open(filename, \"rb\")\n",
      "Traceback (most recent call last):\n",
      "Traceback (most recent call last):\n",
      "FileNotFoundError: [Errno 2] No such file or directory: '/home/adelgior/code/upsnet/output/upsnet/cityscapes/upsnet_resnet50_cityscapes_4gpu/val/results/pans_unified/pan_2ch/frankfurt_000001_071288_leftImg8bit.png'\n",
      "  File \"/home/adelgior/code/fcn-instances-pytorch/instanceseg/ext/panopticapi/utils.py\", line 16, in wrapper\n",
      "    return f(*args, **kwargs)\n",
      "  File \"/usr0/home/adelgior/code/experimental-instanceseg/instanceseg/ext/panopticapi/evaluation.py\", line 98, in pq_compute_single_core\n",
      "    with Image.open(os.path.join(pred_folder, pred_ann['file_name'])) as img:\n",
      "  File \"/home/adelgior/virtualenvs/pytorch4_python3/lib/python3.7/site-packages/PIL/Image.py\", line 2652, in open\n",
      "    fp = builtins.open(filename, \"rb\")\n",
      "Traceback (most recent call last):\n",
      "  File \"/usr0/home/adelgior/code/experimental-instanceseg/instanceseg/ext/panopticapi/evaluation.py\", line 98, in pq_compute_single_core\n",
      "    with Image.open(os.path.join(pred_folder, pred_ann['file_name'])) as img:\n",
      "  File \"/home/adelgior/code/fcn-instances-pytorch/instanceseg/ext/panopticapi/utils.py\", line 16, in wrapper\n",
      "    return f(*args, **kwargs)\n",
      "Traceback (most recent call last):\n"
     ]
    },
    {
     "name": "stdout",
     "output_type": "stream",
     "text": [
      "Core: 268, 0 from 1 images processed\n"
     ]
    },
    {
     "name": "stderr",
     "output_type": "stream",
     "text": [
      "FileNotFoundError: [Errno 2] No such file or directory: '/home/adelgior/code/upsnet/output/upsnet/cityscapes/upsnet_resnet50_cityscapes_4gpu/val/results/pans_unified/pan_2ch/frankfurt_000001_068682_leftImg8bit.png'\n",
      "FileNotFoundError: [Errno 2] No such file or directory: '/home/adelgior/code/upsnet/output/upsnet/cityscapes/upsnet_resnet50_cityscapes_4gpu/val/results/pans_unified/pan_2ch/frankfurt_000001_068208_leftImg8bit.png'\n"
     ]
    },
    {
     "name": "stdout",
     "output_type": "stream",
     "text": [
      "Core: 269, 0 from 1 images processed\n"
     ]
    },
    {
     "name": "stderr",
     "output_type": "stream",
     "text": [
      "  File \"/usr0/home/adelgior/code/experimental-instanceseg/instanceseg/ext/panopticapi/evaluation.py\", line 98, in pq_compute_single_core\n",
      "    with Image.open(os.path.join(pred_folder, pred_ann['file_name'])) as img:\n",
      "  File \"/home/adelgior/code/fcn-instances-pytorch/instanceseg/ext/panopticapi/utils.py\", line 16, in wrapper\n",
      "    return f(*args, **kwargs)\n",
      "  File \"/home/adelgior/virtualenvs/pytorch4_python3/lib/python3.7/site-packages/PIL/Image.py\", line 2652, in open\n",
      "    fp = builtins.open(filename, \"rb\")\n",
      "  File \"/home/adelgior/virtualenvs/pytorch4_python3/lib/python3.7/site-packages/PIL/Image.py\", line 2652, in open\n",
      "    fp = builtins.open(filename, \"rb\")\n",
      "FileNotFoundError: [Errno 2] No such file or directory: '/home/adelgior/code/upsnet/output/upsnet/cityscapes/upsnet_resnet50_cityscapes_4gpu/val/results/pans_unified/pan_2ch/frankfurt_000001_068772_leftImg8bit.png'\n",
      "  File \"/home/adelgior/virtualenvs/pytorch4_python3/lib/python3.7/site-packages/PIL/Image.py\", line 2652, in open\n",
      "    fp = builtins.open(filename, \"rb\")\n",
      "FileNotFoundError: [Errno 2] No such file or directory: '/home/adelgior/code/upsnet/output/upsnet/cityscapes/upsnet_resnet50_cityscapes_4gpu/val/results/pans_unified/pan_2ch/frankfurt_000001_072155_leftImg8bit.png'\n",
      "  File \"/home/adelgior/code/fcn-instances-pytorch/instanceseg/ext/panopticapi/utils.py\", line 16, in wrapper\n",
      "    return f(*args, **kwargs)\n",
      "  File \"/usr0/home/adelgior/code/experimental-instanceseg/instanceseg/ext/panopticapi/evaluation.py\", line 98, in pq_compute_single_core\n",
      "    with Image.open(os.path.join(pred_folder, pred_ann['file_name'])) as img:\n",
      "FileNotFoundError: [Errno 2] No such file or directory: '/home/adelgior/code/upsnet/output/upsnet/cityscapes/upsnet_resnet50_cityscapes_4gpu/val/results/pans_unified/pan_2ch/frankfurt_000001_068063_leftImg8bit.png'\n"
     ]
    },
    {
     "name": "stdout",
     "output_type": "stream",
     "text": [
      "Caught exception in worker thread:\n"
     ]
    },
    {
     "name": "stderr",
     "output_type": "stream",
     "text": [
      "  File \"/usr0/home/adelgior/code/experimental-instanceseg/instanceseg/ext/panopticapi/evaluation.py\", line 98, in pq_compute_single_core\n",
      "    with Image.open(os.path.join(pred_folder, pred_ann['file_name'])) as img:\n"
     ]
    },
    {
     "name": "stdout",
     "output_type": "stream",
     "text": [
      "Caught exception in worker thread:\n",
      "Core: 271, 0 from 1 images processed\n"
     ]
    },
    {
     "name": "stderr",
     "output_type": "stream",
     "text": [
      "  File \"/home/adelgior/virtualenvs/pytorch4_python3/lib/python3.7/site-packages/PIL/Image.py\", line 2652, in open\n",
      "    fp = builtins.open(filename, \"rb\")\n"
     ]
    },
    {
     "name": "stdout",
     "output_type": "stream",
     "text": [
      "Caught exception in worker thread:\n"
     ]
    },
    {
     "name": "stderr",
     "output_type": "stream",
     "text": [
      "Traceback (most recent call last):\n",
      "  File \"/home/adelgior/virtualenvs/pytorch4_python3/lib/python3.7/site-packages/PIL/Image.py\", line 2652, in open\n",
      "    fp = builtins.open(filename, \"rb\")\n"
     ]
    },
    {
     "name": "stdout",
     "output_type": "stream",
     "text": [
      "Core: 272, 0 from 1 images processed\n"
     ]
    },
    {
     "name": "stderr",
     "output_type": "stream",
     "text": [
      "Traceback (most recent call last):\n",
      "FileNotFoundError: [Errno 2] No such file or directory: '/home/adelgior/code/upsnet/output/upsnet/cityscapes/upsnet_resnet50_cityscapes_4gpu/val/results/pans_unified/pan_2ch/frankfurt_000001_069633_leftImg8bit.png'\n",
      "  File \"/home/adelgior/code/fcn-instances-pytorch/instanceseg/ext/panopticapi/utils.py\", line 16, in wrapper\n",
      "    return f(*args, **kwargs)\n"
     ]
    },
    {
     "name": "stdout",
     "output_type": "stream",
     "text": [
      "Core: 273, 0 from 1 images processed\n",
      "Core: 274, 0 from 1 images processed\n"
     ]
    },
    {
     "name": "stderr",
     "output_type": "stream",
     "text": [
      "  File \"/home/adelgior/code/fcn-instances-pytorch/instanceseg/ext/panopticapi/utils.py\", line 16, in wrapper\n",
      "    return f(*args, **kwargs)\n"
     ]
    },
    {
     "name": "stdout",
     "output_type": "stream",
     "text": [
      "Caught exception in worker thread:\n"
     ]
    },
    {
     "name": "stderr",
     "output_type": "stream",
     "text": [
      "  File \"/usr0/home/adelgior/code/experimental-instanceseg/instanceseg/ext/panopticapi/evaluation.py\", line 98, in pq_compute_single_core\n",
      "    with Image.open(os.path.join(pred_folder, pred_ann['file_name'])) as img:\n"
     ]
    },
    {
     "name": "stdout",
     "output_type": "stream",
     "text": [
      "Core: 270, 0 from 1 images processed\n"
     ]
    },
    {
     "name": "stderr",
     "output_type": "stream",
     "text": [
      "Traceback (most recent call last):\n",
      "Traceback (most recent call last):\n"
     ]
    },
    {
     "name": "stdout",
     "output_type": "stream",
     "text": [
      "Core: 275, 0 from 1 images processed\n"
     ]
    },
    {
     "name": "stderr",
     "output_type": "stream",
     "text": [
      "  File \"/home/adelgior/virtualenvs/pytorch4_python3/lib/python3.7/site-packages/PIL/Image.py\", line 2652, in open\n",
      "    fp = builtins.open(filename, \"rb\")\n",
      "  File \"/usr0/home/adelgior/code/experimental-instanceseg/instanceseg/ext/panopticapi/evaluation.py\", line 98, in pq_compute_single_core\n",
      "    with Image.open(os.path.join(pred_folder, pred_ann['file_name'])) as img:\n",
      "FileNotFoundError: [Errno 2] No such file or directory: '/home/adelgior/code/upsnet/output/upsnet/cityscapes/upsnet_resnet50_cityscapes_4gpu/val/results/pans_unified/pan_2ch/frankfurt_000001_071781_leftImg8bit.png'\n",
      "  File \"/home/adelgior/code/fcn-instances-pytorch/instanceseg/ext/panopticapi/utils.py\", line 16, in wrapper\n",
      "    return f(*args, **kwargs)\n",
      "  File \"/home/adelgior/code/fcn-instances-pytorch/instanceseg/ext/panopticapi/utils.py\", line 16, in wrapper\n",
      "    return f(*args, **kwargs)\n",
      "  File \"/home/adelgior/virtualenvs/pytorch4_python3/lib/python3.7/site-packages/PIL/Image.py\", line 2652, in open\n",
      "    fp = builtins.open(filename, \"rb\")\n"
     ]
    },
    {
     "name": "stdout",
     "output_type": "stream",
     "text": [
      "Caught exception in worker thread:\n"
     ]
    },
    {
     "name": "stderr",
     "output_type": "stream",
     "text": [
      "Traceback (most recent call last):\n",
      "  File \"/usr0/home/adelgior/code/experimental-instanceseg/instanceseg/ext/panopticapi/evaluation.py\", line 98, in pq_compute_single_core\n",
      "    with Image.open(os.path.join(pred_folder, pred_ann['file_name'])) as img:\n",
      "  File \"/usr0/home/adelgior/code/experimental-instanceseg/instanceseg/ext/panopticapi/evaluation.py\", line 98, in pq_compute_single_core\n",
      "    with Image.open(os.path.join(pred_folder, pred_ann['file_name'])) as img:\n",
      "FileNotFoundError: [Errno 2] No such file or directory: '/home/adelgior/code/upsnet/output/upsnet/cityscapes/upsnet_resnet50_cityscapes_4gpu/val/results/pans_unified/pan_2ch/frankfurt_000001_073088_leftImg8bit.png'\n",
      "FileNotFoundError: [Errno 2] No such file or directory: '/home/adelgior/code/upsnet/output/upsnet/cityscapes/upsnet_resnet50_cityscapes_4gpu/val/results/pans_unified/pan_2ch/frankfurt_000001_072295_leftImg8bit.png'\n"
     ]
    },
    {
     "name": "stdout",
     "output_type": "stream",
     "text": [
      "Caught exception in worker thread:\n",
      "Core: 276, 0 from 1 images processed\n",
      "Caught exception in worker thread:\n",
      "Caught exception in worker thread:\n"
     ]
    },
    {
     "name": "stderr",
     "output_type": "stream",
     "text": [
      "  File \"/home/adelgior/code/fcn-instances-pytorch/instanceseg/ext/panopticapi/utils.py\", line 16, in wrapper\n",
      "    return f(*args, **kwargs)\n",
      "  File \"/home/adelgior/virtualenvs/pytorch4_python3/lib/python3.7/site-packages/PIL/Image.py\", line 2652, in open\n",
      "    fp = builtins.open(filename, \"rb\")\n",
      "  File \"/home/adelgior/virtualenvs/pytorch4_python3/lib/python3.7/site-packages/PIL/Image.py\", line 2652, in open\n",
      "    fp = builtins.open(filename, \"rb\")\n",
      "Traceback (most recent call last):\n",
      "  File \"/home/adelgior/code/fcn-instances-pytorch/instanceseg/ext/panopticapi/utils.py\", line 16, in wrapper\n",
      "    return f(*args, **kwargs)\n",
      "  File \"/usr0/home/adelgior/code/experimental-instanceseg/instanceseg/ext/panopticapi/evaluation.py\", line 98, in pq_compute_single_core\n",
      "    with Image.open(os.path.join(pred_folder, pred_ann['file_name'])) as img:\n",
      "FileNotFoundError: [Errno 2] No such file or directory: '/home/adelgior/code/upsnet/output/upsnet/cityscapes/upsnet_resnet50_cityscapes_4gpu/val/results/pans_unified/pan_2ch/frankfurt_000001_073911_leftImg8bit.png'\n",
      "Traceback (most recent call last):\n"
     ]
    },
    {
     "name": "stdout",
     "output_type": "stream",
     "text": [
      "Core: 277, 0 from 1 images processed\n"
     ]
    },
    {
     "name": "stderr",
     "output_type": "stream",
     "text": [
      "  File \"/home/adelgior/virtualenvs/pytorch4_python3/lib/python3.7/site-packages/PIL/Image.py\", line 2652, in open\n",
      "    fp = builtins.open(filename, \"rb\")\n"
     ]
    },
    {
     "name": "stdout",
     "output_type": "stream",
     "text": [
      "Caught exception in worker thread:\n"
     ]
    },
    {
     "name": "stderr",
     "output_type": "stream",
     "text": [
      "FileNotFoundError: [Errno 2] No such file or directory: '/home/adelgior/code/upsnet/output/upsnet/cityscapes/upsnet_resnet50_cityscapes_4gpu/val/results/pans_unified/pan_2ch/frankfurt_000001_073243_leftImg8bit.png'\n",
      "FileNotFoundError: [Errno 2] No such file or directory: '/home/adelgior/code/upsnet/output/upsnet/cityscapes/upsnet_resnet50_cityscapes_4gpu/val/results/pans_unified/pan_2ch/frankfurt_000001_075984_leftImg8bit.png'\n"
     ]
    },
    {
     "name": "stdout",
     "output_type": "stream",
     "text": [
      "Core: 278, 0 from 1 images processed\n"
     ]
    },
    {
     "name": "stderr",
     "output_type": "stream",
     "text": [
      "  File \"/home/adelgior/code/fcn-instances-pytorch/instanceseg/ext/panopticapi/utils.py\", line 16, in wrapper\n",
      "    return f(*args, **kwargs)\n"
     ]
    },
    {
     "name": "stdout",
     "output_type": "stream",
     "text": [
      "Caught exception in worker thread:\n",
      "Core: 279, 0 from 1 images processed\n"
     ]
    },
    {
     "name": "stderr",
     "output_type": "stream",
     "text": [
      "Traceback (most recent call last):\n",
      "Traceback (most recent call last):\n",
      "  File \"/home/adelgior/code/fcn-instances-pytorch/instanceseg/ext/panopticapi/utils.py\", line 16, in wrapper\n",
      "    return f(*args, **kwargs)\n",
      "  File \"/usr0/home/adelgior/code/experimental-instanceseg/instanceseg/ext/panopticapi/evaluation.py\", line 98, in pq_compute_single_core\n",
      "    with Image.open(os.path.join(pred_folder, pred_ann['file_name'])) as img:\n",
      "Traceback (most recent call last):\n",
      "  File \"/home/adelgior/code/fcn-instances-pytorch/instanceseg/ext/panopticapi/utils.py\", line 16, in wrapper\n",
      "    return f(*args, **kwargs)\n",
      "  File \"/home/adelgior/virtualenvs/pytorch4_python3/lib/python3.7/site-packages/PIL/Image.py\", line 2652, in open\n",
      "    fp = builtins.open(filename, \"rb\")\n"
     ]
    },
    {
     "name": "stdout",
     "output_type": "stream",
     "text": [
      "Core: 281, 0 from 1 images processed\n"
     ]
    },
    {
     "name": "stderr",
     "output_type": "stream",
     "text": [
      "  File \"/usr0/home/adelgior/code/experimental-instanceseg/instanceseg/ext/panopticapi/evaluation.py\", line 98, in pq_compute_single_core\n",
      "    with Image.open(os.path.join(pred_folder, pred_ann['file_name'])) as img:\n"
     ]
    },
    {
     "name": "stdout",
     "output_type": "stream",
     "text": [
      "Caught exception in worker thread:\n"
     ]
    },
    {
     "name": "stderr",
     "output_type": "stream",
     "text": [
      "  File \"/home/adelgior/code/fcn-instances-pytorch/instanceseg/ext/panopticapi/utils.py\", line 16, in wrapper\n",
      "    return f(*args, **kwargs)\n",
      "FileNotFoundError: [Errno 2] No such file or directory: '/home/adelgior/code/upsnet/output/upsnet/cityscapes/upsnet_resnet50_cityscapes_4gpu/val/results/pans_unified/pan_2ch/frankfurt_000001_073464_leftImg8bit.png'\n",
      "  File \"/usr0/home/adelgior/code/experimental-instanceseg/instanceseg/ext/panopticapi/evaluation.py\", line 98, in pq_compute_single_core\n",
      "    with Image.open(os.path.join(pred_folder, pred_ann['file_name'])) as img:\n"
     ]
    },
    {
     "name": "stdout",
     "output_type": "stream",
     "text": [
      "Core: 280, 0 from 1 images processed\n"
     ]
    },
    {
     "name": "stderr",
     "output_type": "stream",
     "text": [
      "  File \"/usr0/home/adelgior/code/experimental-instanceseg/instanceseg/ext/panopticapi/evaluation.py\", line 98, in pq_compute_single_core\n",
      "    with Image.open(os.path.join(pred_folder, pred_ann['file_name'])) as img:\n",
      "  File \"/home/adelgior/virtualenvs/pytorch4_python3/lib/python3.7/site-packages/PIL/Image.py\", line 2652, in open\n",
      "    fp = builtins.open(filename, \"rb\")\n",
      "  File \"/home/adelgior/virtualenvs/pytorch4_python3/lib/python3.7/site-packages/PIL/Image.py\", line 2652, in open\n",
      "    fp = builtins.open(filename, \"rb\")\n",
      "Traceback (most recent call last):\n",
      "  File \"/home/adelgior/virtualenvs/pytorch4_python3/lib/python3.7/site-packages/PIL/Image.py\", line 2652, in open\n",
      "    fp = builtins.open(filename, \"rb\")\n",
      "FileNotFoundError: [Errno 2] No such file or directory: '/home/adelgior/code/upsnet/output/upsnet/cityscapes/upsnet_resnet50_cityscapes_4gpu/val/results/pans_unified/pan_2ch/frankfurt_000001_076502_leftImg8bit.png'\n"
     ]
    },
    {
     "name": "stdout",
     "output_type": "stream",
     "text": [
      "Caught exception in worker thread:\n"
     ]
    },
    {
     "name": "stderr",
     "output_type": "stream",
     "text": [
      "  File \"/usr0/home/adelgior/code/experimental-instanceseg/instanceseg/ext/panopticapi/evaluation.py\", line 98, in pq_compute_single_core\n",
      "    with Image.open(os.path.join(pred_folder, pred_ann['file_name'])) as img:\n",
      "FileNotFoundError: [Errno 2] No such file or directory: '/home/adelgior/code/upsnet/output/upsnet/cityscapes/upsnet_resnet50_cityscapes_4gpu/val/results/pans_unified/pan_2ch/frankfurt_000001_080830_leftImg8bit.png'\n",
      "FileNotFoundError: [Errno 2] No such file or directory: '/home/adelgior/code/upsnet/output/upsnet/cityscapes/upsnet_resnet50_cityscapes_4gpu/val/results/pans_unified/pan_2ch/frankfurt_000001_075296_leftImg8bit.png'\n"
     ]
    },
    {
     "name": "stdout",
     "output_type": "stream",
     "text": [
      "Caught exception in worker thread:\n",
      "Caught exception in worker thread:\n"
     ]
    },
    {
     "name": "stderr",
     "output_type": "stream",
     "text": [
      "Traceback (most recent call last):\n"
     ]
    },
    {
     "name": "stdout",
     "output_type": "stream",
     "text": [
      "Core: 283, 0 from 1 images processed\n"
     ]
    },
    {
     "name": "stderr",
     "output_type": "stream",
     "text": [
      "  File \"/home/adelgior/virtualenvs/pytorch4_python3/lib/python3.7/site-packages/PIL/Image.py\", line 2652, in open\n",
      "    fp = builtins.open(filename, \"rb\")\n"
     ]
    },
    {
     "name": "stdout",
     "output_type": "stream",
     "text": [
      "Core: 282, 0 from 1 images processed\n"
     ]
    },
    {
     "name": "stderr",
     "output_type": "stream",
     "text": [
      "  File \"/home/adelgior/code/fcn-instances-pytorch/instanceseg/ext/panopticapi/utils.py\", line 16, in wrapper\n",
      "    return f(*args, **kwargs)\n",
      "Traceback (most recent call last):\n",
      "  File \"/home/adelgior/code/fcn-instances-pytorch/instanceseg/ext/panopticapi/utils.py\", line 16, in wrapper\n",
      "    return f(*args, **kwargs)\n",
      "Traceback (most recent call last):\n",
      "  File \"/usr0/home/adelgior/code/experimental-instanceseg/instanceseg/ext/panopticapi/evaluation.py\", line 98, in pq_compute_single_core\n",
      "    with Image.open(os.path.join(pred_folder, pred_ann['file_name'])) as img:\n",
      "  File \"/home/adelgior/code/fcn-instances-pytorch/instanceseg/ext/panopticapi/utils.py\", line 16, in wrapper\n",
      "    return f(*args, **kwargs)\n"
     ]
    },
    {
     "name": "stdout",
     "output_type": "stream",
     "text": [
      "Caught exception in worker thread:\n",
      "Core: 284, 0 from 1 images processed\n",
      "Core: 285, 0 from 1 images processed\n"
     ]
    },
    {
     "name": "stderr",
     "output_type": "stream",
     "text": [
      "  File \"/usr0/home/adelgior/code/experimental-instanceseg/instanceseg/ext/panopticapi/evaluation.py\", line 98, in pq_compute_single_core\n",
      "    with Image.open(os.path.join(pred_folder, pred_ann['file_name'])) as img:\n",
      "  File \"/home/adelgior/virtualenvs/pytorch4_python3/lib/python3.7/site-packages/PIL/Image.py\", line 2652, in open\n",
      "    fp = builtins.open(filename, \"rb\")\n",
      "Traceback (most recent call last):\n",
      "FileNotFoundError: [Errno 2] No such file or directory: '/home/adelgior/code/upsnet/output/upsnet/cityscapes/upsnet_resnet50_cityscapes_4gpu/val/results/pans_unified/pan_2ch/frankfurt_000001_078803_leftImg8bit.png'\n",
      "FileNotFoundError: [Errno 2] No such file or directory: '/home/adelgior/code/upsnet/output/upsnet/cityscapes/upsnet_resnet50_cityscapes_4gpu/val/results/pans_unified/pan_2ch/frankfurt_000001_077092_leftImg8bit.png'\n",
      "  File \"/usr0/home/adelgior/code/experimental-instanceseg/instanceseg/ext/panopticapi/evaluation.py\", line 98, in pq_compute_single_core\n",
      "    with Image.open(os.path.join(pred_folder, pred_ann['file_name'])) as img:\n"
     ]
    },
    {
     "name": "stdout",
     "output_type": "stream",
     "text": [
      "Caught exception in worker thread:\n"
     ]
    },
    {
     "name": "stderr",
     "output_type": "stream",
     "text": [
      "  File \"/home/adelgior/virtualenvs/pytorch4_python3/lib/python3.7/site-packages/PIL/Image.py\", line 2652, in open\n",
      "    fp = builtins.open(filename, \"rb\")\n"
     ]
    },
    {
     "name": "stdout",
     "output_type": "stream",
     "text": [
      "Caught exception in worker thread:\n",
      "Caught exception in worker thread:\n"
     ]
    },
    {
     "name": "stderr",
     "output_type": "stream",
     "text": [
      "  File \"/home/adelgior/code/fcn-instances-pytorch/instanceseg/ext/panopticapi/utils.py\", line 16, in wrapper\n",
      "    return f(*args, **kwargs)\n",
      "  File \"/home/adelgior/code/fcn-instances-pytorch/instanceseg/ext/panopticapi/utils.py\", line 16, in wrapper\n",
      "    return f(*args, **kwargs)\n"
     ]
    },
    {
     "name": "stdout",
     "output_type": "stream",
     "text": [
      "Caught exception in worker thread:\n",
      "Caught exception in worker thread:\n"
     ]
    },
    {
     "name": "stderr",
     "output_type": "stream",
     "text": [
      "Traceback (most recent call last):\n",
      "  File \"/home/adelgior/virtualenvs/pytorch4_python3/lib/python3.7/site-packages/PIL/Image.py\", line 2652, in open\n",
      "    fp = builtins.open(filename, \"rb\")\n",
      "  File \"/usr0/home/adelgior/code/experimental-instanceseg/instanceseg/ext/panopticapi/evaluation.py\", line 98, in pq_compute_single_core\n",
      "    with Image.open(os.path.join(pred_folder, pred_ann['file_name'])) as img:\n",
      "FileNotFoundError: [Errno 2] No such file or directory: '/home/adelgior/code/upsnet/output/upsnet/cityscapes/upsnet_resnet50_cityscapes_4gpu/val/results/pans_unified/pan_2ch/frankfurt_000001_077233_leftImg8bit.png'\n",
      "Traceback (most recent call last):\n",
      "Traceback (most recent call last):\n"
     ]
    },
    {
     "name": "stdout",
     "output_type": "stream",
     "text": [
      "Caught exception in worker thread:\n"
     ]
    },
    {
     "name": "stderr",
     "output_type": "stream",
     "text": [
      "Traceback (most recent call last):\n",
      "  File \"/home/adelgior/virtualenvs/pytorch4_python3/lib/python3.7/site-packages/PIL/Image.py\", line 2652, in open\n",
      "    fp = builtins.open(filename, \"rb\")\n"
     ]
    },
    {
     "name": "stdout",
     "output_type": "stream",
     "text": [
      "Core: 286, 0 from 1 images processed\n"
     ]
    },
    {
     "name": "stderr",
     "output_type": "stream",
     "text": [
      "  File \"/home/adelgior/code/fcn-instances-pytorch/instanceseg/ext/panopticapi/utils.py\", line 16, in wrapper\n",
      "    return f(*args, **kwargs)\n"
     ]
    },
    {
     "name": "stdout",
     "output_type": "stream",
     "text": [
      "Caught exception in worker thread:\n"
     ]
    },
    {
     "name": "stderr",
     "output_type": "stream",
     "text": [
      "  File \"/usr0/home/adelgior/code/experimental-instanceseg/instanceseg/ext/panopticapi/evaluation.py\", line 98, in pq_compute_single_core\n",
      "    with Image.open(os.path.join(pred_folder, pred_ann['file_name'])) as img:\n"
     ]
    },
    {
     "name": "stdout",
     "output_type": "stream",
     "text": [
      "Caught exception in worker thread:\n",
      "Caught exception in worker thread:\n"
     ]
    },
    {
     "name": "stderr",
     "output_type": "stream",
     "text": [
      "  File \"/home/adelgior/code/fcn-instances-pytorch/instanceseg/ext/panopticapi/utils.py\", line 16, in wrapper\n",
      "    return f(*args, **kwargs)\n",
      "Traceback (most recent call last):\n",
      "Traceback (most recent call last):\n",
      "FileNotFoundError: [Errno 2] No such file or directory: '/home/adelgior/code/upsnet/output/upsnet/cityscapes/upsnet_resnet50_cityscapes_4gpu/val/results/pans_unified/pan_2ch/frankfurt_000001_080091_leftImg8bit.png'\n",
      "Traceback (most recent call last):\n",
      "  File \"/home/adelgior/virtualenvs/pytorch4_python3/lib/python3.7/site-packages/PIL/Image.py\", line 2652, in open\n",
      "    fp = builtins.open(filename, \"rb\")\n",
      "  File \"/home/adelgior/code/fcn-instances-pytorch/instanceseg/ext/panopticapi/utils.py\", line 16, in wrapper\n",
      "    return f(*args, **kwargs)\n"
     ]
    },
    {
     "name": "stdout",
     "output_type": "stream",
     "text": [
      "Core: 288, 0 from 1 images processed\n"
     ]
    },
    {
     "name": "stderr",
     "output_type": "stream",
     "text": [
      "  File \"/home/adelgior/code/fcn-instances-pytorch/instanceseg/ext/panopticapi/utils.py\", line 16, in wrapper\n",
      "    return f(*args, **kwargs)\n",
      "FileNotFoundError: [Errno 2] No such file or directory: '/home/adelgior/code/upsnet/output/upsnet/cityscapes/upsnet_resnet50_cityscapes_4gpu/val/results/pans_unified/pan_2ch/frankfurt_000001_077434_leftImg8bit.png'\n",
      "  File \"/home/adelgior/code/fcn-instances-pytorch/instanceseg/ext/panopticapi/utils.py\", line 16, in wrapper\n",
      "    return f(*args, **kwargs)\n",
      "Traceback (most recent call last):\n",
      "  File \"/home/adelgior/code/fcn-instances-pytorch/instanceseg/ext/panopticapi/utils.py\", line 16, in wrapper\n",
      "    return f(*args, **kwargs)\n",
      "  File \"/usr0/home/adelgior/code/experimental-instanceseg/instanceseg/ext/panopticapi/evaluation.py\", line 98, in pq_compute_single_core\n",
      "    with Image.open(os.path.join(pred_folder, pred_ann['file_name'])) as img:\n",
      "  File \"/home/adelgior/virtualenvs/pytorch4_python3/lib/python3.7/site-packages/PIL/Image.py\", line 2652, in open\n",
      "    fp = builtins.open(filename, \"rb\")\n",
      "  File \"/home/adelgior/code/fcn-instances-pytorch/instanceseg/ext/panopticapi/utils.py\", line 16, in wrapper\n",
      "    return f(*args, **kwargs)\n",
      "  File \"/usr0/home/adelgior/code/experimental-instanceseg/instanceseg/ext/panopticapi/evaluation.py\", line 98, in pq_compute_single_core\n",
      "    with Image.open(os.path.join(pred_folder, pred_ann['file_name'])) as img:\n",
      "  File \"/usr0/home/adelgior/code/experimental-instanceseg/instanceseg/ext/panopticapi/evaluation.py\", line 98, in pq_compute_single_core\n",
      "    with Image.open(os.path.join(pred_folder, pred_ann['file_name'])) as img:\n"
     ]
    },
    {
     "name": "stdout",
     "output_type": "stream",
     "text": [
      "Core: 287, 0 from 1 images processed\n",
      "Core: 289, 0 from 1 images processed\n"
     ]
    },
    {
     "name": "stderr",
     "output_type": "stream",
     "text": [
      "  File \"/home/adelgior/virtualenvs/pytorch4_python3/lib/python3.7/site-packages/PIL/Image.py\", line 2652, in open\n",
      "    fp = builtins.open(filename, \"rb\")\n",
      "  File \"/usr0/home/adelgior/code/experimental-instanceseg/instanceseg/ext/panopticapi/evaluation.py\", line 98, in pq_compute_single_core\n",
      "    with Image.open(os.path.join(pred_folder, pred_ann['file_name'])) as img:\n",
      "  File \"/home/adelgior/code/fcn-instances-pytorch/instanceseg/ext/panopticapi/utils.py\", line 16, in wrapper\n",
      "    return f(*args, **kwargs)\n",
      "  File \"/usr0/home/adelgior/code/experimental-instanceseg/instanceseg/ext/panopticapi/evaluation.py\", line 98, in pq_compute_single_core\n",
      "    with Image.open(os.path.join(pred_folder, pred_ann['file_name'])) as img:\n",
      "  File \"/home/adelgior/virtualenvs/pytorch4_python3/lib/python3.7/site-packages/PIL/Image.py\", line 2652, in open\n",
      "    fp = builtins.open(filename, \"rb\")\n",
      "FileNotFoundError: [Errno 2] No such file or directory: '/home/adelgior/code/upsnet/output/upsnet/cityscapes/upsnet_resnet50_cityscapes_4gpu/val/results/pans_unified/pan_2ch/lindau_000002_000019_leftImg8bit.png'\n",
      "FileNotFoundError: [Errno 2] No such file or directory: '/home/adelgior/code/upsnet/output/upsnet/cityscapes/upsnet_resnet50_cityscapes_4gpu/val/results/pans_unified/pan_2ch/frankfurt_000001_079206_leftImg8bit.png'\n",
      "  File \"/home/adelgior/virtualenvs/pytorch4_python3/lib/python3.7/site-packages/PIL/Image.py\", line 2652, in open\n",
      "    fp = builtins.open(filename, \"rb\")\n",
      "Traceback (most recent call last):\n",
      "  File \"/usr0/home/adelgior/code/experimental-instanceseg/instanceseg/ext/panopticapi/evaluation.py\", line 98, in pq_compute_single_core\n",
      "    with Image.open(os.path.join(pred_folder, pred_ann['file_name'])) as img:\n",
      "  File \"/home/adelgior/virtualenvs/pytorch4_python3/lib/python3.7/site-packages/PIL/Image.py\", line 2652, in open\n",
      "    fp = builtins.open(filename, \"rb\")\n",
      "  File \"/usr0/home/adelgior/code/experimental-instanceseg/instanceseg/ext/panopticapi/evaluation.py\", line 98, in pq_compute_single_core\n",
      "    with Image.open(os.path.join(pred_folder, pred_ann['file_name'])) as img:\n",
      "FileNotFoundError: [Errno 2] No such file or directory: '/home/adelgior/code/upsnet/output/upsnet/cityscapes/upsnet_resnet50_cityscapes_4gpu/val/results/pans_unified/pan_2ch/frankfurt_000001_082087_leftImg8bit.png'\n"
     ]
    },
    {
     "name": "stdout",
     "output_type": "stream",
     "text": [
      "Core: 290, 0 from 1 images processed\n"
     ]
    },
    {
     "name": "stderr",
     "output_type": "stream",
     "text": [
      "FileNotFoundError: [Errno 2] No such file or directory: '/home/adelgior/code/upsnet/output/upsnet/cityscapes/upsnet_resnet50_cityscapes_4gpu/val/results/pans_unified/pan_2ch/lindau_000000_000019_leftImg8bit.png'\n",
      "  File \"/home/adelgior/virtualenvs/pytorch4_python3/lib/python3.7/site-packages/PIL/Image.py\", line 2652, in open\n",
      "    fp = builtins.open(filename, \"rb\")\n",
      "  File \"/home/adelgior/virtualenvs/pytorch4_python3/lib/python3.7/site-packages/PIL/Image.py\", line 2652, in open\n",
      "    fp = builtins.open(filename, \"rb\")\n",
      "  File \"/usr0/home/adelgior/code/experimental-instanceseg/instanceseg/ext/panopticapi/evaluation.py\", line 98, in pq_compute_single_core\n",
      "    with Image.open(os.path.join(pred_folder, pred_ann['file_name'])) as img:\n",
      "FileNotFoundError: [Errno 2] No such file or directory: '/home/adelgior/code/upsnet/output/upsnet/cityscapes/upsnet_resnet50_cityscapes_4gpu/val/results/pans_unified/pan_2ch/frankfurt_000001_083029_leftImg8bit.png'\n"
     ]
    },
    {
     "name": "stdout",
     "output_type": "stream",
     "text": [
      "Core: 291, 0 from 1 images processed\n",
      "Core: 292, 0 from 1 images processed\n",
      "Caught exception in worker thread:\n"
     ]
    },
    {
     "name": "stderr",
     "output_type": "stream",
     "text": [
      "FileNotFoundError: [Errno 2] No such file or directory: '/home/adelgior/code/upsnet/output/upsnet/cityscapes/upsnet_resnet50_cityscapes_4gpu/val/results/pans_unified/pan_2ch/frankfurt_000001_082466_leftImg8bit.png'\n",
      "  File \"/home/adelgior/virtualenvs/pytorch4_python3/lib/python3.7/site-packages/PIL/Image.py\", line 2652, in open\n",
      "    fp = builtins.open(filename, \"rb\")\n",
      "  File \"/home/adelgior/code/fcn-instances-pytorch/instanceseg/ext/panopticapi/utils.py\", line 16, in wrapper\n",
      "    return f(*args, **kwargs)\n"
     ]
    },
    {
     "name": "stdout",
     "output_type": "stream",
     "text": [
      "Core: 293, 0 from 1 images processed\n"
     ]
    },
    {
     "name": "stderr",
     "output_type": "stream",
     "text": [
      "FileNotFoundError: [Errno 2] No such file or directory: '/home/adelgior/code/upsnet/output/upsnet/cityscapes/upsnet_resnet50_cityscapes_4gpu/val/results/pans_unified/pan_2ch/frankfurt_000001_080391_leftImg8bit.png'\n",
      "  File \"/usr0/home/adelgior/code/experimental-instanceseg/instanceseg/ext/panopticapi/evaluation.py\", line 98, in pq_compute_single_core\n",
      "    with Image.open(os.path.join(pred_folder, pred_ann['file_name'])) as img:\n",
      "FileNotFoundError: [Errno 2] No such file or directory: '/home/adelgior/code/upsnet/output/upsnet/cityscapes/upsnet_resnet50_cityscapes_4gpu/val/results/pans_unified/pan_2ch/lindau_000001_000019_leftImg8bit.png'\n",
      "  File \"/home/adelgior/virtualenvs/pytorch4_python3/lib/python3.7/site-packages/PIL/Image.py\", line 2652, in open\n",
      "    fp = builtins.open(filename, \"rb\")\n",
      "FileNotFoundError: [Errno 2] No such file or directory: '/home/adelgior/code/upsnet/output/upsnet/cityscapes/upsnet_resnet50_cityscapes_4gpu/val/results/pans_unified/pan_2ch/frankfurt_000001_083852_leftImg8bit.png'\n"
     ]
    },
    {
     "name": "stdout",
     "output_type": "stream",
     "text": [
      "Core: 295, 0 from 1 images processed\n",
      "Core: 294, 0 from 1 images processed\n"
     ]
    },
    {
     "name": "stderr",
     "output_type": "stream",
     "text": [
      "FileNotFoundError: [Errno 2] No such file or directory: '/home/adelgior/code/upsnet/output/upsnet/cityscapes/upsnet_resnet50_cityscapes_4gpu/val/results/pans_unified/pan_2ch/frankfurt_000001_083199_leftImg8bit.png'\n"
     ]
    },
    {
     "name": "stdout",
     "output_type": "stream",
     "text": [
      "Caught exception in worker thread:\n",
      "Caught exception in worker thread:\n"
     ]
    },
    {
     "name": "stderr",
     "output_type": "stream",
     "text": [
      "Traceback (most recent call last):\n"
     ]
    },
    {
     "name": "stdout",
     "output_type": "stream",
     "text": [
      "Core: 297, 0 from 1 images processed\n"
     ]
    },
    {
     "name": "stderr",
     "output_type": "stream",
     "text": [
      "  File \"/home/adelgior/code/fcn-instances-pytorch/instanceseg/ext/panopticapi/utils.py\", line 16, in wrapper\n",
      "    return f(*args, **kwargs)\n"
     ]
    },
    {
     "name": "stdout",
     "output_type": "stream",
     "text": [
      "Core: 298, 0 from 1 images processed\n",
      "Caught exception in worker thread:\n",
      "Core: 299, 0 from 1 images processed\n"
     ]
    },
    {
     "name": "stderr",
     "output_type": "stream",
     "text": [
      "Traceback (most recent call last):\n"
     ]
    },
    {
     "name": "stdout",
     "output_type": "stream",
     "text": [
      "Core: 296, 0 from 1 images processed\n"
     ]
    },
    {
     "name": "stderr",
     "output_type": "stream",
     "text": [
      "Traceback (most recent call last):\n",
      "  File \"/usr0/home/adelgior/code/experimental-instanceseg/instanceseg/ext/panopticapi/evaluation.py\", line 98, in pq_compute_single_core\n",
      "    with Image.open(os.path.join(pred_folder, pred_ann['file_name'])) as img:\n",
      "Traceback (most recent call last):\n",
      "  File \"/home/adelgior/code/fcn-instances-pytorch/instanceseg/ext/panopticapi/utils.py\", line 16, in wrapper\n",
      "    return f(*args, **kwargs)\n"
     ]
    },
    {
     "name": "stdout",
     "output_type": "stream",
     "text": [
      "Core: 300, 0 from 1 images processed\n"
     ]
    },
    {
     "name": "stderr",
     "output_type": "stream",
     "text": [
      "  File \"/usr0/home/adelgior/code/experimental-instanceseg/instanceseg/ext/panopticapi/evaluation.py\", line 98, in pq_compute_single_core\n",
      "    with Image.open(os.path.join(pred_folder, pred_ann['file_name'])) as img:\n",
      "  File \"/home/adelgior/virtualenvs/pytorch4_python3/lib/python3.7/site-packages/PIL/Image.py\", line 2652, in open\n",
      "    fp = builtins.open(filename, \"rb\")\n",
      "  File \"/home/adelgior/code/fcn-instances-pytorch/instanceseg/ext/panopticapi/utils.py\", line 16, in wrapper\n",
      "    return f(*args, **kwargs)\n",
      "FileNotFoundError: [Errno 2] No such file or directory: '/home/adelgior/code/upsnet/output/upsnet/cityscapes/upsnet_resnet50_cityscapes_4gpu/val/results/pans_unified/pan_2ch/lindau_000007_000019_leftImg8bit.png'\n",
      "  File \"/home/adelgior/virtualenvs/pytorch4_python3/lib/python3.7/site-packages/PIL/Image.py\", line 2652, in open\n",
      "    fp = builtins.open(filename, \"rb\")\n"
     ]
    },
    {
     "name": "stdout",
     "output_type": "stream",
     "text": [
      "Caught exception in worker thread:\n"
     ]
    },
    {
     "name": "stderr",
     "output_type": "stream",
     "text": [
      "  File \"/home/adelgior/code/fcn-instances-pytorch/instanceseg/ext/panopticapi/utils.py\", line 16, in wrapper\n",
      "    return f(*args, **kwargs)\n"
     ]
    },
    {
     "name": "stdout",
     "output_type": "stream",
     "text": [
      "Caught exception in worker thread:\n"
     ]
    },
    {
     "name": "stderr",
     "output_type": "stream",
     "text": [
      "  File \"/usr0/home/adelgior/code/experimental-instanceseg/instanceseg/ext/panopticapi/evaluation.py\", line 98, in pq_compute_single_core\n",
      "    with Image.open(os.path.join(pred_folder, pred_ann['file_name'])) as img:\n",
      "Traceback (most recent call last):\n",
      "FileNotFoundError: [Errno 2] No such file or directory: '/home/adelgior/code/upsnet/output/upsnet/cityscapes/upsnet_resnet50_cityscapes_4gpu/val/results/pans_unified/pan_2ch/lindau_000008_000019_leftImg8bit.png'\n"
     ]
    },
    {
     "name": "stdout",
     "output_type": "stream",
     "text": [
      "Core: 301, 0 from 1 images processed\n",
      "Caught exception in worker thread:\n"
     ]
    },
    {
     "name": "stderr",
     "output_type": "stream",
     "text": [
      "Traceback (most recent call last):\n",
      "Traceback (most recent call last):\n"
     ]
    },
    {
     "name": "stdout",
     "output_type": "stream",
     "text": [
      "Core: 302, 0 from 1 images processed\n"
     ]
    },
    {
     "name": "stderr",
     "output_type": "stream",
     "text": [
      "  File \"/home/adelgior/virtualenvs/pytorch4_python3/lib/python3.7/site-packages/PIL/Image.py\", line 2652, in open\n",
      "    fp = builtins.open(filename, \"rb\")\n",
      "  File \"/home/adelgior/code/fcn-instances-pytorch/instanceseg/ext/panopticapi/utils.py\", line 16, in wrapper\n",
      "    return f(*args, **kwargs)\n",
      "FileNotFoundError: [Errno 2] No such file or directory: '/home/adelgior/code/upsnet/output/upsnet/cityscapes/upsnet_resnet50_cityscapes_4gpu/val/results/pans_unified/pan_2ch/lindau_000004_000019_leftImg8bit.png'\n"
     ]
    },
    {
     "name": "stdout",
     "output_type": "stream",
     "text": [
      "Caught exception in worker thread:\n",
      "Caught exception in worker thread:\n"
     ]
    },
    {
     "name": "stderr",
     "output_type": "stream",
     "text": [
      "Traceback (most recent call last):\n",
      "  File \"/home/adelgior/code/fcn-instances-pytorch/instanceseg/ext/panopticapi/utils.py\", line 16, in wrapper\n",
      "    return f(*args, **kwargs)\n",
      "  File \"/home/adelgior/code/fcn-instances-pytorch/instanceseg/ext/panopticapi/utils.py\", line 16, in wrapper\n",
      "    return f(*args, **kwargs)\n",
      "  File \"/usr0/home/adelgior/code/experimental-instanceseg/instanceseg/ext/panopticapi/evaluation.py\", line 98, in pq_compute_single_core\n",
      "    with Image.open(os.path.join(pred_folder, pred_ann['file_name'])) as img:\n",
      "Traceback (most recent call last):\n",
      "  File \"/usr0/home/adelgior/code/experimental-instanceseg/instanceseg/ext/panopticapi/evaluation.py\", line 98, in pq_compute_single_core\n",
      "    with Image.open(os.path.join(pred_folder, pred_ann['file_name'])) as img:\n",
      "  File \"/usr0/home/adelgior/code/experimental-instanceseg/instanceseg/ext/panopticapi/evaluation.py\", line 98, in pq_compute_single_core\n",
      "    with Image.open(os.path.join(pred_folder, pred_ann['file_name'])) as img:\n",
      "  File \"/home/adelgior/virtualenvs/pytorch4_python3/lib/python3.7/site-packages/PIL/Image.py\", line 2652, in open\n",
      "    fp = builtins.open(filename, \"rb\")\n",
      "  File \"/home/adelgior/code/fcn-instances-pytorch/instanceseg/ext/panopticapi/utils.py\", line 16, in wrapper\n",
      "    return f(*args, **kwargs)\n",
      "  File \"/home/adelgior/code/fcn-instances-pytorch/instanceseg/ext/panopticapi/utils.py\", line 16, in wrapper\n",
      "    return f(*args, **kwargs)\n"
     ]
    },
    {
     "name": "stdout",
     "output_type": "stream",
     "text": [
      "Core: 303, 0 from 1 images processed\n"
     ]
    },
    {
     "name": "stderr",
     "output_type": "stream",
     "text": [
      "FileNotFoundError: [Errno 2] No such file or directory: '/home/adelgior/code/upsnet/output/upsnet/cityscapes/upsnet_resnet50_cityscapes_4gpu/val/results/pans_unified/pan_2ch/lindau_000006_000019_leftImg8bit.png'\n",
      "  File \"/usr0/home/adelgior/code/experimental-instanceseg/instanceseg/ext/panopticapi/evaluation.py\", line 98, in pq_compute_single_core\n",
      "    with Image.open(os.path.join(pred_folder, pred_ann['file_name'])) as img:\n"
     ]
    },
    {
     "name": "stdout",
     "output_type": "stream",
     "text": [
      "Caught exception in worker thread:\n",
      "Caught exception in worker thread:\n"
     ]
    },
    {
     "name": "stderr",
     "output_type": "stream",
     "text": [
      "  File \"/usr0/home/adelgior/code/experimental-instanceseg/instanceseg/ext/panopticapi/evaluation.py\", line 98, in pq_compute_single_core\n",
      "    with Image.open(os.path.join(pred_folder, pred_ann['file_name'])) as img:\n",
      "Traceback (most recent call last):\n",
      "  File \"/home/adelgior/virtualenvs/pytorch4_python3/lib/python3.7/site-packages/PIL/Image.py\", line 2652, in open\n",
      "    fp = builtins.open(filename, \"rb\")\n",
      "  File \"/home/adelgior/virtualenvs/pytorch4_python3/lib/python3.7/site-packages/PIL/Image.py\", line 2652, in open\n",
      "    fp = builtins.open(filename, \"rb\")\n"
     ]
    },
    {
     "name": "stdout",
     "output_type": "stream",
     "text": [
      "Caught exception in worker thread:\n"
     ]
    },
    {
     "name": "stderr",
     "output_type": "stream",
     "text": [
      "Traceback (most recent call last):\n",
      "FileNotFoundError: [Errno 2] No such file or directory: '/home/adelgior/code/upsnet/output/upsnet/cityscapes/upsnet_resnet50_cityscapes_4gpu/val/results/pans_unified/pan_2ch/lindau_000009_000019_leftImg8bit.png'\n",
      "  File \"/home/adelgior/virtualenvs/pytorch4_python3/lib/python3.7/site-packages/PIL/Image.py\", line 2652, in open\n",
      "    fp = builtins.open(filename, \"rb\")\n",
      "FileNotFoundError: [Errno 2] No such file or directory: '/home/adelgior/code/upsnet/output/upsnet/cityscapes/upsnet_resnet50_cityscapes_4gpu/val/results/pans_unified/pan_2ch/lindau_000010_000019_leftImg8bit.png'\n",
      "  File \"/home/adelgior/virtualenvs/pytorch4_python3/lib/python3.7/site-packages/PIL/Image.py\", line 2652, in open\n",
      "    fp = builtins.open(filename, \"rb\")\n",
      "  File \"/home/adelgior/code/fcn-instances-pytorch/instanceseg/ext/panopticapi/utils.py\", line 16, in wrapper\n",
      "    return f(*args, **kwargs)\n",
      "FileNotFoundError: [Errno 2] No such file or directory: '/home/adelgior/code/upsnet/output/upsnet/cityscapes/upsnet_resnet50_cityscapes_4gpu/val/results/pans_unified/pan_2ch/lindau_000015_000019_leftImg8bit.png'\n"
     ]
    },
    {
     "name": "stdout",
     "output_type": "stream",
     "text": [
      "Caught exception in worker thread:\n"
     ]
    },
    {
     "name": "stderr",
     "output_type": "stream",
     "text": [
      "Traceback (most recent call last):\n"
     ]
    },
    {
     "name": "stdout",
     "output_type": "stream",
     "text": [
      "Caught exception in worker thread:\n"
     ]
    },
    {
     "name": "stderr",
     "output_type": "stream",
     "text": [
      "Traceback (most recent call last):\n"
     ]
    },
    {
     "name": "stdout",
     "output_type": "stream",
     "text": [
      "Caught exception in worker thread:\n"
     ]
    },
    {
     "name": "stderr",
     "output_type": "stream",
     "text": [
      "  File \"/usr0/home/adelgior/code/experimental-instanceseg/instanceseg/ext/panopticapi/evaluation.py\", line 98, in pq_compute_single_core\n",
      "    with Image.open(os.path.join(pred_folder, pred_ann['file_name'])) as img:\n",
      "  File \"/home/adelgior/code/fcn-instances-pytorch/instanceseg/ext/panopticapi/utils.py\", line 16, in wrapper\n",
      "    return f(*args, **kwargs)\n",
      "Traceback (most recent call last):\n",
      "  File \"/home/adelgior/code/fcn-instances-pytorch/instanceseg/ext/panopticapi/utils.py\", line 16, in wrapper\n",
      "    return f(*args, **kwargs)\n",
      "  File \"/usr0/home/adelgior/code/experimental-instanceseg/instanceseg/ext/panopticapi/evaluation.py\", line 98, in pq_compute_single_core\n",
      "    with Image.open(os.path.join(pred_folder, pred_ann['file_name'])) as img:\n",
      "  File \"/home/adelgior/virtualenvs/pytorch4_python3/lib/python3.7/site-packages/PIL/Image.py\", line 2652, in open\n",
      "    fp = builtins.open(filename, \"rb\")\n",
      "FileNotFoundError: [Errno 2] No such file or directory: '/home/adelgior/code/upsnet/output/upsnet/cityscapes/upsnet_resnet50_cityscapes_4gpu/val/results/pans_unified/pan_2ch/lindau_000005_000019_leftImg8bit.png'\n",
      "Traceback (most recent call last):\n",
      "  File \"/home/adelgior/code/fcn-instances-pytorch/instanceseg/ext/panopticapi/utils.py\", line 16, in wrapper\n",
      "    return f(*args, **kwargs)\n"
     ]
    },
    {
     "name": "stdout",
     "output_type": "stream",
     "text": [
      "Core: 306, 0 from 1 images processed\n"
     ]
    },
    {
     "name": "stderr",
     "output_type": "stream",
     "text": [
      "  File \"/home/adelgior/code/fcn-instances-pytorch/instanceseg/ext/panopticapi/utils.py\", line 16, in wrapper\n",
      "    return f(*args, **kwargs)\n",
      "  File \"/usr0/home/adelgior/code/experimental-instanceseg/instanceseg/ext/panopticapi/evaluation.py\", line 98, in pq_compute_single_core\n",
      "    with Image.open(os.path.join(pred_folder, pred_ann['file_name'])) as img:\n",
      "FileNotFoundError: [Errno 2] No such file or directory: '/home/adelgior/code/upsnet/output/upsnet/cityscapes/upsnet_resnet50_cityscapes_4gpu/val/results/pans_unified/pan_2ch/lindau_000012_000019_leftImg8bit.png'\n",
      "  File \"/home/adelgior/virtualenvs/pytorch4_python3/lib/python3.7/site-packages/PIL/Image.py\", line 2652, in open\n",
      "    fp = builtins.open(filename, \"rb\")\n",
      "  File \"/home/adelgior/code/fcn-instances-pytorch/instanceseg/ext/panopticapi/utils.py\", line 16, in wrapper\n",
      "    return f(*args, **kwargs)\n"
     ]
    },
    {
     "name": "stdout",
     "output_type": "stream",
     "text": [
      "Core: 307, 0 from 1 images processed\n"
     ]
    },
    {
     "name": "stderr",
     "output_type": "stream",
     "text": [
      "  File \"/usr0/home/adelgior/code/experimental-instanceseg/instanceseg/ext/panopticapi/evaluation.py\", line 98, in pq_compute_single_core\n",
      "    with Image.open(os.path.join(pred_folder, pred_ann['file_name'])) as img:\n",
      "FileNotFoundError: [Errno 2] No such file or directory: '/home/adelgior/code/upsnet/output/upsnet/cityscapes/upsnet_resnet50_cityscapes_4gpu/val/results/pans_unified/pan_2ch/lindau_000014_000019_leftImg8bit.png'\n"
     ]
    },
    {
     "name": "stdout",
     "output_type": "stream",
     "text": [
      "Core: 347, 0 from 1 images processed\n",
      "Core: 305, 0 from 1 images processed\n",
      "Core: 304, 0 from 1 images processed\n",
      "Core: 308, 0 from 1 images processed\n"
     ]
    },
    {
     "name": "stderr",
     "output_type": "stream",
     "text": [
      "  File \"/home/adelgior/virtualenvs/pytorch4_python3/lib/python3.7/site-packages/PIL/Image.py\", line 2652, in open\n",
      "    fp = builtins.open(filename, \"rb\")\n",
      "  File \"/usr0/home/adelgior/code/experimental-instanceseg/instanceseg/ext/panopticapi/evaluation.py\", line 98, in pq_compute_single_core\n",
      "    with Image.open(os.path.join(pred_folder, pred_ann['file_name'])) as img:\n",
      "  File \"/home/adelgior/virtualenvs/pytorch4_python3/lib/python3.7/site-packages/PIL/Image.py\", line 2652, in open\n",
      "    fp = builtins.open(filename, \"rb\")\n"
     ]
    },
    {
     "name": "stdout",
     "output_type": "stream",
     "text": [
      "Caught exception in worker thread:\n"
     ]
    },
    {
     "name": "stderr",
     "output_type": "stream",
     "text": [
      "  File \"/usr0/home/adelgior/code/experimental-instanceseg/instanceseg/ext/panopticapi/evaluation.py\", line 98, in pq_compute_single_core\n",
      "    with Image.open(os.path.join(pred_folder, pred_ann['file_name'])) as img:\n",
      "  File \"/usr0/home/adelgior/code/experimental-instanceseg/instanceseg/ext/panopticapi/evaluation.py\", line 98, in pq_compute_single_core\n",
      "    with Image.open(os.path.join(pred_folder, pred_ann['file_name'])) as img:\n",
      "  File \"/home/adelgior/virtualenvs/pytorch4_python3/lib/python3.7/site-packages/PIL/Image.py\", line 2652, in open\n",
      "    fp = builtins.open(filename, \"rb\")\n",
      "  File \"/home/adelgior/virtualenvs/pytorch4_python3/lib/python3.7/site-packages/PIL/Image.py\", line 2652, in open\n",
      "    fp = builtins.open(filename, \"rb\")\n",
      "FileNotFoundError: [Errno 2] No such file or directory: '/home/adelgior/code/upsnet/output/upsnet/cityscapes/upsnet_resnet50_cityscapes_4gpu/val/results/pans_unified/pan_2ch/lindau_000003_000019_leftImg8bit.png'\n"
     ]
    },
    {
     "name": "stdout",
     "output_type": "stream",
     "text": [
      "Caught exception in worker thread:\n"
     ]
    },
    {
     "name": "stderr",
     "output_type": "stream",
     "text": [
      "Traceback (most recent call last):\n"
     ]
    },
    {
     "name": "stdout",
     "output_type": "stream",
     "text": [
      "Core: 309, 0 from 1 images processed\n",
      "Caught exception in worker thread:\n"
     ]
    },
    {
     "name": "stderr",
     "output_type": "stream",
     "text": [
      "FileNotFoundError: [Errno 2] No such file or directory: '/home/adelgior/code/upsnet/output/upsnet/cityscapes/upsnet_resnet50_cityscapes_4gpu/val/results/pans_unified/pan_2ch/lindau_000017_000019_leftImg8bit.png'\n",
      "Traceback (most recent call last):\n",
      "  File \"/home/adelgior/virtualenvs/pytorch4_python3/lib/python3.7/site-packages/PIL/Image.py\", line 2652, in open\n",
      "    fp = builtins.open(filename, \"rb\")\n",
      "  File \"/home/adelgior/code/fcn-instances-pytorch/instanceseg/ext/panopticapi/utils.py\", line 16, in wrapper\n",
      "    return f(*args, **kwargs)\n",
      "FileNotFoundError: [Errno 2] No such file or directory: '/home/adelgior/code/upsnet/output/upsnet/cityscapes/upsnet_resnet50_cityscapes_4gpu/val/results/pans_unified/pan_2ch/lindau_000013_000019_leftImg8bit.png'\n",
      "  File \"/home/adelgior/code/fcn-instances-pytorch/instanceseg/ext/panopticapi/utils.py\", line 16, in wrapper\n",
      "    return f(*args, **kwargs)\n"
     ]
    },
    {
     "name": "stdout",
     "output_type": "stream",
     "text": [
      "Core: 310, 0 from 1 images processed\n"
     ]
    },
    {
     "name": "stderr",
     "output_type": "stream",
     "text": [
      "Traceback (most recent call last):\n",
      "FileNotFoundError: [Errno 2] No such file or directory: '/home/adelgior/code/upsnet/output/upsnet/cityscapes/upsnet_resnet50_cityscapes_4gpu/val/results/pans_unified/pan_2ch/lindau_000018_000019_leftImg8bit.png'\n"
     ]
    },
    {
     "name": "stdout",
     "output_type": "stream",
     "text": [
      "Core: 311, 0 from 1 images processed\n"
     ]
    },
    {
     "name": "stderr",
     "output_type": "stream",
     "text": [
      "FileNotFoundError: [Errno 2] No such file or directory: '/home/adelgior/code/upsnet/output/upsnet/cityscapes/upsnet_resnet50_cityscapes_4gpu/val/results/pans_unified/pan_2ch/lindau_000011_000019_leftImg8bit.png'\n",
      "  File \"/home/adelgior/code/fcn-instances-pytorch/instanceseg/ext/panopticapi/utils.py\", line 16, in wrapper\n",
      "    return f(*args, **kwargs)\n",
      "  File \"/usr0/home/adelgior/code/experimental-instanceseg/instanceseg/ext/panopticapi/evaluation.py\", line 98, in pq_compute_single_core\n",
      "    with Image.open(os.path.join(pred_folder, pred_ann['file_name'])) as img:\n",
      "  File \"/usr0/home/adelgior/code/experimental-instanceseg/instanceseg/ext/panopticapi/evaluation.py\", line 98, in pq_compute_single_core\n",
      "    with Image.open(os.path.join(pred_folder, pred_ann['file_name'])) as img:\n",
      "  File \"/usr0/home/adelgior/code/experimental-instanceseg/instanceseg/ext/panopticapi/evaluation.py\", line 98, in pq_compute_single_core\n",
      "    with Image.open(os.path.join(pred_folder, pred_ann['file_name'])) as img:\n"
     ]
    },
    {
     "name": "stdout",
     "output_type": "stream",
     "text": [
      "Core: 312, 0 from 1 images processed\n",
      "Caught exception in worker thread:\n"
     ]
    },
    {
     "name": "stderr",
     "output_type": "stream",
     "text": [
      "  File \"/home/adelgior/virtualenvs/pytorch4_python3/lib/python3.7/site-packages/PIL/Image.py\", line 2652, in open\n",
      "    fp = builtins.open(filename, \"rb\")\n",
      "  File \"/home/adelgior/virtualenvs/pytorch4_python3/lib/python3.7/site-packages/PIL/Image.py\", line 2652, in open\n",
      "    fp = builtins.open(filename, \"rb\")\n"
     ]
    },
    {
     "name": "stdout",
     "output_type": "stream",
     "text": [
      "Caught exception in worker thread:\n",
      "Core: 314, 0 from 1 images processed\n",
      "Core: 315, 0 from 1 images processed\n",
      "Caught exception in worker thread:\n"
     ]
    },
    {
     "name": "stderr",
     "output_type": "stream",
     "text": [
      "Traceback (most recent call last):\n",
      "Traceback (most recent call last):\n",
      "FileNotFoundError: [Errno 2] No such file or directory: '/home/adelgior/code/upsnet/output/upsnet/cityscapes/upsnet_resnet50_cityscapes_4gpu/val/results/pans_unified/pan_2ch/lindau_000016_000019_leftImg8bit.png'\n",
      "Traceback (most recent call last):\n"
     ]
    },
    {
     "name": "stdout",
     "output_type": "stream",
     "text": [
      "Core: 313, 0 from 1 images processed\n"
     ]
    },
    {
     "name": "stderr",
     "output_type": "stream",
     "text": [
      "  File \"/home/adelgior/virtualenvs/pytorch4_python3/lib/python3.7/site-packages/PIL/Image.py\", line 2652, in open\n",
      "    fp = builtins.open(filename, \"rb\")\n",
      "FileNotFoundError: [Errno 2] No such file or directory: '/home/adelgior/code/upsnet/output/upsnet/cityscapes/upsnet_resnet50_cityscapes_4gpu/val/results/pans_unified/pan_2ch/lindau_000021_000019_leftImg8bit.png'\n"
     ]
    },
    {
     "name": "stdout",
     "output_type": "stream",
     "text": [
      "Caught exception in worker thread:\n"
     ]
    },
    {
     "name": "stderr",
     "output_type": "stream",
     "text": [
      "  File \"/home/adelgior/code/fcn-instances-pytorch/instanceseg/ext/panopticapi/utils.py\", line 16, in wrapper\n",
      "    return f(*args, **kwargs)\n"
     ]
    },
    {
     "name": "stdout",
     "output_type": "stream",
     "text": [
      "Caught exception in worker thread:\n"
     ]
    },
    {
     "name": "stderr",
     "output_type": "stream",
     "text": [
      "  File \"/home/adelgior/code/fcn-instances-pytorch/instanceseg/ext/panopticapi/utils.py\", line 16, in wrapper\n",
      "    return f(*args, **kwargs)\n",
      "FileNotFoundError: [Errno 2] No such file or directory: '/home/adelgior/code/upsnet/output/upsnet/cityscapes/upsnet_resnet50_cityscapes_4gpu/val/results/pans_unified/pan_2ch/lindau_000019_000019_leftImg8bit.png'\n",
      "  File \"/home/adelgior/code/fcn-instances-pytorch/instanceseg/ext/panopticapi/utils.py\", line 16, in wrapper\n",
      "    return f(*args, **kwargs)\n",
      "  File \"/usr0/home/adelgior/code/experimental-instanceseg/instanceseg/ext/panopticapi/evaluation.py\", line 98, in pq_compute_single_core\n",
      "    with Image.open(os.path.join(pred_folder, pred_ann['file_name'])) as img:\n",
      "Traceback (most recent call last):\n"
     ]
    },
    {
     "name": "stdout",
     "output_type": "stream",
     "text": [
      "Caught exception in worker thread:\n",
      "Caught exception in worker thread:\n",
      "Core: 316, 0 from 1 images processed\n"
     ]
    },
    {
     "name": "stderr",
     "output_type": "stream",
     "text": [
      "  File \"/usr0/home/adelgior/code/experimental-instanceseg/instanceseg/ext/panopticapi/evaluation.py\", line 98, in pq_compute_single_core\n",
      "    with Image.open(os.path.join(pred_folder, pred_ann['file_name'])) as img:\n"
     ]
    },
    {
     "name": "stdout",
     "output_type": "stream",
     "text": [
      "Caught exception in worker thread:\n"
     ]
    },
    {
     "name": "stderr",
     "output_type": "stream",
     "text": [
      "  File \"/usr0/home/adelgior/code/experimental-instanceseg/instanceseg/ext/panopticapi/evaluation.py\", line 98, in pq_compute_single_core\n",
      "    with Image.open(os.path.join(pred_folder, pred_ann['file_name'])) as img:\n",
      "Traceback (most recent call last):\n",
      "Traceback (most recent call last):\n",
      "Traceback (most recent call last):\n"
     ]
    },
    {
     "name": "stdout",
     "output_type": "stream",
     "text": [
      "Core: 317, 0 from 1 images processed\n"
     ]
    },
    {
     "name": "stderr",
     "output_type": "stream",
     "text": [
      "Traceback (most recent call last):\n"
     ]
    },
    {
     "name": "stdout",
     "output_type": "stream",
     "text": [
      "Caught exception in worker thread:\n"
     ]
    },
    {
     "name": "stderr",
     "output_type": "stream",
     "text": [
      "  File \"/home/adelgior/virtualenvs/pytorch4_python3/lib/python3.7/site-packages/PIL/Image.py\", line 2652, in open\n",
      "    fp = builtins.open(filename, \"rb\")\n",
      "  File \"/home/adelgior/code/fcn-instances-pytorch/instanceseg/ext/panopticapi/utils.py\", line 16, in wrapper\n",
      "    return f(*args, **kwargs)\n",
      "  File \"/home/adelgior/code/fcn-instances-pytorch/instanceseg/ext/panopticapi/utils.py\", line 16, in wrapper\n",
      "    return f(*args, **kwargs)\n",
      "FileNotFoundError: [Errno 2] No such file or directory: '/home/adelgior/code/upsnet/output/upsnet/cityscapes/upsnet_resnet50_cityscapes_4gpu/val/results/pans_unified/pan_2ch/lindau_000024_000019_leftImg8bit.png'\n",
      "  File \"/home/adelgior/code/fcn-instances-pytorch/instanceseg/ext/panopticapi/utils.py\", line 16, in wrapper\n",
      "    return f(*args, **kwargs)\n",
      "  File \"/home/adelgior/code/fcn-instances-pytorch/instanceseg/ext/panopticapi/utils.py\", line 16, in wrapper\n",
      "    return f(*args, **kwargs)\n"
     ]
    },
    {
     "name": "stdout",
     "output_type": "stream",
     "text": [
      "Caught exception in worker thread:\n",
      "Core: 318, 0 from 1 images processed\n"
     ]
    },
    {
     "name": "stderr",
     "output_type": "stream",
     "text": [
      "  File \"/home/adelgior/virtualenvs/pytorch4_python3/lib/python3.7/site-packages/PIL/Image.py\", line 2652, in open\n",
      "    fp = builtins.open(filename, \"rb\")\n",
      "  File \"/usr0/home/adelgior/code/experimental-instanceseg/instanceseg/ext/panopticapi/evaluation.py\", line 98, in pq_compute_single_core\n",
      "    with Image.open(os.path.join(pred_folder, pred_ann['file_name'])) as img:\n",
      "  File \"/home/adelgior/virtualenvs/pytorch4_python3/lib/python3.7/site-packages/PIL/Image.py\", line 2652, in open\n",
      "    fp = builtins.open(filename, \"rb\")\n",
      "  File \"/home/adelgior/code/fcn-instances-pytorch/instanceseg/ext/panopticapi/utils.py\", line 16, in wrapper\n",
      "    return f(*args, **kwargs)\n",
      "FileNotFoundError: [Errno 2] No such file or directory: '/home/adelgior/code/upsnet/output/upsnet/cityscapes/upsnet_resnet50_cityscapes_4gpu/val/results/pans_unified/pan_2ch/lindau_000020_000019_leftImg8bit.png'\n",
      "  File \"/usr0/home/adelgior/code/experimental-instanceseg/instanceseg/ext/panopticapi/evaluation.py\", line 98, in pq_compute_single_core\n",
      "    with Image.open(os.path.join(pred_folder, pred_ann['file_name'])) as img:\n",
      "  File \"/usr0/home/adelgior/code/experimental-instanceseg/instanceseg/ext/panopticapi/evaluation.py\", line 98, in pq_compute_single_core\n",
      "    with Image.open(os.path.join(pred_folder, pred_ann['file_name'])) as img:\n",
      "Traceback (most recent call last):\n",
      "  File \"/usr0/home/adelgior/code/experimental-instanceseg/instanceseg/ext/panopticapi/evaluation.py\", line 98, in pq_compute_single_core\n",
      "    with Image.open(os.path.join(pred_folder, pred_ann['file_name'])) as img:\n",
      "  File \"/home/adelgior/code/fcn-instances-pytorch/instanceseg/ext/panopticapi/utils.py\", line 16, in wrapper\n",
      "    return f(*args, **kwargs)\n",
      "  File \"/usr0/home/adelgior/code/experimental-instanceseg/instanceseg/ext/panopticapi/evaluation.py\", line 98, in pq_compute_single_core\n",
      "    with Image.open(os.path.join(pred_folder, pred_ann['file_name'])) as img:\n",
      "  File \"/home/adelgior/virtualenvs/pytorch4_python3/lib/python3.7/site-packages/PIL/Image.py\", line 2652, in open\n",
      "    fp = builtins.open(filename, \"rb\")\n",
      "FileNotFoundError: [Errno 2] No such file or directory: '/home/adelgior/code/upsnet/output/upsnet/cityscapes/upsnet_resnet50_cityscapes_4gpu/val/results/pans_unified/pan_2ch/lindau_000022_000019_leftImg8bit.png'\n",
      "  File \"/home/adelgior/virtualenvs/pytorch4_python3/lib/python3.7/site-packages/PIL/Image.py\", line 2652, in open\n",
      "    fp = builtins.open(filename, \"rb\")\n"
     ]
    },
    {
     "name": "stdout",
     "output_type": "stream",
     "text": [
      "Caught exception in worker thread:\n",
      "Core: 319, 0 from 1 images processed\n"
     ]
    },
    {
     "name": "stderr",
     "output_type": "stream",
     "text": [
      "Traceback (most recent call last):\n",
      "  File \"/usr0/home/adelgior/code/experimental-instanceseg/instanceseg/ext/panopticapi/evaluation.py\", line 98, in pq_compute_single_core\n",
      "    with Image.open(os.path.join(pred_folder, pred_ann['file_name'])) as img:\n",
      "FileNotFoundError: [Errno 2] No such file or directory: '/home/adelgior/code/upsnet/output/upsnet/cityscapes/upsnet_resnet50_cityscapes_4gpu/val/results/pans_unified/pan_2ch/lindau_000025_000019_leftImg8bit.png'\n"
     ]
    },
    {
     "name": "stdout",
     "output_type": "stream",
     "text": [
      "Caught exception in worker thread:\n"
     ]
    },
    {
     "name": "stderr",
     "output_type": "stream",
     "text": [
      "  File \"/home/adelgior/virtualenvs/pytorch4_python3/lib/python3.7/site-packages/PIL/Image.py\", line 2652, in open\n",
      "    fp = builtins.open(filename, \"rb\")\n",
      "FileNotFoundError: [Errno 2] No such file or directory: '/home/adelgior/code/upsnet/output/upsnet/cityscapes/upsnet_resnet50_cityscapes_4gpu/val/results/pans_unified/pan_2ch/lindau_000026_000019_leftImg8bit.png'\n",
      "  File \"/home/adelgior/code/fcn-instances-pytorch/instanceseg/ext/panopticapi/utils.py\", line 16, in wrapper\n",
      "    return f(*args, **kwargs)\n",
      "  File \"/home/adelgior/virtualenvs/pytorch4_python3/lib/python3.7/site-packages/PIL/Image.py\", line 2652, in open\n",
      "    fp = builtins.open(filename, \"rb\")\n",
      "  File \"/home/adelgior/virtualenvs/pytorch4_python3/lib/python3.7/site-packages/PIL/Image.py\", line 2652, in open\n",
      "    fp = builtins.open(filename, \"rb\")\n"
     ]
    },
    {
     "name": "stdout",
     "output_type": "stream",
     "text": [
      "Caught exception in worker thread:\n"
     ]
    },
    {
     "name": "stderr",
     "output_type": "stream",
     "text": [
      "Traceback (most recent call last):\n",
      "FileNotFoundError: [Errno 2] No such file or directory: '/home/adelgior/code/upsnet/output/upsnet/cityscapes/upsnet_resnet50_cityscapes_4gpu/val/results/pans_unified/pan_2ch/lindau_000030_000019_leftImg8bit.png'\n",
      "Traceback (most recent call last):\n",
      "  File \"/home/adelgior/code/fcn-instances-pytorch/instanceseg/ext/panopticapi/utils.py\", line 16, in wrapper\n",
      "    return f(*args, **kwargs)\n",
      "  File \"/usr0/home/adelgior/code/experimental-instanceseg/instanceseg/ext/panopticapi/evaluation.py\", line 98, in pq_compute_single_core\n",
      "    with Image.open(os.path.join(pred_folder, pred_ann['file_name'])) as img:\n",
      "  File \"/home/adelgior/virtualenvs/pytorch4_python3/lib/python3.7/site-packages/PIL/Image.py\", line 2652, in open\n",
      "    fp = builtins.open(filename, \"rb\")\n",
      "FileNotFoundError: [Errno 2] No such file or directory: '/home/adelgior/code/upsnet/output/upsnet/cityscapes/upsnet_resnet50_cityscapes_4gpu/val/results/pans_unified/pan_2ch/lindau_000023_000019_leftImg8bit.png'\n",
      "FileNotFoundError: [Errno 2] No such file or directory: '/home/adelgior/code/upsnet/output/upsnet/cityscapes/upsnet_resnet50_cityscapes_4gpu/val/results/pans_unified/pan_2ch/lindau_000028_000019_leftImg8bit.png'\n"
     ]
    },
    {
     "name": "stdout",
     "output_type": "stream",
     "text": [
      "Core: 320, 0 from 1 images processed\n"
     ]
    },
    {
     "name": "stderr",
     "output_type": "stream",
     "text": [
      "  File \"/home/adelgior/virtualenvs/pytorch4_python3/lib/python3.7/site-packages/PIL/Image.py\", line 2652, in open\n",
      "    fp = builtins.open(filename, \"rb\")\n"
     ]
    },
    {
     "name": "stdout",
     "output_type": "stream",
     "text": [
      "Caught exception in worker thread:\n"
     ]
    },
    {
     "name": "stderr",
     "output_type": "stream",
     "text": [
      "FileNotFoundError: [Errno 2] No such file or directory: '/home/adelgior/code/upsnet/output/upsnet/cityscapes/upsnet_resnet50_cityscapes_4gpu/val/results/pans_unified/pan_2ch/lindau_000032_000019_leftImg8bit.png'\n"
     ]
    },
    {
     "name": "stdout",
     "output_type": "stream",
     "text": [
      "Core: 321, 0 from 1 images processed\n",
      "Caught exception in worker thread:\n"
     ]
    },
    {
     "name": "stderr",
     "output_type": "stream",
     "text": [
      "  File \"/home/adelgior/code/fcn-instances-pytorch/instanceseg/ext/panopticapi/utils.py\", line 16, in wrapper\n",
      "    return f(*args, **kwargs)\n",
      "Traceback (most recent call last):\n",
      "  File \"/usr0/home/adelgior/code/experimental-instanceseg/instanceseg/ext/panopticapi/evaluation.py\", line 98, in pq_compute_single_core\n",
      "    with Image.open(os.path.join(pred_folder, pred_ann['file_name'])) as img:\n",
      "Traceback (most recent call last):\n"
     ]
    },
    {
     "name": "stdout",
     "output_type": "stream",
     "text": [
      "Core: 322, 0 from 1 images processed\n"
     ]
    },
    {
     "name": "stderr",
     "output_type": "stream",
     "text": [
      "FileNotFoundError: [Errno 2] No such file or directory: '/home/adelgior/code/upsnet/output/upsnet/cityscapes/upsnet_resnet50_cityscapes_4gpu/val/results/pans_unified/pan_2ch/lindau_000029_000019_leftImg8bit.png'\n"
     ]
    },
    {
     "name": "stdout",
     "output_type": "stream",
     "text": [
      "Core: 323, 0 from 1 images processed\n"
     ]
    },
    {
     "name": "stderr",
     "output_type": "stream",
     "text": [
      "  File \"/home/adelgior/code/fcn-instances-pytorch/instanceseg/ext/panopticapi/utils.py\", line 16, in wrapper\n",
      "    return f(*args, **kwargs)\n",
      "  File \"/usr0/home/adelgior/code/experimental-instanceseg/instanceseg/ext/panopticapi/evaluation.py\", line 98, in pq_compute_single_core\n",
      "    with Image.open(os.path.join(pred_folder, pred_ann['file_name'])) as img:\n",
      "  File \"/usr0/home/adelgior/code/experimental-instanceseg/instanceseg/ext/panopticapi/evaluation.py\", line 98, in pq_compute_single_core\n",
      "    with Image.open(os.path.join(pred_folder, pred_ann['file_name'])) as img:\n",
      "Traceback (most recent call last):\n",
      "  File \"/home/adelgior/virtualenvs/pytorch4_python3/lib/python3.7/site-packages/PIL/Image.py\", line 2652, in open\n",
      "    fp = builtins.open(filename, \"rb\")\n",
      "  File \"/home/adelgior/code/fcn-instances-pytorch/instanceseg/ext/panopticapi/utils.py\", line 16, in wrapper\n",
      "    return f(*args, **kwargs)\n"
     ]
    },
    {
     "name": "stdout",
     "output_type": "stream",
     "text": [
      "Caught exception in worker thread:\n"
     ]
    },
    {
     "name": "stderr",
     "output_type": "stream",
     "text": [
      "FileNotFoundError: [Errno 2] No such file or directory: '/home/adelgior/code/upsnet/output/upsnet/cityscapes/upsnet_resnet50_cityscapes_4gpu/val/results/pans_unified/pan_2ch/lindau_000027_000019_leftImg8bit.png'\n",
      "  File \"/home/adelgior/virtualenvs/pytorch4_python3/lib/python3.7/site-packages/PIL/Image.py\", line 2652, in open\n",
      "    fp = builtins.open(filename, \"rb\")\n",
      "Traceback (most recent call last):\n",
      "  File \"/usr0/home/adelgior/code/experimental-instanceseg/instanceseg/ext/panopticapi/evaluation.py\", line 98, in pq_compute_single_core\n",
      "    with Image.open(os.path.join(pred_folder, pred_ann['file_name'])) as img:\n",
      "  File \"/home/adelgior/code/fcn-instances-pytorch/instanceseg/ext/panopticapi/utils.py\", line 16, in wrapper\n",
      "    return f(*args, **kwargs)\n",
      "FileNotFoundError: [Errno 2] No such file or directory: '/home/adelgior/code/upsnet/output/upsnet/cityscapes/upsnet_resnet50_cityscapes_4gpu/val/results/pans_unified/pan_2ch/lindau_000031_000019_leftImg8bit.png'\n",
      "  File \"/usr0/home/adelgior/code/experimental-instanceseg/instanceseg/ext/panopticapi/evaluation.py\", line 98, in pq_compute_single_core\n",
      "    with Image.open(os.path.join(pred_folder, pred_ann['file_name'])) as img:\n",
      "  File \"/home/adelgior/virtualenvs/pytorch4_python3/lib/python3.7/site-packages/PIL/Image.py\", line 2652, in open\n",
      "    fp = builtins.open(filename, \"rb\")\n",
      "  File \"/home/adelgior/virtualenvs/pytorch4_python3/lib/python3.7/site-packages/PIL/Image.py\", line 2652, in open\n",
      "    fp = builtins.open(filename, \"rb\")\n",
      "  File \"/home/adelgior/code/fcn-instances-pytorch/instanceseg/ext/panopticapi/utils.py\", line 16, in wrapper\n",
      "    return f(*args, **kwargs)\n",
      "  File \"/home/adelgior/virtualenvs/pytorch4_python3/lib/python3.7/site-packages/PIL/Image.py\", line 2652, in open\n",
      "    fp = builtins.open(filename, \"rb\")\n",
      "FileNotFoundError: [Errno 2] No such file or directory: '/home/adelgior/code/upsnet/output/upsnet/cityscapes/upsnet_resnet50_cityscapes_4gpu/val/results/pans_unified/pan_2ch/lindau_000033_000019_leftImg8bit.png'\n"
     ]
    },
    {
     "name": "stdout",
     "output_type": "stream",
     "text": [
      "Caught exception in worker thread:\n"
     ]
    },
    {
     "name": "stderr",
     "output_type": "stream",
     "text": [
      "FileNotFoundError: [Errno 2] No such file or directory: '/home/adelgior/code/upsnet/output/upsnet/cityscapes/upsnet_resnet50_cityscapes_4gpu/val/results/pans_unified/pan_2ch/lindau_000035_000019_leftImg8bit.png'\n",
      "FileNotFoundError: [Errno 2] No such file or directory: '/home/adelgior/code/upsnet/output/upsnet/cityscapes/upsnet_resnet50_cityscapes_4gpu/val/results/pans_unified/pan_2ch/lindau_000034_000019_leftImg8bit.png'\n",
      "  File \"/usr0/home/adelgior/code/experimental-instanceseg/instanceseg/ext/panopticapi/evaluation.py\", line 98, in pq_compute_single_core\n",
      "    with Image.open(os.path.join(pred_folder, pred_ann['file_name'])) as img:\n",
      "Traceback (most recent call last):\n",
      "  File \"/home/adelgior/code/fcn-instances-pytorch/instanceseg/ext/panopticapi/utils.py\", line 16, in wrapper\n",
      "    return f(*args, **kwargs)\n",
      "  File \"/home/adelgior/virtualenvs/pytorch4_python3/lib/python3.7/site-packages/PIL/Image.py\", line 2652, in open\n",
      "    fp = builtins.open(filename, \"rb\")\n",
      "  File \"/usr0/home/adelgior/code/experimental-instanceseg/instanceseg/ext/panopticapi/evaluation.py\", line 98, in pq_compute_single_core\n",
      "    with Image.open(os.path.join(pred_folder, pred_ann['file_name'])) as img:\n",
      "FileNotFoundError: [Errno 2] No such file or directory: '/home/adelgior/code/upsnet/output/upsnet/cityscapes/upsnet_resnet50_cityscapes_4gpu/val/results/pans_unified/pan_2ch/lindau_000036_000019_leftImg8bit.png'\n",
      "  File \"/home/adelgior/virtualenvs/pytorch4_python3/lib/python3.7/site-packages/PIL/Image.py\", line 2652, in open\n",
      "    fp = builtins.open(filename, \"rb\")\n"
     ]
    },
    {
     "name": "stdout",
     "output_type": "stream",
     "text": [
      "Caught exception in worker thread:\n"
     ]
    },
    {
     "name": "stderr",
     "output_type": "stream",
     "text": [
      "FileNotFoundError: [Errno 2] No such file or directory: '/home/adelgior/code/upsnet/output/upsnet/cityscapes/upsnet_resnet50_cityscapes_4gpu/val/results/pans_unified/pan_2ch/lindau_000038_000019_leftImg8bit.png'\n",
      "Traceback (most recent call last):\n"
     ]
    },
    {
     "name": "stdout",
     "output_type": "stream",
     "text": [
      "Caught exception in worker thread:\n"
     ]
    },
    {
     "name": "stderr",
     "output_type": "stream",
     "text": [
      "  File \"/home/adelgior/code/fcn-instances-pytorch/instanceseg/ext/panopticapi/utils.py\", line 16, in wrapper\n",
      "    return f(*args, **kwargs)\n",
      "Traceback (most recent call last):\n",
      "  File \"/usr0/home/adelgior/code/experimental-instanceseg/instanceseg/ext/panopticapi/evaluation.py\", line 98, in pq_compute_single_core\n",
      "    with Image.open(os.path.join(pred_folder, pred_ann['file_name'])) as img:\n"
     ]
    },
    {
     "name": "stdout",
     "output_type": "stream",
     "text": [
      "Caught exception in worker thread:\n",
      "Caught exception in worker thread:\n"
     ]
    },
    {
     "name": "stderr",
     "output_type": "stream",
     "text": [
      "  File \"/home/adelgior/virtualenvs/pytorch4_python3/lib/python3.7/site-packages/PIL/Image.py\", line 2652, in open\n",
      "    fp = builtins.open(filename, \"rb\")\n",
      "Traceback (most recent call last):\n",
      "FileNotFoundError: [Errno 2] No such file or directory: '/home/adelgior/code/upsnet/output/upsnet/cityscapes/upsnet_resnet50_cityscapes_4gpu/val/results/pans_unified/pan_2ch/lindau_000040_000019_leftImg8bit.png'\n",
      "  File \"/home/adelgior/code/fcn-instances-pytorch/instanceseg/ext/panopticapi/utils.py\", line 16, in wrapper\n",
      "    return f(*args, **kwargs)\n",
      "  File \"/home/adelgior/code/fcn-instances-pytorch/instanceseg/ext/panopticapi/utils.py\", line 16, in wrapper\n",
      "    return f(*args, **kwargs)\n",
      "Traceback (most recent call last):\n",
      "  File \"/usr0/home/adelgior/code/experimental-instanceseg/instanceseg/ext/panopticapi/evaluation.py\", line 98, in pq_compute_single_core\n",
      "    with Image.open(os.path.join(pred_folder, pred_ann['file_name'])) as img:\n"
     ]
    },
    {
     "name": "stdout",
     "output_type": "stream",
     "text": [
      "Caught exception in worker thread:\n"
     ]
    },
    {
     "name": "stderr",
     "output_type": "stream",
     "text": [
      "  File \"/usr0/home/adelgior/code/experimental-instanceseg/instanceseg/ext/panopticapi/evaluation.py\", line 98, in pq_compute_single_core\n",
      "    with Image.open(os.path.join(pred_folder, pred_ann['file_name'])) as img:\n",
      "  File \"/home/adelgior/virtualenvs/pytorch4_python3/lib/python3.7/site-packages/PIL/Image.py\", line 2652, in open\n",
      "    fp = builtins.open(filename, \"rb\")\n",
      "  File \"/home/adelgior/code/fcn-instances-pytorch/instanceseg/ext/panopticapi/utils.py\", line 16, in wrapper\n",
      "    return f(*args, **kwargs)\n",
      "Traceback (most recent call last):\n",
      "  File \"/home/adelgior/virtualenvs/pytorch4_python3/lib/python3.7/site-packages/PIL/Image.py\", line 2652, in open\n",
      "    fp = builtins.open(filename, \"rb\")\n",
      "FileNotFoundError: [Errno 2] No such file or directory: '/home/adelgior/code/upsnet/output/upsnet/cityscapes/upsnet_resnet50_cityscapes_4gpu/val/results/pans_unified/pan_2ch/lindau_000037_000019_leftImg8bit.png'\n",
      "  File \"/home/adelgior/code/fcn-instances-pytorch/instanceseg/ext/panopticapi/utils.py\", line 16, in wrapper\n",
      "    return f(*args, **kwargs)\n",
      "  File \"/usr0/home/adelgior/code/experimental-instanceseg/instanceseg/ext/panopticapi/evaluation.py\", line 98, in pq_compute_single_core\n",
      "    with Image.open(os.path.join(pred_folder, pred_ann['file_name'])) as img:\n",
      "FileNotFoundError: [Errno 2] No such file or directory: '/home/adelgior/code/upsnet/output/upsnet/cityscapes/upsnet_resnet50_cityscapes_4gpu/val/results/pans_unified/pan_2ch/lindau_000044_000019_leftImg8bit.png'\n"
     ]
    },
    {
     "name": "stdout",
     "output_type": "stream",
     "text": [
      "Caught exception in worker thread:\n"
     ]
    },
    {
     "name": "stderr",
     "output_type": "stream",
     "text": [
      "  File \"/home/adelgior/virtualenvs/pytorch4_python3/lib/python3.7/site-packages/PIL/Image.py\", line 2652, in open\n",
      "    fp = builtins.open(filename, \"rb\")\n",
      "  File \"/usr0/home/adelgior/code/experimental-instanceseg/instanceseg/ext/panopticapi/evaluation.py\", line 98, in pq_compute_single_core\n",
      "    with Image.open(os.path.join(pred_folder, pred_ann['file_name'])) as img:\n",
      "FileNotFoundError: [Errno 2] No such file or directory: '/home/adelgior/code/upsnet/output/upsnet/cityscapes/upsnet_resnet50_cityscapes_4gpu/val/results/pans_unified/pan_2ch/lindau_000039_000019_leftImg8bit.png'\n",
      "Traceback (most recent call last):\n",
      "  File \"/home/adelgior/virtualenvs/pytorch4_python3/lib/python3.7/site-packages/PIL/Image.py\", line 2652, in open\n",
      "    fp = builtins.open(filename, \"rb\")\n",
      "  File \"/home/adelgior/code/fcn-instances-pytorch/instanceseg/ext/panopticapi/utils.py\", line 16, in wrapper\n",
      "    return f(*args, **kwargs)\n"
     ]
    },
    {
     "name": "stdout",
     "output_type": "stream",
     "text": [
      "Caught exception in worker thread:\n"
     ]
    },
    {
     "name": "stderr",
     "output_type": "stream",
     "text": [
      "FileNotFoundError: [Errno 2] No such file or directory: '/home/adelgior/code/upsnet/output/upsnet/cityscapes/upsnet_resnet50_cityscapes_4gpu/val/results/pans_unified/pan_2ch/lindau_000041_000019_leftImg8bit.png'\n",
      "  File \"/usr0/home/adelgior/code/experimental-instanceseg/instanceseg/ext/panopticapi/evaluation.py\", line 98, in pq_compute_single_core\n",
      "    with Image.open(os.path.join(pred_folder, pred_ann['file_name'])) as img:\n",
      "Traceback (most recent call last):\n",
      "  File \"/home/adelgior/virtualenvs/pytorch4_python3/lib/python3.7/site-packages/PIL/Image.py\", line 2652, in open\n",
      "    fp = builtins.open(filename, \"rb\")\n"
     ]
    },
    {
     "name": "stdout",
     "output_type": "stream",
     "text": [
      "Caught exception in worker thread:\n"
     ]
    },
    {
     "name": "stderr",
     "output_type": "stream",
     "text": [
      "  File \"/home/adelgior/code/fcn-instances-pytorch/instanceseg/ext/panopticapi/utils.py\", line 16, in wrapper\n",
      "    return f(*args, **kwargs)\n",
      "FileNotFoundError: [Errno 2] No such file or directory: '/home/adelgior/code/upsnet/output/upsnet/cityscapes/upsnet_resnet50_cityscapes_4gpu/val/results/pans_unified/pan_2ch/lindau_000042_000019_leftImg8bit.png'\n",
      "  File \"/usr0/home/adelgior/code/experimental-instanceseg/instanceseg/ext/panopticapi/evaluation.py\", line 98, in pq_compute_single_core\n",
      "    with Image.open(os.path.join(pred_folder, pred_ann['file_name'])) as img:\n",
      "Traceback (most recent call last):\n",
      "  File \"/home/adelgior/virtualenvs/pytorch4_python3/lib/python3.7/site-packages/PIL/Image.py\", line 2652, in open\n",
      "    fp = builtins.open(filename, \"rb\")\n",
      "  File \"/home/adelgior/code/fcn-instances-pytorch/instanceseg/ext/panopticapi/utils.py\", line 16, in wrapper\n",
      "    return f(*args, **kwargs)\n",
      "FileNotFoundError: [Errno 2] No such file or directory: '/home/adelgior/code/upsnet/output/upsnet/cityscapes/upsnet_resnet50_cityscapes_4gpu/val/results/pans_unified/pan_2ch/lindau_000048_000019_leftImg8bit.png'\n",
      "  File \"/usr0/home/adelgior/code/experimental-instanceseg/instanceseg/ext/panopticapi/evaluation.py\", line 98, in pq_compute_single_core\n",
      "    with Image.open(os.path.join(pred_folder, pred_ann['file_name'])) as img:\n",
      "  File \"/home/adelgior/virtualenvs/pytorch4_python3/lib/python3.7/site-packages/PIL/Image.py\", line 2652, in open\n",
      "    fp = builtins.open(filename, \"rb\")\n"
     ]
    },
    {
     "name": "stdout",
     "output_type": "stream",
     "text": [
      "Caught exception in worker thread:\n"
     ]
    },
    {
     "name": "stderr",
     "output_type": "stream",
     "text": [
      "FileNotFoundError: [Errno 2] No such file or directory: '/home/adelgior/code/upsnet/output/upsnet/cityscapes/upsnet_resnet50_cityscapes_4gpu/val/results/pans_unified/pan_2ch/lindau_000043_000019_leftImg8bit.png'\n"
     ]
    },
    {
     "name": "stdout",
     "output_type": "stream",
     "text": [
      "Caught exception in worker thread:\n"
     ]
    },
    {
     "name": "stderr",
     "output_type": "stream",
     "text": [
      "Traceback (most recent call last):\n",
      "Traceback (most recent call last):\n",
      "  File \"/home/adelgior/code/fcn-instances-pytorch/instanceseg/ext/panopticapi/utils.py\", line 16, in wrapper\n",
      "    return f(*args, **kwargs)\n",
      "  File \"/home/adelgior/code/fcn-instances-pytorch/instanceseg/ext/panopticapi/utils.py\", line 16, in wrapper\n",
      "    return f(*args, **kwargs)\n",
      "  File \"/usr0/home/adelgior/code/experimental-instanceseg/instanceseg/ext/panopticapi/evaluation.py\", line 98, in pq_compute_single_core\n",
      "    with Image.open(os.path.join(pred_folder, pred_ann['file_name'])) as img:\n",
      "  File \"/usr0/home/adelgior/code/experimental-instanceseg/instanceseg/ext/panopticapi/evaluation.py\", line 98, in pq_compute_single_core\n",
      "    with Image.open(os.path.join(pred_folder, pred_ann['file_name'])) as img:\n",
      "  File \"/home/adelgior/virtualenvs/pytorch4_python3/lib/python3.7/site-packages/PIL/Image.py\", line 2652, in open\n",
      "    fp = builtins.open(filename, \"rb\")\n"
     ]
    },
    {
     "name": "stdout",
     "output_type": "stream",
     "text": [
      "Caught exception in worker thread:\n"
     ]
    },
    {
     "name": "stderr",
     "output_type": "stream",
     "text": [
      "  File \"/home/adelgior/virtualenvs/pytorch4_python3/lib/python3.7/site-packages/PIL/Image.py\", line 2652, in open\n",
      "    fp = builtins.open(filename, \"rb\")\n",
      "FileNotFoundError: [Errno 2] No such file or directory: '/home/adelgior/code/upsnet/output/upsnet/cityscapes/upsnet_resnet50_cityscapes_4gpu/val/results/pans_unified/pan_2ch/lindau_000047_000019_leftImg8bit.png'\n"
     ]
    },
    {
     "name": "stdout",
     "output_type": "stream",
     "text": [
      "Caught exception in worker thread:\n"
     ]
    },
    {
     "name": "stderr",
     "output_type": "stream",
     "text": [
      "Traceback (most recent call last):\n",
      "FileNotFoundError: [Errno 2] No such file or directory: '/home/adelgior/code/upsnet/output/upsnet/cityscapes/upsnet_resnet50_cityscapes_4gpu/val/results/pans_unified/pan_2ch/lindau_000046_000019_leftImg8bit.png'\n",
      "  File \"/home/adelgior/code/fcn-instances-pytorch/instanceseg/ext/panopticapi/utils.py\", line 16, in wrapper\n",
      "    return f(*args, **kwargs)\n",
      "Traceback (most recent call last):\n"
     ]
    },
    {
     "name": "stdout",
     "output_type": "stream",
     "text": [
      "Caught exception in worker thread:\n"
     ]
    },
    {
     "name": "stderr",
     "output_type": "stream",
     "text": [
      "  File \"/usr0/home/adelgior/code/experimental-instanceseg/instanceseg/ext/panopticapi/evaluation.py\", line 98, in pq_compute_single_core\n",
      "    with Image.open(os.path.join(pred_folder, pred_ann['file_name'])) as img:\n",
      "  File \"/home/adelgior/code/fcn-instances-pytorch/instanceseg/ext/panopticapi/utils.py\", line 16, in wrapper\n",
      "    return f(*args, **kwargs)\n",
      "Traceback (most recent call last):\n",
      "  File \"/home/adelgior/virtualenvs/pytorch4_python3/lib/python3.7/site-packages/PIL/Image.py\", line 2652, in open\n",
      "    fp = builtins.open(filename, \"rb\")\n",
      "  File \"/home/adelgior/code/fcn-instances-pytorch/instanceseg/ext/panopticapi/utils.py\", line 16, in wrapper\n",
      "    return f(*args, **kwargs)\n",
      "  File \"/usr0/home/adelgior/code/experimental-instanceseg/instanceseg/ext/panopticapi/evaluation.py\", line 98, in pq_compute_single_core\n",
      "    with Image.open(os.path.join(pred_folder, pred_ann['file_name'])) as img:\n"
     ]
    },
    {
     "name": "stdout",
     "output_type": "stream",
     "text": [
      "Caught exception in worker thread:\n"
     ]
    },
    {
     "name": "stderr",
     "output_type": "stream",
     "text": [
      "  File \"/home/adelgior/virtualenvs/pytorch4_python3/lib/python3.7/site-packages/PIL/Image.py\", line 2652, in open\n",
      "    fp = builtins.open(filename, \"rb\")\n",
      "FileNotFoundError: [Errno 2] No such file or directory: '/home/adelgior/code/upsnet/output/upsnet/cityscapes/upsnet_resnet50_cityscapes_4gpu/val/results/pans_unified/pan_2ch/lindau_000050_000019_leftImg8bit.png'\n",
      "  File \"/usr0/home/adelgior/code/experimental-instanceseg/instanceseg/ext/panopticapi/evaluation.py\", line 98, in pq_compute_single_core\n",
      "    with Image.open(os.path.join(pred_folder, pred_ann['file_name'])) as img:\n",
      "Traceback (most recent call last):\n",
      "FileNotFoundError: [Errno 2] No such file or directory: '/home/adelgior/code/upsnet/output/upsnet/cityscapes/upsnet_resnet50_cityscapes_4gpu/val/results/pans_unified/pan_2ch/lindau_000051_000019_leftImg8bit.png'\n",
      "  File \"/home/adelgior/code/fcn-instances-pytorch/instanceseg/ext/panopticapi/utils.py\", line 16, in wrapper\n",
      "    return f(*args, **kwargs)\n",
      "  File \"/home/adelgior/virtualenvs/pytorch4_python3/lib/python3.7/site-packages/PIL/Image.py\", line 2652, in open\n",
      "    fp = builtins.open(filename, \"rb\")\n"
     ]
    },
    {
     "name": "stdout",
     "output_type": "stream",
     "text": [
      "Core: 325, 0 from 1 images processed\n",
      "Core: 326, 0 from 1 images processed\n",
      "Core: 332, 0 from 1 images processed\n",
      "Core: 327, 0 from 1 images processed\n"
     ]
    },
    {
     "name": "stderr",
     "output_type": "stream",
     "text": [
      "  File \"/usr0/home/adelgior/code/experimental-instanceseg/instanceseg/ext/panopticapi/evaluation.py\", line 98, in pq_compute_single_core\n",
      "    with Image.open(os.path.join(pred_folder, pred_ann['file_name'])) as img:\n"
     ]
    },
    {
     "name": "stdout",
     "output_type": "stream",
     "text": [
      "Core: 333, 0 from 1 images processed\n"
     ]
    },
    {
     "name": "stderr",
     "output_type": "stream",
     "text": [
      "FileNotFoundError: [Errno 2] No such file or directory: '/home/adelgior/code/upsnet/output/upsnet/cityscapes/upsnet_resnet50_cityscapes_4gpu/val/results/pans_unified/pan_2ch/lindau_000045_000019_leftImg8bit.png'\n"
     ]
    },
    {
     "name": "stdout",
     "output_type": "stream",
     "text": [
      "Core: 330, 0 from 1 images processed\n",
      "Core: 328, 0 from 1 images processed\n",
      "Core: 329, 0 from 1 images processed\n",
      "Core: 324, 0 from 1 images processed\n",
      "Core: 331, 0 from 1 images processed\n",
      "Core: 335, 0 from 1 images processed\n",
      "Core: 336, 0 from 1 images processed\n"
     ]
    },
    {
     "name": "stderr",
     "output_type": "stream",
     "text": [
      "  File \"/home/adelgior/virtualenvs/pytorch4_python3/lib/python3.7/site-packages/PIL/Image.py\", line 2652, in open\n",
      "    fp = builtins.open(filename, \"rb\")\n"
     ]
    },
    {
     "name": "stdout",
     "output_type": "stream",
     "text": [
      "Core: 334, 0 from 1 images processed\n",
      "Core: 337, 0 from 1 images processed\n",
      "Core: 340, 0 from 1 images processed\n"
     ]
    },
    {
     "name": "stderr",
     "output_type": "stream",
     "text": [
      "FileNotFoundError: [Errno 2] No such file or directory: '/home/adelgior/code/upsnet/output/upsnet/cityscapes/upsnet_resnet50_cityscapes_4gpu/val/results/pans_unified/pan_2ch/lindau_000049_000019_leftImg8bit.png'\n"
     ]
    },
    {
     "name": "stdout",
     "output_type": "stream",
     "text": [
      "Core: 339, 0 from 1 images processed\n",
      "Core: 342, 0 from 1 images processed\n",
      "Core: 341, 0 from 1 images processed\n",
      "Core: 343, 0 from 1 images processed\n",
      "Core: 346, 0 from 1 images processed\n",
      "Core: 338, 0 from 1 images processed\n",
      "Core: 345, 0 from 1 images processed\n",
      "Core: 344, 0 from 1 images processed\n",
      "Caught exception in worker thread:\n",
      "Core: 348, 0 from 1 images processed\n"
     ]
    },
    {
     "name": "stderr",
     "output_type": "stream",
     "text": [
      "Traceback (most recent call last):\n"
     ]
    },
    {
     "name": "stdout",
     "output_type": "stream",
     "text": [
      "Caught exception in worker thread:\n",
      "Caught exception in worker thread:\n",
      "Core: 349, 0 from 1 images processed\n"
     ]
    },
    {
     "name": "stderr",
     "output_type": "stream",
     "text": [
      "  File \"/home/adelgior/code/fcn-instances-pytorch/instanceseg/ext/panopticapi/utils.py\", line 16, in wrapper\n",
      "    return f(*args, **kwargs)\n"
     ]
    },
    {
     "name": "stdout",
     "output_type": "stream",
     "text": [
      "Caught exception in worker thread:\n",
      "Caught exception in worker thread:\n"
     ]
    },
    {
     "name": "stderr",
     "output_type": "stream",
     "text": [
      "Traceback (most recent call last):\n",
      "Traceback (most recent call last):\n",
      "Traceback (most recent call last):\n",
      "  File \"/usr0/home/adelgior/code/experimental-instanceseg/instanceseg/ext/panopticapi/evaluation.py\", line 98, in pq_compute_single_core\n",
      "    with Image.open(os.path.join(pred_folder, pred_ann['file_name'])) as img:\n",
      "Traceback (most recent call last):\n",
      "  File \"/home/adelgior/code/fcn-instances-pytorch/instanceseg/ext/panopticapi/utils.py\", line 16, in wrapper\n",
      "    return f(*args, **kwargs)\n",
      "  File \"/home/adelgior/code/fcn-instances-pytorch/instanceseg/ext/panopticapi/utils.py\", line 16, in wrapper\n",
      "    return f(*args, **kwargs)\n",
      "  File \"/home/adelgior/code/fcn-instances-pytorch/instanceseg/ext/panopticapi/utils.py\", line 16, in wrapper\n",
      "    return f(*args, **kwargs)\n",
      "  File \"/usr0/home/adelgior/code/experimental-instanceseg/instanceseg/ext/panopticapi/evaluation.py\", line 98, in pq_compute_single_core\n",
      "    with Image.open(os.path.join(pred_folder, pred_ann['file_name'])) as img:\n",
      "  File \"/home/adelgior/virtualenvs/pytorch4_python3/lib/python3.7/site-packages/PIL/Image.py\", line 2652, in open\n",
      "    fp = builtins.open(filename, \"rb\")\n",
      "  File \"/home/adelgior/code/fcn-instances-pytorch/instanceseg/ext/panopticapi/utils.py\", line 16, in wrapper\n",
      "    return f(*args, **kwargs)\n",
      "  File \"/usr0/home/adelgior/code/experimental-instanceseg/instanceseg/ext/panopticapi/evaluation.py\", line 98, in pq_compute_single_core\n",
      "    with Image.open(os.path.join(pred_folder, pred_ann['file_name'])) as img:\n",
      "  File \"/home/adelgior/virtualenvs/pytorch4_python3/lib/python3.7/site-packages/PIL/Image.py\", line 2652, in open\n",
      "    fp = builtins.open(filename, \"rb\")\n",
      "  File \"/usr0/home/adelgior/code/experimental-instanceseg/instanceseg/ext/panopticapi/evaluation.py\", line 98, in pq_compute_single_core\n",
      "    with Image.open(os.path.join(pred_folder, pred_ann['file_name'])) as img:\n",
      "  File \"/home/adelgior/virtualenvs/pytorch4_python3/lib/python3.7/site-packages/PIL/Image.py\", line 2652, in open\n",
      "    fp = builtins.open(filename, \"rb\")\n",
      "  File \"/usr0/home/adelgior/code/experimental-instanceseg/instanceseg/ext/panopticapi/evaluation.py\", line 98, in pq_compute_single_core\n",
      "    with Image.open(os.path.join(pred_folder, pred_ann['file_name'])) as img:\n",
      "  File \"/home/adelgior/virtualenvs/pytorch4_python3/lib/python3.7/site-packages/PIL/Image.py\", line 2652, in open\n",
      "    fp = builtins.open(filename, \"rb\")\n",
      "FileNotFoundError: [Errno 2] No such file or directory: '/home/adelgior/code/upsnet/output/upsnet/cityscapes/upsnet_resnet50_cityscapes_4gpu/val/results/pans_unified/pan_2ch/lindau_000052_000019_leftImg8bit.png'\n",
      "FileNotFoundError: [Errno 2] No such file or directory: '/home/adelgior/code/upsnet/output/upsnet/cityscapes/upsnet_resnet50_cityscapes_4gpu/val/results/pans_unified/pan_2ch/lindau_000056_000019_leftImg8bit.png'\n",
      "FileNotFoundError: [Errno 2] No such file or directory: '/home/adelgior/code/upsnet/output/upsnet/cityscapes/upsnet_resnet50_cityscapes_4gpu/val/results/pans_unified/pan_2ch/lindau_000053_000019_leftImg8bit.png'\n",
      "FileNotFoundError: [Errno 2] No such file or directory: '/home/adelgior/code/upsnet/output/upsnet/cityscapes/upsnet_resnet50_cityscapes_4gpu/val/results/pans_unified/pan_2ch/lindau_000055_000019_leftImg8bit.png'\n",
      "  File \"/home/adelgior/virtualenvs/pytorch4_python3/lib/python3.7/site-packages/PIL/Image.py\", line 2652, in open\n",
      "    fp = builtins.open(filename, \"rb\")\n"
     ]
    },
    {
     "name": "stdout",
     "output_type": "stream",
     "text": [
      "Core: 350, 0 from 1 images processed\n"
     ]
    },
    {
     "name": "stderr",
     "output_type": "stream",
     "text": [
      "FileNotFoundError: [Errno 2] No such file or directory: '/home/adelgior/code/upsnet/output/upsnet/cityscapes/upsnet_resnet50_cityscapes_4gpu/val/results/pans_unified/pan_2ch/lindau_000054_000019_leftImg8bit.png'\n"
     ]
    },
    {
     "name": "stdout",
     "output_type": "stream",
     "text": [
      "Core: 352, 0 from 1 images processed\n",
      "Core: 351, 0 from 1 images processed\n",
      "Core: 353, 0 from 1 images processed\n",
      "Caught exception in worker thread:\n",
      "Caught exception in worker thread:\n"
     ]
    },
    {
     "name": "stderr",
     "output_type": "stream",
     "text": [
      "Traceback (most recent call last):\n"
     ]
    },
    {
     "name": "stdout",
     "output_type": "stream",
     "text": [
      "Core: 354, 0 from 1 images processed\n",
      "Caught exception in worker thread:\n"
     ]
    },
    {
     "name": "stderr",
     "output_type": "stream",
     "text": [
      "Traceback (most recent call last):\n",
      "Traceback (most recent call last):\n",
      "  File \"/home/adelgior/code/fcn-instances-pytorch/instanceseg/ext/panopticapi/utils.py\", line 16, in wrapper\n",
      "    return f(*args, **kwargs)\n",
      "  File \"/home/adelgior/code/fcn-instances-pytorch/instanceseg/ext/panopticapi/utils.py\", line 16, in wrapper\n",
      "    return f(*args, **kwargs)\n",
      "  File \"/home/adelgior/code/fcn-instances-pytorch/instanceseg/ext/panopticapi/utils.py\", line 16, in wrapper\n",
      "    return f(*args, **kwargs)\n",
      "  File \"/usr0/home/adelgior/code/experimental-instanceseg/instanceseg/ext/panopticapi/evaluation.py\", line 98, in pq_compute_single_core\n",
      "    with Image.open(os.path.join(pred_folder, pred_ann['file_name'])) as img:\n",
      "  File \"/usr0/home/adelgior/code/experimental-instanceseg/instanceseg/ext/panopticapi/evaluation.py\", line 98, in pq_compute_single_core\n",
      "    with Image.open(os.path.join(pred_folder, pred_ann['file_name'])) as img:\n",
      "  File \"/usr0/home/adelgior/code/experimental-instanceseg/instanceseg/ext/panopticapi/evaluation.py\", line 98, in pq_compute_single_core\n",
      "    with Image.open(os.path.join(pred_folder, pred_ann['file_name'])) as img:\n",
      "  File \"/home/adelgior/virtualenvs/pytorch4_python3/lib/python3.7/site-packages/PIL/Image.py\", line 2652, in open\n",
      "    fp = builtins.open(filename, \"rb\")\n",
      "FileNotFoundError: [Errno 2] No such file or directory: '/home/adelgior/code/upsnet/output/upsnet/cityscapes/upsnet_resnet50_cityscapes_4gpu/val/results/pans_unified/pan_2ch/lindau_000058_000019_leftImg8bit.png'\n"
     ]
    },
    {
     "name": "stdout",
     "output_type": "stream",
     "text": [
      "Caught exception in worker thread:\n"
     ]
    },
    {
     "name": "stderr",
     "output_type": "stream",
     "text": [
      "  File \"/home/adelgior/virtualenvs/pytorch4_python3/lib/python3.7/site-packages/PIL/Image.py\", line 2652, in open\n",
      "    fp = builtins.open(filename, \"rb\")\n",
      "  File \"/home/adelgior/virtualenvs/pytorch4_python3/lib/python3.7/site-packages/PIL/Image.py\", line 2652, in open\n",
      "    fp = builtins.open(filename, \"rb\")\n",
      "FileNotFoundError: [Errno 2] No such file or directory: '/home/adelgior/code/upsnet/output/upsnet/cityscapes/upsnet_resnet50_cityscapes_4gpu/val/results/pans_unified/pan_2ch/munster_000006_000019_leftImg8bit.png'\n",
      "Traceback (most recent call last):\n"
     ]
    },
    {
     "name": "stdout",
     "output_type": "stream",
     "text": [
      "Caught exception in worker thread:\n"
     ]
    },
    {
     "name": "stderr",
     "output_type": "stream",
     "text": [
      "FileNotFoundError: [Errno 2] No such file or directory: '/home/adelgior/code/upsnet/output/upsnet/cityscapes/upsnet_resnet50_cityscapes_4gpu/val/results/pans_unified/pan_2ch/munster_000000_000019_leftImg8bit.png'\n",
      "  File \"/home/adelgior/code/fcn-instances-pytorch/instanceseg/ext/panopticapi/utils.py\", line 16, in wrapper\n",
      "    return f(*args, **kwargs)\n"
     ]
    },
    {
     "name": "stdout",
     "output_type": "stream",
     "text": [
      "Caught exception in worker thread:\n",
      "Caught exception in worker thread:\n",
      "Core: 355, 0 from 1 images processed\n",
      "Caught exception in worker thread:\n",
      "Caught exception in worker thread:\n",
      "Caught exception in worker thread:\n"
     ]
    },
    {
     "name": "stderr",
     "output_type": "stream",
     "text": [
      "Traceback (most recent call last):\n",
      "Traceback (most recent call last):\n",
      "  File \"/usr0/home/adelgior/code/experimental-instanceseg/instanceseg/ext/panopticapi/evaluation.py\", line 98, in pq_compute_single_core\n",
      "    with Image.open(os.path.join(pred_folder, pred_ann['file_name'])) as img:\n"
     ]
    },
    {
     "name": "stdout",
     "output_type": "stream",
     "text": [
      "Caught exception in worker thread:\n"
     ]
    },
    {
     "name": "stderr",
     "output_type": "stream",
     "text": [
      "Traceback (most recent call last):\n",
      "Traceback (most recent call last):\n",
      "  File \"/home/adelgior/code/fcn-instances-pytorch/instanceseg/ext/panopticapi/utils.py\", line 16, in wrapper\n",
      "    return f(*args, **kwargs)\n",
      "Traceback (most recent call last):\n"
     ]
    },
    {
     "name": "stdout",
     "output_type": "stream",
     "text": [
      "Caught exception in worker thread:\n"
     ]
    },
    {
     "name": "stderr",
     "output_type": "stream",
     "text": [
      "Traceback (most recent call last):\n",
      "  File \"/home/adelgior/code/fcn-instances-pytorch/instanceseg/ext/panopticapi/utils.py\", line 16, in wrapper\n",
      "    return f(*args, **kwargs)\n"
     ]
    },
    {
     "name": "stdout",
     "output_type": "stream",
     "text": [
      "Caught exception in worker thread:\n"
     ]
    },
    {
     "name": "stderr",
     "output_type": "stream",
     "text": [
      "  File \"/home/adelgior/code/fcn-instances-pytorch/instanceseg/ext/panopticapi/utils.py\", line 16, in wrapper\n",
      "    return f(*args, **kwargs)\n",
      "  File \"/home/adelgior/code/fcn-instances-pytorch/instanceseg/ext/panopticapi/utils.py\", line 16, in wrapper\n",
      "    return f(*args, **kwargs)\n",
      "  File \"/usr0/home/adelgior/code/experimental-instanceseg/instanceseg/ext/panopticapi/evaluation.py\", line 98, in pq_compute_single_core\n",
      "    with Image.open(os.path.join(pred_folder, pred_ann['file_name'])) as img:\n"
     ]
    },
    {
     "name": "stdout",
     "output_type": "stream",
     "text": [
      "Caught exception in worker thread:\n"
     ]
    },
    {
     "name": "stderr",
     "output_type": "stream",
     "text": [
      "  File \"/home/adelgior/code/fcn-instances-pytorch/instanceseg/ext/panopticapi/utils.py\", line 16, in wrapper\n",
      "    return f(*args, **kwargs)\n"
     ]
    },
    {
     "name": "stdout",
     "output_type": "stream",
     "text": [
      "Core: 357, 0 from 1 images processed\n"
     ]
    },
    {
     "name": "stderr",
     "output_type": "stream",
     "text": [
      "  File \"/home/adelgior/virtualenvs/pytorch4_python3/lib/python3.7/site-packages/PIL/Image.py\", line 2652, in open\n",
      "    fp = builtins.open(filename, \"rb\")\n",
      "Traceback (most recent call last):\n"
     ]
    },
    {
     "name": "stdout",
     "output_type": "stream",
     "text": [
      "Core: 356, 0 from 1 images processed\n",
      "Caught exception in worker thread:\n",
      "Caught exception in worker thread:\n"
     ]
    },
    {
     "name": "stderr",
     "output_type": "stream",
     "text": [
      "FileNotFoundError: [Errno 2] No such file or directory: '/home/adelgior/code/upsnet/output/upsnet/cityscapes/upsnet_resnet50_cityscapes_4gpu/val/results/pans_unified/pan_2ch/munster_000007_000019_leftImg8bit.png'\n",
      "  File \"/home/adelgior/code/fcn-instances-pytorch/instanceseg/ext/panopticapi/utils.py\", line 16, in wrapper\n",
      "    return f(*args, **kwargs)\n",
      "  File \"/usr0/home/adelgior/code/experimental-instanceseg/instanceseg/ext/panopticapi/evaluation.py\", line 98, in pq_compute_single_core\n",
      "    with Image.open(os.path.join(pred_folder, pred_ann['file_name'])) as img:\n",
      "Traceback (most recent call last):\n",
      "  File \"/usr0/home/adelgior/code/experimental-instanceseg/instanceseg/ext/panopticapi/evaluation.py\", line 98, in pq_compute_single_core\n",
      "    with Image.open(os.path.join(pred_folder, pred_ann['file_name'])) as img:\n",
      "Traceback (most recent call last):\n",
      "Traceback (most recent call last):\n",
      "  File \"/usr0/home/adelgior/code/experimental-instanceseg/instanceseg/ext/panopticapi/evaluation.py\", line 98, in pq_compute_single_core\n",
      "    with Image.open(os.path.join(pred_folder, pred_ann['file_name'])) as img:\n"
     ]
    },
    {
     "name": "stdout",
     "output_type": "stream",
     "text": [
      "Caught exception in worker thread:\n"
     ]
    },
    {
     "name": "stderr",
     "output_type": "stream",
     "text": [
      "  File \"/home/adelgior/virtualenvs/pytorch4_python3/lib/python3.7/site-packages/PIL/Image.py\", line 2652, in open\n",
      "    fp = builtins.open(filename, \"rb\")\n",
      "  File \"/home/adelgior/virtualenvs/pytorch4_python3/lib/python3.7/site-packages/PIL/Image.py\", line 2652, in open\n",
      "    fp = builtins.open(filename, \"rb\")\n",
      "Traceback (most recent call last):\n"
     ]
    },
    {
     "name": "stdout",
     "output_type": "stream",
     "text": [
      "Caught exception in worker thread:\n",
      "Caught exception in worker thread:\n"
     ]
    },
    {
     "name": "stderr",
     "output_type": "stream",
     "text": [
      "  File \"/home/adelgior/code/fcn-instances-pytorch/instanceseg/ext/panopticapi/utils.py\", line 16, in wrapper\n",
      "    return f(*args, **kwargs)\n",
      "Traceback (most recent call last):\n",
      "  File \"/usr0/home/adelgior/code/experimental-instanceseg/instanceseg/ext/panopticapi/evaluation.py\", line 98, in pq_compute_single_core\n",
      "    with Image.open(os.path.join(pred_folder, pred_ann['file_name'])) as img:\n"
     ]
    },
    {
     "name": "stdout",
     "output_type": "stream",
     "text": [
      "Caught exception in worker thread:\n",
      "Caught exception in worker thread:\n"
     ]
    },
    {
     "name": "stderr",
     "output_type": "stream",
     "text": [
      "  File \"/home/adelgior/code/fcn-instances-pytorch/instanceseg/ext/panopticapi/utils.py\", line 16, in wrapper\n",
      "    return f(*args, **kwargs)\n",
      "FileNotFoundError: [Errno 2] No such file or directory: '/home/adelgior/code/upsnet/output/upsnet/cityscapes/upsnet_resnet50_cityscapes_4gpu/val/results/pans_unified/pan_2ch/munster_000002_000019_leftImg8bit.png'\n",
      "FileNotFoundError: [Errno 2] No such file or directory: '/home/adelgior/code/upsnet/output/upsnet/cityscapes/upsnet_resnet50_cityscapes_4gpu/val/results/pans_unified/pan_2ch/munster_000004_000019_leftImg8bit.png'\n",
      "  File \"/home/adelgior/code/fcn-instances-pytorch/instanceseg/ext/panopticapi/utils.py\", line 16, in wrapper\n",
      "    return f(*args, **kwargs)\n",
      "  File \"/home/adelgior/code/fcn-instances-pytorch/instanceseg/ext/panopticapi/utils.py\", line 16, in wrapper\n",
      "    return f(*args, **kwargs)\n",
      "Traceback (most recent call last):\n"
     ]
    },
    {
     "name": "stdout",
     "output_type": "stream",
     "text": [
      "Caught exception in worker thread:\n"
     ]
    },
    {
     "name": "stderr",
     "output_type": "stream",
     "text": [
      "  File \"/home/adelgior/virtualenvs/pytorch4_python3/lib/python3.7/site-packages/PIL/Image.py\", line 2652, in open\n",
      "    fp = builtins.open(filename, \"rb\")\n"
     ]
    },
    {
     "name": "stdout",
     "output_type": "stream",
     "text": [
      "Caught exception in worker thread:\n"
     ]
    },
    {
     "name": "stderr",
     "output_type": "stream",
     "text": [
      "  File \"/usr0/home/adelgior/code/experimental-instanceseg/instanceseg/ext/panopticapi/evaluation.py\", line 98, in pq_compute_single_core\n",
      "    with Image.open(os.path.join(pred_folder, pred_ann['file_name'])) as img:\n"
     ]
    },
    {
     "name": "stdout",
     "output_type": "stream",
     "text": [
      "Caught exception in worker thread:\n"
     ]
    },
    {
     "name": "stderr",
     "output_type": "stream",
     "text": [
      "Traceback (most recent call last):\n",
      "  File \"/usr0/home/adelgior/code/experimental-instanceseg/instanceseg/ext/panopticapi/evaluation.py\", line 98, in pq_compute_single_core\n",
      "    with Image.open(os.path.join(pred_folder, pred_ann['file_name'])) as img:\n"
     ]
    },
    {
     "name": "stdout",
     "output_type": "stream",
     "text": [
      "Caught exception in worker thread:\n"
     ]
    },
    {
     "name": "stderr",
     "output_type": "stream",
     "text": [
      "  File \"/home/adelgior/virtualenvs/pytorch4_python3/lib/python3.7/site-packages/PIL/Image.py\", line 2652, in open\n",
      "    fp = builtins.open(filename, \"rb\")\n",
      "Traceback (most recent call last):\n",
      "  File \"/usr0/home/adelgior/code/experimental-instanceseg/instanceseg/ext/panopticapi/evaluation.py\", line 98, in pq_compute_single_core\n",
      "    with Image.open(os.path.join(pred_folder, pred_ann['file_name'])) as img:\n",
      "  File \"/home/adelgior/code/fcn-instances-pytorch/instanceseg/ext/panopticapi/utils.py\", line 16, in wrapper\n",
      "    return f(*args, **kwargs)\n",
      "  File \"/home/adelgior/virtualenvs/pytorch4_python3/lib/python3.7/site-packages/PIL/Image.py\", line 2652, in open\n",
      "    fp = builtins.open(filename, \"rb\")\n",
      "Traceback (most recent call last):\n",
      "  File \"/usr0/home/adelgior/code/experimental-instanceseg/instanceseg/ext/panopticapi/evaluation.py\", line 98, in pq_compute_single_core\n",
      "    with Image.open(os.path.join(pred_folder, pred_ann['file_name'])) as img:\n",
      "  File \"/home/adelgior/code/fcn-instances-pytorch/instanceseg/ext/panopticapi/utils.py\", line 16, in wrapper\n",
      "    return f(*args, **kwargs)\n",
      "Traceback (most recent call last):\n",
      "  File \"/home/adelgior/virtualenvs/pytorch4_python3/lib/python3.7/site-packages/PIL/Image.py\", line 2652, in open\n",
      "    fp = builtins.open(filename, \"rb\")\n",
      "Traceback (most recent call last):\n",
      "Traceback (most recent call last):\n",
      "  File \"/home/adelgior/code/fcn-instances-pytorch/instanceseg/ext/panopticapi/utils.py\", line 16, in wrapper\n",
      "    return f(*args, **kwargs)\n",
      "FileNotFoundError: [Errno 2] No such file or directory: '/home/adelgior/code/upsnet/output/upsnet/cityscapes/upsnet_resnet50_cityscapes_4gpu/val/results/pans_unified/pan_2ch/munster_000005_000019_leftImg8bit.png'\n",
      "  File \"/usr0/home/adelgior/code/experimental-instanceseg/instanceseg/ext/panopticapi/evaluation.py\", line 98, in pq_compute_single_core\n",
      "    with Image.open(os.path.join(pred_folder, pred_ann['file_name'])) as img:\n",
      "Traceback (most recent call last):\n",
      "  File \"/home/adelgior/code/fcn-instances-pytorch/instanceseg/ext/panopticapi/utils.py\", line 16, in wrapper\n",
      "    return f(*args, **kwargs)\n",
      "  File \"/home/adelgior/virtualenvs/pytorch4_python3/lib/python3.7/site-packages/PIL/Image.py\", line 2652, in open\n",
      "    fp = builtins.open(filename, \"rb\")\n",
      "  File \"/home/adelgior/code/fcn-instances-pytorch/instanceseg/ext/panopticapi/utils.py\", line 16, in wrapper\n",
      "    return f(*args, **kwargs)\n"
     ]
    },
    {
     "name": "stdout",
     "output_type": "stream",
     "text": [
      "Core: 358, 0 from 1 images processed\n"
     ]
    },
    {
     "name": "stderr",
     "output_type": "stream",
     "text": [
      "Traceback (most recent call last):\n"
     ]
    },
    {
     "name": "stdout",
     "output_type": "stream",
     "text": [
      "Core: 359, 0 from 1 images processed\n"
     ]
    },
    {
     "name": "stderr",
     "output_type": "stream",
     "text": [
      "  File \"/home/adelgior/code/fcn-instances-pytorch/instanceseg/ext/panopticapi/utils.py\", line 16, in wrapper\n",
      "    return f(*args, **kwargs)\n",
      "  File \"/home/adelgior/virtualenvs/pytorch4_python3/lib/python3.7/site-packages/PIL/Image.py\", line 2652, in open\n",
      "    fp = builtins.open(filename, \"rb\")\n",
      "FileNotFoundError: [Errno 2] No such file or directory: '/home/adelgior/code/upsnet/output/upsnet/cityscapes/upsnet_resnet50_cityscapes_4gpu/val/results/pans_unified/pan_2ch/munster_000015_000019_leftImg8bit.png'\n",
      "FileNotFoundError: [Errno 2] No such file or directory: '/home/adelgior/code/upsnet/output/upsnet/cityscapes/upsnet_resnet50_cityscapes_4gpu/val/results/pans_unified/pan_2ch/munster_000014_000019_leftImg8bit.png'\n",
      "  File \"/usr0/home/adelgior/code/experimental-instanceseg/instanceseg/ext/panopticapi/evaluation.py\", line 98, in pq_compute_single_core\n",
      "    with Image.open(os.path.join(pred_folder, pred_ann['file_name'])) as img:\n",
      "  File \"/usr0/home/adelgior/code/experimental-instanceseg/instanceseg/ext/panopticapi/evaluation.py\", line 98, in pq_compute_single_core\n",
      "    with Image.open(os.path.join(pred_folder, pred_ann['file_name'])) as img:\n",
      "FileNotFoundError: [Errno 2] No such file or directory: '/home/adelgior/code/upsnet/output/upsnet/cityscapes/upsnet_resnet50_cityscapes_4gpu/val/results/pans_unified/pan_2ch/munster_000020_000019_leftImg8bit.png'\n",
      "  File \"/usr0/home/adelgior/code/experimental-instanceseg/instanceseg/ext/panopticapi/evaluation.py\", line 98, in pq_compute_single_core\n",
      "    with Image.open(os.path.join(pred_folder, pred_ann['file_name'])) as img:\n",
      "  File \"/home/adelgior/code/fcn-instances-pytorch/instanceseg/ext/panopticapi/utils.py\", line 16, in wrapper\n",
      "    return f(*args, **kwargs)\n",
      "  File \"/home/adelgior/virtualenvs/pytorch4_python3/lib/python3.7/site-packages/PIL/Image.py\", line 2652, in open\n",
      "    fp = builtins.open(filename, \"rb\")\n",
      "  File \"/home/adelgior/code/fcn-instances-pytorch/instanceseg/ext/panopticapi/utils.py\", line 16, in wrapper\n",
      "    return f(*args, **kwargs)\n",
      "  File \"/home/adelgior/code/fcn-instances-pytorch/instanceseg/ext/panopticapi/utils.py\", line 16, in wrapper\n",
      "    return f(*args, **kwargs)\n"
     ]
    },
    {
     "name": "stdout",
     "output_type": "stream",
     "text": [
      "Caught exception in worker thread:\n"
     ]
    },
    {
     "name": "stderr",
     "output_type": "stream",
     "text": [
      "  File \"/home/adelgior/virtualenvs/pytorch4_python3/lib/python3.7/site-packages/PIL/Image.py\", line 2652, in open\n",
      "    fp = builtins.open(filename, \"rb\")\n",
      "  File \"/home/adelgior/virtualenvs/pytorch4_python3/lib/python3.7/site-packages/PIL/Image.py\", line 2652, in open\n",
      "    fp = builtins.open(filename, \"rb\")\n",
      "  File \"/usr0/home/adelgior/code/experimental-instanceseg/instanceseg/ext/panopticapi/evaluation.py\", line 98, in pq_compute_single_core\n",
      "    with Image.open(os.path.join(pred_folder, pred_ann['file_name'])) as img:\n",
      "  File \"/home/adelgior/virtualenvs/pytorch4_python3/lib/python3.7/site-packages/PIL/Image.py\", line 2652, in open\n",
      "    fp = builtins.open(filename, \"rb\")\n",
      "  File \"/usr0/home/adelgior/code/experimental-instanceseg/instanceseg/ext/panopticapi/evaluation.py\", line 98, in pq_compute_single_core\n",
      "    with Image.open(os.path.join(pred_folder, pred_ann['file_name'])) as img:\n",
      "FileNotFoundError: [Errno 2] No such file or directory: '/home/adelgior/code/upsnet/output/upsnet/cityscapes/upsnet_resnet50_cityscapes_4gpu/val/results/pans_unified/pan_2ch/munster_000022_000019_leftImg8bit.png'\n",
      "  File \"/usr0/home/adelgior/code/experimental-instanceseg/instanceseg/ext/panopticapi/evaluation.py\", line 98, in pq_compute_single_core\n",
      "    with Image.open(os.path.join(pred_folder, pred_ann['file_name'])) as img:\n",
      "  File \"/usr0/home/adelgior/code/experimental-instanceseg/instanceseg/ext/panopticapi/evaluation.py\", line 98, in pq_compute_single_core\n",
      "    with Image.open(os.path.join(pred_folder, pred_ann['file_name'])) as img:\n",
      "  File \"/home/adelgior/virtualenvs/pytorch4_python3/lib/python3.7/site-packages/PIL/Image.py\", line 2652, in open\n",
      "    fp = builtins.open(filename, \"rb\")\n",
      "  File \"/home/adelgior/virtualenvs/pytorch4_python3/lib/python3.7/site-packages/PIL/Image.py\", line 2652, in open\n",
      "    fp = builtins.open(filename, \"rb\")\n",
      "FileNotFoundError: [Errno 2] No such file or directory: '/home/adelgior/code/upsnet/output/upsnet/cityscapes/upsnet_resnet50_cityscapes_4gpu/val/results/pans_unified/pan_2ch/munster_000021_000019_leftImg8bit.png'\n",
      "  File \"/home/adelgior/code/fcn-instances-pytorch/instanceseg/ext/panopticapi/utils.py\", line 16, in wrapper\n",
      "    return f(*args, **kwargs)\n",
      "FileNotFoundError: [Errno 2] No such file or directory: '/home/adelgior/code/upsnet/output/upsnet/cityscapes/upsnet_resnet50_cityscapes_4gpu/val/results/pans_unified/pan_2ch/lindau_000057_000019_leftImg8bit.png'\n",
      "FileNotFoundError: [Errno 2] No such file or directory: '/home/adelgior/code/upsnet/output/upsnet/cityscapes/upsnet_resnet50_cityscapes_4gpu/val/results/pans_unified/pan_2ch/munster_000017_000019_leftImg8bit.png'\n",
      "  File \"/usr0/home/adelgior/code/experimental-instanceseg/instanceseg/ext/panopticapi/evaluation.py\", line 98, in pq_compute_single_core\n",
      "    with Image.open(os.path.join(pred_folder, pred_ann['file_name'])) as img:\n",
      "  File \"/home/adelgior/virtualenvs/pytorch4_python3/lib/python3.7/site-packages/PIL/Image.py\", line 2652, in open\n",
      "    fp = builtins.open(filename, \"rb\")\n",
      "  File \"/usr0/home/adelgior/code/experimental-instanceseg/instanceseg/ext/panopticapi/evaluation.py\", line 98, in pq_compute_single_core\n",
      "    with Image.open(os.path.join(pred_folder, pred_ann['file_name'])) as img:\n",
      "FileNotFoundError: [Errno 2] No such file or directory: '/home/adelgior/code/upsnet/output/upsnet/cityscapes/upsnet_resnet50_cityscapes_4gpu/val/results/pans_unified/pan_2ch/munster_000008_000019_leftImg8bit.png'\n",
      "FileNotFoundError: [Errno 2] No such file or directory: '/home/adelgior/code/upsnet/output/upsnet/cityscapes/upsnet_resnet50_cityscapes_4gpu/val/results/pans_unified/pan_2ch/munster_000011_000019_leftImg8bit.png'\n",
      "  File \"/home/adelgior/virtualenvs/pytorch4_python3/lib/python3.7/site-packages/PIL/Image.py\", line 2652, in open\n",
      "    fp = builtins.open(filename, \"rb\")\n",
      "FileNotFoundError: [Errno 2] No such file or directory: '/home/adelgior/code/upsnet/output/upsnet/cityscapes/upsnet_resnet50_cityscapes_4gpu/val/results/pans_unified/pan_2ch/munster_000009_000019_leftImg8bit.png'\n",
      "FileNotFoundError: [Errno 2] No such file or directory: '/home/adelgior/code/upsnet/output/upsnet/cityscapes/upsnet_resnet50_cityscapes_4gpu/val/results/pans_unified/pan_2ch/munster_000003_000019_leftImg8bit.png'\n"
     ]
    },
    {
     "name": "stdout",
     "output_type": "stream",
     "text": [
      "Core: 363, 0 from 1 images processed\n"
     ]
    },
    {
     "name": "stderr",
     "output_type": "stream",
     "text": [
      "  File \"/home/adelgior/code/fcn-instances-pytorch/instanceseg/ext/panopticapi/utils.py\", line 16, in wrapper\n",
      "    return f(*args, **kwargs)\n"
     ]
    },
    {
     "name": "stdout",
     "output_type": "stream",
     "text": [
      "Core: 360, 0 from 1 images processed\n"
     ]
    },
    {
     "name": "stderr",
     "output_type": "stream",
     "text": [
      "  File \"/home/adelgior/virtualenvs/pytorch4_python3/lib/python3.7/site-packages/PIL/Image.py\", line 2652, in open\n",
      "    fp = builtins.open(filename, \"rb\")\n",
      "  File \"/home/adelgior/virtualenvs/pytorch4_python3/lib/python3.7/site-packages/PIL/Image.py\", line 2652, in open\n",
      "    fp = builtins.open(filename, \"rb\")\n"
     ]
    },
    {
     "name": "stdout",
     "output_type": "stream",
     "text": [
      "Core: 364, 0 from 1 images processed\n",
      "Core: 362, 0 from 1 images processed\n"
     ]
    },
    {
     "name": "stderr",
     "output_type": "stream",
     "text": [
      "Traceback (most recent call last):\n",
      "FileNotFoundError: [Errno 2] No such file or directory: '/home/adelgior/code/upsnet/output/upsnet/cityscapes/upsnet_resnet50_cityscapes_4gpu/val/results/pans_unified/pan_2ch/munster_000010_000019_leftImg8bit.png'\n",
      "  File \"/home/adelgior/virtualenvs/pytorch4_python3/lib/python3.7/site-packages/PIL/Image.py\", line 2652, in open\n",
      "    fp = builtins.open(filename, \"rb\")\n",
      "FileNotFoundError: [Errno 2] No such file or directory: '/home/adelgior/code/upsnet/output/upsnet/cityscapes/upsnet_resnet50_cityscapes_4gpu/val/results/pans_unified/pan_2ch/munster_000001_000019_leftImg8bit.png'\n"
     ]
    },
    {
     "name": "stdout",
     "output_type": "stream",
     "text": [
      "Core: 366, 0 from 1 images processed\n"
     ]
    },
    {
     "name": "stderr",
     "output_type": "stream",
     "text": [
      "FileNotFoundError: [Errno 2] No such file or directory: '/home/adelgior/code/upsnet/output/upsnet/cityscapes/upsnet_resnet50_cityscapes_4gpu/val/results/pans_unified/pan_2ch/munster_000016_000019_leftImg8bit.png'\n"
     ]
    },
    {
     "name": "stdout",
     "output_type": "stream",
     "text": [
      "Core: 365, 0 from 1 images processed\n",
      "Core: 361, 0 from 1 images processed\n"
     ]
    },
    {
     "name": "stderr",
     "output_type": "stream",
     "text": [
      "  File \"/home/adelgior/code/fcn-instances-pytorch/instanceseg/ext/panopticapi/utils.py\", line 16, in wrapper\n",
      "    return f(*args, **kwargs)\n",
      "FileNotFoundError: [Errno 2] No such file or directory: '/home/adelgior/code/upsnet/output/upsnet/cityscapes/upsnet_resnet50_cityscapes_4gpu/val/results/pans_unified/pan_2ch/munster_000018_000019_leftImg8bit.png'\n"
     ]
    },
    {
     "name": "stdout",
     "output_type": "stream",
     "text": [
      "Core: 369, 0 from 1 images processed\n"
     ]
    },
    {
     "name": "stderr",
     "output_type": "stream",
     "text": [
      "  File \"/usr0/home/adelgior/code/experimental-instanceseg/instanceseg/ext/panopticapi/evaluation.py\", line 98, in pq_compute_single_core\n",
      "    with Image.open(os.path.join(pred_folder, pred_ann['file_name'])) as img:\n",
      "  File \"/usr0/home/adelgior/code/experimental-instanceseg/instanceseg/ext/panopticapi/evaluation.py\", line 98, in pq_compute_single_core\n",
      "    with Image.open(os.path.join(pred_folder, pred_ann['file_name'])) as img:\n"
     ]
    },
    {
     "name": "stdout",
     "output_type": "stream",
     "text": [
      "Core: 370, 0 from 1 images processed\n",
      "Core: 372, 0 from 1 images processed\n",
      "Core: 374, 0 from 1 images processed\n",
      "Core: 373, 0 from 1 images processed\n"
     ]
    },
    {
     "name": "stderr",
     "output_type": "stream",
     "text": [
      "  File \"/home/adelgior/virtualenvs/pytorch4_python3/lib/python3.7/site-packages/PIL/Image.py\", line 2652, in open\n",
      "    fp = builtins.open(filename, \"rb\")\n"
     ]
    },
    {
     "name": "stdout",
     "output_type": "stream",
     "text": [
      "Core: 368, 0 from 1 images processed\n"
     ]
    },
    {
     "name": "stderr",
     "output_type": "stream",
     "text": [
      "  File \"/usr0/home/adelgior/code/experimental-instanceseg/instanceseg/ext/panopticapi/evaluation.py\", line 98, in pq_compute_single_core\n",
      "    with Image.open(os.path.join(pred_folder, pred_ann['file_name'])) as img:\n"
     ]
    },
    {
     "name": "stdout",
     "output_type": "stream",
     "text": [
      "Caught exception in worker thread:\n",
      "Core: 371, 0 from 1 images processed\n",
      "Core: 367, 0 from 1 images processed\n"
     ]
    },
    {
     "name": "stderr",
     "output_type": "stream",
     "text": [
      "FileNotFoundError: [Errno 2] No such file or directory: '/home/adelgior/code/upsnet/output/upsnet/cityscapes/upsnet_resnet50_cityscapes_4gpu/val/results/pans_unified/pan_2ch/munster_000019_000019_leftImg8bit.png'\n",
      "  File \"/home/adelgior/virtualenvs/pytorch4_python3/lib/python3.7/site-packages/PIL/Image.py\", line 2652, in open\n",
      "    fp = builtins.open(filename, \"rb\")\n"
     ]
    },
    {
     "name": "stdout",
     "output_type": "stream",
     "text": [
      "Caught exception in worker thread:\n"
     ]
    },
    {
     "name": "stderr",
     "output_type": "stream",
     "text": [
      "FileNotFoundError: [Errno 2] No such file or directory: '/home/adelgior/code/upsnet/output/upsnet/cityscapes/upsnet_resnet50_cityscapes_4gpu/val/results/pans_unified/pan_2ch/munster_000013_000019_leftImg8bit.png'\n"
     ]
    },
    {
     "name": "stdout",
     "output_type": "stream",
     "text": [
      "Core: 375, 0 from 1 images processed\n"
     ]
    },
    {
     "name": "stderr",
     "output_type": "stream",
     "text": [
      "Traceback (most recent call last):\n",
      "  File \"/home/adelgior/virtualenvs/pytorch4_python3/lib/python3.7/site-packages/PIL/Image.py\", line 2652, in open\n",
      "    fp = builtins.open(filename, \"rb\")\n"
     ]
    },
    {
     "name": "stdout",
     "output_type": "stream",
     "text": [
      "Core: 376, 0 from 1 images processed\n"
     ]
    },
    {
     "name": "stderr",
     "output_type": "stream",
     "text": [
      "  File \"/home/adelgior/code/fcn-instances-pytorch/instanceseg/ext/panopticapi/utils.py\", line 16, in wrapper\n",
      "    return f(*args, **kwargs)\n",
      "FileNotFoundError: [Errno 2] No such file or directory: '/home/adelgior/code/upsnet/output/upsnet/cityscapes/upsnet_resnet50_cityscapes_4gpu/val/results/pans_unified/pan_2ch/munster_000023_000019_leftImg8bit.png'\n",
      "  File \"/usr0/home/adelgior/code/experimental-instanceseg/instanceseg/ext/panopticapi/evaluation.py\", line 98, in pq_compute_single_core\n",
      "    with Image.open(os.path.join(pred_folder, pred_ann['file_name'])) as img:\n",
      "Traceback (most recent call last):\n",
      "  File \"/home/adelgior/virtualenvs/pytorch4_python3/lib/python3.7/site-packages/PIL/Image.py\", line 2652, in open\n",
      "    fp = builtins.open(filename, \"rb\")\n"
     ]
    },
    {
     "name": "stdout",
     "output_type": "stream",
     "text": [
      "Core: 377, 0 from 1 images processed\n"
     ]
    },
    {
     "name": "stderr",
     "output_type": "stream",
     "text": [
      "  File \"/home/adelgior/code/fcn-instances-pytorch/instanceseg/ext/panopticapi/utils.py\", line 16, in wrapper\n",
      "    return f(*args, **kwargs)\n",
      "FileNotFoundError: [Errno 2] No such file or directory: '/home/adelgior/code/upsnet/output/upsnet/cityscapes/upsnet_resnet50_cityscapes_4gpu/val/results/pans_unified/pan_2ch/munster_000012_000019_leftImg8bit.png'\n"
     ]
    },
    {
     "name": "stdout",
     "output_type": "stream",
     "text": [
      "Core: 379, 0 from 1 images processed\n",
      "Caught exception in worker thread:\n"
     ]
    },
    {
     "name": "stderr",
     "output_type": "stream",
     "text": [
      "  File \"/usr0/home/adelgior/code/experimental-instanceseg/instanceseg/ext/panopticapi/evaluation.py\", line 98, in pq_compute_single_core\n",
      "    with Image.open(os.path.join(pred_folder, pred_ann['file_name'])) as img:\n"
     ]
    },
    {
     "name": "stdout",
     "output_type": "stream",
     "text": [
      "Core: 378, 0 from 1 images processed\n",
      "Caught exception in worker thread:\n"
     ]
    },
    {
     "name": "stderr",
     "output_type": "stream",
     "text": [
      "Traceback (most recent call last):\n",
      "FileNotFoundError: [Errno 2] No such file or directory: '/home/adelgior/code/upsnet/output/upsnet/cityscapes/upsnet_resnet50_cityscapes_4gpu/val/results/pans_unified/pan_2ch/munster_000024_000019_leftImg8bit.png'\n",
      "  File \"/home/adelgior/code/fcn-instances-pytorch/instanceseg/ext/panopticapi/utils.py\", line 16, in wrapper\n",
      "    return f(*args, **kwargs)\n"
     ]
    },
    {
     "name": "stdout",
     "output_type": "stream",
     "text": [
      "Core: 381, 0 from 1 images processed\n"
     ]
    },
    {
     "name": "stderr",
     "output_type": "stream",
     "text": [
      "Traceback (most recent call last):\n",
      "  File \"/home/adelgior/virtualenvs/pytorch4_python3/lib/python3.7/site-packages/PIL/Image.py\", line 2652, in open\n",
      "    fp = builtins.open(filename, \"rb\")\n",
      "  File \"/usr0/home/adelgior/code/experimental-instanceseg/instanceseg/ext/panopticapi/evaluation.py\", line 98, in pq_compute_single_core\n",
      "    with Image.open(os.path.join(pred_folder, pred_ann['file_name'])) as img:\n"
     ]
    },
    {
     "name": "stdout",
     "output_type": "stream",
     "text": [
      "Core: 380, 0 from 1 images processed\n"
     ]
    },
    {
     "name": "stderr",
     "output_type": "stream",
     "text": [
      "  File \"/home/adelgior/code/fcn-instances-pytorch/instanceseg/ext/panopticapi/utils.py\", line 16, in wrapper\n",
      "    return f(*args, **kwargs)\n",
      "  File \"/home/adelgior/virtualenvs/pytorch4_python3/lib/python3.7/site-packages/PIL/Image.py\", line 2652, in open\n",
      "    fp = builtins.open(filename, \"rb\")\n",
      "FileNotFoundError: [Errno 2] No such file or directory: '/home/adelgior/code/upsnet/output/upsnet/cityscapes/upsnet_resnet50_cityscapes_4gpu/val/results/pans_unified/pan_2ch/munster_000025_000019_leftImg8bit.png'\n",
      "  File \"/usr0/home/adelgior/code/experimental-instanceseg/instanceseg/ext/panopticapi/evaluation.py\", line 98, in pq_compute_single_core\n",
      "    with Image.open(os.path.join(pred_folder, pred_ann['file_name'])) as img:\n",
      "  File \"/home/adelgior/virtualenvs/pytorch4_python3/lib/python3.7/site-packages/PIL/Image.py\", line 2652, in open\n",
      "    fp = builtins.open(filename, \"rb\")\n",
      "FileNotFoundError: [Errno 2] No such file or directory: '/home/adelgior/code/upsnet/output/upsnet/cityscapes/upsnet_resnet50_cityscapes_4gpu/val/results/pans_unified/pan_2ch/munster_000027_000019_leftImg8bit.png'\n"
     ]
    },
    {
     "name": "stdout",
     "output_type": "stream",
     "text": [
      "Caught exception in worker thread:\n"
     ]
    },
    {
     "name": "stderr",
     "output_type": "stream",
     "text": [
      "FileNotFoundError: [Errno 2] No such file or directory: '/home/adelgior/code/upsnet/output/upsnet/cityscapes/upsnet_resnet50_cityscapes_4gpu/val/results/pans_unified/pan_2ch/munster_000026_000019_leftImg8bit.png'\n",
      "Traceback (most recent call last):\n",
      "  File \"/home/adelgior/code/fcn-instances-pytorch/instanceseg/ext/panopticapi/utils.py\", line 16, in wrapper\n",
      "    return f(*args, **kwargs)\n"
     ]
    },
    {
     "name": "stdout",
     "output_type": "stream",
     "text": [
      "Core: 382, 0 from 1 images processed\n",
      "Core: 384, 0 from 1 images processed\n",
      "Core: 383, 0 from 1 images processed\n"
     ]
    },
    {
     "name": "stderr",
     "output_type": "stream",
     "text": [
      "  File \"/usr0/home/adelgior/code/experimental-instanceseg/instanceseg/ext/panopticapi/evaluation.py\", line 98, in pq_compute_single_core\n",
      "    with Image.open(os.path.join(pred_folder, pred_ann['file_name'])) as img:\n",
      "  File \"/home/adelgior/virtualenvs/pytorch4_python3/lib/python3.7/site-packages/PIL/Image.py\", line 2652, in open\n",
      "    fp = builtins.open(filename, \"rb\")\n",
      "FileNotFoundError: [Errno 2] No such file or directory: '/home/adelgior/code/upsnet/output/upsnet/cityscapes/upsnet_resnet50_cityscapes_4gpu/val/results/pans_unified/pan_2ch/munster_000028_000019_leftImg8bit.png'\n"
     ]
    },
    {
     "name": "stdout",
     "output_type": "stream",
     "text": [
      "Caught exception in worker thread:\n",
      "Core: 385, 0 from 1 images processed\n",
      "Caught exception in worker thread:\n"
     ]
    },
    {
     "name": "stderr",
     "output_type": "stream",
     "text": [
      "Traceback (most recent call last):\n"
     ]
    },
    {
     "name": "stdout",
     "output_type": "stream",
     "text": [
      "Caught exception in worker thread:\n"
     ]
    },
    {
     "name": "stderr",
     "output_type": "stream",
     "text": [
      "  File \"/home/adelgior/code/fcn-instances-pytorch/instanceseg/ext/panopticapi/utils.py\", line 16, in wrapper\n",
      "    return f(*args, **kwargs)\n",
      "Traceback (most recent call last):\n"
     ]
    },
    {
     "name": "stdout",
     "output_type": "stream",
     "text": [
      "Caught exception in worker thread:\n"
     ]
    },
    {
     "name": "stderr",
     "output_type": "stream",
     "text": [
      "Traceback (most recent call last):\n",
      "Traceback (most recent call last):\n",
      "  File \"/home/adelgior/code/fcn-instances-pytorch/instanceseg/ext/panopticapi/utils.py\", line 16, in wrapper\n",
      "    return f(*args, **kwargs)\n"
     ]
    },
    {
     "name": "stdout",
     "output_type": "stream",
     "text": [
      "Caught exception in worker thread:\n",
      "Caught exception in worker thread:\n"
     ]
    },
    {
     "name": "stderr",
     "output_type": "stream",
     "text": [
      "  File \"/home/adelgior/code/fcn-instances-pytorch/instanceseg/ext/panopticapi/utils.py\", line 16, in wrapper\n",
      "    return f(*args, **kwargs)\n",
      "  File \"/home/adelgior/code/fcn-instances-pytorch/instanceseg/ext/panopticapi/utils.py\", line 16, in wrapper\n",
      "    return f(*args, **kwargs)\n",
      "Traceback (most recent call last):\n",
      "  File \"/usr0/home/adelgior/code/experimental-instanceseg/instanceseg/ext/panopticapi/evaluation.py\", line 98, in pq_compute_single_core\n",
      "    with Image.open(os.path.join(pred_folder, pred_ann['file_name'])) as img:\n",
      "  File \"/usr0/home/adelgior/code/experimental-instanceseg/instanceseg/ext/panopticapi/evaluation.py\", line 98, in pq_compute_single_core\n",
      "    with Image.open(os.path.join(pred_folder, pred_ann['file_name'])) as img:\n",
      "  File \"/home/adelgior/virtualenvs/pytorch4_python3/lib/python3.7/site-packages/PIL/Image.py\", line 2652, in open\n",
      "    fp = builtins.open(filename, \"rb\")\n",
      "FileNotFoundError: [Errno 2] No such file or directory: '/home/adelgior/code/upsnet/output/upsnet/cityscapes/upsnet_resnet50_cityscapes_4gpu/val/results/pans_unified/pan_2ch/munster_000029_000019_leftImg8bit.png'\n"
     ]
    },
    {
     "name": "stdout",
     "output_type": "stream",
     "text": [
      "Caught exception in worker thread:\n"
     ]
    },
    {
     "name": "stderr",
     "output_type": "stream",
     "text": [
      "Traceback (most recent call last):\n",
      "  File \"/home/adelgior/virtualenvs/pytorch4_python3/lib/python3.7/site-packages/PIL/Image.py\", line 2652, in open\n",
      "    fp = builtins.open(filename, \"rb\")\n"
     ]
    },
    {
     "name": "stdout",
     "output_type": "stream",
     "text": [
      "Caught exception in worker thread:\n"
     ]
    },
    {
     "name": "stderr",
     "output_type": "stream",
     "text": [
      "  File \"/home/adelgior/code/fcn-instances-pytorch/instanceseg/ext/panopticapi/utils.py\", line 16, in wrapper\n",
      "    return f(*args, **kwargs)\n",
      "Traceback (most recent call last):\n",
      "  File \"/home/adelgior/code/fcn-instances-pytorch/instanceseg/ext/panopticapi/utils.py\", line 16, in wrapper\n",
      "    return f(*args, **kwargs)\n",
      "  File \"/usr0/home/adelgior/code/experimental-instanceseg/instanceseg/ext/panopticapi/evaluation.py\", line 98, in pq_compute_single_core\n",
      "    with Image.open(os.path.join(pred_folder, pred_ann['file_name'])) as img:\n",
      "  File \"/home/adelgior/code/fcn-instances-pytorch/instanceseg/ext/panopticapi/utils.py\", line 16, in wrapper\n",
      "    return f(*args, **kwargs)\n",
      "  File \"/usr0/home/adelgior/code/experimental-instanceseg/instanceseg/ext/panopticapi/evaluation.py\", line 98, in pq_compute_single_core\n",
      "    with Image.open(os.path.join(pred_folder, pred_ann['file_name'])) as img:\n",
      "Traceback (most recent call last):\n",
      "  File \"/home/adelgior/virtualenvs/pytorch4_python3/lib/python3.7/site-packages/PIL/Image.py\", line 2652, in open\n",
      "    fp = builtins.open(filename, \"rb\")\n",
      "  File \"/usr0/home/adelgior/code/experimental-instanceseg/instanceseg/ext/panopticapi/evaluation.py\", line 98, in pq_compute_single_core\n",
      "    with Image.open(os.path.join(pred_folder, pred_ann['file_name'])) as img:\n",
      "  File \"/usr0/home/adelgior/code/experimental-instanceseg/instanceseg/ext/panopticapi/evaluation.py\", line 98, in pq_compute_single_core\n",
      "    with Image.open(os.path.join(pred_folder, pred_ann['file_name'])) as img:\n"
     ]
    },
    {
     "name": "stdout",
     "output_type": "stream",
     "text": [
      "Caught exception in worker thread:\n",
      "Caught exception in worker thread:\n",
      "Caught exception in worker thread:\n"
     ]
    },
    {
     "name": "stderr",
     "output_type": "stream",
     "text": [
      "Traceback (most recent call last):\n",
      "FileNotFoundError: [Errno 2] No such file or directory: '/home/adelgior/code/upsnet/output/upsnet/cityscapes/upsnet_resnet50_cityscapes_4gpu/val/results/pans_unified/pan_2ch/munster_000031_000019_leftImg8bit.png'\n",
      "Traceback (most recent call last):\n",
      "  File \"/home/adelgior/virtualenvs/pytorch4_python3/lib/python3.7/site-packages/PIL/Image.py\", line 2652, in open\n",
      "    fp = builtins.open(filename, \"rb\")\n",
      "FileNotFoundError: [Errno 2] No such file or directory: '/home/adelgior/code/upsnet/output/upsnet/cityscapes/upsnet_resnet50_cityscapes_4gpu/val/results/pans_unified/pan_2ch/munster_000033_000019_leftImg8bit.png'\n",
      "  File \"/home/adelgior/code/fcn-instances-pytorch/instanceseg/ext/panopticapi/utils.py\", line 16, in wrapper\n",
      "    return f(*args, **kwargs)\n",
      "  File \"/home/adelgior/code/fcn-instances-pytorch/instanceseg/ext/panopticapi/utils.py\", line 16, in wrapper\n",
      "    return f(*args, **kwargs)\n",
      "Traceback (most recent call last):\n",
      "  File \"/home/adelgior/code/fcn-instances-pytorch/instanceseg/ext/panopticapi/utils.py\", line 16, in wrapper\n",
      "    return f(*args, **kwargs)\n"
     ]
    },
    {
     "name": "stdout",
     "output_type": "stream",
     "text": [
      "Caught exception in worker thread:\n"
     ]
    },
    {
     "name": "stderr",
     "output_type": "stream",
     "text": [
      "  File \"/usr0/home/adelgior/code/experimental-instanceseg/instanceseg/ext/panopticapi/evaluation.py\", line 98, in pq_compute_single_core\n",
      "    with Image.open(os.path.join(pred_folder, pred_ann['file_name'])) as img:\n",
      "  File \"/home/adelgior/virtualenvs/pytorch4_python3/lib/python3.7/site-packages/PIL/Image.py\", line 2652, in open\n",
      "    fp = builtins.open(filename, \"rb\")\n"
     ]
    },
    {
     "name": "stdout",
     "output_type": "stream",
     "text": [
      "Core: 386, 0 from 1 images processed\n"
     ]
    },
    {
     "name": "stderr",
     "output_type": "stream",
     "text": [
      "FileNotFoundError: [Errno 2] No such file or directory: '/home/adelgior/code/upsnet/output/upsnet/cityscapes/upsnet_resnet50_cityscapes_4gpu/val/results/pans_unified/pan_2ch/munster_000032_000019_leftImg8bit.png'\n",
      "  File \"/usr0/home/adelgior/code/experimental-instanceseg/instanceseg/ext/panopticapi/evaluation.py\", line 98, in pq_compute_single_core\n",
      "    with Image.open(os.path.join(pred_folder, pred_ann['file_name'])) as img:\n"
     ]
    },
    {
     "name": "stdout",
     "output_type": "stream",
     "text": [
      "Caught exception in worker thread:\n"
     ]
    },
    {
     "name": "stderr",
     "output_type": "stream",
     "text": [
      "  File \"/home/adelgior/virtualenvs/pytorch4_python3/lib/python3.7/site-packages/PIL/Image.py\", line 2652, in open\n",
      "    fp = builtins.open(filename, \"rb\")\n"
     ]
    },
    {
     "name": "stdout",
     "output_type": "stream",
     "text": [
      "Caught exception in worker thread:\n",
      "Caught exception in worker thread:\n"
     ]
    },
    {
     "name": "stderr",
     "output_type": "stream",
     "text": [
      "Traceback (most recent call last):\n"
     ]
    },
    {
     "name": "stdout",
     "output_type": "stream",
     "text": [
      "Caught exception in worker thread:\n"
     ]
    },
    {
     "name": "stderr",
     "output_type": "stream",
     "text": [
      "  File \"/home/adelgior/code/fcn-instances-pytorch/instanceseg/ext/panopticapi/utils.py\", line 16, in wrapper\n",
      "    return f(*args, **kwargs)\n"
     ]
    },
    {
     "name": "stdout",
     "output_type": "stream",
     "text": [
      "Caught exception in worker thread:\n",
      "Caught exception in worker thread:\n",
      "Caught exception in worker thread:\n"
     ]
    },
    {
     "name": "stderr",
     "output_type": "stream",
     "text": [
      "Traceback (most recent call last):\n",
      "  File \"/home/adelgior/virtualenvs/pytorch4_python3/lib/python3.7/site-packages/PIL/Image.py\", line 2652, in open\n",
      "    fp = builtins.open(filename, \"rb\")\n",
      "Traceback (most recent call last):\n",
      "FileNotFoundError: [Errno 2] No such file or directory: '/home/adelgior/code/upsnet/output/upsnet/cityscapes/upsnet_resnet50_cityscapes_4gpu/val/results/pans_unified/pan_2ch/munster_000037_000019_leftImg8bit.png'\n",
      "  File \"/home/adelgior/virtualenvs/pytorch4_python3/lib/python3.7/site-packages/PIL/Image.py\", line 2652, in open\n",
      "    fp = builtins.open(filename, \"rb\")\n",
      "  File \"/home/adelgior/code/fcn-instances-pytorch/instanceseg/ext/panopticapi/utils.py\", line 16, in wrapper\n",
      "    return f(*args, **kwargs)\n",
      "Traceback (most recent call last):\n",
      "  File \"/usr0/home/adelgior/code/experimental-instanceseg/instanceseg/ext/panopticapi/evaluation.py\", line 98, in pq_compute_single_core\n",
      "    with Image.open(os.path.join(pred_folder, pred_ann['file_name'])) as img:\n",
      "Traceback (most recent call last):\n",
      "Traceback (most recent call last):\n",
      "  File \"/home/adelgior/code/fcn-instances-pytorch/instanceseg/ext/panopticapi/utils.py\", line 16, in wrapper\n",
      "    return f(*args, **kwargs)\n",
      "Traceback (most recent call last):\n",
      "FileNotFoundError: [Errno 2] No such file or directory: '/home/adelgior/code/upsnet/output/upsnet/cityscapes/upsnet_resnet50_cityscapes_4gpu/val/results/pans_unified/pan_2ch/munster_000034_000019_leftImg8bit.png'\n"
     ]
    },
    {
     "name": "stdout",
     "output_type": "stream",
     "text": [
      "Caught exception in worker thread:\n"
     ]
    },
    {
     "name": "stderr",
     "output_type": "stream",
     "text": [
      "  File \"/home/adelgior/code/fcn-instances-pytorch/instanceseg/ext/panopticapi/utils.py\", line 16, in wrapper\n",
      "    return f(*args, **kwargs)\n",
      "  File \"/home/adelgior/virtualenvs/pytorch4_python3/lib/python3.7/site-packages/PIL/Image.py\", line 2652, in open\n",
      "    fp = builtins.open(filename, \"rb\")\n",
      "Traceback (most recent call last):\n",
      "  File \"/home/adelgior/code/fcn-instances-pytorch/instanceseg/ext/panopticapi/utils.py\", line 16, in wrapper\n",
      "    return f(*args, **kwargs)\n",
      "  File \"/usr0/home/adelgior/code/experimental-instanceseg/instanceseg/ext/panopticapi/evaluation.py\", line 98, in pq_compute_single_core\n",
      "    with Image.open(os.path.join(pred_folder, pred_ann['file_name'])) as img:\n"
     ]
    },
    {
     "name": "stdout",
     "output_type": "stream",
     "text": [
      "Caught exception in worker thread:\n"
     ]
    },
    {
     "name": "stderr",
     "output_type": "stream",
     "text": [
      "  File \"/home/adelgior/code/fcn-instances-pytorch/instanceseg/ext/panopticapi/utils.py\", line 16, in wrapper\n",
      "    return f(*args, **kwargs)\n",
      "  File \"/usr0/home/adelgior/code/experimental-instanceseg/instanceseg/ext/panopticapi/evaluation.py\", line 98, in pq_compute_single_core\n",
      "    with Image.open(os.path.join(pred_folder, pred_ann['file_name'])) as img:\n",
      "Traceback (most recent call last):\n"
     ]
    },
    {
     "name": "stdout",
     "output_type": "stream",
     "text": [
      "Caught exception in worker thread:\n"
     ]
    },
    {
     "name": "stderr",
     "output_type": "stream",
     "text": [
      "  File \"/home/adelgior/code/fcn-instances-pytorch/instanceseg/ext/panopticapi/utils.py\", line 16, in wrapper\n",
      "    return f(*args, **kwargs)\n",
      "  File \"/usr0/home/adelgior/code/experimental-instanceseg/instanceseg/ext/panopticapi/evaluation.py\", line 98, in pq_compute_single_core\n",
      "    with Image.open(os.path.join(pred_folder, pred_ann['file_name'])) as img:\n",
      "Traceback (most recent call last):\n"
     ]
    },
    {
     "name": "stdout",
     "output_type": "stream",
     "text": [
      "Core: 387, 0 from 1 images processed\n"
     ]
    },
    {
     "name": "stderr",
     "output_type": "stream",
     "text": [
      "FileNotFoundError: [Errno 2] No such file or directory: '/home/adelgior/code/upsnet/output/upsnet/cityscapes/upsnet_resnet50_cityscapes_4gpu/val/results/pans_unified/pan_2ch/munster_000030_000019_leftImg8bit.png'\n",
      "  File \"/home/adelgior/code/fcn-instances-pytorch/instanceseg/ext/panopticapi/utils.py\", line 16, in wrapper\n",
      "    return f(*args, **kwargs)\n",
      "  File \"/usr0/home/adelgior/code/experimental-instanceseg/instanceseg/ext/panopticapi/evaluation.py\", line 98, in pq_compute_single_core\n",
      "    with Image.open(os.path.join(pred_folder, pred_ann['file_name'])) as img:\n",
      "  File \"/home/adelgior/code/fcn-instances-pytorch/instanceseg/ext/panopticapi/utils.py\", line 16, in wrapper\n",
      "    return f(*args, **kwargs)\n",
      "Traceback (most recent call last):\n",
      "FileNotFoundError: [Errno 2] No such file or directory: '/home/adelgior/code/upsnet/output/upsnet/cityscapes/upsnet_resnet50_cityscapes_4gpu/val/results/pans_unified/pan_2ch/munster_000039_000019_leftImg8bit.png'\n",
      "  File \"/home/adelgior/code/fcn-instances-pytorch/instanceseg/ext/panopticapi/utils.py\", line 16, in wrapper\n",
      "    return f(*args, **kwargs)\n"
     ]
    },
    {
     "name": "stdout",
     "output_type": "stream",
     "text": [
      "Core: 388, 0 from 1 images processed\n"
     ]
    },
    {
     "name": "stderr",
     "output_type": "stream",
     "text": [
      "  File \"/usr0/home/adelgior/code/experimental-instanceseg/instanceseg/ext/panopticapi/evaluation.py\", line 98, in pq_compute_single_core\n",
      "    with Image.open(os.path.join(pred_folder, pred_ann['file_name'])) as img:\n",
      "  File \"/usr0/home/adelgior/code/experimental-instanceseg/instanceseg/ext/panopticapi/evaluation.py\", line 98, in pq_compute_single_core\n",
      "    with Image.open(os.path.join(pred_folder, pred_ann['file_name'])) as img:\n",
      "  File \"/home/adelgior/virtualenvs/pytorch4_python3/lib/python3.7/site-packages/PIL/Image.py\", line 2652, in open\n",
      "    fp = builtins.open(filename, \"rb\")\n",
      "  File \"/usr0/home/adelgior/code/experimental-instanceseg/instanceseg/ext/panopticapi/evaluation.py\", line 98, in pq_compute_single_core\n",
      "    with Image.open(os.path.join(pred_folder, pred_ann['file_name'])) as img:\n",
      "  File \"/usr0/home/adelgior/code/experimental-instanceseg/instanceseg/ext/panopticapi/evaluation.py\", line 98, in pq_compute_single_core\n",
      "    with Image.open(os.path.join(pred_folder, pred_ann['file_name'])) as img:\n",
      "FileNotFoundError: [Errno 2] No such file or directory: '/home/adelgior/code/upsnet/output/upsnet/cityscapes/upsnet_resnet50_cityscapes_4gpu/val/results/pans_unified/pan_2ch/munster_000046_000019_leftImg8bit.png'\n",
      "  File \"/usr0/home/adelgior/code/experimental-instanceseg/instanceseg/ext/panopticapi/evaluation.py\", line 98, in pq_compute_single_core\n",
      "    with Image.open(os.path.join(pred_folder, pred_ann['file_name'])) as img:\n",
      "  File \"/home/adelgior/virtualenvs/pytorch4_python3/lib/python3.7/site-packages/PIL/Image.py\", line 2652, in open\n",
      "    fp = builtins.open(filename, \"rb\")\n",
      "  File \"/home/adelgior/code/fcn-instances-pytorch/instanceseg/ext/panopticapi/utils.py\", line 16, in wrapper\n",
      "    return f(*args, **kwargs)\n",
      "  File \"/usr0/home/adelgior/code/experimental-instanceseg/instanceseg/ext/panopticapi/evaluation.py\", line 98, in pq_compute_single_core\n",
      "    with Image.open(os.path.join(pred_folder, pred_ann['file_name'])) as img:\n"
     ]
    },
    {
     "name": "stdout",
     "output_type": "stream",
     "text": [
      "Caught exception in worker thread:\n"
     ]
    },
    {
     "name": "stderr",
     "output_type": "stream",
     "text": [
      "  File \"/home/adelgior/virtualenvs/pytorch4_python3/lib/python3.7/site-packages/PIL/Image.py\", line 2652, in open\n",
      "    fp = builtins.open(filename, \"rb\")\n"
     ]
    },
    {
     "name": "stdout",
     "output_type": "stream",
     "text": [
      "Core: 389, 0 from 1 images processed\n"
     ]
    },
    {
     "name": "stderr",
     "output_type": "stream",
     "text": [
      "  File \"/home/adelgior/virtualenvs/pytorch4_python3/lib/python3.7/site-packages/PIL/Image.py\", line 2652, in open\n",
      "    fp = builtins.open(filename, \"rb\")\n",
      "  File \"/usr0/home/adelgior/code/experimental-instanceseg/instanceseg/ext/panopticapi/evaluation.py\", line 98, in pq_compute_single_core\n",
      "    with Image.open(os.path.join(pred_folder, pred_ann['file_name'])) as img:\n",
      "  File \"/home/adelgior/virtualenvs/pytorch4_python3/lib/python3.7/site-packages/PIL/Image.py\", line 2652, in open\n",
      "    fp = builtins.open(filename, \"rb\")\n",
      "  File \"/home/adelgior/virtualenvs/pytorch4_python3/lib/python3.7/site-packages/PIL/Image.py\", line 2652, in open\n",
      "    fp = builtins.open(filename, \"rb\")\n",
      "  File \"/home/adelgior/code/fcn-instances-pytorch/instanceseg/ext/panopticapi/utils.py\", line 16, in wrapper\n",
      "    return f(*args, **kwargs)\n"
     ]
    },
    {
     "name": "stdout",
     "output_type": "stream",
     "text": [
      "Core: 390, 0 from 1 images processed\n"
     ]
    },
    {
     "name": "stderr",
     "output_type": "stream",
     "text": [
      "  File \"/home/adelgior/virtualenvs/pytorch4_python3/lib/python3.7/site-packages/PIL/Image.py\", line 2652, in open\n",
      "    fp = builtins.open(filename, \"rb\")\n",
      "  File \"/home/adelgior/virtualenvs/pytorch4_python3/lib/python3.7/site-packages/PIL/Image.py\", line 2652, in open\n",
      "    fp = builtins.open(filename, \"rb\")\n",
      "FileNotFoundError: [Errno 2] No such file or directory: '/home/adelgior/code/upsnet/output/upsnet/cityscapes/upsnet_resnet50_cityscapes_4gpu/val/results/pans_unified/pan_2ch/munster_000041_000019_leftImg8bit.png'\n",
      "  File \"/usr0/home/adelgior/code/experimental-instanceseg/instanceseg/ext/panopticapi/evaluation.py\", line 98, in pq_compute_single_core\n",
      "    with Image.open(os.path.join(pred_folder, pred_ann['file_name'])) as img:\n"
     ]
    },
    {
     "name": "stdout",
     "output_type": "stream",
     "text": [
      "Core: 391, 0 from 1 images processed\n"
     ]
    },
    {
     "name": "stderr",
     "output_type": "stream",
     "text": [
      "  File \"/home/adelgior/virtualenvs/pytorch4_python3/lib/python3.7/site-packages/PIL/Image.py\", line 2652, in open\n",
      "    fp = builtins.open(filename, \"rb\")\n",
      "  File \"/home/adelgior/virtualenvs/pytorch4_python3/lib/python3.7/site-packages/PIL/Image.py\", line 2652, in open\n",
      "    fp = builtins.open(filename, \"rb\")\n",
      "FileNotFoundError: [Errno 2] No such file or directory: '/home/adelgior/code/upsnet/output/upsnet/cityscapes/upsnet_resnet50_cityscapes_4gpu/val/results/pans_unified/pan_2ch/munster_000045_000019_leftImg8bit.png'\n",
      "FileNotFoundError: [Errno 2] No such file or directory: '/home/adelgior/code/upsnet/output/upsnet/cityscapes/upsnet_resnet50_cityscapes_4gpu/val/results/pans_unified/pan_2ch/munster_000035_000019_leftImg8bit.png'\n",
      "FileNotFoundError: [Errno 2] No such file or directory: '/home/adelgior/code/upsnet/output/upsnet/cityscapes/upsnet_resnet50_cityscapes_4gpu/val/results/pans_unified/pan_2ch/munster_000048_000019_leftImg8bit.png'\n",
      "FileNotFoundError: [Errno 2] No such file or directory: '/home/adelgior/code/upsnet/output/upsnet/cityscapes/upsnet_resnet50_cityscapes_4gpu/val/results/pans_unified/pan_2ch/munster_000047_000019_leftImg8bit.png'\n",
      "FileNotFoundError: [Errno 2] No such file or directory: '/home/adelgior/code/upsnet/output/upsnet/cityscapes/upsnet_resnet50_cityscapes_4gpu/val/results/pans_unified/pan_2ch/munster_000043_000019_leftImg8bit.png'\n"
     ]
    },
    {
     "name": "stdout",
     "output_type": "stream",
     "text": [
      "Caught exception in worker thread:\n"
     ]
    },
    {
     "name": "stderr",
     "output_type": "stream",
     "text": [
      "Traceback (most recent call last):\n",
      "  File \"/home/adelgior/virtualenvs/pytorch4_python3/lib/python3.7/site-packages/PIL/Image.py\", line 2652, in open\n",
      "    fp = builtins.open(filename, \"rb\")\n",
      "FileNotFoundError: [Errno 2] No such file or directory: '/home/adelgior/code/upsnet/output/upsnet/cityscapes/upsnet_resnet50_cityscapes_4gpu/val/results/pans_unified/pan_2ch/munster_000040_000019_leftImg8bit.png'\n",
      "  File \"/usr0/home/adelgior/code/experimental-instanceseg/instanceseg/ext/panopticapi/evaluation.py\", line 98, in pq_compute_single_core\n",
      "    with Image.open(os.path.join(pred_folder, pred_ann['file_name'])) as img:\n"
     ]
    },
    {
     "name": "stdout",
     "output_type": "stream",
     "text": [
      "Caught exception in worker thread:\n"
     ]
    },
    {
     "name": "stderr",
     "output_type": "stream",
     "text": [
      "FileNotFoundError: [Errno 2] No such file or directory: '/home/adelgior/code/upsnet/output/upsnet/cityscapes/upsnet_resnet50_cityscapes_4gpu/val/results/pans_unified/pan_2ch/munster_000042_000019_leftImg8bit.png'\n",
      "FileNotFoundError: [Errno 2] No such file or directory: '/home/adelgior/code/upsnet/output/upsnet/cityscapes/upsnet_resnet50_cityscapes_4gpu/val/results/pans_unified/pan_2ch/munster_000036_000019_leftImg8bit.png'\n",
      "Traceback (most recent call last):\n"
     ]
    },
    {
     "name": "stdout",
     "output_type": "stream",
     "text": [
      "Core: 394, 0 from 1 images processed\n"
     ]
    },
    {
     "name": "stderr",
     "output_type": "stream",
     "text": [
      "Traceback (most recent call last):\n"
     ]
    },
    {
     "name": "stdout",
     "output_type": "stream",
     "text": [
      "Core: 395, 0 from 1 images processed\n"
     ]
    },
    {
     "name": "stderr",
     "output_type": "stream",
     "text": [
      "FileNotFoundError: [Errno 2] No such file or directory: '/home/adelgior/code/upsnet/output/upsnet/cityscapes/upsnet_resnet50_cityscapes_4gpu/val/results/pans_unified/pan_2ch/munster_000038_000019_leftImg8bit.png'\n",
      "  File \"/home/adelgior/code/fcn-instances-pytorch/instanceseg/ext/panopticapi/utils.py\", line 16, in wrapper\n",
      "    return f(*args, **kwargs)\n",
      "  File \"/home/adelgior/code/fcn-instances-pytorch/instanceseg/ext/panopticapi/utils.py\", line 16, in wrapper\n",
      "    return f(*args, **kwargs)\n"
     ]
    },
    {
     "name": "stdout",
     "output_type": "stream",
     "text": [
      "Core: 396, 0 from 1 images processed\n"
     ]
    },
    {
     "name": "stderr",
     "output_type": "stream",
     "text": [
      "  File \"/usr0/home/adelgior/code/experimental-instanceseg/instanceseg/ext/panopticapi/evaluation.py\", line 98, in pq_compute_single_core\n",
      "    with Image.open(os.path.join(pred_folder, pred_ann['file_name'])) as img:\n"
     ]
    },
    {
     "name": "stdout",
     "output_type": "stream",
     "text": [
      "Caught exception in worker thread:\n",
      "Core: 393, 0 from 1 images processed\n",
      "Core: 399, 0 from 1 images processed\n"
     ]
    },
    {
     "name": "stderr",
     "output_type": "stream",
     "text": [
      "Traceback (most recent call last):\n"
     ]
    },
    {
     "name": "stdout",
     "output_type": "stream",
     "text": [
      "Caught exception in worker thread:\n",
      "Core: 398, 0 from 1 images processed\n",
      "Core: 397, 0 from 1 images processed\n",
      "Core: 392, 0 from 1 images processed\n"
     ]
    },
    {
     "name": "stderr",
     "output_type": "stream",
     "text": [
      "FileNotFoundError: [Errno 2] No such file or directory: '/home/adelgior/code/upsnet/output/upsnet/cityscapes/upsnet_resnet50_cityscapes_4gpu/val/results/pans_unified/pan_2ch/munster_000044_000019_leftImg8bit.png'\n",
      "  File \"/home/adelgior/virtualenvs/pytorch4_python3/lib/python3.7/site-packages/PIL/Image.py\", line 2652, in open\n",
      "    fp = builtins.open(filename, \"rb\")\n",
      "  File \"/home/adelgior/code/fcn-instances-pytorch/instanceseg/ext/panopticapi/utils.py\", line 16, in wrapper\n",
      "    return f(*args, **kwargs)\n"
     ]
    },
    {
     "name": "stdout",
     "output_type": "stream",
     "text": [
      "Core: 401, 0 from 1 images processed\n"
     ]
    },
    {
     "name": "stderr",
     "output_type": "stream",
     "text": [
      "  File \"/home/adelgior/code/fcn-instances-pytorch/instanceseg/ext/panopticapi/utils.py\", line 16, in wrapper\n",
      "    return f(*args, **kwargs)\n",
      "  File \"/usr0/home/adelgior/code/experimental-instanceseg/instanceseg/ext/panopticapi/evaluation.py\", line 98, in pq_compute_single_core\n",
      "    with Image.open(os.path.join(pred_folder, pred_ann['file_name'])) as img:\n",
      "  File \"/usr0/home/adelgior/code/experimental-instanceseg/instanceseg/ext/panopticapi/evaluation.py\", line 98, in pq_compute_single_core\n",
      "    with Image.open(os.path.join(pred_folder, pred_ann['file_name'])) as img:\n"
     ]
    },
    {
     "name": "stdout",
     "output_type": "stream",
     "text": [
      "Core: 404, 0 from 1 images processed\n",
      "Core: 402, 0 from 1 images processed\n",
      "Core: 403, 0 from 1 images processed\n"
     ]
    },
    {
     "name": "stderr",
     "output_type": "stream",
     "text": [
      "  File \"/home/adelgior/virtualenvs/pytorch4_python3/lib/python3.7/site-packages/PIL/Image.py\", line 2652, in open\n",
      "    fp = builtins.open(filename, \"rb\")\n",
      "  File \"/usr0/home/adelgior/code/experimental-instanceseg/instanceseg/ext/panopticapi/evaluation.py\", line 98, in pq_compute_single_core\n",
      "    with Image.open(os.path.join(pred_folder, pred_ann['file_name'])) as img:\n",
      "  File \"/home/adelgior/virtualenvs/pytorch4_python3/lib/python3.7/site-packages/PIL/Image.py\", line 2652, in open\n",
      "    fp = builtins.open(filename, \"rb\")\n",
      "FileNotFoundError: [Errno 2] No such file or directory: '/home/adelgior/code/upsnet/output/upsnet/cityscapes/upsnet_resnet50_cityscapes_4gpu/val/results/pans_unified/pan_2ch/munster_000050_000019_leftImg8bit.png'\n",
      "FileNotFoundError: [Errno 2] No such file or directory: '/home/adelgior/code/upsnet/output/upsnet/cityscapes/upsnet_resnet50_cityscapes_4gpu/val/results/pans_unified/pan_2ch/munster_000054_000019_leftImg8bit.png'\n",
      "Traceback (most recent call last):\n",
      "FileNotFoundError: [Errno 2] No such file or directory: '/home/adelgior/code/upsnet/output/upsnet/cityscapes/upsnet_resnet50_cityscapes_4gpu/val/results/pans_unified/pan_2ch/munster_000053_000019_leftImg8bit.png'\n",
      "  File \"/home/adelgior/virtualenvs/pytorch4_python3/lib/python3.7/site-packages/PIL/Image.py\", line 2652, in open\n",
      "    fp = builtins.open(filename, \"rb\")\n",
      "  File \"/home/adelgior/virtualenvs/pytorch4_python3/lib/python3.7/site-packages/PIL/Image.py\", line 2652, in open\n",
      "    fp = builtins.open(filename, \"rb\")\n"
     ]
    },
    {
     "name": "stdout",
     "output_type": "stream",
     "text": [
      "Core: 400, 0 from 1 images processed\n"
     ]
    },
    {
     "name": "stderr",
     "output_type": "stream",
     "text": [
      "FileNotFoundError: [Errno 2] No such file or directory: '/home/adelgior/code/upsnet/output/upsnet/cityscapes/upsnet_resnet50_cityscapes_4gpu/val/results/pans_unified/pan_2ch/munster_000049_000019_leftImg8bit.png'\n"
     ]
    },
    {
     "name": "stdout",
     "output_type": "stream",
     "text": [
      "Core: 405, 0 from 1 images processed\n",
      "Caught exception in worker thread:\n"
     ]
    },
    {
     "name": "stderr",
     "output_type": "stream",
     "text": [
      "Traceback (most recent call last):\n",
      "  File \"/home/adelgior/code/fcn-instances-pytorch/instanceseg/ext/panopticapi/utils.py\", line 16, in wrapper\n",
      "    return f(*args, **kwargs)\n",
      "  File \"/home/adelgior/code/fcn-instances-pytorch/instanceseg/ext/panopticapi/utils.py\", line 16, in wrapper\n",
      "    return f(*args, **kwargs)\n",
      "  File \"/home/adelgior/virtualenvs/pytorch4_python3/lib/python3.7/site-packages/PIL/Image.py\", line 2652, in open\n",
      "    fp = builtins.open(filename, \"rb\")\n",
      "FileNotFoundError: [Errno 2] No such file or directory: '/home/adelgior/code/upsnet/output/upsnet/cityscapes/upsnet_resnet50_cityscapes_4gpu/val/results/pans_unified/pan_2ch/munster_000051_000019_leftImg8bit.png'\n"
     ]
    },
    {
     "name": "stdout",
     "output_type": "stream",
     "text": [
      "Core: 409, 0 from 1 images processed\n",
      "Core: 407, 0 from 1 images processed\n"
     ]
    },
    {
     "name": "stderr",
     "output_type": "stream",
     "text": [
      "  File \"/usr0/home/adelgior/code/experimental-instanceseg/instanceseg/ext/panopticapi/evaluation.py\", line 98, in pq_compute_single_core\n",
      "    with Image.open(os.path.join(pred_folder, pred_ann['file_name'])) as img:\n",
      "FileNotFoundError: [Errno 2] No such file or directory: '/home/adelgior/code/upsnet/output/upsnet/cityscapes/upsnet_resnet50_cityscapes_4gpu/val/results/pans_unified/pan_2ch/munster_000052_000019_leftImg8bit.png'\n"
     ]
    },
    {
     "name": "stdout",
     "output_type": "stream",
     "text": [
      "Core: 408, 0 from 1 images processed\n"
     ]
    },
    {
     "name": "stderr",
     "output_type": "stream",
     "text": [
      "  File \"/usr0/home/adelgior/code/experimental-instanceseg/instanceseg/ext/panopticapi/evaluation.py\", line 98, in pq_compute_single_core\n",
      "    with Image.open(os.path.join(pred_folder, pred_ann['file_name'])) as img:\n",
      "  File \"/home/adelgior/virtualenvs/pytorch4_python3/lib/python3.7/site-packages/PIL/Image.py\", line 2652, in open\n",
      "    fp = builtins.open(filename, \"rb\")\n",
      "  File \"/home/adelgior/virtualenvs/pytorch4_python3/lib/python3.7/site-packages/PIL/Image.py\", line 2652, in open\n",
      "    fp = builtins.open(filename, \"rb\")\n"
     ]
    },
    {
     "name": "stdout",
     "output_type": "stream",
     "text": [
      "Caught exception in worker thread:\n",
      "Core: 410, 0 from 1 images processed\n",
      "Caught exception in worker thread:\n"
     ]
    },
    {
     "name": "stderr",
     "output_type": "stream",
     "text": [
      "FileNotFoundError: [Errno 2] No such file or directory: '/home/adelgior/code/upsnet/output/upsnet/cityscapes/upsnet_resnet50_cityscapes_4gpu/val/results/pans_unified/pan_2ch/munster_000055_000019_leftImg8bit.png'\n",
      "Traceback (most recent call last):\n"
     ]
    },
    {
     "name": "stdout",
     "output_type": "stream",
     "text": [
      "Core: 406, 0 from 1 images processed\n"
     ]
    },
    {
     "name": "stderr",
     "output_type": "stream",
     "text": [
      "  File \"/home/adelgior/code/fcn-instances-pytorch/instanceseg/ext/panopticapi/utils.py\", line 16, in wrapper\n",
      "    return f(*args, **kwargs)\n",
      "FileNotFoundError: [Errno 2] No such file or directory: '/home/adelgior/code/upsnet/output/upsnet/cityscapes/upsnet_resnet50_cityscapes_4gpu/val/results/pans_unified/pan_2ch/munster_000056_000019_leftImg8bit.png'\n",
      "Traceback (most recent call last):\n"
     ]
    },
    {
     "name": "stdout",
     "output_type": "stream",
     "text": [
      "Core: 411, 0 from 1 images processed\n"
     ]
    },
    {
     "name": "stderr",
     "output_type": "stream",
     "text": [
      "  File \"/usr0/home/adelgior/code/experimental-instanceseg/instanceseg/ext/panopticapi/evaluation.py\", line 98, in pq_compute_single_core\n",
      "    with Image.open(os.path.join(pred_folder, pred_ann['file_name'])) as img:\n"
     ]
    },
    {
     "name": "stdout",
     "output_type": "stream",
     "text": [
      "Core: 412, 0 from 1 images processed\n"
     ]
    },
    {
     "name": "stderr",
     "output_type": "stream",
     "text": [
      "  File \"/home/adelgior/code/fcn-instances-pytorch/instanceseg/ext/panopticapi/utils.py\", line 16, in wrapper\n",
      "    return f(*args, **kwargs)\n"
     ]
    },
    {
     "name": "stdout",
     "output_type": "stream",
     "text": [
      "Caught exception in worker thread:\n"
     ]
    },
    {
     "name": "stderr",
     "output_type": "stream",
     "text": [
      "  File \"/usr0/home/adelgior/code/experimental-instanceseg/instanceseg/ext/panopticapi/evaluation.py\", line 98, in pq_compute_single_core\n",
      "    with Image.open(os.path.join(pred_folder, pred_ann['file_name'])) as img:\n",
      "Traceback (most recent call last):\n",
      "  File \"/home/adelgior/virtualenvs/pytorch4_python3/lib/python3.7/site-packages/PIL/Image.py\", line 2652, in open\n",
      "    fp = builtins.open(filename, \"rb\")\n"
     ]
    },
    {
     "name": "stdout",
     "output_type": "stream",
     "text": [
      "Core: 413, 0 from 1 images processed\n"
     ]
    },
    {
     "name": "stderr",
     "output_type": "stream",
     "text": [
      "  File \"/home/adelgior/code/fcn-instances-pytorch/instanceseg/ext/panopticapi/utils.py\", line 16, in wrapper\n",
      "    return f(*args, **kwargs)\n",
      "  File \"/usr0/home/adelgior/code/experimental-instanceseg/instanceseg/ext/panopticapi/evaluation.py\", line 98, in pq_compute_single_core\n",
      "    with Image.open(os.path.join(pred_folder, pred_ann['file_name'])) as img:\n",
      "FileNotFoundError: [Errno 2] No such file or directory: '/home/adelgior/code/upsnet/output/upsnet/cityscapes/upsnet_resnet50_cityscapes_4gpu/val/results/pans_unified/pan_2ch/munster_000058_000019_leftImg8bit.png'\n",
      "  File \"/home/adelgior/virtualenvs/pytorch4_python3/lib/python3.7/site-packages/PIL/Image.py\", line 2652, in open\n",
      "    fp = builtins.open(filename, \"rb\")\n",
      "  File \"/home/adelgior/virtualenvs/pytorch4_python3/lib/python3.7/site-packages/PIL/Image.py\", line 2652, in open\n",
      "    fp = builtins.open(filename, \"rb\")\n"
     ]
    },
    {
     "name": "stdout",
     "output_type": "stream",
     "text": [
      "Core: 414, 0 from 1 images processed\n"
     ]
    },
    {
     "name": "stderr",
     "output_type": "stream",
     "text": [
      "FileNotFoundError: [Errno 2] No such file or directory: '/home/adelgior/code/upsnet/output/upsnet/cityscapes/upsnet_resnet50_cityscapes_4gpu/val/results/pans_unified/pan_2ch/munster_000057_000019_leftImg8bit.png'\n",
      "FileNotFoundError: [Errno 2] No such file or directory: '/home/adelgior/code/upsnet/output/upsnet/cityscapes/upsnet_resnet50_cityscapes_4gpu/val/results/pans_unified/pan_2ch/munster_000059_000019_leftImg8bit.png'\n"
     ]
    },
    {
     "name": "stdout",
     "output_type": "stream",
     "text": [
      "Core: 415, 0 from 1 images processed\n",
      "Core: 416, 0 from 1 images processed\n",
      "Caught exception in worker thread:\n",
      "Caught exception in worker thread:\n",
      "Caught exception in worker thread:\n",
      "Caught exception in worker thread:\n"
     ]
    },
    {
     "name": "stderr",
     "output_type": "stream",
     "text": [
      "Traceback (most recent call last):\n",
      "Traceback (most recent call last):\n",
      "  File \"/home/adelgior/code/fcn-instances-pytorch/instanceseg/ext/panopticapi/utils.py\", line 16, in wrapper\n",
      "    return f(*args, **kwargs)\n",
      "Traceback (most recent call last):\n"
     ]
    },
    {
     "name": "stdout",
     "output_type": "stream",
     "text": [
      "Caught exception in worker thread:\n"
     ]
    },
    {
     "name": "stderr",
     "output_type": "stream",
     "text": [
      "  File \"/home/adelgior/code/fcn-instances-pytorch/instanceseg/ext/panopticapi/utils.py\", line 16, in wrapper\n",
      "    return f(*args, **kwargs)\n",
      "Traceback (most recent call last):\n",
      "  File \"/usr0/home/adelgior/code/experimental-instanceseg/instanceseg/ext/panopticapi/evaluation.py\", line 98, in pq_compute_single_core\n",
      "    with Image.open(os.path.join(pred_folder, pred_ann['file_name'])) as img:\n",
      "Traceback (most recent call last):\n"
     ]
    },
    {
     "name": "stdout",
     "output_type": "stream",
     "text": [
      "Caught exception in worker thread:\n"
     ]
    },
    {
     "name": "stderr",
     "output_type": "stream",
     "text": [
      "  File \"/home/adelgior/virtualenvs/pytorch4_python3/lib/python3.7/site-packages/PIL/Image.py\", line 2652, in open\n",
      "    fp = builtins.open(filename, \"rb\")\n",
      "  File \"/home/adelgior/code/fcn-instances-pytorch/instanceseg/ext/panopticapi/utils.py\", line 16, in wrapper\n",
      "    return f(*args, **kwargs)\n"
     ]
    },
    {
     "name": "stdout",
     "output_type": "stream",
     "text": [
      "Caught exception in worker thread:\n"
     ]
    },
    {
     "name": "stderr",
     "output_type": "stream",
     "text": [
      "  File \"/home/adelgior/code/fcn-instances-pytorch/instanceseg/ext/panopticapi/utils.py\", line 16, in wrapper\n",
      "    return f(*args, **kwargs)\n"
     ]
    },
    {
     "name": "stdout",
     "output_type": "stream",
     "text": [
      "Caught exception in worker thread:\n"
     ]
    },
    {
     "name": "stderr",
     "output_type": "stream",
     "text": [
      "  File \"/home/adelgior/code/fcn-instances-pytorch/instanceseg/ext/panopticapi/utils.py\", line 16, in wrapper\n",
      "    return f(*args, **kwargs)\n",
      "Traceback (most recent call last):\n",
      "  File \"/usr0/home/adelgior/code/experimental-instanceseg/instanceseg/ext/panopticapi/evaluation.py\", line 98, in pq_compute_single_core\n",
      "    with Image.open(os.path.join(pred_folder, pred_ann['file_name'])) as img:\n",
      "  File \"/home/adelgior/code/fcn-instances-pytorch/instanceseg/ext/panopticapi/utils.py\", line 16, in wrapper\n",
      "    return f(*args, **kwargs)\n",
      "  File \"/usr0/home/adelgior/code/experimental-instanceseg/instanceseg/ext/panopticapi/evaluation.py\", line 98, in pq_compute_single_core\n",
      "    with Image.open(os.path.join(pred_folder, pred_ann['file_name'])) as img:\n",
      "  File \"/usr0/home/adelgior/code/experimental-instanceseg/instanceseg/ext/panopticapi/evaluation.py\", line 98, in pq_compute_single_core\n",
      "    with Image.open(os.path.join(pred_folder, pred_ann['file_name'])) as img:\n",
      "FileNotFoundError: [Errno 2] No such file or directory: '/home/adelgior/code/upsnet/output/upsnet/cityscapes/upsnet_resnet50_cityscapes_4gpu/val/results/pans_unified/pan_2ch/munster_000061_000019_leftImg8bit.png'\n"
     ]
    },
    {
     "name": "stdout",
     "output_type": "stream",
     "text": [
      "Caught exception in worker thread:\n"
     ]
    },
    {
     "name": "stderr",
     "output_type": "stream",
     "text": [
      "Traceback (most recent call last):\n"
     ]
    },
    {
     "name": "stdout",
     "output_type": "stream",
     "text": [
      "Caught exception in worker thread:\n"
     ]
    },
    {
     "name": "stderr",
     "output_type": "stream",
     "text": [
      "  File \"/home/adelgior/virtualenvs/pytorch4_python3/lib/python3.7/site-packages/PIL/Image.py\", line 2652, in open\n",
      "    fp = builtins.open(filename, \"rb\")\n",
      "Traceback (most recent call last):\n",
      "  File \"/home/adelgior/code/fcn-instances-pytorch/instanceseg/ext/panopticapi/utils.py\", line 16, in wrapper\n",
      "    return f(*args, **kwargs)\n",
      "Traceback (most recent call last):\n",
      "  File \"/usr0/home/adelgior/code/experimental-instanceseg/instanceseg/ext/panopticapi/evaluation.py\", line 98, in pq_compute_single_core\n",
      "    with Image.open(os.path.join(pred_folder, pred_ann['file_name'])) as img:\n",
      "Traceback (most recent call last):\n"
     ]
    },
    {
     "name": "stdout",
     "output_type": "stream",
     "text": [
      "Caught exception in worker thread:\n"
     ]
    },
    {
     "name": "stderr",
     "output_type": "stream",
     "text": [
      "FileNotFoundError: [Errno 2] No such file or directory: '/home/adelgior/code/upsnet/output/upsnet/cityscapes/upsnet_resnet50_cityscapes_4gpu/val/results/pans_unified/pan_2ch/munster_000073_000019_leftImg8bit.png'\n"
     ]
    },
    {
     "name": "stdout",
     "output_type": "stream",
     "text": [
      "Caught exception in worker thread:\n"
     ]
    },
    {
     "name": "stderr",
     "output_type": "stream",
     "text": [
      "  File \"/home/adelgior/code/fcn-instances-pytorch/instanceseg/ext/panopticapi/utils.py\", line 16, in wrapper\n",
      "    return f(*args, **kwargs)\n",
      "  File \"/home/adelgior/code/fcn-instances-pytorch/instanceseg/ext/panopticapi/utils.py\", line 16, in wrapper\n",
      "    return f(*args, **kwargs)\n",
      "Traceback (most recent call last):\n",
      "  File \"/home/adelgior/virtualenvs/pytorch4_python3/lib/python3.7/site-packages/PIL/Image.py\", line 2652, in open\n",
      "    fp = builtins.open(filename, \"rb\")\n"
     ]
    },
    {
     "name": "stdout",
     "output_type": "stream",
     "text": [
      "Caught exception in worker thread:\n"
     ]
    },
    {
     "name": "stderr",
     "output_type": "stream",
     "text": [
      "  File \"/home/adelgior/virtualenvs/pytorch4_python3/lib/python3.7/site-packages/PIL/Image.py\", line 2652, in open\n",
      "    fp = builtins.open(filename, \"rb\")\n",
      "  File \"/usr0/home/adelgior/code/experimental-instanceseg/instanceseg/ext/panopticapi/evaluation.py\", line 98, in pq_compute_single_core\n",
      "    with Image.open(os.path.join(pred_folder, pred_ann['file_name'])) as img:\n"
     ]
    },
    {
     "name": "stdout",
     "output_type": "stream",
     "text": [
      "Caught exception in worker thread:\n",
      "Core: 417, 0 from 1 images processed\n"
     ]
    },
    {
     "name": "stderr",
     "output_type": "stream",
     "text": [
      "  File \"/home/adelgior/code/fcn-instances-pytorch/instanceseg/ext/panopticapi/utils.py\", line 16, in wrapper\n",
      "    return f(*args, **kwargs)\n",
      "  File \"/usr0/home/adelgior/code/experimental-instanceseg/instanceseg/ext/panopticapi/evaluation.py\", line 98, in pq_compute_single_core\n",
      "    with Image.open(os.path.join(pred_folder, pred_ann['file_name'])) as img:\n",
      "  File \"/home/adelgior/virtualenvs/pytorch4_python3/lib/python3.7/site-packages/PIL/Image.py\", line 2652, in open\n",
      "    fp = builtins.open(filename, \"rb\")\n",
      "  File \"/usr0/home/adelgior/code/experimental-instanceseg/instanceseg/ext/panopticapi/evaluation.py\", line 98, in pq_compute_single_core\n",
      "    with Image.open(os.path.join(pred_folder, pred_ann['file_name'])) as img:\n",
      "Traceback (most recent call last):\n",
      "Traceback (most recent call last):\n",
      "  File \"/usr0/home/adelgior/code/experimental-instanceseg/instanceseg/ext/panopticapi/evaluation.py\", line 98, in pq_compute_single_core\n",
      "    with Image.open(os.path.join(pred_folder, pred_ann['file_name'])) as img:\n",
      "  File \"/home/adelgior/code/fcn-instances-pytorch/instanceseg/ext/panopticapi/utils.py\", line 16, in wrapper\n",
      "    return f(*args, **kwargs)\n"
     ]
    },
    {
     "name": "stdout",
     "output_type": "stream",
     "text": [
      "Caught exception in worker thread:\n"
     ]
    },
    {
     "name": "stderr",
     "output_type": "stream",
     "text": [
      "FileNotFoundError: [Errno 2] No such file or directory: '/home/adelgior/code/upsnet/output/upsnet/cityscapes/upsnet_resnet50_cityscapes_4gpu/val/results/pans_unified/pan_2ch/munster_000067_000019_leftImg8bit.png'\n",
      "Traceback (most recent call last):\n",
      "FileNotFoundError: [Errno 2] No such file or directory: '/home/adelgior/code/upsnet/output/upsnet/cityscapes/upsnet_resnet50_cityscapes_4gpu/val/results/pans_unified/pan_2ch/munster_000065_000019_leftImg8bit.png'\n",
      "  File \"/home/adelgior/virtualenvs/pytorch4_python3/lib/python3.7/site-packages/PIL/Image.py\", line 2652, in open\n",
      "    fp = builtins.open(filename, \"rb\")\n",
      "  File \"/home/adelgior/code/fcn-instances-pytorch/instanceseg/ext/panopticapi/utils.py\", line 16, in wrapper\n",
      "    return f(*args, **kwargs)\n",
      "FileNotFoundError: [Errno 2] No such file or directory: '/home/adelgior/code/upsnet/output/upsnet/cityscapes/upsnet_resnet50_cityscapes_4gpu/val/results/pans_unified/pan_2ch/munster_000064_000019_leftImg8bit.png'\n",
      "  File \"/home/adelgior/virtualenvs/pytorch4_python3/lib/python3.7/site-packages/PIL/Image.py\", line 2652, in open\n",
      "    fp = builtins.open(filename, \"rb\")\n"
     ]
    },
    {
     "name": "stdout",
     "output_type": "stream",
     "text": [
      "Caught exception in worker thread:\n",
      "Caught exception in worker thread:\n"
     ]
    },
    {
     "name": "stderr",
     "output_type": "stream",
     "text": [
      "  File \"/usr0/home/adelgior/code/experimental-instanceseg/instanceseg/ext/panopticapi/evaluation.py\", line 98, in pq_compute_single_core\n",
      "    with Image.open(os.path.join(pred_folder, pred_ann['file_name'])) as img:\n",
      "  File \"/home/adelgior/virtualenvs/pytorch4_python3/lib/python3.7/site-packages/PIL/Image.py\", line 2652, in open\n",
      "    fp = builtins.open(filename, \"rb\")\n",
      "  File \"/home/adelgior/virtualenvs/pytorch4_python3/lib/python3.7/site-packages/PIL/Image.py\", line 2652, in open\n",
      "    fp = builtins.open(filename, \"rb\")\n",
      "FileNotFoundError: [Errno 2] No such file or directory: '/home/adelgior/code/upsnet/output/upsnet/cityscapes/upsnet_resnet50_cityscapes_4gpu/val/results/pans_unified/pan_2ch/munster_000070_000019_leftImg8bit.png'\n",
      "  File \"/home/adelgior/code/fcn-instances-pytorch/instanceseg/ext/panopticapi/utils.py\", line 16, in wrapper\n",
      "    return f(*args, **kwargs)\n",
      "FileNotFoundError: [Errno 2] No such file or directory: '/home/adelgior/code/upsnet/output/upsnet/cityscapes/upsnet_resnet50_cityscapes_4gpu/val/results/pans_unified/pan_2ch/munster_000062_000019_leftImg8bit.png'\n",
      "Traceback (most recent call last):\n",
      "  File \"/home/adelgior/code/fcn-instances-pytorch/instanceseg/ext/panopticapi/utils.py\", line 16, in wrapper\n",
      "    return f(*args, **kwargs)\n",
      "Traceback (most recent call last):\n"
     ]
    },
    {
     "name": "stdout",
     "output_type": "stream",
     "text": [
      "Core: 418, 0 from 1 images processed\n"
     ]
    },
    {
     "name": "stderr",
     "output_type": "stream",
     "text": [
      "FileNotFoundError: [Errno 2] No such file or directory: '/home/adelgior/code/upsnet/output/upsnet/cityscapes/upsnet_resnet50_cityscapes_4gpu/val/results/pans_unified/pan_2ch/munster_000075_000019_leftImg8bit.png'\n"
     ]
    },
    {
     "name": "stdout",
     "output_type": "stream",
     "text": [
      "Caught exception in worker thread:\n",
      "Caught exception in worker thread:\n"
     ]
    },
    {
     "name": "stderr",
     "output_type": "stream",
     "text": [
      "  File \"/home/adelgior/code/fcn-instances-pytorch/instanceseg/ext/panopticapi/utils.py\", line 16, in wrapper\n",
      "    return f(*args, **kwargs)\n",
      "  File \"/usr0/home/adelgior/code/experimental-instanceseg/instanceseg/ext/panopticapi/evaluation.py\", line 98, in pq_compute_single_core\n",
      "    with Image.open(os.path.join(pred_folder, pred_ann['file_name'])) as img:\n",
      "  File \"/usr0/home/adelgior/code/experimental-instanceseg/instanceseg/ext/panopticapi/evaluation.py\", line 98, in pq_compute_single_core\n",
      "    with Image.open(os.path.join(pred_folder, pred_ann['file_name'])) as img:\n",
      "  File \"/usr0/home/adelgior/code/experimental-instanceseg/instanceseg/ext/panopticapi/evaluation.py\", line 98, in pq_compute_single_core\n",
      "    with Image.open(os.path.join(pred_folder, pred_ann['file_name'])) as img:\n",
      "Traceback (most recent call last):\n"
     ]
    },
    {
     "name": "stdout",
     "output_type": "stream",
     "text": [
      "Caught exception in worker thread:\n"
     ]
    },
    {
     "name": "stderr",
     "output_type": "stream",
     "text": [
      "  File \"/usr0/home/adelgior/code/experimental-instanceseg/instanceseg/ext/panopticapi/evaluation.py\", line 98, in pq_compute_single_core\n",
      "    with Image.open(os.path.join(pred_folder, pred_ann['file_name'])) as img:\n",
      "FileNotFoundError: [Errno 2] No such file or directory: '/home/adelgior/code/upsnet/output/upsnet/cityscapes/upsnet_resnet50_cityscapes_4gpu/val/results/pans_unified/pan_2ch/munster_000060_000019_leftImg8bit.png'\n"
     ]
    },
    {
     "name": "stdout",
     "output_type": "stream",
     "text": [
      "Caught exception in worker thread:\n",
      "Core: 419, 0 from 1 images processed\n"
     ]
    },
    {
     "name": "stderr",
     "output_type": "stream",
     "text": [
      "  File \"/home/adelgior/virtualenvs/pytorch4_python3/lib/python3.7/site-packages/PIL/Image.py\", line 2652, in open\n",
      "    fp = builtins.open(filename, \"rb\")\n",
      "Traceback (most recent call last):\n"
     ]
    },
    {
     "name": "stdout",
     "output_type": "stream",
     "text": [
      "Core: 420, 0 from 1 images processed\n",
      "Caught exception in worker thread:\n",
      "Core: 422, 0 from 1 images processed\n"
     ]
    },
    {
     "name": "stderr",
     "output_type": "stream",
     "text": [
      "Traceback (most recent call last):\n",
      "Traceback (most recent call last):\n"
     ]
    },
    {
     "name": "stdout",
     "output_type": "stream",
     "text": [
      "Caught exception in worker thread:\n"
     ]
    },
    {
     "name": "stderr",
     "output_type": "stream",
     "text": [
      "  File \"/home/adelgior/virtualenvs/pytorch4_python3/lib/python3.7/site-packages/PIL/Image.py\", line 2652, in open\n",
      "    fp = builtins.open(filename, \"rb\")\n",
      "  File \"/usr0/home/adelgior/code/experimental-instanceseg/instanceseg/ext/panopticapi/evaluation.py\", line 98, in pq_compute_single_core\n",
      "    with Image.open(os.path.join(pred_folder, pred_ann['file_name'])) as img:\n"
     ]
    },
    {
     "name": "stdout",
     "output_type": "stream",
     "text": [
      "Core: 421, 0 from 1 images processed\n"
     ]
    },
    {
     "name": "stderr",
     "output_type": "stream",
     "text": [
      "  File \"/home/adelgior/virtualenvs/pytorch4_python3/lib/python3.7/site-packages/PIL/Image.py\", line 2652, in open\n",
      "    fp = builtins.open(filename, \"rb\")\n",
      "  File \"/home/adelgior/virtualenvs/pytorch4_python3/lib/python3.7/site-packages/PIL/Image.py\", line 2652, in open\n",
      "    fp = builtins.open(filename, \"rb\")\n",
      "  File \"/home/adelgior/code/fcn-instances-pytorch/instanceseg/ext/panopticapi/utils.py\", line 16, in wrapper\n",
      "    return f(*args, **kwargs)\n",
      "  File \"/home/adelgior/virtualenvs/pytorch4_python3/lib/python3.7/site-packages/PIL/Image.py\", line 2652, in open\n",
      "    fp = builtins.open(filename, \"rb\")\n",
      "Traceback (most recent call last):\n",
      "FileNotFoundError: [Errno 2] No such file or directory: '/home/adelgior/code/upsnet/output/upsnet/cityscapes/upsnet_resnet50_cityscapes_4gpu/val/results/pans_unified/pan_2ch/munster_000063_000019_leftImg8bit.png'\n",
      "  File \"/home/adelgior/code/fcn-instances-pytorch/instanceseg/ext/panopticapi/utils.py\", line 16, in wrapper\n",
      "    return f(*args, **kwargs)\n",
      "  File \"/home/adelgior/code/fcn-instances-pytorch/instanceseg/ext/panopticapi/utils.py\", line 16, in wrapper\n",
      "    return f(*args, **kwargs)\n",
      "  File \"/home/adelgior/code/fcn-instances-pytorch/instanceseg/ext/panopticapi/utils.py\", line 16, in wrapper\n",
      "    return f(*args, **kwargs)\n",
      "Traceback (most recent call last):\n"
     ]
    },
    {
     "name": "stdout",
     "output_type": "stream",
     "text": [
      "Core: 423, 0 from 1 images processed\n"
     ]
    },
    {
     "name": "stderr",
     "output_type": "stream",
     "text": [
      "FileNotFoundError: [Errno 2] No such file or directory: '/home/adelgior/code/upsnet/output/upsnet/cityscapes/upsnet_resnet50_cityscapes_4gpu/val/results/pans_unified/pan_2ch/munster_000076_000019_leftImg8bit.png'\n",
      "FileNotFoundError: [Errno 2] No such file or directory: '/home/adelgior/code/upsnet/output/upsnet/cityscapes/upsnet_resnet50_cityscapes_4gpu/val/results/pans_unified/pan_2ch/munster_000071_000019_leftImg8bit.png'\n",
      "  File \"/usr0/home/adelgior/code/experimental-instanceseg/instanceseg/ext/panopticapi/evaluation.py\", line 98, in pq_compute_single_core\n",
      "    with Image.open(os.path.join(pred_folder, pred_ann['file_name'])) as img:\n",
      "  File \"/usr0/home/adelgior/code/experimental-instanceseg/instanceseg/ext/panopticapi/evaluation.py\", line 98, in pq_compute_single_core\n",
      "    with Image.open(os.path.join(pred_folder, pred_ann['file_name'])) as img:\n",
      "  File \"/usr0/home/adelgior/code/experimental-instanceseg/instanceseg/ext/panopticapi/evaluation.py\", line 98, in pq_compute_single_core\n",
      "    with Image.open(os.path.join(pred_folder, pred_ann['file_name'])) as img:\n",
      "FileNotFoundError: [Errno 2] No such file or directory: '/home/adelgior/code/upsnet/output/upsnet/cityscapes/upsnet_resnet50_cityscapes_4gpu/val/results/pans_unified/pan_2ch/munster_000077_000019_leftImg8bit.png'\n",
      "  File \"/home/adelgior/virtualenvs/pytorch4_python3/lib/python3.7/site-packages/PIL/Image.py\", line 2652, in open\n",
      "    fp = builtins.open(filename, \"rb\")\n",
      "  File \"/home/adelgior/virtualenvs/pytorch4_python3/lib/python3.7/site-packages/PIL/Image.py\", line 2652, in open\n",
      "    fp = builtins.open(filename, \"rb\")\n",
      "FileNotFoundError: [Errno 2] No such file or directory: '/home/adelgior/code/upsnet/output/upsnet/cityscapes/upsnet_resnet50_cityscapes_4gpu/val/results/pans_unified/pan_2ch/munster_000072_000019_leftImg8bit.png'\n"
     ]
    },
    {
     "name": "stdout",
     "output_type": "stream",
     "text": [
      "Core: 425, 0 from 1 images processed\n"
     ]
    },
    {
     "name": "stderr",
     "output_type": "stream",
     "text": [
      "  File \"/home/adelgior/virtualenvs/pytorch4_python3/lib/python3.7/site-packages/PIL/Image.py\", line 2652, in open\n",
      "    fp = builtins.open(filename, \"rb\")\n",
      "  File \"/usr0/home/adelgior/code/experimental-instanceseg/instanceseg/ext/panopticapi/evaluation.py\", line 98, in pq_compute_single_core\n",
      "    with Image.open(os.path.join(pred_folder, pred_ann['file_name'])) as img:\n"
     ]
    },
    {
     "name": "stdout",
     "output_type": "stream",
     "text": [
      "Core: 424, 0 from 1 images processed\n"
     ]
    },
    {
     "name": "stderr",
     "output_type": "stream",
     "text": [
      "  File \"/home/adelgior/code/fcn-instances-pytorch/instanceseg/ext/panopticapi/utils.py\", line 16, in wrapper\n",
      "    return f(*args, **kwargs)\n",
      "FileNotFoundError: [Errno 2] No such file or directory: '/home/adelgior/code/upsnet/output/upsnet/cityscapes/upsnet_resnet50_cityscapes_4gpu/val/results/pans_unified/pan_2ch/munster_000069_000019_leftImg8bit.png'\n",
      "  File \"/home/adelgior/code/fcn-instances-pytorch/instanceseg/ext/panopticapi/utils.py\", line 16, in wrapper\n",
      "    return f(*args, **kwargs)\n"
     ]
    },
    {
     "name": "stdout",
     "output_type": "stream",
     "text": [
      "Caught exception in worker thread:\n"
     ]
    },
    {
     "name": "stderr",
     "output_type": "stream",
     "text": [
      "Traceback (most recent call last):\n",
      "  File \"/home/adelgior/code/fcn-instances-pytorch/instanceseg/ext/panopticapi/utils.py\", line 16, in wrapper\n",
      "    return f(*args, **kwargs)\n",
      "FileNotFoundError: [Errno 2] No such file or directory: '/home/adelgior/code/upsnet/output/upsnet/cityscapes/upsnet_resnet50_cityscapes_4gpu/val/results/pans_unified/pan_2ch/munster_000074_000019_leftImg8bit.png'\n"
     ]
    },
    {
     "name": "stdout",
     "output_type": "stream",
     "text": [
      "Caught exception in worker thread:\n"
     ]
    },
    {
     "name": "stderr",
     "output_type": "stream",
     "text": [
      "  File \"/usr0/home/adelgior/code/experimental-instanceseg/instanceseg/ext/panopticapi/evaluation.py\", line 98, in pq_compute_single_core\n",
      "    with Image.open(os.path.join(pred_folder, pred_ann['file_name'])) as img:\n",
      "  File \"/home/adelgior/virtualenvs/pytorch4_python3/lib/python3.7/site-packages/PIL/Image.py\", line 2652, in open\n",
      "    fp = builtins.open(filename, \"rb\")\n",
      "FileNotFoundError: [Errno 2] No such file or directory: '/home/adelgior/code/upsnet/output/upsnet/cityscapes/upsnet_resnet50_cityscapes_4gpu/val/results/pans_unified/pan_2ch/munster_000068_000019_leftImg8bit.png'\n",
      "Traceback (most recent call last):\n",
      "  File \"/home/adelgior/code/fcn-instances-pytorch/instanceseg/ext/panopticapi/utils.py\", line 16, in wrapper\n",
      "    return f(*args, **kwargs)\n",
      "  File \"/usr0/home/adelgior/code/experimental-instanceseg/instanceseg/ext/panopticapi/evaluation.py\", line 98, in pq_compute_single_core\n",
      "    with Image.open(os.path.join(pred_folder, pred_ann['file_name'])) as img:\n",
      "Traceback (most recent call last):\n",
      "  File \"/home/adelgior/virtualenvs/pytorch4_python3/lib/python3.7/site-packages/PIL/Image.py\", line 2652, in open\n",
      "    fp = builtins.open(filename, \"rb\")\n"
     ]
    },
    {
     "name": "stdout",
     "output_type": "stream",
     "text": [
      "Caught exception in worker thread:\n",
      "Core: 426, 0 from 1 images processed\n"
     ]
    },
    {
     "name": "stderr",
     "output_type": "stream",
     "text": [
      "  File \"/usr0/home/adelgior/code/experimental-instanceseg/instanceseg/ext/panopticapi/evaluation.py\", line 98, in pq_compute_single_core\n",
      "    with Image.open(os.path.join(pred_folder, pred_ann['file_name'])) as img:\n",
      "  File \"/home/adelgior/code/fcn-instances-pytorch/instanceseg/ext/panopticapi/utils.py\", line 16, in wrapper\n",
      "    return f(*args, **kwargs)\n",
      "FileNotFoundError: [Errno 2] No such file or directory: '/home/adelgior/code/upsnet/output/upsnet/cityscapes/upsnet_resnet50_cityscapes_4gpu/val/results/pans_unified/pan_2ch/munster_000083_000019_leftImg8bit.png'\n",
      "  File \"/home/adelgior/virtualenvs/pytorch4_python3/lib/python3.7/site-packages/PIL/Image.py\", line 2652, in open\n",
      "    fp = builtins.open(filename, \"rb\")\n"
     ]
    },
    {
     "name": "stdout",
     "output_type": "stream",
     "text": [
      "Core: 427, 0 from 1 images processed\n"
     ]
    },
    {
     "name": "stderr",
     "output_type": "stream",
     "text": [
      "  File \"/usr0/home/adelgior/code/experimental-instanceseg/instanceseg/ext/panopticapi/evaluation.py\", line 98, in pq_compute_single_core\n",
      "    with Image.open(os.path.join(pred_folder, pred_ann['file_name'])) as img:\n",
      "Traceback (most recent call last):\n",
      "  File \"/usr0/home/adelgior/code/experimental-instanceseg/instanceseg/ext/panopticapi/evaluation.py\", line 98, in pq_compute_single_core\n",
      "    with Image.open(os.path.join(pred_folder, pred_ann['file_name'])) as img:\n",
      "  File \"/home/adelgior/code/fcn-instances-pytorch/instanceseg/ext/panopticapi/utils.py\", line 16, in wrapper\n",
      "    return f(*args, **kwargs)\n",
      "  File \"/home/adelgior/virtualenvs/pytorch4_python3/lib/python3.7/site-packages/PIL/Image.py\", line 2652, in open\n",
      "    fp = builtins.open(filename, \"rb\")\n",
      "  File \"/home/adelgior/virtualenvs/pytorch4_python3/lib/python3.7/site-packages/PIL/Image.py\", line 2652, in open\n",
      "    fp = builtins.open(filename, \"rb\")\n",
      "FileNotFoundError: [Errno 2] No such file or directory: '/home/adelgior/code/upsnet/output/upsnet/cityscapes/upsnet_resnet50_cityscapes_4gpu/val/results/pans_unified/pan_2ch/munster_000082_000019_leftImg8bit.png'\n"
     ]
    },
    {
     "name": "stdout",
     "output_type": "stream",
     "text": [
      "Core: 429, 0 from 1 images processed\n"
     ]
    },
    {
     "name": "stderr",
     "output_type": "stream",
     "text": [
      "  File \"/home/adelgior/virtualenvs/pytorch4_python3/lib/python3.7/site-packages/PIL/Image.py\", line 2652, in open\n",
      "    fp = builtins.open(filename, \"rb\")\n",
      "FileNotFoundError: [Errno 2] No such file or directory: '/home/adelgior/code/upsnet/output/upsnet/cityscapes/upsnet_resnet50_cityscapes_4gpu/val/results/pans_unified/pan_2ch/munster_000066_000019_leftImg8bit.png'\n",
      "  File \"/usr0/home/adelgior/code/experimental-instanceseg/instanceseg/ext/panopticapi/evaluation.py\", line 98, in pq_compute_single_core\n",
      "    with Image.open(os.path.join(pred_folder, pred_ann['file_name'])) as img:\n",
      "FileNotFoundError: [Errno 2] No such file or directory: '/home/adelgior/code/upsnet/output/upsnet/cityscapes/upsnet_resnet50_cityscapes_4gpu/val/results/pans_unified/pan_2ch/munster_000079_000019_leftImg8bit.png'\n"
     ]
    },
    {
     "name": "stdout",
     "output_type": "stream",
     "text": [
      "Core: 430, 0 from 1 images processed\n"
     ]
    },
    {
     "name": "stderr",
     "output_type": "stream",
     "text": [
      "  File \"/home/adelgior/code/fcn-instances-pytorch/instanceseg/ext/panopticapi/utils.py\", line 16, in wrapper\n",
      "    return f(*args, **kwargs)\n"
     ]
    },
    {
     "name": "stdout",
     "output_type": "stream",
     "text": [
      "Core: 431, 0 from 1 images processed\n",
      "Core: 432, 0 from 1 images processed\n"
     ]
    },
    {
     "name": "stderr",
     "output_type": "stream",
     "text": [
      "FileNotFoundError: [Errno 2] No such file or directory: '/home/adelgior/code/upsnet/output/upsnet/cityscapes/upsnet_resnet50_cityscapes_4gpu/val/results/pans_unified/pan_2ch/munster_000081_000019_leftImg8bit.png'\n",
      "  File \"/home/adelgior/virtualenvs/pytorch4_python3/lib/python3.7/site-packages/PIL/Image.py\", line 2652, in open\n",
      "    fp = builtins.open(filename, \"rb\")\n"
     ]
    },
    {
     "name": "stdout",
     "output_type": "stream",
     "text": [
      "Core: 428, 0 from 1 images processed\n",
      "Core: 433, 0 from 1 images processed\n"
     ]
    },
    {
     "name": "stderr",
     "output_type": "stream",
     "text": [
      "  File \"/home/adelgior/virtualenvs/pytorch4_python3/lib/python3.7/site-packages/PIL/Image.py\", line 2652, in open\n",
      "    fp = builtins.open(filename, \"rb\")\n",
      "FileNotFoundError: [Errno 2] No such file or directory: '/home/adelgior/code/upsnet/output/upsnet/cityscapes/upsnet_resnet50_cityscapes_4gpu/val/results/pans_unified/pan_2ch/munster_000078_000019_leftImg8bit.png'\n"
     ]
    },
    {
     "name": "stdout",
     "output_type": "stream",
     "text": [
      "Caught exception in worker thread:\n",
      "Core: 434, 0 from 1 images processed\n"
     ]
    },
    {
     "name": "stderr",
     "output_type": "stream",
     "text": [
      "FileNotFoundError: [Errno 2] No such file or directory: '/home/adelgior/code/upsnet/output/upsnet/cityscapes/upsnet_resnet50_cityscapes_4gpu/val/results/pans_unified/pan_2ch/munster_000086_000019_leftImg8bit.png'\n",
      "Traceback (most recent call last):\n",
      "  File \"/usr0/home/adelgior/code/experimental-instanceseg/instanceseg/ext/panopticapi/evaluation.py\", line 98, in pq_compute_single_core\n",
      "    with Image.open(os.path.join(pred_folder, pred_ann['file_name'])) as img:\n"
     ]
    },
    {
     "name": "stdout",
     "output_type": "stream",
     "text": [
      "Core: 436, 0 from 1 images processed\n",
      "Core: 439, 0 from 1 images processed\n",
      "Core: 438, 0 from 1 images processed\n",
      "Caught exception in worker thread:\n",
      "Core: 435, 0 from 1 images processed\n"
     ]
    },
    {
     "name": "stderr",
     "output_type": "stream",
     "text": [
      "  File \"/home/adelgior/code/fcn-instances-pytorch/instanceseg/ext/panopticapi/utils.py\", line 16, in wrapper\n",
      "    return f(*args, **kwargs)\n"
     ]
    },
    {
     "name": "stdout",
     "output_type": "stream",
     "text": [
      "Core: 437, 0 from 1 images processed\n"
     ]
    },
    {
     "name": "stderr",
     "output_type": "stream",
     "text": [
      "FileNotFoundError: [Errno 2] No such file or directory: '/home/adelgior/code/upsnet/output/upsnet/cityscapes/upsnet_resnet50_cityscapes_4gpu/val/results/pans_unified/pan_2ch/munster_000084_000019_leftImg8bit.png'\n",
      "  File \"/usr0/home/adelgior/code/experimental-instanceseg/instanceseg/ext/panopticapi/evaluation.py\", line 98, in pq_compute_single_core\n",
      "    with Image.open(os.path.join(pred_folder, pred_ann['file_name'])) as img:\n",
      "Traceback (most recent call last):\n"
     ]
    },
    {
     "name": "stdout",
     "output_type": "stream",
     "text": [
      "Core: 440, 0 from 1 images processed\n"
     ]
    },
    {
     "name": "stderr",
     "output_type": "stream",
     "text": [
      "  File \"/home/adelgior/virtualenvs/pytorch4_python3/lib/python3.7/site-packages/PIL/Image.py\", line 2652, in open\n",
      "    fp = builtins.open(filename, \"rb\")\n",
      "FileNotFoundError: [Errno 2] No such file or directory: '/home/adelgior/code/upsnet/output/upsnet/cityscapes/upsnet_resnet50_cityscapes_4gpu/val/results/pans_unified/pan_2ch/munster_000087_000019_leftImg8bit.png'\n",
      "  File \"/home/adelgior/code/fcn-instances-pytorch/instanceseg/ext/panopticapi/utils.py\", line 16, in wrapper\n",
      "    return f(*args, **kwargs)\n",
      "  File \"/home/adelgior/virtualenvs/pytorch4_python3/lib/python3.7/site-packages/PIL/Image.py\", line 2652, in open\n",
      "    fp = builtins.open(filename, \"rb\")\n"
     ]
    },
    {
     "name": "stdout",
     "output_type": "stream",
     "text": [
      "Core: 441, 0 from 1 images processed\n",
      "Caught exception in worker thread:\n",
      "Core: 442, 0 from 1 images processed\n",
      "Caught exception in worker thread:\n"
     ]
    },
    {
     "name": "stderr",
     "output_type": "stream",
     "text": [
      "FileNotFoundError: [Errno 2] No such file or directory: '/home/adelgior/code/upsnet/output/upsnet/cityscapes/upsnet_resnet50_cityscapes_4gpu/val/results/pans_unified/pan_2ch/munster_000080_000019_leftImg8bit.png'\n",
      "Traceback (most recent call last):\n",
      "Traceback (most recent call last):\n",
      "  File \"/usr0/home/adelgior/code/experimental-instanceseg/instanceseg/ext/panopticapi/evaluation.py\", line 98, in pq_compute_single_core\n",
      "    with Image.open(os.path.join(pred_folder, pred_ann['file_name'])) as img:\n",
      "  File \"/home/adelgior/virtualenvs/pytorch4_python3/lib/python3.7/site-packages/PIL/Image.py\", line 2652, in open\n",
      "    fp = builtins.open(filename, \"rb\")\n"
     ]
    },
    {
     "name": "stdout",
     "output_type": "stream",
     "text": [
      "Core: 443, 0 from 1 images processed\n"
     ]
    },
    {
     "name": "stderr",
     "output_type": "stream",
     "text": [
      "  File \"/home/adelgior/code/fcn-instances-pytorch/instanceseg/ext/panopticapi/utils.py\", line 16, in wrapper\n",
      "    return f(*args, **kwargs)\n",
      "  File \"/home/adelgior/code/fcn-instances-pytorch/instanceseg/ext/panopticapi/utils.py\", line 16, in wrapper\n",
      "    return f(*args, **kwargs)\n",
      "  File \"/usr0/home/adelgior/code/experimental-instanceseg/instanceseg/ext/panopticapi/evaluation.py\", line 98, in pq_compute_single_core\n",
      "    with Image.open(os.path.join(pred_folder, pred_ann['file_name'])) as img:\n",
      "FileNotFoundError: [Errno 2] No such file or directory: '/home/adelgior/code/upsnet/output/upsnet/cityscapes/upsnet_resnet50_cityscapes_4gpu/val/results/pans_unified/pan_2ch/munster_000085_000019_leftImg8bit.png'\n",
      "  File \"/usr0/home/adelgior/code/experimental-instanceseg/instanceseg/ext/panopticapi/evaluation.py\", line 98, in pq_compute_single_core\n",
      "    with Image.open(os.path.join(pred_folder, pred_ann['file_name'])) as img:\n",
      "  File \"/home/adelgior/virtualenvs/pytorch4_python3/lib/python3.7/site-packages/PIL/Image.py\", line 2652, in open\n",
      "    fp = builtins.open(filename, \"rb\")\n",
      "  File \"/home/adelgior/virtualenvs/pytorch4_python3/lib/python3.7/site-packages/PIL/Image.py\", line 2652, in open\n",
      "    fp = builtins.open(filename, \"rb\")\n",
      "FileNotFoundError: [Errno 2] No such file or directory: '/home/adelgior/code/upsnet/output/upsnet/cityscapes/upsnet_resnet50_cityscapes_4gpu/val/results/pans_unified/pan_2ch/munster_000089_000019_leftImg8bit.png'\n",
      "FileNotFoundError: [Errno 2] No such file or directory: '/home/adelgior/code/upsnet/output/upsnet/cityscapes/upsnet_resnet50_cityscapes_4gpu/val/results/pans_unified/pan_2ch/munster_000088_000019_leftImg8bit.png'\n"
     ]
    },
    {
     "name": "stdout",
     "output_type": "stream",
     "text": [
      "Caught exception in worker thread:\n",
      "Core: 444, 0 from 1 images processed\n"
     ]
    },
    {
     "name": "stderr",
     "output_type": "stream",
     "text": [
      "Traceback (most recent call last):\n"
     ]
    },
    {
     "name": "stdout",
     "output_type": "stream",
     "text": [
      "Core: 445, 0 from 1 images processed\n",
      "Core: 446, 0 from 1 images processed\n"
     ]
    },
    {
     "name": "stderr",
     "output_type": "stream",
     "text": [
      "  File \"/home/adelgior/code/fcn-instances-pytorch/instanceseg/ext/panopticapi/utils.py\", line 16, in wrapper\n",
      "    return f(*args, **kwargs)\n",
      "  File \"/usr0/home/adelgior/code/experimental-instanceseg/instanceseg/ext/panopticapi/evaluation.py\", line 98, in pq_compute_single_core\n",
      "    with Image.open(os.path.join(pred_folder, pred_ann['file_name'])) as img:\n"
     ]
    },
    {
     "name": "stdout",
     "output_type": "stream",
     "text": [
      "Caught exception in worker thread:\n",
      "Caught exception in worker thread:\n",
      "Caught exception in worker thread:\n",
      "Caught exception in worker thread:\n"
     ]
    },
    {
     "name": "stderr",
     "output_type": "stream",
     "text": [
      "Traceback (most recent call last):\n",
      "  File \"/home/adelgior/code/fcn-instances-pytorch/instanceseg/ext/panopticapi/utils.py\", line 16, in wrapper\n",
      "    return f(*args, **kwargs)\n",
      "  File \"/home/adelgior/virtualenvs/pytorch4_python3/lib/python3.7/site-packages/PIL/Image.py\", line 2652, in open\n",
      "    fp = builtins.open(filename, \"rb\")\n",
      "Traceback (most recent call last):\n"
     ]
    },
    {
     "name": "stdout",
     "output_type": "stream",
     "text": [
      "Caught exception in worker thread:\n"
     ]
    },
    {
     "name": "stderr",
     "output_type": "stream",
     "text": [
      "  File \"/usr0/home/adelgior/code/experimental-instanceseg/instanceseg/ext/panopticapi/evaluation.py\", line 98, in pq_compute_single_core\n",
      "    with Image.open(os.path.join(pred_folder, pred_ann['file_name'])) as img:\n"
     ]
    },
    {
     "name": "stdout",
     "output_type": "stream",
     "text": [
      "Caught exception in worker thread:\n"
     ]
    },
    {
     "name": "stderr",
     "output_type": "stream",
     "text": [
      "Traceback (most recent call last):\n",
      "Traceback (most recent call last):\n"
     ]
    },
    {
     "name": "stdout",
     "output_type": "stream",
     "text": [
      "Caught exception in worker thread:\n",
      "Caught exception in worker thread:\n",
      "Caught exception in worker thread:\n"
     ]
    },
    {
     "name": "stderr",
     "output_type": "stream",
     "text": [
      "FileNotFoundError: [Errno 2] No such file or directory: '/home/adelgior/code/upsnet/output/upsnet/cityscapes/upsnet_resnet50_cityscapes_4gpu/val/results/pans_unified/pan_2ch/munster_000090_000019_leftImg8bit.png'\n"
     ]
    },
    {
     "name": "stdout",
     "output_type": "stream",
     "text": [
      "Caught exception in worker thread:\n"
     ]
    },
    {
     "name": "stderr",
     "output_type": "stream",
     "text": [
      "Traceback (most recent call last):\n",
      "  File \"/home/adelgior/code/fcn-instances-pytorch/instanceseg/ext/panopticapi/utils.py\", line 16, in wrapper\n",
      "    return f(*args, **kwargs)\n",
      "Traceback (most recent call last):\n",
      "  File \"/home/adelgior/code/fcn-instances-pytorch/instanceseg/ext/panopticapi/utils.py\", line 16, in wrapper\n",
      "    return f(*args, **kwargs)\n",
      "  File \"/home/adelgior/code/fcn-instances-pytorch/instanceseg/ext/panopticapi/utils.py\", line 16, in wrapper\n",
      "    return f(*args, **kwargs)\n",
      "Traceback (most recent call last):\n"
     ]
    },
    {
     "name": "stdout",
     "output_type": "stream",
     "text": [
      "Caught exception in worker thread:\n"
     ]
    },
    {
     "name": "stderr",
     "output_type": "stream",
     "text": [
      "Traceback (most recent call last):\n",
      "Traceback (most recent call last):\n"
     ]
    },
    {
     "name": "stdout",
     "output_type": "stream",
     "text": [
      "Caught exception in worker thread:\n"
     ]
    },
    {
     "name": "stderr",
     "output_type": "stream",
     "text": [
      "Traceback (most recent call last):\n",
      "  File \"/home/adelgior/code/fcn-instances-pytorch/instanceseg/ext/panopticapi/utils.py\", line 16, in wrapper\n",
      "    return f(*args, **kwargs)\n",
      "  File \"/usr0/home/adelgior/code/experimental-instanceseg/instanceseg/ext/panopticapi/evaluation.py\", line 98, in pq_compute_single_core\n",
      "    with Image.open(os.path.join(pred_folder, pred_ann['file_name'])) as img:\n",
      "  File \"/usr0/home/adelgior/code/experimental-instanceseg/instanceseg/ext/panopticapi/evaluation.py\", line 98, in pq_compute_single_core\n",
      "    with Image.open(os.path.join(pred_folder, pred_ann['file_name'])) as img:\n",
      "  File \"/home/adelgior/code/fcn-instances-pytorch/instanceseg/ext/panopticapi/utils.py\", line 16, in wrapper\n",
      "    return f(*args, **kwargs)\n",
      "  File \"/home/adelgior/code/fcn-instances-pytorch/instanceseg/ext/panopticapi/utils.py\", line 16, in wrapper\n",
      "    return f(*args, **kwargs)\n",
      "  File \"/usr0/home/adelgior/code/experimental-instanceseg/instanceseg/ext/panopticapi/evaluation.py\", line 98, in pq_compute_single_core\n",
      "    with Image.open(os.path.join(pred_folder, pred_ann['file_name'])) as img:\n",
      "  File \"/usr0/home/adelgior/code/experimental-instanceseg/instanceseg/ext/panopticapi/evaluation.py\", line 98, in pq_compute_single_core\n",
      "    with Image.open(os.path.join(pred_folder, pred_ann['file_name'])) as img:\n",
      "Traceback (most recent call last):\n",
      "  File \"/home/adelgior/virtualenvs/pytorch4_python3/lib/python3.7/site-packages/PIL/Image.py\", line 2652, in open\n",
      "    fp = builtins.open(filename, \"rb\")\n",
      "  File \"/home/adelgior/code/fcn-instances-pytorch/instanceseg/ext/panopticapi/utils.py\", line 16, in wrapper\n",
      "    return f(*args, **kwargs)\n",
      "  File \"/home/adelgior/virtualenvs/pytorch4_python3/lib/python3.7/site-packages/PIL/Image.py\", line 2652, in open\n",
      "    fp = builtins.open(filename, \"rb\")\n",
      "  File \"/home/adelgior/virtualenvs/pytorch4_python3/lib/python3.7/site-packages/PIL/Image.py\", line 2652, in open\n",
      "    fp = builtins.open(filename, \"rb\")\n",
      "  File \"/home/adelgior/code/fcn-instances-pytorch/instanceseg/ext/panopticapi/utils.py\", line 16, in wrapper\n",
      "    return f(*args, **kwargs)\n",
      "  File \"/home/adelgior/code/fcn-instances-pytorch/instanceseg/ext/panopticapi/utils.py\", line 16, in wrapper\n",
      "    return f(*args, **kwargs)\n",
      "  File \"/usr0/home/adelgior/code/experimental-instanceseg/instanceseg/ext/panopticapi/evaluation.py\", line 98, in pq_compute_single_core\n",
      "    with Image.open(os.path.join(pred_folder, pred_ann['file_name'])) as img:\n",
      "  File \"/usr0/home/adelgior/code/experimental-instanceseg/instanceseg/ext/panopticapi/evaluation.py\", line 98, in pq_compute_single_core\n",
      "    with Image.open(os.path.join(pred_folder, pred_ann['file_name'])) as img:\n"
     ]
    },
    {
     "name": "stdout",
     "output_type": "stream",
     "text": [
      "Caught exception in worker thread:\n",
      "Caught exception in worker thread:\n"
     ]
    },
    {
     "name": "stderr",
     "output_type": "stream",
     "text": [
      "  File \"/home/adelgior/code/fcn-instances-pytorch/instanceseg/ext/panopticapi/utils.py\", line 16, in wrapper\n",
      "    return f(*args, **kwargs)\n",
      "  File \"/usr0/home/adelgior/code/experimental-instanceseg/instanceseg/ext/panopticapi/evaluation.py\", line 98, in pq_compute_single_core\n",
      "    with Image.open(os.path.join(pred_folder, pred_ann['file_name'])) as img:\n",
      "FileNotFoundError: [Errno 2] No such file or directory: '/home/adelgior/code/upsnet/output/upsnet/cityscapes/upsnet_resnet50_cityscapes_4gpu/val/results/pans_unified/pan_2ch/munster_000097_000019_leftImg8bit.png'\n"
     ]
    },
    {
     "name": "stdout",
     "output_type": "stream",
     "text": [
      "Core: 447, 0 from 1 images processed\n"
     ]
    },
    {
     "name": "stderr",
     "output_type": "stream",
     "text": [
      "Traceback (most recent call last):\n",
      "  File \"/home/adelgior/virtualenvs/pytorch4_python3/lib/python3.7/site-packages/PIL/Image.py\", line 2652, in open\n",
      "    fp = builtins.open(filename, \"rb\")\n",
      "Traceback (most recent call last):\n",
      "  File \"/home/adelgior/virtualenvs/pytorch4_python3/lib/python3.7/site-packages/PIL/Image.py\", line 2652, in open\n",
      "    fp = builtins.open(filename, \"rb\")\n"
     ]
    },
    {
     "name": "stdout",
     "output_type": "stream",
     "text": [
      "Caught exception in worker thread:\n"
     ]
    },
    {
     "name": "stderr",
     "output_type": "stream",
     "text": [
      "FileNotFoundError: [Errno 2] No such file or directory: '/home/adelgior/code/upsnet/output/upsnet/cityscapes/upsnet_resnet50_cityscapes_4gpu/val/results/pans_unified/pan_2ch/munster_000096_000019_leftImg8bit.png'\n",
      "  File \"/usr0/home/adelgior/code/experimental-instanceseg/instanceseg/ext/panopticapi/evaluation.py\", line 98, in pq_compute_single_core\n",
      "    with Image.open(os.path.join(pred_folder, pred_ann['file_name'])) as img:\n",
      "  File \"/usr0/home/adelgior/code/experimental-instanceseg/instanceseg/ext/panopticapi/evaluation.py\", line 98, in pq_compute_single_core\n",
      "    with Image.open(os.path.join(pred_folder, pred_ann['file_name'])) as img:\n",
      "  File \"/home/adelgior/virtualenvs/pytorch4_python3/lib/python3.7/site-packages/PIL/Image.py\", line 2652, in open\n",
      "    fp = builtins.open(filename, \"rb\")\n",
      "  File \"/home/adelgior/virtualenvs/pytorch4_python3/lib/python3.7/site-packages/PIL/Image.py\", line 2652, in open\n",
      "    fp = builtins.open(filename, \"rb\")\n",
      "Traceback (most recent call last):\n",
      "  File \"/usr0/home/adelgior/code/experimental-instanceseg/instanceseg/ext/panopticapi/evaluation.py\", line 98, in pq_compute_single_core\n",
      "    with Image.open(os.path.join(pred_folder, pred_ann['file_name'])) as img:\n",
      "  File \"/home/adelgior/code/fcn-instances-pytorch/instanceseg/ext/panopticapi/utils.py\", line 16, in wrapper\n",
      "    return f(*args, **kwargs)\n",
      "  File \"/home/adelgior/virtualenvs/pytorch4_python3/lib/python3.7/site-packages/PIL/Image.py\", line 2652, in open\n",
      "    fp = builtins.open(filename, \"rb\")\n"
     ]
    },
    {
     "name": "stdout",
     "output_type": "stream",
     "text": [
      "Caught exception in worker thread:\n"
     ]
    },
    {
     "name": "stderr",
     "output_type": "stream",
     "text": [
      "Traceback (most recent call last):\n",
      "  File \"/usr0/home/adelgior/code/experimental-instanceseg/instanceseg/ext/panopticapi/evaluation.py\", line 98, in pq_compute_single_core\n",
      "    with Image.open(os.path.join(pred_folder, pred_ann['file_name'])) as img:\n",
      "FileNotFoundError: [Errno 2] No such file or directory: '/home/adelgior/code/upsnet/output/upsnet/cityscapes/upsnet_resnet50_cityscapes_4gpu/val/results/pans_unified/pan_2ch/munster_000095_000019_leftImg8bit.png'\n",
      "FileNotFoundError: [Errno 2] No such file or directory: '/home/adelgior/code/upsnet/output/upsnet/cityscapes/upsnet_resnet50_cityscapes_4gpu/val/results/pans_unified/pan_2ch/munster_000092_000019_leftImg8bit.png'\n",
      "  File \"/home/adelgior/code/fcn-instances-pytorch/instanceseg/ext/panopticapi/utils.py\", line 16, in wrapper\n",
      "    return f(*args, **kwargs)\n",
      "  File \"/usr0/home/adelgior/code/experimental-instanceseg/instanceseg/ext/panopticapi/evaluation.py\", line 98, in pq_compute_single_core\n",
      "    with Image.open(os.path.join(pred_folder, pred_ann['file_name'])) as img:\n",
      "  File \"/home/adelgior/virtualenvs/pytorch4_python3/lib/python3.7/site-packages/PIL/Image.py\", line 2652, in open\n",
      "    fp = builtins.open(filename, \"rb\")\n",
      "FileNotFoundError: [Errno 2] No such file or directory: '/home/adelgior/code/upsnet/output/upsnet/cityscapes/upsnet_resnet50_cityscapes_4gpu/val/results/pans_unified/pan_2ch/munster_000091_000019_leftImg8bit.png'\n",
      "  File \"/home/adelgior/virtualenvs/pytorch4_python3/lib/python3.7/site-packages/PIL/Image.py\", line 2652, in open\n",
      "    fp = builtins.open(filename, \"rb\")\n",
      "FileNotFoundError: [Errno 2] No such file or directory: '/home/adelgior/code/upsnet/output/upsnet/cityscapes/upsnet_resnet50_cityscapes_4gpu/val/results/pans_unified/pan_2ch/munster_000099_000019_leftImg8bit.png'\n",
      "  File \"/home/adelgior/code/fcn-instances-pytorch/instanceseg/ext/panopticapi/utils.py\", line 16, in wrapper\n",
      "    return f(*args, **kwargs)\n",
      "  File \"/home/adelgior/virtualenvs/pytorch4_python3/lib/python3.7/site-packages/PIL/Image.py\", line 2652, in open\n",
      "    fp = builtins.open(filename, \"rb\")\n",
      "Traceback (most recent call last):\n",
      "  File \"/home/adelgior/virtualenvs/pytorch4_python3/lib/python3.7/site-packages/PIL/Image.py\", line 2652, in open\n",
      "    fp = builtins.open(filename, \"rb\")\n",
      "FileNotFoundError: [Errno 2] No such file or directory: '/home/adelgior/code/upsnet/output/upsnet/cityscapes/upsnet_resnet50_cityscapes_4gpu/val/results/pans_unified/pan_2ch/munster_000094_000019_leftImg8bit.png'\n"
     ]
    },
    {
     "name": "stdout",
     "output_type": "stream",
     "text": [
      "Caught exception in worker thread:\n"
     ]
    },
    {
     "name": "stderr",
     "output_type": "stream",
     "text": [
      "FileNotFoundError: [Errno 2] No such file or directory: '/home/adelgior/code/upsnet/output/upsnet/cityscapes/upsnet_resnet50_cityscapes_4gpu/val/results/pans_unified/pan_2ch/munster_000101_000019_leftImg8bit.png'\n",
      "FileNotFoundError: [Errno 2] No such file or directory: '/home/adelgior/code/upsnet/output/upsnet/cityscapes/upsnet_resnet50_cityscapes_4gpu/val/results/pans_unified/pan_2ch/munster_000100_000019_leftImg8bit.png'\n",
      "  File \"/home/adelgior/code/fcn-instances-pytorch/instanceseg/ext/panopticapi/utils.py\", line 16, in wrapper\n",
      "    return f(*args, **kwargs)\n",
      "  File \"/home/adelgior/code/fcn-instances-pytorch/instanceseg/ext/panopticapi/utils.py\", line 16, in wrapper\n",
      "    return f(*args, **kwargs)\n"
     ]
    },
    {
     "name": "stdout",
     "output_type": "stream",
     "text": [
      "Caught exception in worker thread:\n"
     ]
    },
    {
     "name": "stderr",
     "output_type": "stream",
     "text": [
      "Traceback (most recent call last):\n",
      "FileNotFoundError: [Errno 2] No such file or directory: '/home/adelgior/code/upsnet/output/upsnet/cityscapes/upsnet_resnet50_cityscapes_4gpu/val/results/pans_unified/pan_2ch/munster_000106_000019_leftImg8bit.png'\n",
      "  File \"/usr0/home/adelgior/code/experimental-instanceseg/instanceseg/ext/panopticapi/evaluation.py\", line 98, in pq_compute_single_core\n",
      "    with Image.open(os.path.join(pred_folder, pred_ann['file_name'])) as img:\n",
      "  File \"/usr0/home/adelgior/code/experimental-instanceseg/instanceseg/ext/panopticapi/evaluation.py\", line 98, in pq_compute_single_core\n",
      "    with Image.open(os.path.join(pred_folder, pred_ann['file_name'])) as img:\n"
     ]
    },
    {
     "name": "stdout",
     "output_type": "stream",
     "text": [
      "Caught exception in worker thread:\n"
     ]
    },
    {
     "name": "stderr",
     "output_type": "stream",
     "text": [
      "Traceback (most recent call last):\n"
     ]
    },
    {
     "name": "stdout",
     "output_type": "stream",
     "text": [
      "Core: 448, 0 from 1 images processed\n"
     ]
    },
    {
     "name": "stderr",
     "output_type": "stream",
     "text": [
      "  File \"/home/adelgior/code/fcn-instances-pytorch/instanceseg/ext/panopticapi/utils.py\", line 16, in wrapper\n",
      "    return f(*args, **kwargs)\n",
      "  File \"/home/adelgior/virtualenvs/pytorch4_python3/lib/python3.7/site-packages/PIL/Image.py\", line 2652, in open\n",
      "    fp = builtins.open(filename, \"rb\")\n",
      "  File \"/usr0/home/adelgior/code/experimental-instanceseg/instanceseg/ext/panopticapi/evaluation.py\", line 98, in pq_compute_single_core\n",
      "    with Image.open(os.path.join(pred_folder, pred_ann['file_name'])) as img:\n"
     ]
    },
    {
     "name": "stdout",
     "output_type": "stream",
     "text": [
      "Caught exception in worker thread:\n"
     ]
    },
    {
     "name": "stderr",
     "output_type": "stream",
     "text": [
      "  File \"/usr0/home/adelgior/code/experimental-instanceseg/instanceseg/ext/panopticapi/evaluation.py\", line 98, in pq_compute_single_core\n",
      "    with Image.open(os.path.join(pred_folder, pred_ann['file_name'])) as img:\n",
      "FileNotFoundError: [Errno 2] No such file or directory: '/home/adelgior/code/upsnet/output/upsnet/cityscapes/upsnet_resnet50_cityscapes_4gpu/val/results/pans_unified/pan_2ch/munster_000110_000019_leftImg8bit.png'\n"
     ]
    },
    {
     "name": "stdout",
     "output_type": "stream",
     "text": [
      "Core: 450, 0 from 1 images processed\n",
      "Core: 464, 0 from 1 images processed\n",
      "Caught exception in worker thread:\n"
     ]
    },
    {
     "name": "stderr",
     "output_type": "stream",
     "text": [
      "FileNotFoundError: [Errno 2] No such file or directory: '/home/adelgior/code/upsnet/output/upsnet/cityscapes/upsnet_resnet50_cityscapes_4gpu/val/results/pans_unified/pan_2ch/munster_000098_000019_leftImg8bit.png'\n",
      "Traceback (most recent call last):\n",
      "  File \"/home/adelgior/virtualenvs/pytorch4_python3/lib/python3.7/site-packages/PIL/Image.py\", line 2652, in open\n",
      "    fp = builtins.open(filename, \"rb\")\n"
     ]
    },
    {
     "name": "stdout",
     "output_type": "stream",
     "text": [
      "Core: 451, 0 from 1 images processed\n"
     ]
    },
    {
     "name": "stderr",
     "output_type": "stream",
     "text": [
      "  File \"/home/adelgior/virtualenvs/pytorch4_python3/lib/python3.7/site-packages/PIL/Image.py\", line 2652, in open\n",
      "    fp = builtins.open(filename, \"rb\")\n",
      "  File \"/home/adelgior/virtualenvs/pytorch4_python3/lib/python3.7/site-packages/PIL/Image.py\", line 2652, in open\n",
      "    fp = builtins.open(filename, \"rb\")\n"
     ]
    },
    {
     "name": "stdout",
     "output_type": "stream",
     "text": [
      "Core: 449, 0 from 1 images processed\n"
     ]
    },
    {
     "name": "stderr",
     "output_type": "stream",
     "text": [
      "  File \"/home/adelgior/virtualenvs/pytorch4_python3/lib/python3.7/site-packages/PIL/Image.py\", line 2652, in open\n",
      "    fp = builtins.open(filename, \"rb\")\n",
      "FileNotFoundError: [Errno 2] No such file or directory: '/home/adelgior/code/upsnet/output/upsnet/cityscapes/upsnet_resnet50_cityscapes_4gpu/val/results/pans_unified/pan_2ch/munster_000093_000019_leftImg8bit.png'\n"
     ]
    },
    {
     "name": "stdout",
     "output_type": "stream",
     "text": [
      "Caught exception in worker thread:\n"
     ]
    },
    {
     "name": "stderr",
     "output_type": "stream",
     "text": [
      "  File \"/home/adelgior/code/fcn-instances-pytorch/instanceseg/ext/panopticapi/utils.py\", line 16, in wrapper\n",
      "    return f(*args, **kwargs)\n",
      "Traceback (most recent call last):\n"
     ]
    },
    {
     "name": "stdout",
     "output_type": "stream",
     "text": [
      "Core: 452, 0 from 1 images processed\n",
      "Caught exception in worker thread:\n"
     ]
    },
    {
     "name": "stderr",
     "output_type": "stream",
     "text": [
      "Traceback (most recent call last):\n"
     ]
    },
    {
     "name": "stdout",
     "output_type": "stream",
     "text": [
      "Core: 456, 0 from 1 images processed\n",
      "Core: 455, 0 from 1 images processed\n"
     ]
    },
    {
     "name": "stderr",
     "output_type": "stream",
     "text": [
      "  File \"/home/adelgior/code/fcn-instances-pytorch/instanceseg/ext/panopticapi/utils.py\", line 16, in wrapper\n",
      "    return f(*args, **kwargs)\n"
     ]
    },
    {
     "name": "stdout",
     "output_type": "stream",
     "text": [
      "Caught exception in worker thread:\n",
      "Caught exception in worker thread:\n"
     ]
    },
    {
     "name": "stderr",
     "output_type": "stream",
     "text": [
      "FileNotFoundError: [Errno 2] No such file or directory: '/home/adelgior/code/upsnet/output/upsnet/cityscapes/upsnet_resnet50_cityscapes_4gpu/val/results/pans_unified/pan_2ch/munster_000105_000019_leftImg8bit.png'\n"
     ]
    },
    {
     "name": "stdout",
     "output_type": "stream",
     "text": [
      "Core: 454, 0 from 1 images processed\n"
     ]
    },
    {
     "name": "stderr",
     "output_type": "stream",
     "text": [
      "  File \"/usr0/home/adelgior/code/experimental-instanceseg/instanceseg/ext/panopticapi/evaluation.py\", line 98, in pq_compute_single_core\n",
      "    with Image.open(os.path.join(pred_folder, pred_ann['file_name'])) as img:\n"
     ]
    },
    {
     "name": "stdout",
     "output_type": "stream",
     "text": [
      "Core: 457, 0 from 1 images processed\n"
     ]
    },
    {
     "name": "stderr",
     "output_type": "stream",
     "text": [
      "FileNotFoundError: [Errno 2] No such file or directory: '/home/adelgior/code/upsnet/output/upsnet/cityscapes/upsnet_resnet50_cityscapes_4gpu/val/results/pans_unified/pan_2ch/munster_000104_000019_leftImg8bit.png'\n",
      "  File \"/home/adelgior/code/fcn-instances-pytorch/instanceseg/ext/panopticapi/utils.py\", line 16, in wrapper\n",
      "    return f(*args, **kwargs)\n",
      "Traceback (most recent call last):\n"
     ]
    },
    {
     "name": "stdout",
     "output_type": "stream",
     "text": [
      "Core: 453, 0 from 1 images processed\n"
     ]
    },
    {
     "name": "stderr",
     "output_type": "stream",
     "text": [
      "  File \"/usr0/home/adelgior/code/experimental-instanceseg/instanceseg/ext/panopticapi/evaluation.py\", line 98, in pq_compute_single_core\n",
      "    with Image.open(os.path.join(pred_folder, pred_ann['file_name'])) as img:\n",
      "  File \"/home/adelgior/virtualenvs/pytorch4_python3/lib/python3.7/site-packages/PIL/Image.py\", line 2652, in open\n",
      "    fp = builtins.open(filename, \"rb\")\n",
      "  File \"/home/adelgior/virtualenvs/pytorch4_python3/lib/python3.7/site-packages/PIL/Image.py\", line 2652, in open\n",
      "    fp = builtins.open(filename, \"rb\")\n",
      "FileNotFoundError: [Errno 2] No such file or directory: '/home/adelgior/code/upsnet/output/upsnet/cityscapes/upsnet_resnet50_cityscapes_4gpu/val/results/pans_unified/pan_2ch/munster_000107_000019_leftImg8bit.png'\n",
      "Traceback (most recent call last):\n"
     ]
    },
    {
     "name": "stdout",
     "output_type": "stream",
     "text": [
      "Core: 458, 0 from 1 images processed\n"
     ]
    },
    {
     "name": "stderr",
     "output_type": "stream",
     "text": [
      "FileNotFoundError: [Errno 2] No such file or directory: '/home/adelgior/code/upsnet/output/upsnet/cityscapes/upsnet_resnet50_cityscapes_4gpu/val/results/pans_unified/pan_2ch/munster_000102_000019_leftImg8bit.png'\n",
      "FileNotFoundError: [Errno 2] No such file or directory: '/home/adelgior/code/upsnet/output/upsnet/cityscapes/upsnet_resnet50_cityscapes_4gpu/val/results/pans_unified/pan_2ch/munster_000103_000019_leftImg8bit.png'\n",
      "  File \"/home/adelgior/code/fcn-instances-pytorch/instanceseg/ext/panopticapi/utils.py\", line 16, in wrapper\n",
      "    return f(*args, **kwargs)\n",
      "FileNotFoundError: [Errno 2] No such file or directory: '/home/adelgior/code/upsnet/output/upsnet/cityscapes/upsnet_resnet50_cityscapes_4gpu/val/results/pans_unified/pan_2ch/munster_000108_000019_leftImg8bit.png'\n",
      "  File \"/usr0/home/adelgior/code/experimental-instanceseg/instanceseg/ext/panopticapi/evaluation.py\", line 98, in pq_compute_single_core\n",
      "    with Image.open(os.path.join(pred_folder, pred_ann['file_name'])) as img:\n"
     ]
    },
    {
     "name": "stdout",
     "output_type": "stream",
     "text": [
      "Core: 459, 0 from 1 images processed\n"
     ]
    },
    {
     "name": "stderr",
     "output_type": "stream",
     "text": [
      "  File \"/home/adelgior/code/fcn-instances-pytorch/instanceseg/ext/panopticapi/utils.py\", line 16, in wrapper\n",
      "    return f(*args, **kwargs)\n",
      "  File \"/home/adelgior/virtualenvs/pytorch4_python3/lib/python3.7/site-packages/PIL/Image.py\", line 2652, in open\n",
      "    fp = builtins.open(filename, \"rb\")\n",
      "Traceback (most recent call last):\n",
      "  File \"/usr0/home/adelgior/code/experimental-instanceseg/instanceseg/ext/panopticapi/evaluation.py\", line 98, in pq_compute_single_core\n",
      "    with Image.open(os.path.join(pred_folder, pred_ann['file_name'])) as img:\n",
      "Traceback (most recent call last):\n"
     ]
    },
    {
     "name": "stdout",
     "output_type": "stream",
     "text": [
      "Core: 462, 0 from 1 images processed\n"
     ]
    },
    {
     "name": "stderr",
     "output_type": "stream",
     "text": [
      "  File \"/home/adelgior/code/fcn-instances-pytorch/instanceseg/ext/panopticapi/utils.py\", line 16, in wrapper\n",
      "    return f(*args, **kwargs)\n",
      "  File \"/home/adelgior/virtualenvs/pytorch4_python3/lib/python3.7/site-packages/PIL/Image.py\", line 2652, in open\n",
      "    fp = builtins.open(filename, \"rb\")\n",
      "  File \"/home/adelgior/code/fcn-instances-pytorch/instanceseg/ext/panopticapi/utils.py\", line 16, in wrapper\n",
      "    return f(*args, **kwargs)\n"
     ]
    },
    {
     "name": "stdout",
     "output_type": "stream",
     "text": [
      "Core: 461, 0 from 1 images processed\n"
     ]
    },
    {
     "name": "stderr",
     "output_type": "stream",
     "text": [
      "  File \"/usr0/home/adelgior/code/experimental-instanceseg/instanceseg/ext/panopticapi/evaluation.py\", line 98, in pq_compute_single_core\n",
      "    with Image.open(os.path.join(pred_folder, pred_ann['file_name'])) as img:\n",
      "  File \"/home/adelgior/code/fcn-instances-pytorch/instanceseg/ext/panopticapi/utils.py\", line 16, in wrapper\n",
      "    return f(*args, **kwargs)\n",
      "  File \"/usr0/home/adelgior/code/experimental-instanceseg/instanceseg/ext/panopticapi/evaluation.py\", line 98, in pq_compute_single_core\n",
      "    with Image.open(os.path.join(pred_folder, pred_ann['file_name'])) as img:\n"
     ]
    },
    {
     "name": "stdout",
     "output_type": "stream",
     "text": [
      "Caught exception in worker thread:\n"
     ]
    },
    {
     "name": "stderr",
     "output_type": "stream",
     "text": [
      "  File \"/usr0/home/adelgior/code/experimental-instanceseg/instanceseg/ext/panopticapi/evaluation.py\", line 98, in pq_compute_single_core\n",
      "    with Image.open(os.path.join(pred_folder, pred_ann['file_name'])) as img:\n"
     ]
    },
    {
     "name": "stdout",
     "output_type": "stream",
     "text": [
      "Caught exception in worker thread:\n"
     ]
    },
    {
     "name": "stderr",
     "output_type": "stream",
     "text": [
      "  File \"/home/adelgior/virtualenvs/pytorch4_python3/lib/python3.7/site-packages/PIL/Image.py\", line 2652, in open\n",
      "    fp = builtins.open(filename, \"rb\")\n"
     ]
    },
    {
     "name": "stdout",
     "output_type": "stream",
     "text": [
      "Core: 463, 0 from 1 images processed\n"
     ]
    },
    {
     "name": "stderr",
     "output_type": "stream",
     "text": [
      "FileNotFoundError: [Errno 2] No such file or directory: '/home/adelgior/code/upsnet/output/upsnet/cityscapes/upsnet_resnet50_cityscapes_4gpu/val/results/pans_unified/pan_2ch/munster_000113_000019_leftImg8bit.png'\n",
      "FileNotFoundError: [Errno 2] No such file or directory: '/home/adelgior/code/upsnet/output/upsnet/cityscapes/upsnet_resnet50_cityscapes_4gpu/val/results/pans_unified/pan_2ch/munster_000114_000019_leftImg8bit.png'\n"
     ]
    },
    {
     "name": "stdout",
     "output_type": "stream",
     "text": [
      "Core: 466, 0 from 1 images processed\n"
     ]
    },
    {
     "name": "stderr",
     "output_type": "stream",
     "text": [
      "  File \"/home/adelgior/virtualenvs/pytorch4_python3/lib/python3.7/site-packages/PIL/Image.py\", line 2652, in open\n",
      "    fp = builtins.open(filename, \"rb\")\n",
      "  File \"/home/adelgior/virtualenvs/pytorch4_python3/lib/python3.7/site-packages/PIL/Image.py\", line 2652, in open\n",
      "    fp = builtins.open(filename, \"rb\")\n",
      "FileNotFoundError: [Errno 2] No such file or directory: '/home/adelgior/code/upsnet/output/upsnet/cityscapes/upsnet_resnet50_cityscapes_4gpu/val/results/pans_unified/pan_2ch/munster_000111_000019_leftImg8bit.png'\n",
      "Traceback (most recent call last):\n"
     ]
    },
    {
     "name": "stdout",
     "output_type": "stream",
     "text": [
      "Core: 465, 0 from 1 images processed\n"
     ]
    },
    {
     "name": "stderr",
     "output_type": "stream",
     "text": [
      "  File \"/home/adelgior/code/fcn-instances-pytorch/instanceseg/ext/panopticapi/utils.py\", line 16, in wrapper\n",
      "    return f(*args, **kwargs)\n",
      "FileNotFoundError: [Errno 2] No such file or directory: '/home/adelgior/code/upsnet/output/upsnet/cityscapes/upsnet_resnet50_cityscapes_4gpu/val/results/pans_unified/pan_2ch/munster_000109_000019_leftImg8bit.png'\n",
      "Traceback (most recent call last):\n",
      "FileNotFoundError: [Errno 2] No such file or directory: '/home/adelgior/code/upsnet/output/upsnet/cityscapes/upsnet_resnet50_cityscapes_4gpu/val/results/pans_unified/pan_2ch/munster_000112_000019_leftImg8bit.png'\n"
     ]
    },
    {
     "name": "stdout",
     "output_type": "stream",
     "text": [
      "Core: 460, 0 from 1 images processed\n",
      "Caught exception in worker thread:\n",
      "Core: 467, 0 from 1 images processed\n",
      "Core: 468, 0 from 1 images processed\n"
     ]
    },
    {
     "name": "stderr",
     "output_type": "stream",
     "text": [
      "  File \"/home/adelgior/code/fcn-instances-pytorch/instanceseg/ext/panopticapi/utils.py\", line 16, in wrapper\n",
      "    return f(*args, **kwargs)\n",
      "Traceback (most recent call last):\n",
      "  File \"/usr0/home/adelgior/code/experimental-instanceseg/instanceseg/ext/panopticapi/evaluation.py\", line 98, in pq_compute_single_core\n",
      "    with Image.open(os.path.join(pred_folder, pred_ann['file_name'])) as img:\n",
      "  File \"/usr0/home/adelgior/code/experimental-instanceseg/instanceseg/ext/panopticapi/evaluation.py\", line 98, in pq_compute_single_core\n",
      "    with Image.open(os.path.join(pred_folder, pred_ann['file_name'])) as img:\n",
      "  File \"/home/adelgior/virtualenvs/pytorch4_python3/lib/python3.7/site-packages/PIL/Image.py\", line 2652, in open\n",
      "    fp = builtins.open(filename, \"rb\")\n"
     ]
    },
    {
     "name": "stdout",
     "output_type": "stream",
     "text": [
      "Core: 470, 0 from 1 images processed\n"
     ]
    },
    {
     "name": "stderr",
     "output_type": "stream",
     "text": [
      "  File \"/usr0/home/adelgior/code/experimental-instanceseg/instanceseg/ext/panopticapi/evaluation.py\", line 98, in pq_compute_single_core\n",
      "    with Image.open(os.path.join(pred_folder, pred_ann['file_name'])) as img:\n"
     ]
    },
    {
     "name": "stdout",
     "output_type": "stream",
     "text": [
      "Caught exception in worker thread:\n",
      "Core: 469, 0 from 1 images processed\n"
     ]
    },
    {
     "name": "stderr",
     "output_type": "stream",
     "text": [
      "FileNotFoundError: [Errno 2] No such file or directory: '/home/adelgior/code/upsnet/output/upsnet/cityscapes/upsnet_resnet50_cityscapes_4gpu/val/results/pans_unified/pan_2ch/munster_000116_000019_leftImg8bit.png'\n",
      "  File \"/home/adelgior/virtualenvs/pytorch4_python3/lib/python3.7/site-packages/PIL/Image.py\", line 2652, in open\n",
      "    fp = builtins.open(filename, \"rb\")\n"
     ]
    },
    {
     "name": "stdout",
     "output_type": "stream",
     "text": [
      "Core: 471, 0 from 1 images processed\n"
     ]
    },
    {
     "name": "stderr",
     "output_type": "stream",
     "text": [
      "Traceback (most recent call last):\n",
      "  File \"/home/adelgior/code/fcn-instances-pytorch/instanceseg/ext/panopticapi/utils.py\", line 16, in wrapper\n",
      "    return f(*args, **kwargs)\n",
      "  File \"/home/adelgior/virtualenvs/pytorch4_python3/lib/python3.7/site-packages/PIL/Image.py\", line 2652, in open\n",
      "    fp = builtins.open(filename, \"rb\")\n",
      "FileNotFoundError: [Errno 2] No such file or directory: '/home/adelgior/code/upsnet/output/upsnet/cityscapes/upsnet_resnet50_cityscapes_4gpu/val/results/pans_unified/pan_2ch/munster_000117_000019_leftImg8bit.png'\n"
     ]
    },
    {
     "name": "stdout",
     "output_type": "stream",
     "text": [
      "Caught exception in worker thread:\n"
     ]
    },
    {
     "name": "stderr",
     "output_type": "stream",
     "text": [
      "  File \"/usr0/home/adelgior/code/experimental-instanceseg/instanceseg/ext/panopticapi/evaluation.py\", line 98, in pq_compute_single_core\n",
      "    with Image.open(os.path.join(pred_folder, pred_ann['file_name'])) as img:\n",
      "Traceback (most recent call last):\n",
      "FileNotFoundError: [Errno 2] No such file or directory: '/home/adelgior/code/upsnet/output/upsnet/cityscapes/upsnet_resnet50_cityscapes_4gpu/val/results/pans_unified/pan_2ch/munster_000115_000019_leftImg8bit.png'\n",
      "  File \"/home/adelgior/code/fcn-instances-pytorch/instanceseg/ext/panopticapi/utils.py\", line 16, in wrapper\n",
      "    return f(*args, **kwargs)\n"
     ]
    },
    {
     "name": "stdout",
     "output_type": "stream",
     "text": [
      "Core: 472, 0 from 1 images processed\n"
     ]
    },
    {
     "name": "stderr",
     "output_type": "stream",
     "text": [
      "  File \"/usr0/home/adelgior/code/experimental-instanceseg/instanceseg/ext/panopticapi/evaluation.py\", line 98, in pq_compute_single_core\n",
      "    with Image.open(os.path.join(pred_folder, pred_ann['file_name'])) as img:\n",
      "  File \"/home/adelgior/virtualenvs/pytorch4_python3/lib/python3.7/site-packages/PIL/Image.py\", line 2652, in open\n",
      "    fp = builtins.open(filename, \"rb\")\n",
      "  File \"/home/adelgior/code/fcn-instances-pytorch/instanceseg/ext/panopticapi/utils.py\", line 16, in wrapper\n",
      "    return f(*args, **kwargs)\n",
      "FileNotFoundError: [Errno 2] No such file or directory: '/home/adelgior/code/upsnet/output/upsnet/cityscapes/upsnet_resnet50_cityscapes_4gpu/val/results/pans_unified/pan_2ch/munster_000118_000019_leftImg8bit.png'\n"
     ]
    },
    {
     "name": "stdout",
     "output_type": "stream",
     "text": [
      "Core: 473, 0 from 1 images processed\n"
     ]
    },
    {
     "name": "stderr",
     "output_type": "stream",
     "text": [
      "  File \"/usr0/home/adelgior/code/experimental-instanceseg/instanceseg/ext/panopticapi/evaluation.py\", line 98, in pq_compute_single_core\n",
      "    with Image.open(os.path.join(pred_folder, pred_ann['file_name'])) as img:\n"
     ]
    },
    {
     "name": "stdout",
     "output_type": "stream",
     "text": [
      "Core: 474, 0 from 1 images processed\n"
     ]
    },
    {
     "name": "stderr",
     "output_type": "stream",
     "text": [
      "  File \"/home/adelgior/virtualenvs/pytorch4_python3/lib/python3.7/site-packages/PIL/Image.py\", line 2652, in open\n",
      "    fp = builtins.open(filename, \"rb\")\n",
      "  File \"/home/adelgior/virtualenvs/pytorch4_python3/lib/python3.7/site-packages/PIL/Image.py\", line 2652, in open\n",
      "    fp = builtins.open(filename, \"rb\")\n"
     ]
    },
    {
     "name": "stdout",
     "output_type": "stream",
     "text": [
      "Core: 475, 0 from 1 images processed\n"
     ]
    },
    {
     "name": "stderr",
     "output_type": "stream",
     "text": [
      "FileNotFoundError: [Errno 2] No such file or directory: '/home/adelgior/code/upsnet/output/upsnet/cityscapes/upsnet_resnet50_cityscapes_4gpu/val/results/pans_unified/pan_2ch/munster_000120_000019_leftImg8bit.png'\n",
      "FileNotFoundError: [Errno 2] No such file or directory: '/home/adelgior/code/upsnet/output/upsnet/cityscapes/upsnet_resnet50_cityscapes_4gpu/val/results/pans_unified/pan_2ch/munster_000119_000019_leftImg8bit.png'\n"
     ]
    },
    {
     "name": "stdout",
     "output_type": "stream",
     "text": [
      "Core: 476, 0 from 1 images processed\n",
      "Core: 477, 0 from 1 images processed\n",
      "Caught exception in worker thread:\n",
      "Caught exception in worker thread:\n"
     ]
    },
    {
     "name": "stderr",
     "output_type": "stream",
     "text": [
      "Traceback (most recent call last):\n",
      "Traceback (most recent call last):\n",
      "  File \"/home/adelgior/code/fcn-instances-pytorch/instanceseg/ext/panopticapi/utils.py\", line 16, in wrapper\n",
      "    return f(*args, **kwargs)\n",
      "  File \"/usr0/home/adelgior/code/experimental-instanceseg/instanceseg/ext/panopticapi/evaluation.py\", line 98, in pq_compute_single_core\n",
      "    with Image.open(os.path.join(pred_folder, pred_ann['file_name'])) as img:\n",
      "  File \"/home/adelgior/virtualenvs/pytorch4_python3/lib/python3.7/site-packages/PIL/Image.py\", line 2652, in open\n",
      "    fp = builtins.open(filename, \"rb\")\n",
      "  File \"/home/adelgior/code/fcn-instances-pytorch/instanceseg/ext/panopticapi/utils.py\", line 16, in wrapper\n",
      "    return f(*args, **kwargs)\n",
      "FileNotFoundError: [Errno 2] No such file or directory: '/home/adelgior/code/upsnet/output/upsnet/cityscapes/upsnet_resnet50_cityscapes_4gpu/val/results/pans_unified/pan_2ch/munster_000121_000019_leftImg8bit.png'\n"
     ]
    },
    {
     "name": "stdout",
     "output_type": "stream",
     "text": [
      "Caught exception in worker thread:\n",
      "Caught exception in worker thread:\n"
     ]
    },
    {
     "name": "stderr",
     "output_type": "stream",
     "text": [
      "  File \"/usr0/home/adelgior/code/experimental-instanceseg/instanceseg/ext/panopticapi/evaluation.py\", line 98, in pq_compute_single_core\n",
      "    with Image.open(os.path.join(pred_folder, pred_ann['file_name'])) as img:\n"
     ]
    },
    {
     "name": "stdout",
     "output_type": "stream",
     "text": [
      "Caught exception in worker thread:\n"
     ]
    },
    {
     "name": "stderr",
     "output_type": "stream",
     "text": [
      "Traceback (most recent call last):\n",
      "Traceback (most recent call last):\n",
      "  File \"/home/adelgior/virtualenvs/pytorch4_python3/lib/python3.7/site-packages/PIL/Image.py\", line 2652, in open\n",
      "    fp = builtins.open(filename, \"rb\")\n",
      "  File \"/home/adelgior/code/fcn-instances-pytorch/instanceseg/ext/panopticapi/utils.py\", line 16, in wrapper\n",
      "    return f(*args, **kwargs)\n",
      "  File \"/home/adelgior/code/fcn-instances-pytorch/instanceseg/ext/panopticapi/utils.py\", line 16, in wrapper\n",
      "    return f(*args, **kwargs)\n"
     ]
    },
    {
     "name": "stdout",
     "output_type": "stream",
     "text": [
      "Core: 478, 0 from 1 images processed\n"
     ]
    },
    {
     "name": "stderr",
     "output_type": "stream",
     "text": [
      "  File \"/usr0/home/adelgior/code/experimental-instanceseg/instanceseg/ext/panopticapi/evaluation.py\", line 98, in pq_compute_single_core\n",
      "    with Image.open(os.path.join(pred_folder, pred_ann['file_name'])) as img:\n"
     ]
    },
    {
     "name": "stdout",
     "output_type": "stream",
     "text": [
      "Caught exception in worker thread:\n",
      "Caught exception in worker thread:\n"
     ]
    },
    {
     "name": "stderr",
     "output_type": "stream",
     "text": [
      "  File \"/usr0/home/adelgior/code/experimental-instanceseg/instanceseg/ext/panopticapi/evaluation.py\", line 98, in pq_compute_single_core\n",
      "    with Image.open(os.path.join(pred_folder, pred_ann['file_name'])) as img:\n",
      "Traceback (most recent call last):\n",
      "Traceback (most recent call last):\n",
      "FileNotFoundError: [Errno 2] No such file or directory: '/home/adelgior/code/upsnet/output/upsnet/cityscapes/upsnet_resnet50_cityscapes_4gpu/val/results/pans_unified/pan_2ch/munster_000122_000019_leftImg8bit.png'\n",
      "Traceback (most recent call last):\n",
      "  File \"/home/adelgior/code/fcn-instances-pytorch/instanceseg/ext/panopticapi/utils.py\", line 16, in wrapper\n",
      "    return f(*args, **kwargs)\n",
      "  File \"/home/adelgior/code/fcn-instances-pytorch/instanceseg/ext/panopticapi/utils.py\", line 16, in wrapper\n",
      "    return f(*args, **kwargs)\n",
      "  File \"/usr0/home/adelgior/code/experimental-instanceseg/instanceseg/ext/panopticapi/evaluation.py\", line 98, in pq_compute_single_core\n",
      "    with Image.open(os.path.join(pred_folder, pred_ann['file_name'])) as img:\n",
      "  File \"/home/adelgior/virtualenvs/pytorch4_python3/lib/python3.7/site-packages/PIL/Image.py\", line 2652, in open\n",
      "    fp = builtins.open(filename, \"rb\")\n",
      "  File \"/home/adelgior/virtualenvs/pytorch4_python3/lib/python3.7/site-packages/PIL/Image.py\", line 2652, in open\n",
      "    fp = builtins.open(filename, \"rb\")\n"
     ]
    },
    {
     "name": "stdout",
     "output_type": "stream",
     "text": [
      "Caught exception in worker thread:\n",
      "Caught exception in worker thread:\n"
     ]
    },
    {
     "name": "stderr",
     "output_type": "stream",
     "text": [
      "  File \"/home/adelgior/code/fcn-instances-pytorch/instanceseg/ext/panopticapi/utils.py\", line 16, in wrapper\n",
      "    return f(*args, **kwargs)\n",
      "FileNotFoundError: [Errno 2] No such file or directory: '/home/adelgior/code/upsnet/output/upsnet/cityscapes/upsnet_resnet50_cityscapes_4gpu/val/results/pans_unified/pan_2ch/munster_000130_000019_leftImg8bit.png'\n",
      "  File \"/usr0/home/adelgior/code/experimental-instanceseg/instanceseg/ext/panopticapi/evaluation.py\", line 98, in pq_compute_single_core\n",
      "    with Image.open(os.path.join(pred_folder, pred_ann['file_name'])) as img:\n",
      "  File \"/usr0/home/adelgior/code/experimental-instanceseg/instanceseg/ext/panopticapi/evaluation.py\", line 98, in pq_compute_single_core\n",
      "    with Image.open(os.path.join(pred_folder, pred_ann['file_name'])) as img:\n"
     ]
    },
    {
     "name": "stdout",
     "output_type": "stream",
     "text": [
      "Caught exception in worker thread:\n",
      "Caught exception in worker thread:\n"
     ]
    },
    {
     "name": "stderr",
     "output_type": "stream",
     "text": [
      "  File \"/home/adelgior/virtualenvs/pytorch4_python3/lib/python3.7/site-packages/PIL/Image.py\", line 2652, in open\n",
      "    fp = builtins.open(filename, \"rb\")\n",
      "Traceback (most recent call last):\n",
      "  File \"/home/adelgior/virtualenvs/pytorch4_python3/lib/python3.7/site-packages/PIL/Image.py\", line 2652, in open\n",
      "    fp = builtins.open(filename, \"rb\")\n"
     ]
    },
    {
     "name": "stdout",
     "output_type": "stream",
     "text": [
      "Caught exception in worker thread:\n"
     ]
    },
    {
     "name": "stderr",
     "output_type": "stream",
     "text": [
      "  File \"/home/adelgior/virtualenvs/pytorch4_python3/lib/python3.7/site-packages/PIL/Image.py\", line 2652, in open\n",
      "    fp = builtins.open(filename, \"rb\")\n"
     ]
    },
    {
     "name": "stdout",
     "output_type": "stream",
     "text": [
      "Caught exception in worker thread:\n"
     ]
    },
    {
     "name": "stderr",
     "output_type": "stream",
     "text": [
      "  File \"/home/adelgior/code/fcn-instances-pytorch/instanceseg/ext/panopticapi/utils.py\", line 16, in wrapper\n",
      "    return f(*args, **kwargs)\n",
      "Traceback (most recent call last):\n",
      "FileNotFoundError: [Errno 2] No such file or directory: '/home/adelgior/code/upsnet/output/upsnet/cityscapes/upsnet_resnet50_cityscapes_4gpu/val/results/pans_unified/pan_2ch/munster_000123_000019_leftImg8bit.png'\n",
      "Traceback (most recent call last):\n",
      "FileNotFoundError: [Errno 2] No such file or directory: '/home/adelgior/code/upsnet/output/upsnet/cityscapes/upsnet_resnet50_cityscapes_4gpu/val/results/pans_unified/pan_2ch/munster_000133_000019_leftImg8bit.png'\n"
     ]
    },
    {
     "name": "stdout",
     "output_type": "stream",
     "text": [
      "Core: 479, 0 from 1 images processed\n"
     ]
    },
    {
     "name": "stderr",
     "output_type": "stream",
     "text": [
      "  File \"/usr0/home/adelgior/code/experimental-instanceseg/instanceseg/ext/panopticapi/evaluation.py\", line 98, in pq_compute_single_core\n",
      "    with Image.open(os.path.join(pred_folder, pred_ann['file_name'])) as img:\n",
      "Traceback (most recent call last):\n",
      "Traceback (most recent call last):\n",
      "FileNotFoundError: [Errno 2] No such file or directory: '/home/adelgior/code/upsnet/output/upsnet/cityscapes/upsnet_resnet50_cityscapes_4gpu/val/results/pans_unified/pan_2ch/munster_000124_000019_leftImg8bit.png'\n",
      "Traceback (most recent call last):\n",
      "  File \"/home/adelgior/code/fcn-instances-pytorch/instanceseg/ext/panopticapi/utils.py\", line 16, in wrapper\n",
      "    return f(*args, **kwargs)\n"
     ]
    },
    {
     "name": "stdout",
     "output_type": "stream",
     "text": [
      "Caught exception in worker thread:\n"
     ]
    },
    {
     "name": "stderr",
     "output_type": "stream",
     "text": [
      "  File \"/home/adelgior/code/fcn-instances-pytorch/instanceseg/ext/panopticapi/utils.py\", line 16, in wrapper\n",
      "    return f(*args, **kwargs)\n",
      "  File \"/home/adelgior/virtualenvs/pytorch4_python3/lib/python3.7/site-packages/PIL/Image.py\", line 2652, in open\n",
      "    fp = builtins.open(filename, \"rb\")\n",
      "  File \"/home/adelgior/code/fcn-instances-pytorch/instanceseg/ext/panopticapi/utils.py\", line 16, in wrapper\n",
      "    return f(*args, **kwargs)\n",
      "  File \"/usr0/home/adelgior/code/experimental-instanceseg/instanceseg/ext/panopticapi/evaluation.py\", line 98, in pq_compute_single_core\n",
      "    with Image.open(os.path.join(pred_folder, pred_ann['file_name'])) as img:\n"
     ]
    },
    {
     "name": "stdout",
     "output_type": "stream",
     "text": [
      "Caught exception in worker thread:\n"
     ]
    },
    {
     "name": "stderr",
     "output_type": "stream",
     "text": [
      "FileNotFoundError: [Errno 2] No such file or directory: '/home/adelgior/code/upsnet/output/upsnet/cityscapes/upsnet_resnet50_cityscapes_4gpu/val/results/pans_unified/pan_2ch/munster_000126_000019_leftImg8bit.png'\n",
      "  File \"/usr0/home/adelgior/code/experimental-instanceseg/instanceseg/ext/panopticapi/evaluation.py\", line 98, in pq_compute_single_core\n",
      "    with Image.open(os.path.join(pred_folder, pred_ann['file_name'])) as img:\n",
      "Traceback (most recent call last):\n",
      "FileNotFoundError: [Errno 2] No such file or directory: '/home/adelgior/code/upsnet/output/upsnet/cityscapes/upsnet_resnet50_cityscapes_4gpu/val/results/pans_unified/pan_2ch/munster_000131_000019_leftImg8bit.png'\n"
     ]
    },
    {
     "name": "stdout",
     "output_type": "stream",
     "text": [
      "Core: 480, 0 from 1 images processed\n"
     ]
    },
    {
     "name": "stderr",
     "output_type": "stream",
     "text": [
      "  File \"/usr0/home/adelgior/code/experimental-instanceseg/instanceseg/ext/panopticapi/evaluation.py\", line 98, in pq_compute_single_core\n",
      "    with Image.open(os.path.join(pred_folder, pred_ann['file_name'])) as img:\n",
      "Traceback (most recent call last):\n",
      "  File \"/home/adelgior/code/fcn-instances-pytorch/instanceseg/ext/panopticapi/utils.py\", line 16, in wrapper\n",
      "    return f(*args, **kwargs)\n",
      "  File \"/home/adelgior/code/fcn-instances-pytorch/instanceseg/ext/panopticapi/utils.py\", line 16, in wrapper\n",
      "    return f(*args, **kwargs)\n",
      "  File \"/home/adelgior/virtualenvs/pytorch4_python3/lib/python3.7/site-packages/PIL/Image.py\", line 2652, in open\n",
      "    fp = builtins.open(filename, \"rb\")\n",
      "  File \"/home/adelgior/code/fcn-instances-pytorch/instanceseg/ext/panopticapi/utils.py\", line 16, in wrapper\n",
      "    return f(*args, **kwargs)\n",
      "  File \"/usr0/home/adelgior/code/experimental-instanceseg/instanceseg/ext/panopticapi/evaluation.py\", line 98, in pq_compute_single_core\n",
      "    with Image.open(os.path.join(pred_folder, pred_ann['file_name'])) as img:\n",
      "  File \"/usr0/home/adelgior/code/experimental-instanceseg/instanceseg/ext/panopticapi/evaluation.py\", line 98, in pq_compute_single_core\n",
      "    with Image.open(os.path.join(pred_folder, pred_ann['file_name'])) as img:\n",
      "  File \"/home/adelgior/virtualenvs/pytorch4_python3/lib/python3.7/site-packages/PIL/Image.py\", line 2652, in open\n",
      "    fp = builtins.open(filename, \"rb\")\n",
      "  File \"/home/adelgior/virtualenvs/pytorch4_python3/lib/python3.7/site-packages/PIL/Image.py\", line 2652, in open\n",
      "    fp = builtins.open(filename, \"rb\")\n",
      "FileNotFoundError: [Errno 2] No such file or directory: '/home/adelgior/code/upsnet/output/upsnet/cityscapes/upsnet_resnet50_cityscapes_4gpu/val/results/pans_unified/pan_2ch/munster_000132_000019_leftImg8bit.png'\n"
     ]
    },
    {
     "name": "stdout",
     "output_type": "stream",
     "text": [
      "Caught exception in worker thread:\n",
      "Core: 482, 0 from 1 images processed\n",
      "Caught exception in worker thread:\n",
      "Caught exception in worker thread:\n",
      "Core: 481, 0 from 1 images processed\n",
      "Caught exception in worker thread:\n"
     ]
    },
    {
     "name": "stderr",
     "output_type": "stream",
     "text": [
      "  File \"/home/adelgior/virtualenvs/pytorch4_python3/lib/python3.7/site-packages/PIL/Image.py\", line 2652, in open\n",
      "    fp = builtins.open(filename, \"rb\")\n",
      "  File \"/home/adelgior/code/fcn-instances-pytorch/instanceseg/ext/panopticapi/utils.py\", line 16, in wrapper\n",
      "    return f(*args, **kwargs)\n"
     ]
    },
    {
     "name": "stdout",
     "output_type": "stream",
     "text": [
      "Caught exception in worker thread:\n"
     ]
    },
    {
     "name": "stderr",
     "output_type": "stream",
     "text": [
      "  File \"/usr0/home/adelgior/code/experimental-instanceseg/instanceseg/ext/panopticapi/evaluation.py\", line 98, in pq_compute_single_core\n",
      "    with Image.open(os.path.join(pred_folder, pred_ann['file_name'])) as img:\n",
      "Traceback (most recent call last):\n",
      "  File \"/usr0/home/adelgior/code/experimental-instanceseg/instanceseg/ext/panopticapi/evaluation.py\", line 98, in pq_compute_single_core\n",
      "    with Image.open(os.path.join(pred_folder, pred_ann['file_name'])) as img:\n",
      "FileNotFoundError: [Errno 2] No such file or directory: '/home/adelgior/code/upsnet/output/upsnet/cityscapes/upsnet_resnet50_cityscapes_4gpu/val/results/pans_unified/pan_2ch/munster_000129_000019_leftImg8bit.png'\n",
      "Traceback (most recent call last):\n"
     ]
    },
    {
     "name": "stdout",
     "output_type": "stream",
     "text": [
      "Core: 483, 0 from 1 images processed\n",
      "Caught exception in worker thread:\n",
      "Core: 484, 0 from 1 images processed\n"
     ]
    },
    {
     "name": "stderr",
     "output_type": "stream",
     "text": [
      "Traceback (most recent call last):\n",
      "  File \"/home/adelgior/virtualenvs/pytorch4_python3/lib/python3.7/site-packages/PIL/Image.py\", line 2652, in open\n",
      "    fp = builtins.open(filename, \"rb\")\n",
      "FileNotFoundError: [Errno 2] No such file or directory: '/home/adelgior/code/upsnet/output/upsnet/cityscapes/upsnet_resnet50_cityscapes_4gpu/val/results/pans_unified/pan_2ch/munster_000125_000019_leftImg8bit.png'\n",
      "  File \"/home/adelgior/virtualenvs/pytorch4_python3/lib/python3.7/site-packages/PIL/Image.py\", line 2652, in open\n",
      "    fp = builtins.open(filename, \"rb\")\n",
      "  File \"/home/adelgior/code/fcn-instances-pytorch/instanceseg/ext/panopticapi/utils.py\", line 16, in wrapper\n",
      "    return f(*args, **kwargs)\n",
      "  File \"/home/adelgior/code/fcn-instances-pytorch/instanceseg/ext/panopticapi/utils.py\", line 16, in wrapper\n",
      "    return f(*args, **kwargs)\n"
     ]
    },
    {
     "name": "stdout",
     "output_type": "stream",
     "text": [
      "Core: 485, 0 from 1 images processed\n"
     ]
    },
    {
     "name": "stderr",
     "output_type": "stream",
     "text": [
      "  File \"/usr0/home/adelgior/code/experimental-instanceseg/instanceseg/ext/panopticapi/evaluation.py\", line 98, in pq_compute_single_core\n",
      "    with Image.open(os.path.join(pred_folder, pred_ann['file_name'])) as img:\n",
      "  File \"/home/adelgior/virtualenvs/pytorch4_python3/lib/python3.7/site-packages/PIL/Image.py\", line 2652, in open\n",
      "    fp = builtins.open(filename, \"rb\")\n",
      "FileNotFoundError: [Errno 2] No such file or directory: '/home/adelgior/code/upsnet/output/upsnet/cityscapes/upsnet_resnet50_cityscapes_4gpu/val/results/pans_unified/pan_2ch/munster_000134_000019_leftImg8bit.png'\n"
     ]
    },
    {
     "name": "stdout",
     "output_type": "stream",
     "text": [
      "Caught exception in worker thread:\n",
      "Caught exception in worker thread:\n"
     ]
    },
    {
     "name": "stderr",
     "output_type": "stream",
     "text": [
      "FileNotFoundError: [Errno 2] No such file or directory: '/home/adelgior/code/upsnet/output/upsnet/cityscapes/upsnet_resnet50_cityscapes_4gpu/val/results/pans_unified/pan_2ch/munster_000128_000019_leftImg8bit.png'\n",
      "Traceback (most recent call last):\n",
      "FileNotFoundError: [Errno 2] No such file or directory: '/home/adelgior/code/upsnet/output/upsnet/cityscapes/upsnet_resnet50_cityscapes_4gpu/val/results/pans_unified/pan_2ch/munster_000127_000019_leftImg8bit.png'\n",
      "Traceback (most recent call last):\n",
      "FileNotFoundError: [Errno 2] No such file or directory: '/home/adelgior/code/upsnet/output/upsnet/cityscapes/upsnet_resnet50_cityscapes_4gpu/val/results/pans_unified/pan_2ch/munster_000142_000019_leftImg8bit.png'\n",
      "Traceback (most recent call last):\n"
     ]
    },
    {
     "name": "stdout",
     "output_type": "stream",
     "text": [
      "Core: 486, 0 from 1 images processed\n"
     ]
    },
    {
     "name": "stderr",
     "output_type": "stream",
     "text": [
      "  File \"/home/adelgior/code/fcn-instances-pytorch/instanceseg/ext/panopticapi/utils.py\", line 16, in wrapper\n",
      "    return f(*args, **kwargs)\n"
     ]
    },
    {
     "name": "stdout",
     "output_type": "stream",
     "text": [
      "Caught exception in worker thread:\n",
      "Core: 487, 0 from 1 images processed\n"
     ]
    },
    {
     "name": "stderr",
     "output_type": "stream",
     "text": [
      "Traceback (most recent call last):\n",
      "  File \"/home/adelgior/code/fcn-instances-pytorch/instanceseg/ext/panopticapi/utils.py\", line 16, in wrapper\n",
      "    return f(*args, **kwargs)\n",
      "  File \"/usr0/home/adelgior/code/experimental-instanceseg/instanceseg/ext/panopticapi/evaluation.py\", line 98, in pq_compute_single_core\n",
      "    with Image.open(os.path.join(pred_folder, pred_ann['file_name'])) as img:\n",
      "Traceback (most recent call last):\n",
      "  File \"/usr0/home/adelgior/code/experimental-instanceseg/instanceseg/ext/panopticapi/evaluation.py\", line 98, in pq_compute_single_core\n",
      "    with Image.open(os.path.join(pred_folder, pred_ann['file_name'])) as img:\n"
     ]
    },
    {
     "name": "stdout",
     "output_type": "stream",
     "text": [
      "Caught exception in worker thread:\n"
     ]
    },
    {
     "name": "stderr",
     "output_type": "stream",
     "text": [
      "  File \"/home/adelgior/virtualenvs/pytorch4_python3/lib/python3.7/site-packages/PIL/Image.py\", line 2652, in open\n",
      "    fp = builtins.open(filename, \"rb\")\n",
      "  File \"/home/adelgior/code/fcn-instances-pytorch/instanceseg/ext/panopticapi/utils.py\", line 16, in wrapper\n",
      "    return f(*args, **kwargs)\n",
      "  File \"/home/adelgior/code/fcn-instances-pytorch/instanceseg/ext/panopticapi/utils.py\", line 16, in wrapper\n",
      "    return f(*args, **kwargs)\n",
      "  File \"/home/adelgior/virtualenvs/pytorch4_python3/lib/python3.7/site-packages/PIL/Image.py\", line 2652, in open\n",
      "    fp = builtins.open(filename, \"rb\")\n",
      "  File \"/usr0/home/adelgior/code/experimental-instanceseg/instanceseg/ext/panopticapi/evaluation.py\", line 98, in pq_compute_single_core\n",
      "    with Image.open(os.path.join(pred_folder, pred_ann['file_name'])) as img:\n",
      "  File \"/home/adelgior/virtualenvs/pytorch4_python3/lib/python3.7/site-packages/PIL/Image.py\", line 2652, in open\n",
      "    fp = builtins.open(filename, \"rb\")\n",
      "FileNotFoundError: [Errno 2] No such file or directory: '/home/adelgior/code/upsnet/output/upsnet/cityscapes/upsnet_resnet50_cityscapes_4gpu/val/results/pans_unified/pan_2ch/munster_000135_000019_leftImg8bit.png'\n"
     ]
    },
    {
     "name": "stdout",
     "output_type": "stream",
     "text": [
      "Caught exception in worker thread:\n",
      "Core: 488, 0 from 1 images processed\n"
     ]
    },
    {
     "name": "stderr",
     "output_type": "stream",
     "text": [
      "Traceback (most recent call last):\n",
      "  File \"/home/adelgior/code/fcn-instances-pytorch/instanceseg/ext/panopticapi/utils.py\", line 16, in wrapper\n",
      "    return f(*args, **kwargs)\n",
      "  File \"/home/adelgior/code/fcn-instances-pytorch/instanceseg/ext/panopticapi/utils.py\", line 16, in wrapper\n",
      "    return f(*args, **kwargs)\n",
      "FileNotFoundError: [Errno 2] No such file or directory: '/home/adelgior/code/upsnet/output/upsnet/cityscapes/upsnet_resnet50_cityscapes_4gpu/val/results/pans_unified/pan_2ch/munster_000145_000019_leftImg8bit.png'\n"
     ]
    },
    {
     "name": "stdout",
     "output_type": "stream",
     "text": [
      "Caught exception in worker thread:\n",
      "Core: 489, 0 from 1 images processed\n"
     ]
    },
    {
     "name": "stderr",
     "output_type": "stream",
     "text": [
      "  File \"/home/adelgior/virtualenvs/pytorch4_python3/lib/python3.7/site-packages/PIL/Image.py\", line 2652, in open\n",
      "    fp = builtins.open(filename, \"rb\")\n"
     ]
    },
    {
     "name": "stdout",
     "output_type": "stream",
     "text": [
      "Core: 490, 0 from 1 images processed\n",
      "Core: 491, 0 from 1 images processed\n"
     ]
    },
    {
     "name": "stderr",
     "output_type": "stream",
     "text": [
      "  File \"/usr0/home/adelgior/code/experimental-instanceseg/instanceseg/ext/panopticapi/evaluation.py\", line 98, in pq_compute_single_core\n",
      "    with Image.open(os.path.join(pred_folder, pred_ann['file_name'])) as img:\n"
     ]
    },
    {
     "name": "stdout",
     "output_type": "stream",
     "text": [
      "Caught exception in worker thread:\n"
     ]
    },
    {
     "name": "stderr",
     "output_type": "stream",
     "text": [
      "  File \"/usr0/home/adelgior/code/experimental-instanceseg/instanceseg/ext/panopticapi/evaluation.py\", line 98, in pq_compute_single_core\n",
      "    with Image.open(os.path.join(pred_folder, pred_ann['file_name'])) as img:\n",
      "FileNotFoundError: [Errno 2] No such file or directory: '/home/adelgior/code/upsnet/output/upsnet/cityscapes/upsnet_resnet50_cityscapes_4gpu/val/results/pans_unified/pan_2ch/munster_000144_000019_leftImg8bit.png'\n",
      "  File \"/home/adelgior/code/fcn-instances-pytorch/instanceseg/ext/panopticapi/utils.py\", line 16, in wrapper\n",
      "    return f(*args, **kwargs)\n",
      "  File \"/usr0/home/adelgior/code/experimental-instanceseg/instanceseg/ext/panopticapi/evaluation.py\", line 98, in pq_compute_single_core\n",
      "    with Image.open(os.path.join(pred_folder, pred_ann['file_name'])) as img:\n",
      "Traceback (most recent call last):\n",
      "  File \"/home/adelgior/virtualenvs/pytorch4_python3/lib/python3.7/site-packages/PIL/Image.py\", line 2652, in open\n",
      "    fp = builtins.open(filename, \"rb\")\n",
      "FileNotFoundError: [Errno 2] No such file or directory: '/home/adelgior/code/upsnet/output/upsnet/cityscapes/upsnet_resnet50_cityscapes_4gpu/val/results/pans_unified/pan_2ch/munster_000139_000019_leftImg8bit.png'\n",
      "  File \"/usr0/home/adelgior/code/experimental-instanceseg/instanceseg/ext/panopticapi/evaluation.py\", line 98, in pq_compute_single_core\n",
      "    with Image.open(os.path.join(pred_folder, pred_ann['file_name'])) as img:\n"
     ]
    },
    {
     "name": "stdout",
     "output_type": "stream",
     "text": [
      "Caught exception in worker thread:\n"
     ]
    },
    {
     "name": "stderr",
     "output_type": "stream",
     "text": [
      "  File \"/usr0/home/adelgior/code/experimental-instanceseg/instanceseg/ext/panopticapi/evaluation.py\", line 98, in pq_compute_single_core\n",
      "    with Image.open(os.path.join(pred_folder, pred_ann['file_name'])) as img:\n",
      "FileNotFoundError: [Errno 2] No such file or directory: '/home/adelgior/code/upsnet/output/upsnet/cityscapes/upsnet_resnet50_cityscapes_4gpu/val/results/pans_unified/pan_2ch/munster_000143_000019_leftImg8bit.png'\n"
     ]
    },
    {
     "name": "stdout",
     "output_type": "stream",
     "text": [
      "Core: 493, 0 from 1 images processed\n"
     ]
    },
    {
     "name": "stderr",
     "output_type": "stream",
     "text": [
      "Traceback (most recent call last):\n",
      "  File \"/home/adelgior/virtualenvs/pytorch4_python3/lib/python3.7/site-packages/PIL/Image.py\", line 2652, in open\n",
      "    fp = builtins.open(filename, \"rb\")\n",
      "  File \"/home/adelgior/virtualenvs/pytorch4_python3/lib/python3.7/site-packages/PIL/Image.py\", line 2652, in open\n",
      "    fp = builtins.open(filename, \"rb\")\n",
      "Traceback (most recent call last):\n",
      "FileNotFoundError: [Errno 2] No such file or directory: '/home/adelgior/code/upsnet/output/upsnet/cityscapes/upsnet_resnet50_cityscapes_4gpu/val/results/pans_unified/pan_2ch/munster_000140_000019_leftImg8bit.png'\n"
     ]
    },
    {
     "name": "stdout",
     "output_type": "stream",
     "text": [
      "Core: 494, 0 from 1 images processed\n"
     ]
    },
    {
     "name": "stderr",
     "output_type": "stream",
     "text": [
      "  File \"/home/adelgior/code/fcn-instances-pytorch/instanceseg/ext/panopticapi/utils.py\", line 16, in wrapper\n",
      "    return f(*args, **kwargs)\n",
      "  File \"/home/adelgior/virtualenvs/pytorch4_python3/lib/python3.7/site-packages/PIL/Image.py\", line 2652, in open\n",
      "    fp = builtins.open(filename, \"rb\")\n",
      "FileNotFoundError: [Errno 2] No such file or directory: '/home/adelgior/code/upsnet/output/upsnet/cityscapes/upsnet_resnet50_cityscapes_4gpu/val/results/pans_unified/pan_2ch/munster_000141_000019_leftImg8bit.png'\n",
      "FileNotFoundError: [Errno 2] No such file or directory: '/home/adelgior/code/upsnet/output/upsnet/cityscapes/upsnet_resnet50_cityscapes_4gpu/val/results/pans_unified/pan_2ch/munster_000137_000019_leftImg8bit.png'\n"
     ]
    },
    {
     "name": "stdout",
     "output_type": "stream",
     "text": [
      "Core: 496, 0 from 1 images processed\n"
     ]
    },
    {
     "name": "stderr",
     "output_type": "stream",
     "text": [
      "Traceback (most recent call last):\n",
      "  File \"/home/adelgior/code/fcn-instances-pytorch/instanceseg/ext/panopticapi/utils.py\", line 16, in wrapper\n",
      "    return f(*args, **kwargs)\n"
     ]
    },
    {
     "name": "stdout",
     "output_type": "stream",
     "text": [
      "Core: 495, 0 from 1 images processed\n"
     ]
    },
    {
     "name": "stderr",
     "output_type": "stream",
     "text": [
      "  File \"/home/adelgior/code/fcn-instances-pytorch/instanceseg/ext/panopticapi/utils.py\", line 16, in wrapper\n",
      "    return f(*args, **kwargs)\n",
      "  File \"/usr0/home/adelgior/code/experimental-instanceseg/instanceseg/ext/panopticapi/evaluation.py\", line 98, in pq_compute_single_core\n",
      "    with Image.open(os.path.join(pred_folder, pred_ann['file_name'])) as img:\n"
     ]
    },
    {
     "name": "stdout",
     "output_type": "stream",
     "text": [
      "Core: 497, 0 from 1 images processed\n",
      "Core: 492, 0 from 1 images processed\n",
      "Core: 498, 0 from 1 images processed\n"
     ]
    },
    {
     "name": "stderr",
     "output_type": "stream",
     "text": [
      "Traceback (most recent call last):\n",
      "  File \"/usr0/home/adelgior/code/experimental-instanceseg/instanceseg/ext/panopticapi/evaluation.py\", line 98, in pq_compute_single_core\n",
      "    with Image.open(os.path.join(pred_folder, pred_ann['file_name'])) as img:\n"
     ]
    },
    {
     "name": "stdout",
     "output_type": "stream",
     "text": [
      "Core: 499, 0 from 1 images processed\n"
     ]
    },
    {
     "name": "stderr",
     "output_type": "stream",
     "text": [
      "  File \"/home/adelgior/virtualenvs/pytorch4_python3/lib/python3.7/site-packages/PIL/Image.py\", line 2652, in open\n",
      "    fp = builtins.open(filename, \"rb\")\n",
      "  File \"/home/adelgior/virtualenvs/pytorch4_python3/lib/python3.7/site-packages/PIL/Image.py\", line 2652, in open\n",
      "    fp = builtins.open(filename, \"rb\")\n",
      "FileNotFoundError: [Errno 2] No such file or directory: '/home/adelgior/code/upsnet/output/upsnet/cityscapes/upsnet_resnet50_cityscapes_4gpu/val/results/pans_unified/pan_2ch/munster_000136_000019_leftImg8bit.png'\n",
      "  File \"/usr0/home/adelgior/code/experimental-instanceseg/instanceseg/ext/panopticapi/evaluation.py\", line 98, in pq_compute_single_core\n",
      "    with Image.open(os.path.join(pred_folder, pred_ann['file_name'])) as img:\n",
      "  File \"/home/adelgior/code/fcn-instances-pytorch/instanceseg/ext/panopticapi/utils.py\", line 16, in wrapper\n",
      "    return f(*args, **kwargs)\n",
      "FileNotFoundError: [Errno 2] No such file or directory: '/home/adelgior/code/upsnet/output/upsnet/cityscapes/upsnet_resnet50_cityscapes_4gpu/val/results/pans_unified/pan_2ch/munster_000147_000019_leftImg8bit.png'\n"
     ]
    },
    {
     "name": "stdout",
     "output_type": "stream",
     "text": [
      "Caught exception in worker thread:\n"
     ]
    },
    {
     "name": "stderr",
     "output_type": "stream",
     "text": [
      "  File \"/home/adelgior/virtualenvs/pytorch4_python3/lib/python3.7/site-packages/PIL/Image.py\", line 2652, in open\n",
      "    fp = builtins.open(filename, \"rb\")\n",
      "  File \"/home/adelgior/code/fcn-instances-pytorch/instanceseg/ext/panopticapi/utils.py\", line 16, in wrapper\n",
      "    return f(*args, **kwargs)\n"
     ]
    },
    {
     "name": "stdout",
     "output_type": "stream",
     "text": [
      "Caught exception in worker thread:\n"
     ]
    },
    {
     "name": "stderr",
     "output_type": "stream",
     "text": [
      "  File \"/usr0/home/adelgior/code/experimental-instanceseg/instanceseg/ext/panopticapi/evaluation.py\", line 98, in pq_compute_single_core\n",
      "    with Image.open(os.path.join(pred_folder, pred_ann['file_name'])) as img:\n",
      "FileNotFoundError: [Errno 2] No such file or directory: '/home/adelgior/code/upsnet/output/upsnet/cityscapes/upsnet_resnet50_cityscapes_4gpu/val/results/pans_unified/pan_2ch/munster_000138_000019_leftImg8bit.png'\n",
      "Traceback (most recent call last):\n",
      "  File \"/home/adelgior/virtualenvs/pytorch4_python3/lib/python3.7/site-packages/PIL/Image.py\", line 2652, in open\n",
      "    fp = builtins.open(filename, \"rb\")\n",
      "  File \"/home/adelgior/virtualenvs/pytorch4_python3/lib/python3.7/site-packages/PIL/Image.py\", line 2652, in open\n",
      "    fp = builtins.open(filename, \"rb\")\n",
      "  File \"/home/adelgior/code/fcn-instances-pytorch/instanceseg/ext/panopticapi/utils.py\", line 16, in wrapper\n",
      "    return f(*args, **kwargs)\n",
      "  File \"/usr0/home/adelgior/code/experimental-instanceseg/instanceseg/ext/panopticapi/evaluation.py\", line 98, in pq_compute_single_core\n",
      "    with Image.open(os.path.join(pred_folder, pred_ann['file_name'])) as img:\n",
      "FileNotFoundError: [Errno 2] No such file or directory: '/home/adelgior/code/upsnet/output/upsnet/cityscapes/upsnet_resnet50_cityscapes_4gpu/val/results/pans_unified/pan_2ch/munster_000146_000019_leftImg8bit.png'\n",
      "Traceback (most recent call last):\n",
      "FileNotFoundError: [Errno 2] No such file or directory: '/home/adelgior/code/upsnet/output/upsnet/cityscapes/upsnet_resnet50_cityscapes_4gpu/val/results/pans_unified/pan_2ch/munster_000149_000019_leftImg8bit.png'\n",
      "  File \"/home/adelgior/virtualenvs/pytorch4_python3/lib/python3.7/site-packages/PIL/Image.py\", line 2652, in open\n",
      "    fp = builtins.open(filename, \"rb\")\n",
      "  File \"/home/adelgior/code/fcn-instances-pytorch/instanceseg/ext/panopticapi/utils.py\", line 16, in wrapper\n",
      "    return f(*args, **kwargs)\n",
      "  File \"/usr0/home/adelgior/code/experimental-instanceseg/instanceseg/ext/panopticapi/evaluation.py\", line 98, in pq_compute_single_core\n",
      "    with Image.open(os.path.join(pred_folder, pred_ann['file_name'])) as img:\n",
      "  File \"/usr0/home/adelgior/code/experimental-instanceseg/instanceseg/ext/panopticapi/evaluation.py\", line 98, in pq_compute_single_core\n",
      "    with Image.open(os.path.join(pred_folder, pred_ann['file_name'])) as img:\n",
      "  File \"/home/adelgior/virtualenvs/pytorch4_python3/lib/python3.7/site-packages/PIL/Image.py\", line 2652, in open\n",
      "    fp = builtins.open(filename, \"rb\")\n",
      "  File \"/home/adelgior/virtualenvs/pytorch4_python3/lib/python3.7/site-packages/PIL/Image.py\", line 2652, in open\n",
      "    fp = builtins.open(filename, \"rb\")\n",
      "FileNotFoundError: [Errno 2] No such file or directory: '/home/adelgior/code/upsnet/output/upsnet/cityscapes/upsnet_resnet50_cityscapes_4gpu/val/results/pans_unified/pan_2ch/munster_000148_000019_leftImg8bit.png'\n",
      "FileNotFoundError: [Errno 2] No such file or directory: '/home/adelgior/code/upsnet/output/upsnet/cityscapes/upsnet_resnet50_cityscapes_4gpu/val/results/pans_unified/pan_2ch/munster_000151_000019_leftImg8bit.png'\n",
      "FileNotFoundError: [Errno 2] No such file or directory: '/home/adelgior/code/upsnet/output/upsnet/cityscapes/upsnet_resnet50_cityscapes_4gpu/val/results/pans_unified/pan_2ch/munster_000150_000019_leftImg8bit.png'\n"
     ]
    },
    {
     "name": "stdout",
     "output_type": "stream",
     "text": [
      "Caught exception in worker thread:\n"
     ]
    },
    {
     "name": "stderr",
     "output_type": "stream",
     "text": [
      "Traceback (most recent call last):\n",
      "  File \"/home/adelgior/code/fcn-instances-pytorch/instanceseg/ext/panopticapi/utils.py\", line 16, in wrapper\n",
      "    return f(*args, **kwargs)\n",
      "  File \"/usr0/home/adelgior/code/experimental-instanceseg/instanceseg/ext/panopticapi/evaluation.py\", line 98, in pq_compute_single_core\n",
      "    with Image.open(os.path.join(pred_folder, pred_ann['file_name'])) as img:\n"
     ]
    },
    {
     "name": "stdout",
     "output_type": "stream",
     "text": [
      "Caught exception in worker thread:\n"
     ]
    },
    {
     "name": "stderr",
     "output_type": "stream",
     "text": [
      "  File \"/home/adelgior/virtualenvs/pytorch4_python3/lib/python3.7/site-packages/PIL/Image.py\", line 2652, in open\n",
      "    fp = builtins.open(filename, \"rb\")\n",
      "Traceback (most recent call last):\n",
      "  File \"/home/adelgior/code/fcn-instances-pytorch/instanceseg/ext/panopticapi/utils.py\", line 16, in wrapper\n",
      "    return f(*args, **kwargs)\n",
      "FileNotFoundError: [Errno 2] No such file or directory: '/home/adelgior/code/upsnet/output/upsnet/cityscapes/upsnet_resnet50_cityscapes_4gpu/val/results/pans_unified/pan_2ch/munster_000152_000019_leftImg8bit.png'\n",
      "  File \"/usr0/home/adelgior/code/experimental-instanceseg/instanceseg/ext/panopticapi/evaluation.py\", line 98, in pq_compute_single_core\n",
      "    with Image.open(os.path.join(pred_folder, pred_ann['file_name'])) as img:\n",
      "  File \"/home/adelgior/virtualenvs/pytorch4_python3/lib/python3.7/site-packages/PIL/Image.py\", line 2652, in open\n",
      "    fp = builtins.open(filename, \"rb\")\n",
      "FileNotFoundError: [Errno 2] No such file or directory: '/home/adelgior/code/upsnet/output/upsnet/cityscapes/upsnet_resnet50_cityscapes_4gpu/val/results/pans_unified/pan_2ch/munster_000153_000019_leftImg8bit.png'\n"
     ]
    },
    {
     "name": "stdout",
     "output_type": "stream",
     "text": [
      "Caught exception in worker thread:\n"
     ]
    },
    {
     "name": "stderr",
     "output_type": "stream",
     "text": [
      "Traceback (most recent call last):\n",
      "  File \"/home/adelgior/code/fcn-instances-pytorch/instanceseg/ext/panopticapi/utils.py\", line 16, in wrapper\n",
      "    return f(*args, **kwargs)\n"
     ]
    },
    {
     "name": "stdout",
     "output_type": "stream",
     "text": [
      "Caught exception in worker thread:\n"
     ]
    },
    {
     "name": "stderr",
     "output_type": "stream",
     "text": [
      "  File \"/usr0/home/adelgior/code/experimental-instanceseg/instanceseg/ext/panopticapi/evaluation.py\", line 98, in pq_compute_single_core\n",
      "    with Image.open(os.path.join(pred_folder, pred_ann['file_name'])) as img:\n",
      "  File \"/home/adelgior/virtualenvs/pytorch4_python3/lib/python3.7/site-packages/PIL/Image.py\", line 2652, in open\n",
      "    fp = builtins.open(filename, \"rb\")\n",
      "Traceback (most recent call last):\n"
     ]
    },
    {
     "name": "stdout",
     "output_type": "stream",
     "text": [
      "Caught exception in worker thread:\n"
     ]
    },
    {
     "name": "stderr",
     "output_type": "stream",
     "text": [
      "FileNotFoundError: [Errno 2] No such file or directory: '/home/adelgior/code/upsnet/output/upsnet/cityscapes/upsnet_resnet50_cityscapes_4gpu/val/results/pans_unified/pan_2ch/munster_000159_000019_leftImg8bit.png'\n",
      "Traceback (most recent call last):\n",
      "  File \"/home/adelgior/code/fcn-instances-pytorch/instanceseg/ext/panopticapi/utils.py\", line 16, in wrapper\n",
      "    return f(*args, **kwargs)\n"
     ]
    },
    {
     "name": "stdout",
     "output_type": "stream",
     "text": [
      "Caught exception in worker thread:\n",
      "Caught exception in worker thread:\n",
      "Caught exception in worker thread:\n"
     ]
    },
    {
     "name": "stderr",
     "output_type": "stream",
     "text": [
      "  File \"/home/adelgior/code/fcn-instances-pytorch/instanceseg/ext/panopticapi/utils.py\", line 16, in wrapper\n",
      "    return f(*args, **kwargs)\n",
      "  File \"/usr0/home/adelgior/code/experimental-instanceseg/instanceseg/ext/panopticapi/evaluation.py\", line 98, in pq_compute_single_core\n",
      "    with Image.open(os.path.join(pred_folder, pred_ann['file_name'])) as img:\n",
      "Traceback (most recent call last):\n"
     ]
    },
    {
     "name": "stdout",
     "output_type": "stream",
     "text": [
      "Caught exception in worker thread:\n",
      "Caught exception in worker thread:\n"
     ]
    },
    {
     "name": "stderr",
     "output_type": "stream",
     "text": [
      "  File \"/usr0/home/adelgior/code/experimental-instanceseg/instanceseg/ext/panopticapi/evaluation.py\", line 98, in pq_compute_single_core\n",
      "    with Image.open(os.path.join(pred_folder, pred_ann['file_name'])) as img:\n",
      "Traceback (most recent call last):\n",
      "  File \"/home/adelgior/virtualenvs/pytorch4_python3/lib/python3.7/site-packages/PIL/Image.py\", line 2652, in open\n",
      "    fp = builtins.open(filename, \"rb\")\n",
      "  File \"/home/adelgior/code/fcn-instances-pytorch/instanceseg/ext/panopticapi/utils.py\", line 16, in wrapper\n",
      "    return f(*args, **kwargs)\n",
      "Traceback (most recent call last):\n",
      "Traceback (most recent call last):\n",
      "Traceback (most recent call last):\n",
      "  File \"/home/adelgior/code/fcn-instances-pytorch/instanceseg/ext/panopticapi/utils.py\", line 16, in wrapper\n",
      "    return f(*args, **kwargs)\n",
      "FileNotFoundError: [Errno 2] No such file or directory: '/home/adelgior/code/upsnet/output/upsnet/cityscapes/upsnet_resnet50_cityscapes_4gpu/val/results/pans_unified/pan_2ch/munster_000154_000019_leftImg8bit.png'\n",
      "  File \"/home/adelgior/virtualenvs/pytorch4_python3/lib/python3.7/site-packages/PIL/Image.py\", line 2652, in open\n",
      "    fp = builtins.open(filename, \"rb\")\n",
      "  File \"/home/adelgior/code/fcn-instances-pytorch/instanceseg/ext/panopticapi/utils.py\", line 16, in wrapper\n",
      "    return f(*args, **kwargs)\n",
      "  File \"/home/adelgior/code/fcn-instances-pytorch/instanceseg/ext/panopticapi/utils.py\", line 16, in wrapper\n",
      "    return f(*args, **kwargs)\n",
      "  File \"/home/adelgior/code/fcn-instances-pytorch/instanceseg/ext/panopticapi/utils.py\", line 16, in wrapper\n",
      "    return f(*args, **kwargs)\n",
      "  File \"/usr0/home/adelgior/code/experimental-instanceseg/instanceseg/ext/panopticapi/evaluation.py\", line 98, in pq_compute_single_core\n",
      "    with Image.open(os.path.join(pred_folder, pred_ann['file_name'])) as img:\n"
     ]
    },
    {
     "name": "stdout",
     "output_type": "stream",
     "text": [
      "Caught exception in worker thread:\n"
     ]
    },
    {
     "name": "stderr",
     "output_type": "stream",
     "text": [
      "  File \"/usr0/home/adelgior/code/experimental-instanceseg/instanceseg/ext/panopticapi/evaluation.py\", line 98, in pq_compute_single_core\n",
      "    with Image.open(os.path.join(pred_folder, pred_ann['file_name'])) as img:\n",
      "  File \"/usr0/home/adelgior/code/experimental-instanceseg/instanceseg/ext/panopticapi/evaluation.py\", line 98, in pq_compute_single_core\n",
      "    with Image.open(os.path.join(pred_folder, pred_ann['file_name'])) as img:\n",
      "  File \"/home/adelgior/virtualenvs/pytorch4_python3/lib/python3.7/site-packages/PIL/Image.py\", line 2652, in open\n",
      "    fp = builtins.open(filename, \"rb\")\n",
      "  File \"/usr0/home/adelgior/code/experimental-instanceseg/instanceseg/ext/panopticapi/evaluation.py\", line 98, in pq_compute_single_core\n",
      "    with Image.open(os.path.join(pred_folder, pred_ann['file_name'])) as img:\n",
      "FileNotFoundError: [Errno 2] No such file or directory: '/home/adelgior/code/upsnet/output/upsnet/cityscapes/upsnet_resnet50_cityscapes_4gpu/val/results/pans_unified/pan_2ch/munster_000161_000019_leftImg8bit.png'\n",
      "  File \"/usr0/home/adelgior/code/experimental-instanceseg/instanceseg/ext/panopticapi/evaluation.py\", line 98, in pq_compute_single_core\n",
      "    with Image.open(os.path.join(pred_folder, pred_ann['file_name'])) as img:\n",
      "Traceback (most recent call last):\n",
      "  File \"/home/adelgior/virtualenvs/pytorch4_python3/lib/python3.7/site-packages/PIL/Image.py\", line 2652, in open\n",
      "    fp = builtins.open(filename, \"rb\")\n",
      "  File \"/home/adelgior/virtualenvs/pytorch4_python3/lib/python3.7/site-packages/PIL/Image.py\", line 2652, in open\n",
      "    fp = builtins.open(filename, \"rb\")\n",
      "  File \"/home/adelgior/virtualenvs/pytorch4_python3/lib/python3.7/site-packages/PIL/Image.py\", line 2652, in open\n",
      "    fp = builtins.open(filename, \"rb\")\n",
      "  File \"/home/adelgior/code/fcn-instances-pytorch/instanceseg/ext/panopticapi/utils.py\", line 16, in wrapper\n",
      "    return f(*args, **kwargs)\n",
      "  File \"/home/adelgior/virtualenvs/pytorch4_python3/lib/python3.7/site-packages/PIL/Image.py\", line 2652, in open\n",
      "    fp = builtins.open(filename, \"rb\")\n",
      "FileNotFoundError: [Errno 2] No such file or directory: '/home/adelgior/code/upsnet/output/upsnet/cityscapes/upsnet_resnet50_cityscapes_4gpu/val/results/pans_unified/pan_2ch/munster_000155_000019_leftImg8bit.png'\n",
      "FileNotFoundError: [Errno 2] No such file or directory: '/home/adelgior/code/upsnet/output/upsnet/cityscapes/upsnet_resnet50_cityscapes_4gpu/val/results/pans_unified/pan_2ch/munster_000157_000019_leftImg8bit.png'\n",
      "FileNotFoundError: [Errno 2] No such file or directory: '/home/adelgior/code/upsnet/output/upsnet/cityscapes/upsnet_resnet50_cityscapes_4gpu/val/results/pans_unified/pan_2ch/munster_000158_000019_leftImg8bit.png'\n",
      "FileNotFoundError: [Errno 2] No such file or directory: '/home/adelgior/code/upsnet/output/upsnet/cityscapes/upsnet_resnet50_cityscapes_4gpu/val/results/pans_unified/pan_2ch/munster_000156_000019_leftImg8bit.png'\n",
      "FileNotFoundError: [Errno 2] No such file or directory: '/home/adelgior/code/upsnet/output/upsnet/cityscapes/upsnet_resnet50_cityscapes_4gpu/val/results/pans_unified/pan_2ch/munster_000165_000019_leftImg8bit.png'\n",
      "  File \"/usr0/home/adelgior/code/experimental-instanceseg/instanceseg/ext/panopticapi/evaluation.py\", line 98, in pq_compute_single_core\n",
      "    with Image.open(os.path.join(pred_folder, pred_ann['file_name'])) as img:\n",
      "  File \"/home/adelgior/virtualenvs/pytorch4_python3/lib/python3.7/site-packages/PIL/Image.py\", line 2652, in open\n",
      "    fp = builtins.open(filename, \"rb\")\n"
     ]
    },
    {
     "name": "stdout",
     "output_type": "stream",
     "text": [
      "Caught exception in worker thread:\n"
     ]
    },
    {
     "name": "stderr",
     "output_type": "stream",
     "text": [
      "FileNotFoundError: [Errno 2] No such file or directory: '/home/adelgior/code/upsnet/output/upsnet/cityscapes/upsnet_resnet50_cityscapes_4gpu/val/results/pans_unified/pan_2ch/munster_000160_000019_leftImg8bit.png'\n"
     ]
    },
    {
     "name": "stdout",
     "output_type": "stream",
     "text": [
      "Caught exception in worker thread:\n",
      "Caught exception in worker thread:\n"
     ]
    },
    {
     "name": "stderr",
     "output_type": "stream",
     "text": [
      "IOPub message rate exceeded.\n",
      "The notebook server will temporarily stop sending output\n",
      "to the client in order to avoid crashing it.\n",
      "To change this limit, set the config variable\n",
      "`--NotebookApp.iopub_msg_rate_limit`.\n",
      "\n",
      "Current values:\n",
      "NotebookApp.iopub_msg_rate_limit=1000.0 (msgs/sec)\n",
      "NotebookApp.rate_limit_window=3.0 (secs)\n",
      "\n"
     ]
    }
   ],
   "source": [
    "#%%\n",
    "evaluate.main_unwrapped(gt_json_file, new_pred_json_file, gt_folder, pred_folder, problem_config, iou_threshold=0.5,\n",
    "                        overwrite=False)\n"
   ]
  }
 ],
 "metadata": {
  "kernelspec": {
   "display_name": "Python 3",
   "language": "python",
   "name": "python3"
  },
  "language_info": {
   "codemirror_mode": {
    "name": "ipython",
    "version": 3
   },
   "file_extension": ".py",
   "mimetype": "text/x-python",
   "name": "python",
   "nbconvert_exporter": "python",
   "pygments_lexer": "ipython3",
   "version": "3.7.3"
  },
  "pycharm": {
   "stem_cell": {
    "cell_type": "raw",
    "metadata": {
     "collapsed": false
    },
    "source": []
   }
  }
 },
 "nbformat": 4,
 "nbformat_minor": 1
}
